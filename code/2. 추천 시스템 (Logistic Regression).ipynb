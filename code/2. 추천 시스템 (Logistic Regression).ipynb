{
 "cells": [
  {
   "cell_type": "code",
   "execution_count": 1,
   "metadata": {},
   "outputs": [],
   "source": [
    "import pickle\n",
    "import numpy as np\n",
    "import pandas as pd\n",
    "from tqdm import tqdm"
   ]
  },
  {
   "cell_type": "code",
   "execution_count": 2,
   "metadata": {},
   "outputs": [
    {
     "name": "stdout",
     "output_type": "stream",
     "text": [
      "<class 'dict'>\n",
      "<class 'numpy.ndarray'>\n"
     ]
    }
   ],
   "source": [
    "with open(\"../pickle_files/user_user_training_matrix_2000.pickle\", \"rb\") as f:\n",
    "    train_data = pickle.load(f)\n",
    "\n",
    "with open(\"../pickle_files/cos_result_sum_2000.pickle\", \"rb\") as f:\n",
    "    train_label = pickle.load(f)\n",
    "\n",
    "print(type(train_data))\n",
    "print(type(train_label))"
   ]
  },
  {
   "cell_type": "code",
   "execution_count": 3,
   "metadata": {
    "scrolled": true
   },
   "outputs": [
    {
     "data": {
      "text/html": [
       "<div>\n",
       "<style scoped>\n",
       "    .dataframe tbody tr th:only-of-type {\n",
       "        vertical-align: middle;\n",
       "    }\n",
       "\n",
       "    .dataframe tbody tr th {\n",
       "        vertical-align: top;\n",
       "    }\n",
       "\n",
       "    .dataframe thead th {\n",
       "        text-align: right;\n",
       "    }\n",
       "</style>\n",
       "<table border=\"1\" class=\"dataframe\">\n",
       "  <thead>\n",
       "    <tr style=\"text-align: right;\">\n",
       "      <th></th>\n",
       "      <th>education</th>\n",
       "      <th>religion</th>\n",
       "      <th>bodyType</th>\n",
       "      <th>diet</th>\n",
       "      <th>age</th>\n",
       "      <th>smokes</th>\n",
       "      <th>drinks</th>\n",
       "      <th>pets</th>\n",
       "    </tr>\n",
       "  </thead>\n",
       "  <tbody>\n",
       "    <tr>\n",
       "      <th>(8195, 8195)</th>\n",
       "      <td>1.0</td>\n",
       "      <td>1.0</td>\n",
       "      <td>0.869592</td>\n",
       "      <td>1.0</td>\n",
       "      <td>1.00</td>\n",
       "      <td>1.0</td>\n",
       "      <td>1.0</td>\n",
       "      <td>2</td>\n",
       "    </tr>\n",
       "    <tr>\n",
       "      <th>(8195, 8202)</th>\n",
       "      <td>0.5</td>\n",
       "      <td>0.5</td>\n",
       "      <td>0.934448</td>\n",
       "      <td>1.0</td>\n",
       "      <td>0.00</td>\n",
       "      <td>0.0</td>\n",
       "      <td>0.0</td>\n",
       "      <td>2</td>\n",
       "    </tr>\n",
       "    <tr>\n",
       "      <th>(8195, 13)</th>\n",
       "      <td>0.5</td>\n",
       "      <td>0.5</td>\n",
       "      <td>0.787254</td>\n",
       "      <td>1.0</td>\n",
       "      <td>0.25</td>\n",
       "      <td>1.0</td>\n",
       "      <td>1.0</td>\n",
       "      <td>0</td>\n",
       "    </tr>\n",
       "    <tr>\n",
       "      <th>(8195, 8207)</th>\n",
       "      <td>1.0</td>\n",
       "      <td>0.5</td>\n",
       "      <td>0.869592</td>\n",
       "      <td>1.0</td>\n",
       "      <td>0.25</td>\n",
       "      <td>1.0</td>\n",
       "      <td>1.0</td>\n",
       "      <td>0</td>\n",
       "    </tr>\n",
       "    <tr>\n",
       "      <th>(8195, 17)</th>\n",
       "      <td>1.0</td>\n",
       "      <td>0.5</td>\n",
       "      <td>0.869592</td>\n",
       "      <td>1.0</td>\n",
       "      <td>0.50</td>\n",
       "      <td>1.0</td>\n",
       "      <td>1.0</td>\n",
       "      <td>2</td>\n",
       "    </tr>\n",
       "  </tbody>\n",
       "</table>\n",
       "</div>"
      ],
      "text/plain": [
       "              education  religion  bodyType  diet   age  smokes  drinks  pets\n",
       "(8195, 8195)        1.0       1.0  0.869592   1.0  1.00     1.0     1.0     2\n",
       "(8195, 8202)        0.5       0.5  0.934448   1.0  0.00     0.0     0.0     2\n",
       "(8195, 13)          0.5       0.5  0.787254   1.0  0.25     1.0     1.0     0\n",
       "(8195, 8207)        1.0       0.5  0.869592   1.0  0.25     1.0     1.0     0\n",
       "(8195, 17)          1.0       0.5  0.869592   1.0  0.50     1.0     1.0     2"
      ]
     },
     "execution_count": 3,
     "metadata": {},
     "output_type": "execute_result"
    }
   ],
   "source": [
    "columns = ('education', 'religion', 'bodyType', 'diet', 'age', 'smokes', 'drinks', 'pets')\n",
    "index = pd.MultiIndex.from_tuples(train_data.keys())\n",
    "df = pd.DataFrame.from_dict(train_data, orient='index', columns=columns)\n",
    "df.head(5)"
   ]
  },
  {
   "cell_type": "code",
   "execution_count": 4,
   "metadata": {},
   "outputs": [],
   "source": [
    "data_label = pd.DataFrame(train_label)"
   ]
  },
  {
   "cell_type": "code",
   "execution_count": 5,
   "metadata": {},
   "outputs": [
    {
     "name": "stdout",
     "output_type": "stream",
     "text": [
      "label shape: (2000, 2000)\n"
     ]
    },
    {
     "data": {
      "text/html": [
       "<div>\n",
       "<style scoped>\n",
       "    .dataframe tbody tr th:only-of-type {\n",
       "        vertical-align: middle;\n",
       "    }\n",
       "\n",
       "    .dataframe tbody tr th {\n",
       "        vertical-align: top;\n",
       "    }\n",
       "\n",
       "    .dataframe thead th {\n",
       "        text-align: right;\n",
       "    }\n",
       "</style>\n",
       "<table border=\"1\" class=\"dataframe\">\n",
       "  <thead>\n",
       "    <tr style=\"text-align: right;\">\n",
       "      <th></th>\n",
       "      <th>0</th>\n",
       "      <th>1</th>\n",
       "      <th>2</th>\n",
       "      <th>3</th>\n",
       "      <th>4</th>\n",
       "      <th>5</th>\n",
       "      <th>6</th>\n",
       "      <th>7</th>\n",
       "      <th>8</th>\n",
       "      <th>9</th>\n",
       "      <th>...</th>\n",
       "      <th>1990</th>\n",
       "      <th>1991</th>\n",
       "      <th>1992</th>\n",
       "      <th>1993</th>\n",
       "      <th>1994</th>\n",
       "      <th>1995</th>\n",
       "      <th>1996</th>\n",
       "      <th>1997</th>\n",
       "      <th>1998</th>\n",
       "      <th>1999</th>\n",
       "    </tr>\n",
       "  </thead>\n",
       "  <tbody>\n",
       "    <tr>\n",
       "      <th>0</th>\n",
       "      <td>10.000001</td>\n",
       "      <td>3.258006</td>\n",
       "      <td>2.172685</td>\n",
       "      <td>3.288786</td>\n",
       "      <td>4.524014</td>\n",
       "      <td>4.262863</td>\n",
       "      <td>4.425867</td>\n",
       "      <td>1.952833</td>\n",
       "      <td>3.780606</td>\n",
       "      <td>3.277067</td>\n",
       "      <td>...</td>\n",
       "      <td>4.393709</td>\n",
       "      <td>5.183300</td>\n",
       "      <td>4.408846</td>\n",
       "      <td>4.114955</td>\n",
       "      <td>5.644509</td>\n",
       "      <td>2.207893</td>\n",
       "      <td>2.712091</td>\n",
       "      <td>2.719143</td>\n",
       "      <td>2.005965</td>\n",
       "      <td>4.570388</td>\n",
       "    </tr>\n",
       "    <tr>\n",
       "      <th>1</th>\n",
       "      <td>3.258006</td>\n",
       "      <td>10.000000</td>\n",
       "      <td>3.581994</td>\n",
       "      <td>3.532227</td>\n",
       "      <td>3.974113</td>\n",
       "      <td>4.040970</td>\n",
       "      <td>4.818295</td>\n",
       "      <td>2.221856</td>\n",
       "      <td>3.081551</td>\n",
       "      <td>3.153311</td>\n",
       "      <td>...</td>\n",
       "      <td>4.663496</td>\n",
       "      <td>4.541522</td>\n",
       "      <td>4.414474</td>\n",
       "      <td>4.727452</td>\n",
       "      <td>2.826968</td>\n",
       "      <td>2.756586</td>\n",
       "      <td>3.080917</td>\n",
       "      <td>2.130292</td>\n",
       "      <td>3.932566</td>\n",
       "      <td>3.323575</td>\n",
       "    </tr>\n",
       "    <tr>\n",
       "      <th>2</th>\n",
       "      <td>2.172685</td>\n",
       "      <td>3.581994</td>\n",
       "      <td>10.000001</td>\n",
       "      <td>4.211419</td>\n",
       "      <td>3.140306</td>\n",
       "      <td>3.088926</td>\n",
       "      <td>3.565549</td>\n",
       "      <td>3.222371</td>\n",
       "      <td>3.639046</td>\n",
       "      <td>1.594120</td>\n",
       "      <td>...</td>\n",
       "      <td>3.612458</td>\n",
       "      <td>3.501130</td>\n",
       "      <td>3.931247</td>\n",
       "      <td>3.628038</td>\n",
       "      <td>2.791378</td>\n",
       "      <td>3.634598</td>\n",
       "      <td>5.535552</td>\n",
       "      <td>2.814210</td>\n",
       "      <td>4.580935</td>\n",
       "      <td>3.860979</td>\n",
       "    </tr>\n",
       "    <tr>\n",
       "      <th>3</th>\n",
       "      <td>3.288786</td>\n",
       "      <td>3.532227</td>\n",
       "      <td>4.211419</td>\n",
       "      <td>10.000001</td>\n",
       "      <td>3.013701</td>\n",
       "      <td>3.390862</td>\n",
       "      <td>2.567312</td>\n",
       "      <td>5.899020</td>\n",
       "      <td>3.066927</td>\n",
       "      <td>4.088910</td>\n",
       "      <td>...</td>\n",
       "      <td>2.621695</td>\n",
       "      <td>2.422608</td>\n",
       "      <td>3.039518</td>\n",
       "      <td>3.297323</td>\n",
       "      <td>3.078377</td>\n",
       "      <td>4.652130</td>\n",
       "      <td>3.313797</td>\n",
       "      <td>2.959043</td>\n",
       "      <td>6.235013</td>\n",
       "      <td>4.097363</td>\n",
       "    </tr>\n",
       "    <tr>\n",
       "      <th>4</th>\n",
       "      <td>4.524014</td>\n",
       "      <td>3.974113</td>\n",
       "      <td>3.140306</td>\n",
       "      <td>3.013701</td>\n",
       "      <td>10.000001</td>\n",
       "      <td>4.937578</td>\n",
       "      <td>5.013460</td>\n",
       "      <td>0.762407</td>\n",
       "      <td>3.319923</td>\n",
       "      <td>3.190665</td>\n",
       "      <td>...</td>\n",
       "      <td>4.512901</td>\n",
       "      <td>5.185453</td>\n",
       "      <td>4.652572</td>\n",
       "      <td>4.604312</td>\n",
       "      <td>4.106547</td>\n",
       "      <td>2.418272</td>\n",
       "      <td>3.866645</td>\n",
       "      <td>2.982009</td>\n",
       "      <td>2.751265</td>\n",
       "      <td>4.199334</td>\n",
       "    </tr>\n",
       "  </tbody>\n",
       "</table>\n",
       "<p>5 rows × 2000 columns</p>\n",
       "</div>"
      ],
      "text/plain": [
       "        0          1          2          3          4         5         6     \\\n",
       "0  10.000001   3.258006   2.172685   3.288786   4.524014  4.262863  4.425867   \n",
       "1   3.258006  10.000000   3.581994   3.532227   3.974113  4.040970  4.818295   \n",
       "2   2.172685   3.581994  10.000001   4.211419   3.140306  3.088926  3.565549   \n",
       "3   3.288786   3.532227   4.211419  10.000001   3.013701  3.390862  2.567312   \n",
       "4   4.524014   3.974113   3.140306   3.013701  10.000001  4.937578  5.013460   \n",
       "\n",
       "       7         8         9     ...      1990      1991      1992      1993  \\\n",
       "0  1.952833  3.780606  3.277067  ...  4.393709  5.183300  4.408846  4.114955   \n",
       "1  2.221856  3.081551  3.153311  ...  4.663496  4.541522  4.414474  4.727452   \n",
       "2  3.222371  3.639046  1.594120  ...  3.612458  3.501130  3.931247  3.628038   \n",
       "3  5.899020  3.066927  4.088910  ...  2.621695  2.422608  3.039518  3.297323   \n",
       "4  0.762407  3.319923  3.190665  ...  4.512901  5.185453  4.652572  4.604312   \n",
       "\n",
       "       1994      1995      1996      1997      1998      1999  \n",
       "0  5.644509  2.207893  2.712091  2.719143  2.005965  4.570388  \n",
       "1  2.826968  2.756586  3.080917  2.130292  3.932566  3.323575  \n",
       "2  2.791378  3.634598  5.535552  2.814210  4.580935  3.860979  \n",
       "3  3.078377  4.652130  3.313797  2.959043  6.235013  4.097363  \n",
       "4  4.106547  2.418272  3.866645  2.982009  2.751265  4.199334  \n",
       "\n",
       "[5 rows x 2000 columns]"
      ]
     },
     "execution_count": 5,
     "metadata": {},
     "output_type": "execute_result"
    }
   ],
   "source": [
    "print(\"label shape:\",data_label.shape)\n",
    "data_label.head(5)"
   ]
  },
  {
   "cell_type": "code",
   "execution_count": 6,
   "metadata": {},
   "outputs": [
    {
     "name": "stderr",
     "output_type": "stream",
     "text": [
      "100%|█████████████████████████████████████████████████████████████████████| 4000000/4000000 [00:59<00:00, 67492.87it/s]\n"
     ]
    }
   ],
   "source": [
    "user_index = []\n",
    "for i in tqdm(index):\n",
    "    if i[0] not in user_index:\n",
    "        user_index.append(i[0])"
   ]
  },
  {
   "cell_type": "code",
   "execution_count": 7,
   "metadata": {},
   "outputs": [],
   "source": [
    "data_label.index = user_index\n",
    "data_label.columns = user_index"
   ]
  },
  {
   "cell_type": "code",
   "execution_count": 11,
   "metadata": {},
   "outputs": [],
   "source": [
    "np_data_label = data_label.to_numpy()"
   ]
  },
  {
   "cell_type": "code",
   "execution_count": 12,
   "metadata": {},
   "outputs": [
    {
     "data": {
      "text/plain": [
       "(2000, 2000)"
      ]
     },
     "execution_count": 12,
     "metadata": {},
     "output_type": "execute_result"
    }
   ],
   "source": [
    "np_data_label.shape"
   ]
  },
  {
   "cell_type": "code",
   "execution_count": 20,
   "metadata": {},
   "outputs": [],
   "source": [
    "data_label_flatten = np_data_label.flatten('C')"
   ]
  },
  {
   "cell_type": "code",
   "execution_count": 108,
   "metadata": {
    "scrolled": true
   },
   "outputs": [
    {
     "data": {
      "text/html": [
       "<div>\n",
       "<style scoped>\n",
       "    .dataframe tbody tr th:only-of-type {\n",
       "        vertical-align: middle;\n",
       "    }\n",
       "\n",
       "    .dataframe tbody tr th {\n",
       "        vertical-align: top;\n",
       "    }\n",
       "\n",
       "    .dataframe thead th {\n",
       "        text-align: right;\n",
       "    }\n",
       "</style>\n",
       "<table border=\"1\" class=\"dataframe\">\n",
       "  <thead>\n",
       "    <tr style=\"text-align: right;\">\n",
       "      <th></th>\n",
       "      <th>cos_sim</th>\n",
       "    </tr>\n",
       "  </thead>\n",
       "  <tbody>\n",
       "    <tr>\n",
       "      <th>(8195, 8195)</th>\n",
       "      <td>10.000001</td>\n",
       "    </tr>\n",
       "    <tr>\n",
       "      <th>(8195, 8202)</th>\n",
       "      <td>3.258006</td>\n",
       "    </tr>\n",
       "    <tr>\n",
       "      <th>(8195, 13)</th>\n",
       "      <td>2.172685</td>\n",
       "    </tr>\n",
       "    <tr>\n",
       "      <th>(8195, 8207)</th>\n",
       "      <td>3.288786</td>\n",
       "    </tr>\n",
       "    <tr>\n",
       "      <th>(8195, 17)</th>\n",
       "      <td>4.524014</td>\n",
       "    </tr>\n",
       "  </tbody>\n",
       "</table>\n",
       "</div>"
      ],
      "text/plain": [
       "                cos_sim\n",
       "(8195, 8195)  10.000001\n",
       "(8195, 8202)   3.258006\n",
       "(8195, 13)     2.172685\n",
       "(8195, 8207)   3.288786\n",
       "(8195, 17)     4.524014"
      ]
     },
     "execution_count": 108,
     "metadata": {},
     "output_type": "execute_result"
    }
   ],
   "source": [
    "data_label_df.head(5)"
   ]
  },
  {
   "cell_type": "code",
   "execution_count": 27,
   "metadata": {},
   "outputs": [],
   "source": [
    "data_label_df = pd.DataFrame(data_label_flatten, index=df.index, columns=['cos_sim'])"
   ]
  },
  {
   "cell_type": "markdown",
   "metadata": {},
   "source": [
    "# Model training"
   ]
  },
  {
   "cell_type": "code",
   "execution_count": 42,
   "metadata": {},
   "outputs": [],
   "source": [
    "from sklearn import linear_model, svm\n",
    "from sklearn.model_selection import GridSearchCV\n",
    "import ast\n",
    "import random"
   ]
  },
  {
   "cell_type": "code",
   "execution_count": 30,
   "metadata": {},
   "outputs": [
    {
     "name": "stdout",
     "output_type": "stream",
     "text": [
      "Running Linear Regression\n"
     ]
    }
   ],
   "source": [
    "print(\"Running Linear Regression\")\n",
    "model = linear_model.LinearRegression()"
   ]
  },
  {
   "cell_type": "code",
   "execution_count": 31,
   "metadata": {},
   "outputs": [
    {
     "data": {
      "text/plain": [
       "GridSearchCV(estimator=LinearRegression(), param_grid={})"
      ]
     },
     "execution_count": 31,
     "metadata": {},
     "output_type": "execute_result"
    }
   ],
   "source": [
    "parameters={}\n",
    "grid = GridSearchCV(model,parameters, cv=None)\n",
    "grid.fit(df, data_label_df)"
   ]
  },
  {
   "cell_type": "code",
   "execution_count": 33,
   "metadata": {},
   "outputs": [],
   "source": [
    "#dump classifier to a file \n",
    "with open('logistic_regrssion.log', 'wb') as fid:\n",
    "    pickle.dump(grid, fid)  "
   ]
  },
  {
   "cell_type": "markdown",
   "metadata": {},
   "source": [
    "# Model Validation"
   ]
  },
  {
   "cell_type": "markdown",
   "metadata": {},
   "source": [
    "# validation set 불러와서 추천 top 5 목록 출력하기"
   ]
  },
  {
   "cell_type": "code",
   "execution_count": 56,
   "metadata": {},
   "outputs": [],
   "source": [
    "with open('logistic_regression.log', 'rb') as fid:\n",
    "        logistic_classifier = pickle.load(fid)"
   ]
  },
  {
   "cell_type": "code",
   "execution_count": 67,
   "metadata": {},
   "outputs": [
    {
     "data": {
      "text/plain": [
       "8"
      ]
     },
     "execution_count": 67,
     "metadata": {},
     "output_type": "execute_result"
    }
   ],
   "source": [
    "len(df.iloc[0])"
   ]
  },
  {
   "cell_type": "code",
   "execution_count": 83,
   "metadata": {},
   "outputs": [
    {
     "data": {
      "text/plain": [
       "(4000000, 8)"
      ]
     },
     "execution_count": 83,
     "metadata": {},
     "output_type": "execute_result"
    }
   ],
   "source": [
    "df.shape"
   ]
  },
  {
   "cell_type": "code",
   "execution_count": 84,
   "metadata": {},
   "outputs": [],
   "source": [
    "feature_vector = df"
   ]
  },
  {
   "cell_type": "code",
   "execution_count": 89,
   "metadata": {},
   "outputs": [],
   "source": [
    "feature_vector = np.array(feature_vector)"
   ]
  },
  {
   "cell_type": "code",
   "execution_count": 92,
   "metadata": {},
   "outputs": [],
   "source": [
    "result= logistic_classifier.predict(feature_vector)"
   ]
  },
  {
   "cell_type": "code",
   "execution_count": 95,
   "metadata": {},
   "outputs": [
    {
     "data": {
      "text/plain": [
       "(4000000, 1)"
      ]
     },
     "execution_count": 95,
     "metadata": {},
     "output_type": "execute_result"
    }
   ],
   "source": [
    "result.shape"
   ]
  },
  {
   "cell_type": "code",
   "execution_count": 96,
   "metadata": {},
   "outputs": [
    {
     "data": {
      "text/plain": [
       "array([[3.86608749],\n",
       "       [3.72619792],\n",
       "       [3.74493968],\n",
       "       ...,\n",
       "       [3.73982067],\n",
       "       [3.73518154],\n",
       "       [3.85661694]])"
      ]
     },
     "execution_count": 96,
     "metadata": {},
     "output_type": "execute_result"
    }
   ],
   "source": [
    "result"
   ]
  },
  {
   "cell_type": "code",
   "execution_count": 107,
   "metadata": {},
   "outputs": [
    {
     "data": {
      "text/plain": [
       "array([3.86608749, 3.72619792, 3.74493968, ..., 3.73982067, 3.73518154,\n",
       "       3.85661694])"
      ]
     },
     "execution_count": 107,
     "metadata": {},
     "output_type": "execute_result"
    }
   ],
   "source": [
    "result[result < 3.9]"
   ]
  },
  {
   "cell_type": "code",
   "execution_count": 109,
   "metadata": {},
   "outputs": [],
   "source": [
    "feature_label = np.array(data_label_df)"
   ]
  },
  {
   "cell_type": "code",
   "execution_count": 110,
   "metadata": {},
   "outputs": [
    {
     "data": {
      "text/plain": [
       "(4000000, 1)"
      ]
     },
     "execution_count": 110,
     "metadata": {},
     "output_type": "execute_result"
    }
   ],
   "source": [
    "feature_label.shape"
   ]
  },
  {
   "cell_type": "code",
   "execution_count": 113,
   "metadata": {},
   "outputs": [],
   "source": [
    "cost = result - feature_label"
   ]
  },
  {
   "cell_type": "code",
   "execution_count": 114,
   "metadata": {},
   "outputs": [
    {
     "data": {
      "text/plain": [
       "1.178705133497715e-08"
      ]
     },
     "execution_count": 114,
     "metadata": {},
     "output_type": "execute_result"
    }
   ],
   "source": [
    "cost.sum()"
   ]
  },
  {
   "cell_type": "code",
   "execution_count": null,
   "metadata": {},
   "outputs": [],
   "source": []
  }
 ],
 "metadata": {
  "kernelspec": {
   "display_name": "Python 3",
   "language": "python",
   "name": "python3"
  },
  "language_info": {
   "codemirror_mode": {
    "name": "ipython",
    "version": 3
   },
   "file_extension": ".py",
   "mimetype": "text/x-python",
   "name": "python",
   "nbconvert_exporter": "python",
   "pygments_lexer": "ipython3",
   "version": "3.8.5"
  }
 },
 "nbformat": 4,
 "nbformat_minor": 4
}
