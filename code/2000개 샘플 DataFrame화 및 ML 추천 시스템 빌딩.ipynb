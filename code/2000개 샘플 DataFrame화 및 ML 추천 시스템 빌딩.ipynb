{
 "cells": [
  {
   "cell_type": "markdown",
   "metadata": {},
   "source": [
    "# dict -> pandas.DataFrame 하기\n",
    "\n",
    "현재 user_user_training_matrix는 dict형식임.\n",
    "이를 DataFrame으로 바꾸어주어야함."
   ]
  },
  {
   "cell_type": "code",
   "execution_count": 2,
   "metadata": {},
   "outputs": [],
   "source": [
    "import pickle\n",
    "import collections\n",
    "import numpy as np\n",
    "import pandas as pd"
   ]
  },
  {
   "cell_type": "code",
   "execution_count": 5,
   "metadata": {},
   "outputs": [],
   "source": [
    "with open(\"./user_user_training_matrix_2000.pickle\", \"rb\") as f:\n",
    "    user_user_training_matrix = pickle.load(f)"
   ]
  },
  {
   "cell_type": "code",
   "execution_count": 7,
   "metadata": {},
   "outputs": [
    {
     "name": "stdout",
     "output_type": "stream",
     "text": [
      "<class 'dict'>\n",
      "4000000\n"
     ]
    }
   ],
   "source": [
    "print(type(user_user_training_matrix))\n",
    "print(len(user_user_training_matrix))"
   ]
  },
  {
   "cell_type": "code",
   "execution_count": 9,
   "metadata": {
    "scrolled": true
   },
   "outputs": [
    {
     "data": {
      "text/html": [
       "<div>\n",
       "<style scoped>\n",
       "    .dataframe tbody tr th:only-of-type {\n",
       "        vertical-align: middle;\n",
       "    }\n",
       "\n",
       "    .dataframe tbody tr th {\n",
       "        vertical-align: top;\n",
       "    }\n",
       "\n",
       "    .dataframe thead th {\n",
       "        text-align: right;\n",
       "    }\n",
       "</style>\n",
       "<table border=\"1\" class=\"dataframe\">\n",
       "  <thead>\n",
       "    <tr style=\"text-align: right;\">\n",
       "      <th></th>\n",
       "      <th>education</th>\n",
       "      <th>religion</th>\n",
       "      <th>bodyType</th>\n",
       "      <th>diet</th>\n",
       "      <th>age</th>\n",
       "      <th>smokes</th>\n",
       "      <th>drinks</th>\n",
       "      <th>pets</th>\n",
       "    </tr>\n",
       "  </thead>\n",
       "  <tbody>\n",
       "    <tr>\n",
       "      <th>(8195, 8195)</th>\n",
       "      <td>1.0</td>\n",
       "      <td>1.0</td>\n",
       "      <td>0.869592</td>\n",
       "      <td>1.0</td>\n",
       "      <td>1.00</td>\n",
       "      <td>1.0</td>\n",
       "      <td>1.0</td>\n",
       "      <td>2</td>\n",
       "    </tr>\n",
       "    <tr>\n",
       "      <th>(8195, 8202)</th>\n",
       "      <td>0.5</td>\n",
       "      <td>0.5</td>\n",
       "      <td>0.934448</td>\n",
       "      <td>1.0</td>\n",
       "      <td>0.00</td>\n",
       "      <td>0.0</td>\n",
       "      <td>0.0</td>\n",
       "      <td>2</td>\n",
       "    </tr>\n",
       "    <tr>\n",
       "      <th>(8195, 13)</th>\n",
       "      <td>0.5</td>\n",
       "      <td>0.5</td>\n",
       "      <td>0.787254</td>\n",
       "      <td>1.0</td>\n",
       "      <td>0.25</td>\n",
       "      <td>1.0</td>\n",
       "      <td>1.0</td>\n",
       "      <td>0</td>\n",
       "    </tr>\n",
       "    <tr>\n",
       "      <th>(8195, 8207)</th>\n",
       "      <td>1.0</td>\n",
       "      <td>0.5</td>\n",
       "      <td>0.869592</td>\n",
       "      <td>1.0</td>\n",
       "      <td>0.25</td>\n",
       "      <td>1.0</td>\n",
       "      <td>1.0</td>\n",
       "      <td>0</td>\n",
       "    </tr>\n",
       "    <tr>\n",
       "      <th>(8195, 17)</th>\n",
       "      <td>1.0</td>\n",
       "      <td>0.5</td>\n",
       "      <td>0.869592</td>\n",
       "      <td>1.0</td>\n",
       "      <td>0.50</td>\n",
       "      <td>1.0</td>\n",
       "      <td>1.0</td>\n",
       "      <td>2</td>\n",
       "    </tr>\n",
       "  </tbody>\n",
       "</table>\n",
       "</div>"
      ],
      "text/plain": [
       "              education  religion  bodyType  diet   age  smokes  drinks  pets\n",
       "(8195, 8195)        1.0       1.0  0.869592   1.0  1.00     1.0     1.0     2\n",
       "(8195, 8202)        0.5       0.5  0.934448   1.0  0.00     0.0     0.0     2\n",
       "(8195, 13)          0.5       0.5  0.787254   1.0  0.25     1.0     1.0     0\n",
       "(8195, 8207)        1.0       0.5  0.869592   1.0  0.25     1.0     1.0     0\n",
       "(8195, 17)          1.0       0.5  0.869592   1.0  0.50     1.0     1.0     2"
      ]
     },
     "execution_count": 9,
     "metadata": {},
     "output_type": "execute_result"
    }
   ],
   "source": [
    "columns = ('education', 'religion', 'bodyType', 'diet', 'age', 'smokes', 'drinks', 'pets')\n",
    "index = pd.MultiIndex.from_tuples(user_user_training_matrix.keys())\n",
    "df = pd.DataFrame.from_dict(user_user_training_matrix, orient='index', columns=columns)\n",
    "df.head(5)"
   ]
  },
  {
   "cell_type": "code",
   "execution_count": 17,
   "metadata": {},
   "outputs": [],
   "source": [
    "user_index = []\n",
    "for i in df.index:\n",
    "    user_index.append(i[0])"
   ]
  },
  {
   "cell_type": "code",
   "execution_count": 19,
   "metadata": {},
   "outputs": [
    {
     "name": "stdout",
     "output_type": "stream",
     "text": [
      "2000\n"
     ]
    }
   ],
   "source": [
    "user_unique = set(user_index)\n",
    "print(len(user_unique))"
   ]
  },
  {
   "cell_type": "code",
   "execution_count": 31,
   "metadata": {},
   "outputs": [],
   "source": [
    "user_unique_str = []\n",
    "for user in user_unique:\n",
    "    user_unique_str.append(str(user))"
   ]
  },
  {
   "cell_type": "code",
   "execution_count": 11,
   "metadata": {},
   "outputs": [
    {
     "data": {
      "text/plain": [
       "(4000000, 8)"
      ]
     },
     "execution_count": 11,
     "metadata": {},
     "output_type": "execute_result"
    }
   ],
   "source": [
    "df.to_numpy().shape"
   ]
  },
  {
   "cell_type": "code",
   "execution_count": 12,
   "metadata": {},
   "outputs": [],
   "source": [
    "with open('../pickle_files/essay_data.pickle', \"rb\") as f:\n",
    "    essay_data = pickle.load(f)"
   ]
  },
  {
   "cell_type": "code",
   "execution_count": 13,
   "metadata": {},
   "outputs": [
    {
     "data": {
      "text/plain": [
       "(15001, 10)"
      ]
     },
     "execution_count": 13,
     "metadata": {},
     "output_type": "execute_result"
    }
   ],
   "source": [
    "essay_data.shape"
   ]
  },
  {
   "cell_type": "code",
   "execution_count": 28,
   "metadata": {},
   "outputs": [
    {
     "data": {
      "text/plain": [
       "Index(['-1', '0', '1', '2', '3', '4', '5', '6', '7', '8',\n",
       "       ...\n",
       "       '14990', '14991', '14992', '14993', '14994', '14995', '14996', '14997',\n",
       "       '14998', '14999'],\n",
       "      dtype='object', length=15001)"
      ]
     },
     "execution_count": 28,
     "metadata": {},
     "output_type": "execute_result"
    }
   ],
   "source": [
    "essay_data.index"
   ]
  },
  {
   "cell_type": "code",
   "execution_count": 35,
   "metadata": {
    "scrolled": true
   },
   "outputs": [],
   "source": [
    "essay_train_label = essay_data.loc[user_unique_str]"
   ]
  },
  {
   "cell_type": "code",
   "execution_count": 36,
   "metadata": {
    "scrolled": false
   },
   "outputs": [
    {
     "data": {
      "text/html": [
       "<div>\n",
       "<style scoped>\n",
       "    .dataframe tbody tr th:only-of-type {\n",
       "        vertical-align: middle;\n",
       "    }\n",
       "\n",
       "    .dataframe tbody tr th {\n",
       "        vertical-align: top;\n",
       "    }\n",
       "\n",
       "    .dataframe thead th {\n",
       "        text-align: right;\n",
       "    }\n",
       "</style>\n",
       "<table border=\"1\" class=\"dataframe\">\n",
       "  <thead>\n",
       "    <tr style=\"text-align: right;\">\n",
       "      <th></th>\n",
       "      <th>essay0</th>\n",
       "      <th>essay1</th>\n",
       "      <th>essay2</th>\n",
       "      <th>essay3</th>\n",
       "      <th>essay4</th>\n",
       "      <th>essay5</th>\n",
       "      <th>essay6</th>\n",
       "      <th>essay7</th>\n",
       "      <th>essay8</th>\n",
       "      <th>essay9</th>\n",
       "    </tr>\n",
       "  </thead>\n",
       "  <tbody>\n",
       "    <tr>\n",
       "      <th>8226</th>\n",
       "      <td></td>\n",
       "      <td>currently, i'm living in the south bay working...</td>\n",
       "      <td>i have always been a bit of a math/science gee...</td>\n",
       "      <td>long, flowing golden locks waving against glis...</td>\n",
       "      <td>i love fantasy books. just recently read jim b...</td>\n",
       "      <td>in no particular order:  1) joss whedon 2) sta...</td>\n",
       "      <td></td>\n",
       "      <td>typical friday?! i guess i try not to have a t...</td>\n",
       "      <td>i play roleplaying games. there, i said it! i ...</td>\n",
       "      <td>...you are intelligent and easygoing. really, ...</td>\n",
       "    </tr>\n",
       "    <tr>\n",
       "      <th>14441</th>\n",
       "      <td>i recently moved to the bay area from the midw...</td>\n",
       "      <td>apparently starting over in the strange new wo...</td>\n",
       "      <td>ballroom and swing dancing, wine, getting lost...</td>\n",
       "      <td></td>\n",
       "      <td>i used to love tv, but i've certainly narrowed...</td>\n",
       "      <td></td>\n",
       "      <td>- i think a lot about how i ended up all the w...</td>\n",
       "      <td>currently sitting home, relaxing with a glass ...</td>\n",
       "      <td>i'm terribly lonely in this town. i find the b...</td>\n",
       "      <td>you are also just looking for someone to hang ...</td>\n",
       "    </tr>\n",
       "    <tr>\n",
       "      <th>10005</th>\n",
       "      <td>i was born and raised in taiwan and came to th...</td>\n",
       "      <td>working at a pretty awesome startup, enjoying ...</td>\n",
       "      <td></td>\n",
       "      <td>good question, i've never asked</td>\n",
       "      <td>good will hunting, pulp fiction, social networ...</td>\n",
       "      <td>dreams, iphone, sunshine, friends, traveling, ...</td>\n",
       "      <td>who's gonna win the nba championship, why the ...</td>\n",
       "      <td></td>\n",
       "      <td>sometimes i cry watching sports and movies</td>\n",
       "      <td>you want to</td>\n",
       "    </tr>\n",
       "    <tr>\n",
       "      <th>9442</th>\n",
       "      <td>i'm new to this so it will take time 2 do my p...</td>\n",
       "      <td>living it to the fullest</td>\n",
       "      <td>everything i put my mind to</td>\n",
       "      <td>my smile</td>\n",
       "      <td>fav movies are 300,gladiator and coming to ame...</td>\n",
       "      <td></td>\n",
       "      <td></td>\n",
       "      <td></td>\n",
       "      <td>nothing at all unless u ask i won't tell</td>\n",
       "      <td>you think i'm cute</td>\n",
       "    </tr>\n",
       "    <tr>\n",
       "      <th>2915</th>\n",
       "      <td>i am currently an online student at arizona st...</td>\n",
       "      <td>i am currently majoring in psych at asu. i hop...</td>\n",
       "      <td>i have played softball basically all my life a...</td>\n",
       "      <td>either my natural blonde hair or blue eyes</td>\n",
       "      <td>i like twilight books and movies i also love c...</td>\n",
       "      <td>my cell phone, my family, my friends, my lapto...</td>\n",
       "      <td>what i really want to do with my life</td>\n",
       "      <td>hopefully hanging out with some friends but la...</td>\n",
       "      <td>i have some regrets but i plan on making the m...</td>\n",
       "      <td>you are no older than 26 and are looking to ha...</td>\n",
       "    </tr>\n",
       "    <tr>\n",
       "      <th>...</th>\n",
       "      <td>...</td>\n",
       "      <td>...</td>\n",
       "      <td>...</td>\n",
       "      <td>...</td>\n",
       "      <td>...</td>\n",
       "      <td>...</td>\n",
       "      <td>...</td>\n",
       "      <td>...</td>\n",
       "      <td>...</td>\n",
       "      <td>...</td>\n",
       "    </tr>\n",
       "    <tr>\n",
       "      <th>13969</th>\n",
       "      <td>ok! anyone down for a beer and maybe a movie o...</td>\n",
       "      <td>overall goal right now is to play outside and ...</td>\n",
       "      <td>talking to overseas helpdesk technicians...</td>\n",
       "      <td></td>\n",
       "      <td></td>\n",
       "      <td>rock climbing water..... sushi laptop nerds ro...</td>\n",
       "      <td></td>\n",
       "      <td></td>\n",
       "      <td></td>\n",
       "      <td>you want to grab a beer</td>\n",
       "    </tr>\n",
       "    <tr>\n",
       "      <th>7966</th>\n",
       "      <td>three months ago i moved to san francisco from...</td>\n",
       "      <td>for work, i'm in the it department of an insur...</td>\n",
       "      <td></td>\n",
       "      <td>the lack of effort i put into this ok cupid pr...</td>\n",
       "      <td>movies: recently, i thought cabin in the woods...</td>\n",
       "      <td>friends/family internet cell phone microwave n...</td>\n",
       "      <td>where i'm going to eat for lunch.</td>\n",
       "      <td>alive.</td>\n",
       "      <td>i have a really embarrassing \"everyday\" playlist.</td>\n",
       "      <td>you would like to know which country hosts the...</td>\n",
       "    </tr>\n",
       "    <tr>\n",
       "      <th>11211</th>\n",
       "      <td>rock solid abs. rock. solid. rock freaking sol...</td>\n",
       "      <td>probably could have played pro hockey and pro ...</td>\n",
       "      <td>living, loving, lounging.</td>\n",
       "      <td>biceps, followed by my triceps.</td>\n",
       "      <td>the ones i make.</td>\n",
       "      <td>the six wheels on my wide body, extended cab p...</td>\n",
       "      <td>the security of my offshore bank accounts.</td>\n",
       "      <td>keeping it real. real real.</td>\n",
       "      <td>i secretly love my life!!!!</td>\n",
       "      <td>you appreciate sarcasm</td>\n",
       "    </tr>\n",
       "    <tr>\n",
       "      <th>10159</th>\n",
       "      <td>i grew up in the bay area and i'm half chinese...</td>\n",
       "      <td>graduate student!</td>\n",
       "      <td>paying attention to detail. ...</td>\n",
       "      <td></td>\n",
       "      <td>books: harry potter! the secret, how to win fr...</td>\n",
       "      <td></td>\n",
       "      <td></td>\n",
       "      <td></td>\n",
       "      <td></td>\n",
       "      <td></td>\n",
       "    </tr>\n",
       "    <tr>\n",
       "      <th>2275</th>\n",
       "      <td>laid back but i need to go crazy every once in...</td>\n",
       "      <td>working and just trying to get ahead</td>\n",
       "      <td>working with my hands</td>\n",
       "      <td>i look like a completely normal person but som...</td>\n",
       "      <td>love british movies but fight club is my favor...</td>\n",
       "      <td>money shelter food breaks from life random thi...</td>\n",
       "      <td>things i shouldnt</td>\n",
       "      <td>doing whatever with friends. maybe driving to ...</td>\n",
       "      <td>i use this site i guess lol. i'm pretty open a...</td>\n",
       "      <td>you just want a cool person in the area to kic...</td>\n",
       "    </tr>\n",
       "  </tbody>\n",
       "</table>\n",
       "<p>2000 rows × 10 columns</p>\n",
       "</div>"
      ],
      "text/plain": [
       "                                                  essay0  \\\n",
       "8226                                                       \n",
       "14441  i recently moved to the bay area from the midw...   \n",
       "10005  i was born and raised in taiwan and came to th...   \n",
       "9442   i'm new to this so it will take time 2 do my p...   \n",
       "2915   i am currently an online student at arizona st...   \n",
       "...                                                  ...   \n",
       "13969  ok! anyone down for a beer and maybe a movie o...   \n",
       "7966   three months ago i moved to san francisco from...   \n",
       "11211  rock solid abs. rock. solid. rock freaking sol...   \n",
       "10159  i grew up in the bay area and i'm half chinese...   \n",
       "2275   laid back but i need to go crazy every once in...   \n",
       "\n",
       "                                                  essay1  \\\n",
       "8226   currently, i'm living in the south bay working...   \n",
       "14441  apparently starting over in the strange new wo...   \n",
       "10005  working at a pretty awesome startup, enjoying ...   \n",
       "9442                            living it to the fullest   \n",
       "2915   i am currently majoring in psych at asu. i hop...   \n",
       "...                                                  ...   \n",
       "13969  overall goal right now is to play outside and ...   \n",
       "7966   for work, i'm in the it department of an insur...   \n",
       "11211  probably could have played pro hockey and pro ...   \n",
       "10159                                  graduate student!   \n",
       "2275                working and just trying to get ahead   \n",
       "\n",
       "                                                  essay2  \\\n",
       "8226   i have always been a bit of a math/science gee...   \n",
       "14441  ballroom and swing dancing, wine, getting lost...   \n",
       "10005                                                      \n",
       "9442                         everything i put my mind to   \n",
       "2915   i have played softball basically all my life a...   \n",
       "...                                                  ...   \n",
       "13969        talking to overseas helpdesk technicians...   \n",
       "7966                                                       \n",
       "11211                          living, loving, lounging.   \n",
       "10159                    paying attention to detail. ...   \n",
       "2275                               working with my hands   \n",
       "\n",
       "                                                  essay3  \\\n",
       "8226   long, flowing golden locks waving against glis...   \n",
       "14441                                                      \n",
       "10005                    good question, i've never asked   \n",
       "9442                                            my smile   \n",
       "2915          either my natural blonde hair or blue eyes   \n",
       "...                                                  ...   \n",
       "13969                                                      \n",
       "7966   the lack of effort i put into this ok cupid pr...   \n",
       "11211                    biceps, followed by my triceps.   \n",
       "10159                                                      \n",
       "2275   i look like a completely normal person but som...   \n",
       "\n",
       "                                                  essay4  \\\n",
       "8226   i love fantasy books. just recently read jim b...   \n",
       "14441  i used to love tv, but i've certainly narrowed...   \n",
       "10005  good will hunting, pulp fiction, social networ...   \n",
       "9442   fav movies are 300,gladiator and coming to ame...   \n",
       "2915   i like twilight books and movies i also love c...   \n",
       "...                                                  ...   \n",
       "13969                                                      \n",
       "7966   movies: recently, i thought cabin in the woods...   \n",
       "11211                                   the ones i make.   \n",
       "10159  books: harry potter! the secret, how to win fr...   \n",
       "2275   love british movies but fight club is my favor...   \n",
       "\n",
       "                                                  essay5  \\\n",
       "8226   in no particular order:  1) joss whedon 2) sta...   \n",
       "14441                                                      \n",
       "10005  dreams, iphone, sunshine, friends, traveling, ...   \n",
       "9442                                                       \n",
       "2915   my cell phone, my family, my friends, my lapto...   \n",
       "...                                                  ...   \n",
       "13969  rock climbing water..... sushi laptop nerds ro...   \n",
       "7966   friends/family internet cell phone microwave n...   \n",
       "11211  the six wheels on my wide body, extended cab p...   \n",
       "10159                                                      \n",
       "2275   money shelter food breaks from life random thi...   \n",
       "\n",
       "                                                  essay6  \\\n",
       "8226                                                       \n",
       "14441  - i think a lot about how i ended up all the w...   \n",
       "10005  who's gonna win the nba championship, why the ...   \n",
       "9442                                                       \n",
       "2915               what i really want to do with my life   \n",
       "...                                                  ...   \n",
       "13969                                                      \n",
       "7966                   where i'm going to eat for lunch.   \n",
       "11211         the security of my offshore bank accounts.   \n",
       "10159                                                      \n",
       "2275                                   things i shouldnt   \n",
       "\n",
       "                                                  essay7  \\\n",
       "8226   typical friday?! i guess i try not to have a t...   \n",
       "14441  currently sitting home, relaxing with a glass ...   \n",
       "10005                                                      \n",
       "9442                                                       \n",
       "2915   hopefully hanging out with some friends but la...   \n",
       "...                                                  ...   \n",
       "13969                                                      \n",
       "7966                                              alive.   \n",
       "11211                        keeping it real. real real.   \n",
       "10159                                                      \n",
       "2275   doing whatever with friends. maybe driving to ...   \n",
       "\n",
       "                                                  essay8  \\\n",
       "8226   i play roleplaying games. there, i said it! i ...   \n",
       "14441  i'm terribly lonely in this town. i find the b...   \n",
       "10005         sometimes i cry watching sports and movies   \n",
       "9442            nothing at all unless u ask i won't tell   \n",
       "2915   i have some regrets but i plan on making the m...   \n",
       "...                                                  ...   \n",
       "13969                                                      \n",
       "7966   i have a really embarrassing \"everyday\" playlist.   \n",
       "11211                        i secretly love my life!!!!   \n",
       "10159                                                      \n",
       "2275   i use this site i guess lol. i'm pretty open a...   \n",
       "\n",
       "                                                  essay9  \n",
       "8226   ...you are intelligent and easygoing. really, ...  \n",
       "14441  you are also just looking for someone to hang ...  \n",
       "10005                                        you want to  \n",
       "9442                                  you think i'm cute  \n",
       "2915   you are no older than 26 and are looking to ha...  \n",
       "...                                                  ...  \n",
       "13969                            you want to grab a beer  \n",
       "7966   you would like to know which country hosts the...  \n",
       "11211                             you appreciate sarcasm  \n",
       "10159                                                     \n",
       "2275   you just want a cool person in the area to kic...  \n",
       "\n",
       "[2000 rows x 10 columns]"
      ]
     },
     "execution_count": 36,
     "metadata": {},
     "output_type": "execute_result"
    }
   ],
   "source": [
    "essay_train_label"
   ]
  },
  {
   "cell_type": "code",
   "execution_count": 107,
   "metadata": {},
   "outputs": [
    {
     "data": {
      "text/plain": [
       "\"i was born and raised in taiwan and came to the states in 2006. i spent 4 years in boston and got a master's degree in marketing communication but ended up becoming a software engineer. in 2010, i drove across the country to sf to start a new job.  the last five years have been an amazing experience and most of time i enjoy being a nomad. i wanna keep working hard and see where the journey may take me.  i consider myself introspective, observant and curious about all things new. i like to stay active, i play basketball and ping pong, swim, snowboard, and want to play more tennis.  i like people who are funny, genuine and open-minded and hope that's how people feel about me.\""
      ]
     },
     "execution_count": 107,
     "metadata": {},
     "output_type": "execute_result"
    }
   ],
   "source": [
    "essay_train_label.iloc[2][0]"
   ]
  },
  {
   "cell_type": "code",
   "execution_count": 97,
   "metadata": {},
   "outputs": [
    {
     "data": {
      "text/plain": [
       "(2000, 10)"
      ]
     },
     "execution_count": 97,
     "metadata": {},
     "output_type": "execute_result"
    }
   ],
   "source": [
    "essay_train_label.shape"
   ]
  },
  {
   "cell_type": "code",
   "execution_count": 38,
   "metadata": {},
   "outputs": [],
   "source": [
    "from sklearn.metrics.pairwise import cosine_similarity\n",
    "from sklearn.feature_extraction.text import TfidfVectorizer\n",
    "from sentence_transformers import SentenceTransformer\n",
    "\n",
    "model_name = 'bert-base-nli-mean-tokens'\n",
    "model = SentenceTransformer(model_name)"
   ]
  },
  {
   "cell_type": "code",
   "execution_count": 44,
   "metadata": {},
   "outputs": [],
   "source": [
    "sentence_vecs = [0]*10\n",
    "for i in range(10):\n",
    "    sentence_vecs[i] = model.encode(essay_train_label['essay' + str(i)])"
   ]
  },
  {
   "cell_type": "code",
   "execution_count": 48,
   "metadata": {},
   "outputs": [],
   "source": [
    "cos_result = [0]*10\n",
    "for i in range(10):\n",
    "    cos_result[i] = cosine_similarity(sentence_vecs[i], sentence_vecs[i])"
   ]
  },
  {
   "cell_type": "code",
   "execution_count": 51,
   "metadata": {},
   "outputs": [
    {
     "data": {
      "text/plain": [
       "(2000, 2000)"
      ]
     },
     "execution_count": 51,
     "metadata": {},
     "output_type": "execute_result"
    }
   ],
   "source": [
    "cos_result[0].shape"
   ]
  },
  {
   "cell_type": "code",
   "execution_count": 52,
   "metadata": {},
   "outputs": [],
   "source": [
    "cos_result_sum = sum(cos_result)"
   ]
  },
  {
   "cell_type": "code",
   "execution_count": 53,
   "metadata": {},
   "outputs": [
    {
     "data": {
      "text/plain": [
       "(2000, 2000)"
      ]
     },
     "execution_count": 53,
     "metadata": {},
     "output_type": "execute_result"
    }
   ],
   "source": [
    "cos_result_sum.shape"
   ]
  },
  {
   "cell_type": "code",
   "execution_count": 54,
   "metadata": {},
   "outputs": [
    {
     "data": {
      "text/plain": [
       "array([[10.000001 ,  3.2580059,  2.1726851, ...,  2.7191434,  2.0059648,\n",
       "         4.570388 ],\n",
       "       [ 3.2580059, 10.       ,  3.5819936, ...,  2.1302924,  3.9325664,\n",
       "         3.3235745],\n",
       "       [ 2.1726851,  3.5819936, 10.000001 , ...,  2.8142097,  4.580935 ,\n",
       "         3.8609786],\n",
       "       ...,\n",
       "       [ 2.7191434,  2.1302924,  2.8142097, ..., 10.       ,  2.9124048,\n",
       "         2.752478 ],\n",
       "       [ 2.0059648,  3.9325664,  4.580935 , ...,  2.9124048, 10.000001 ,\n",
       "         3.6945105],\n",
       "       [ 4.570388 ,  3.3235745,  3.8609786, ...,  2.752478 ,  3.6945105,\n",
       "        10.       ]], dtype=float32)"
      ]
     },
     "execution_count": 54,
     "metadata": {},
     "output_type": "execute_result"
    }
   ],
   "source": [
    "cos_result_sum"
   ]
  },
  {
   "cell_type": "code",
   "execution_count": 93,
   "metadata": {
    "scrolled": true
   },
   "outputs": [
    {
     "data": {
      "text/plain": [
       "(array([   7,   37,   58,   73,   82,   86,   97,   99,  101,  105,  120,\n",
       "         122,  128,  139,  150,  151,  154,  175,  176,  177,  178,  179,\n",
       "         191,  197,  206,  207,  212,  219,  233,  234,  246,  248,  253,\n",
       "         264,  286,  291,  296,  303,  320,  328,  349,  355,  365,  369,\n",
       "         383,  389,  396,  411,  424,  432,  433,  438,  439,  465,  469,\n",
       "         491,  510,  512,  516,  523,  529,  533,  539,  547,  556,  558,\n",
       "         570,  573,  587,  593,  597,  599,  603,  624,  633,  634,  638,\n",
       "         644,  652,  675,  681,  683,  684,  690,  692,  702,  704,  712,\n",
       "         735,  741,  755,  757,  764,  777,  779,  785,  787,  793,  802,\n",
       "         810,  812,  833,  851,  852,  860,  876,  887,  902,  910,  918,\n",
       "         920,  925,  931,  933,  935,  946,  961,  966,  970,  978,  983,\n",
       "         990, 1006, 1007, 1023, 1027, 1057, 1062, 1067, 1076, 1082, 1084,\n",
       "        1088, 1118, 1122, 1140, 1141, 1146, 1156, 1165, 1176, 1185, 1204,\n",
       "        1219, 1220, 1224, 1240, 1248, 1252, 1253, 1268, 1272, 1273, 1278,\n",
       "        1282, 1295, 1299, 1308, 1310, 1315, 1318, 1319, 1321, 1335, 1342,\n",
       "        1349, 1361, 1371, 1372, 1373, 1377, 1384, 1388, 1392, 1397, 1399,\n",
       "        1400, 1413, 1419, 1428, 1431, 1440, 1442, 1443, 1446, 1458, 1464,\n",
       "        1469, 1473, 1492, 1495, 1499, 1501, 1515, 1522, 1541, 1563, 1590,\n",
       "        1594, 1597, 1611, 1613, 1618, 1622, 1624, 1625, 1626, 1636, 1655,\n",
       "        1658, 1674, 1680, 1682, 1683, 1686, 1694, 1699, 1700, 1708, 1709,\n",
       "        1723, 1726, 1728, 1735, 1738, 1742, 1753, 1758, 1760, 1762, 1763,\n",
       "        1766, 1773, 1775, 1804, 1806, 1820, 1839, 1842, 1850, 1853, 1856,\n",
       "        1866, 1873, 1880, 1883, 1890, 1895, 1899, 1906, 1907, 1920, 1923,\n",
       "        1925, 1947, 1962, 1975, 1998], dtype=int64),)"
      ]
     },
     "execution_count": 93,
     "metadata": {},
     "output_type": "execute_result"
    }
   ],
   "source": [
    "np.where(cos_result_sum[7] > 6)"
   ]
  },
  {
   "cell_type": "code",
   "execution_count": 94,
   "metadata": {},
   "outputs": [
    {
     "data": {
      "text/plain": [
       "(2000, 2000)"
      ]
     },
     "execution_count": 94,
     "metadata": {},
     "output_type": "execute_result"
    }
   ],
   "source": [
    "cos_result_sum.shape"
   ]
  },
  {
   "cell_type": "code",
   "execution_count": 95,
   "metadata": {},
   "outputs": [
    {
     "name": "stdout",
     "output_type": "stream",
     "text": [
      "<class 'numpy.ndarray'>\n"
     ]
    }
   ],
   "source": [
    "print(type(cos_result_sum))"
   ]
  },
  {
   "cell_type": "markdown",
   "metadata": {},
   "source": [
    "### bert로 계산한 유사도 파일 저장"
   ]
  },
  {
   "cell_type": "code",
   "execution_count": 108,
   "metadata": {},
   "outputs": [],
   "source": [
    "with open(\"./cos_result_sum_2000.pickle\", \"wb\") as f:\n",
    "    pickle.dump(cos_result_sum, f)"
   ]
  },
  {
   "cell_type": "code",
   "execution_count": null,
   "metadata": {},
   "outputs": [],
   "source": []
  }
 ],
 "metadata": {
  "kernelspec": {
   "display_name": "Python 3",
   "language": "python",
   "name": "python3"
  },
  "language_info": {
   "codemirror_mode": {
    "name": "ipython",
    "version": 3
   },
   "file_extension": ".py",
   "mimetype": "text/x-python",
   "name": "python",
   "nbconvert_exporter": "python",
   "pygments_lexer": "ipython3",
   "version": "3.8.5"
  }
 },
 "nbformat": 4,
 "nbformat_minor": 4
}
