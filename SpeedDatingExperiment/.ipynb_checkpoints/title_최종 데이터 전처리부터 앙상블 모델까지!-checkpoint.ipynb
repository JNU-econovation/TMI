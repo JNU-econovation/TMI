{
 "cells": [
  {
   "cell_type": "code",
   "execution_count": 1,
   "metadata": {},
   "outputs": [],
   "source": [
    "import numpy as np              # arrays\n",
    "import pandas as pd             # dataframes\n",
    "import matplotlib.pyplot as plt # graphs\n",
    "import seaborn as sns           # visualisations\n",
    "from scipy import stats         # statistics\n",
    "\n",
    "from sklearn.experimental import enable_iterative_imputer # enable experimental imputer\n",
    "from sklearn.impute import IterativeImputer               # sample imputation\n",
    "from sklearn import preprocessing                         # encoders, transformations\n",
    "from sklearn.model_selection import cross_validate        # cross-validation, model evaluation\n",
    "from sklearn.model_selection import GridSearchCV          # hyper-parameter tuning\n",
    "from sklearn.linear_model import LogisticRegression       # logistic regression model\n",
    "from sklearn.svm import SVC                               # support vector machine model\n",
    "from sklearn.neighbors import KNeighborsClassifier        # k-nearest neighbours model\n",
    "from sklearn.ensemble import GradientBoostingClassifier   # gradient boosting model\n",
    "from sklearn.ensemble import VotingClassifier             # voting ensemble model\n",
    "from sklearn.ensemble import StackingClassifier           # stacking ensemble model\n",
    "%matplotlib inline"
   ]
  },
  {
   "cell_type": "markdown",
   "metadata": {},
   "source": [
    "### 데이터 읽어오기!"
   ]
  },
  {
   "cell_type": "code",
   "execution_count": 2,
   "metadata": {},
   "outputs": [],
   "source": [
    "data_raw = pd.read_csv(\n",
    "    filepath_or_buffer='./input/Speed Dating Data.csv',\n",
    "    engine='python'\n",
    ")"
   ]
  },
  {
   "cell_type": "code",
   "execution_count": 3,
   "metadata": {},
   "outputs": [
    {
     "data": {
      "text/plain": [
       "(8378, 195)"
      ]
     },
     "execution_count": 3,
     "metadata": {},
     "output_type": "execute_result"
    }
   ],
   "source": [
    "data_raw.shape"
   ]
  },
  {
   "cell_type": "code",
   "execution_count": 4,
   "metadata": {},
   "outputs": [],
   "source": [
    "relevant_features = [\n",
    "    ['iid', 'int16'],\n",
    "    ['gender', 'bool'],\n",
    "    ['wave', 'int16'],\n",
    "    ['position', 'int16'],\n",
    "    ['order', 'int16'],\n",
    "    ['pid', 'int16'],\n",
    "    ['age_o', 'int16'],\n",
    "    ['pf_o_att', 'int16'],\n",
    "    ['pf_o_sin', 'int16'],\n",
    "    ['pf_o_int', 'int16'],\n",
    "    ['pf_o_fun', 'int16'],\n",
    "    ['pf_o_amb', 'int16'],\n",
    "    ['pf_o_sha', 'int16'],\n",
    "    ['dec_o', 'bool'],\n",
    "    ['age', 'int16'],\n",
    "    ['field_cd', 'category'],\n",
    "    ['goal', 'category'],\n",
    "    ['date', 'int16'],\n",
    "    ['go_out', 'int16'],\n",
    "    ['career_c', 'category'],\n",
    "    ['sports', 'int16'],\n",
    "    ['exercise', 'int16'],\n",
    "    ['dining', 'int16'],\n",
    "    ['museums', 'int16'],\n",
    "    ['art', 'int16'],\n",
    "    ['hiking', 'int16'],\n",
    "    ['reading', 'int16'],\n",
    "    ['tv', 'int16'],\n",
    "    ['theater', 'int16'],\n",
    "    ['movies', 'int16'],\n",
    "    ['concerts', 'int16'],\n",
    "    ['music', 'int16'],\n",
    "    ['shopping', 'int16'],\n",
    "    ['exphappy', 'int16'],\n",
    "    ['attr1_1', 'int16'],\n",
    "    ['sinc1_1', 'int16'],\n",
    "    ['intel1_1', 'int16'],\n",
    "    ['fun1_1', 'int16'],\n",
    "    ['amb1_1', 'int16'],\n",
    "    ['shar1_1', 'int16'],\n",
    "    ['dec', 'bool'],\n",
    "    ['like', 'int16'],\n",
    "    ['match', 'bool']\n",
    "]"
   ]
  },
  {
   "cell_type": "code",
   "execution_count": 5,
   "metadata": {},
   "outputs": [],
   "source": [
    "# create new dataframe containing relevant features\n",
    "data = data_raw[[feature[0] for feature in relevant_features]]"
   ]
  },
  {
   "cell_type": "markdown",
   "metadata": {},
   "source": [
    "# 데이터 타입 바꾸기"
   ]
  },
  {
   "cell_type": "code",
   "execution_count": 6,
   "metadata": {},
   "outputs": [],
   "source": [
    "data = data.astype({feature: datatype if all(data[feature].notna().values) \n",
    "                                    else 'float32' \n",
    "                                    if datatype == 'int16' \n",
    "                                    else datatype for (feature, datatype) in relevant_features})"
   ]
  },
  {
   "cell_type": "code",
   "execution_count": 7,
   "metadata": {},
   "outputs": [
    {
     "data": {
      "text/plain": [
       "0.42"
      ]
     },
     "execution_count": 7,
     "metadata": {},
     "output_type": "execute_result"
    }
   ],
   "source": [
    "partner_accepts = data['dec']\n",
    "round(partner_accepts[partner_accepts == True].count()/partner_accepts.count(),3)"
   ]
  },
  {
   "cell_type": "code",
   "execution_count": 8,
   "metadata": {},
   "outputs": [],
   "source": [
    "missing_samples_proportion = data.isnull().sum()/len(data)\n",
    "missing_samples_proportion.sort_values(ascending=False).head(10)\n",
    "\n",
    "missing_half_samples = missing_samples_proportion[missing_samples_proportion > 0.2].index.values\n",
    "data.drop(columns=missing_half_samples, inplace=True)"
   ]
  },
  {
   "cell_type": "code",
   "execution_count": 9,
   "metadata": {},
   "outputs": [
    {
     "data": {
      "text/plain": [
       "0       1\n",
       "1       1\n",
       "2       1\n",
       "3       1\n",
       "4       1\n",
       "       ..\n",
       "8373    0\n",
       "8374    0\n",
       "8375    1\n",
       "8376    0\n",
       "8377    0\n",
       "Length: 8378, dtype: int64"
      ]
     },
     "execution_count": 9,
     "metadata": {},
     "output_type": "execute_result"
    }
   ],
   "source": [
    "data.isnull().sum(axis=1)"
   ]
  },
  {
   "cell_type": "markdown",
   "metadata": {},
   "source": [
    "# 빈칸 채우기"
   ]
  },
  {
   "cell_type": "code",
   "execution_count": 10,
   "metadata": {},
   "outputs": [],
   "source": [
    "imputer = IterativeImputer(\n",
    "    missing_values=np.nan,\n",
    "    sample_posterior=True,\n",
    "    n_nearest_features=5,\n",
    "    min_value=0,\n",
    "    max_value=100,\n",
    "    random_state=0\n",
    ")\n",
    "imputer.fit(data)\n",
    "data_imputed = np.around(imputer.transform(data))\n",
    "data = pd.DataFrame(data_imputed, columns=data.columns)"
   ]
  },
  {
   "cell_type": "markdown",
   "metadata": {},
   "source": [
    "# 내가 만난 모든 상대방의 가치관 평균 점수"
   ]
  },
  {
   "cell_type": "code",
   "execution_count": 11,
   "metadata": {},
   "outputs": [],
   "source": [
    "subject_attractiveness_mean = data[['iid', 'pf_o_att']].groupby(['iid']).mean()['pf_o_att']\n",
    "subject_sincerity_mean = data[['iid', 'pf_o_sin']].groupby(['iid']).mean()['pf_o_sin']\n",
    "subject_intelligence_mean = data[['iid', 'pf_o_int']].groupby(['iid']).mean()['pf_o_int']\n",
    "subject_fun_mean = data[['iid', 'pf_o_fun']].groupby(['iid']).mean()['pf_o_fun']\n",
    "subject_ambition_mean = data[['iid', 'pf_o_amb']].groupby(['iid']).mean()['pf_o_amb']\n",
    "subject_shared_interest_mean = data[['iid', 'pf_o_sha']].groupby(['iid']).mean()['pf_o_sha']"
   ]
  },
  {
   "cell_type": "code",
   "execution_count": 12,
   "metadata": {},
   "outputs": [],
   "source": [
    "data = data.merge(\n",
    "    right=subject_attractiveness_mean,\n",
    "    how='inner',\n",
    "    on='iid'\n",
    ").rename(columns={\n",
    "    'pf_o_att_x': 'pf_o_att',\n",
    "    'pf_o_att_y': 'subject_attractiveness_mean'\n",
    "})\n",
    "data = data.merge(\n",
    "    right=subject_sincerity_mean,\n",
    "    how='inner',\n",
    "    on='iid'\n",
    ").rename(columns={\n",
    "    'pf_o_sin_x': 'pf_o_sin',\n",
    "    'pf_o_sin_y': 'subject_sincerity_mean'\n",
    "})\n",
    "data = data.merge(\n",
    "    right=subject_intelligence_mean,\n",
    "    how='inner',\n",
    "    on='iid'\n",
    ").rename(columns={\n",
    "    'pf_o_int_x': 'pf_o_int',\n",
    "    'pf_o_int_y': 'subject_intelligence_mean'\n",
    "})\n",
    "data = data.merge(\n",
    "    right=subject_fun_mean,\n",
    "    how='inner',\n",
    "    on='iid'\n",
    ").rename(columns={\n",
    "    'pf_o_fun_x': 'pf_o_fun',\n",
    "    'pf_o_fun_y': 'subject_fun_mean'\n",
    "})\n",
    "data = data.merge(\n",
    "    right=subject_ambition_mean,\n",
    "    how='inner',\n",
    "    on='iid'\n",
    ").rename(columns={\n",
    "    'pf_o_amb_x': 'pf_o_amb',\n",
    "    'pf_o_amb_y': 'subject_ambition_mean'\n",
    "})\n",
    "data = data.merge(\n",
    "    right=subject_shared_interest_mean,\n",
    "    how='inner',\n",
    "    on='iid'\n",
    ").rename(columns={\n",
    "    'pf_o_sha_x': 'pf_o_sha',\n",
    "    'pf_o_sha_y': 'subject_shared_interest_mean'\n",
    "})"
   ]
  },
  {
   "cell_type": "code",
   "execution_count": 13,
   "metadata": {
    "scrolled": false
   },
   "outputs": [
    {
     "data": {
      "text/html": [
       "<div>\n",
       "<style scoped>\n",
       "    .dataframe tbody tr th:only-of-type {\n",
       "        vertical-align: middle;\n",
       "    }\n",
       "\n",
       "    .dataframe tbody tr th {\n",
       "        vertical-align: top;\n",
       "    }\n",
       "\n",
       "    .dataframe thead th {\n",
       "        text-align: right;\n",
       "    }\n",
       "</style>\n",
       "<table border=\"1\" class=\"dataframe\">\n",
       "  <thead>\n",
       "    <tr style=\"text-align: right;\">\n",
       "      <th></th>\n",
       "      <th>gender</th>\n",
       "      <th>wave</th>\n",
       "      <th>position</th>\n",
       "      <th>order</th>\n",
       "      <th>pid</th>\n",
       "      <th>age_o</th>\n",
       "      <th>pf_o_att</th>\n",
       "      <th>pf_o_sin</th>\n",
       "      <th>pf_o_int</th>\n",
       "      <th>pf_o_fun</th>\n",
       "      <th>...</th>\n",
       "      <th>shar1_1</th>\n",
       "      <th>dec</th>\n",
       "      <th>like</th>\n",
       "      <th>match</th>\n",
       "      <th>subject_attractiveness_mean</th>\n",
       "      <th>subject_sincerity_mean</th>\n",
       "      <th>subject_intelligence_mean</th>\n",
       "      <th>subject_fun_mean</th>\n",
       "      <th>subject_ambition_mean</th>\n",
       "      <th>subject_shared_interest_mean</th>\n",
       "    </tr>\n",
       "    <tr>\n",
       "      <th>iid</th>\n",
       "      <th></th>\n",
       "      <th></th>\n",
       "      <th></th>\n",
       "      <th></th>\n",
       "      <th></th>\n",
       "      <th></th>\n",
       "      <th></th>\n",
       "      <th></th>\n",
       "      <th></th>\n",
       "      <th></th>\n",
       "      <th></th>\n",
       "      <th></th>\n",
       "      <th></th>\n",
       "      <th></th>\n",
       "      <th></th>\n",
       "      <th></th>\n",
       "      <th></th>\n",
       "      <th></th>\n",
       "      <th></th>\n",
       "      <th></th>\n",
       "      <th></th>\n",
       "    </tr>\n",
       "  </thead>\n",
       "  <tbody>\n",
       "    <tr>\n",
       "      <th>1.0</th>\n",
       "      <td>0.0</td>\n",
       "      <td>1.0</td>\n",
       "      <td>7.0</td>\n",
       "      <td>5.5</td>\n",
       "      <td>15.5</td>\n",
       "      <td>25.2</td>\n",
       "      <td>44.2</td>\n",
       "      <td>7.9</td>\n",
       "      <td>16.5</td>\n",
       "      <td>16.9</td>\n",
       "      <td>...</td>\n",
       "      <td>15.0</td>\n",
       "      <td>0.8</td>\n",
       "      <td>6.5</td>\n",
       "      <td>0.4</td>\n",
       "      <td>44.2</td>\n",
       "      <td>7.9</td>\n",
       "      <td>16.5</td>\n",
       "      <td>16.9</td>\n",
       "      <td>4.5</td>\n",
       "      <td>9.9</td>\n",
       "    </tr>\n",
       "    <tr>\n",
       "      <th>2.0</th>\n",
       "      <td>0.0</td>\n",
       "      <td>1.0</td>\n",
       "      <td>3.0</td>\n",
       "      <td>5.5</td>\n",
       "      <td>15.5</td>\n",
       "      <td>25.2</td>\n",
       "      <td>44.2</td>\n",
       "      <td>7.9</td>\n",
       "      <td>16.5</td>\n",
       "      <td>16.9</td>\n",
       "      <td>...</td>\n",
       "      <td>5.0</td>\n",
       "      <td>0.4</td>\n",
       "      <td>6.6</td>\n",
       "      <td>0.2</td>\n",
       "      <td>44.2</td>\n",
       "      <td>7.9</td>\n",
       "      <td>16.5</td>\n",
       "      <td>16.9</td>\n",
       "      <td>4.5</td>\n",
       "      <td>9.9</td>\n",
       "    </tr>\n",
       "    <tr>\n",
       "      <th>3.0</th>\n",
       "      <td>0.0</td>\n",
       "      <td>1.0</td>\n",
       "      <td>9.0</td>\n",
       "      <td>5.5</td>\n",
       "      <td>15.5</td>\n",
       "      <td>25.2</td>\n",
       "      <td>44.2</td>\n",
       "      <td>7.9</td>\n",
       "      <td>16.5</td>\n",
       "      <td>16.9</td>\n",
       "      <td>...</td>\n",
       "      <td>0.0</td>\n",
       "      <td>0.0</td>\n",
       "      <td>8.2</td>\n",
       "      <td>0.0</td>\n",
       "      <td>44.2</td>\n",
       "      <td>7.9</td>\n",
       "      <td>16.5</td>\n",
       "      <td>16.9</td>\n",
       "      <td>4.5</td>\n",
       "      <td>9.9</td>\n",
       "    </tr>\n",
       "    <tr>\n",
       "      <th>4.0</th>\n",
       "      <td>0.0</td>\n",
       "      <td>1.0</td>\n",
       "      <td>6.0</td>\n",
       "      <td>5.5</td>\n",
       "      <td>15.5</td>\n",
       "      <td>25.2</td>\n",
       "      <td>44.2</td>\n",
       "      <td>7.9</td>\n",
       "      <td>16.5</td>\n",
       "      <td>16.9</td>\n",
       "      <td>...</td>\n",
       "      <td>10.0</td>\n",
       "      <td>0.3</td>\n",
       "      <td>6.6</td>\n",
       "      <td>0.2</td>\n",
       "      <td>44.2</td>\n",
       "      <td>7.9</td>\n",
       "      <td>16.5</td>\n",
       "      <td>16.9</td>\n",
       "      <td>4.5</td>\n",
       "      <td>9.9</td>\n",
       "    </tr>\n",
       "    <tr>\n",
       "      <th>5.0</th>\n",
       "      <td>0.0</td>\n",
       "      <td>1.0</td>\n",
       "      <td>4.0</td>\n",
       "      <td>5.5</td>\n",
       "      <td>15.5</td>\n",
       "      <td>25.2</td>\n",
       "      <td>44.2</td>\n",
       "      <td>7.9</td>\n",
       "      <td>16.5</td>\n",
       "      <td>16.9</td>\n",
       "      <td>...</td>\n",
       "      <td>15.0</td>\n",
       "      <td>0.6</td>\n",
       "      <td>7.2</td>\n",
       "      <td>0.2</td>\n",
       "      <td>44.2</td>\n",
       "      <td>7.9</td>\n",
       "      <td>16.5</td>\n",
       "      <td>16.9</td>\n",
       "      <td>4.5</td>\n",
       "      <td>9.9</td>\n",
       "    </tr>\n",
       "  </tbody>\n",
       "</table>\n",
       "<p>5 rows × 48 columns</p>\n",
       "</div>"
      ],
      "text/plain": [
       "     gender  wave  position  order   pid  age_o  pf_o_att  pf_o_sin  pf_o_int  \\\n",
       "iid                                                                             \n",
       "1.0     0.0   1.0       7.0    5.5  15.5   25.2      44.2       7.9      16.5   \n",
       "2.0     0.0   1.0       3.0    5.5  15.5   25.2      44.2       7.9      16.5   \n",
       "3.0     0.0   1.0       9.0    5.5  15.5   25.2      44.2       7.9      16.5   \n",
       "4.0     0.0   1.0       6.0    5.5  15.5   25.2      44.2       7.9      16.5   \n",
       "5.0     0.0   1.0       4.0    5.5  15.5   25.2      44.2       7.9      16.5   \n",
       "\n",
       "     pf_o_fun  ...  shar1_1  dec  like  match  subject_attractiveness_mean  \\\n",
       "iid            ...                                                           \n",
       "1.0      16.9  ...     15.0  0.8   6.5    0.4                         44.2   \n",
       "2.0      16.9  ...      5.0  0.4   6.6    0.2                         44.2   \n",
       "3.0      16.9  ...      0.0  0.0   8.2    0.0                         44.2   \n",
       "4.0      16.9  ...     10.0  0.3   6.6    0.2                         44.2   \n",
       "5.0      16.9  ...     15.0  0.6   7.2    0.2                         44.2   \n",
       "\n",
       "     subject_sincerity_mean  subject_intelligence_mean  subject_fun_mean  \\\n",
       "iid                                                                        \n",
       "1.0                     7.9                       16.5              16.9   \n",
       "2.0                     7.9                       16.5              16.9   \n",
       "3.0                     7.9                       16.5              16.9   \n",
       "4.0                     7.9                       16.5              16.9   \n",
       "5.0                     7.9                       16.5              16.9   \n",
       "\n",
       "     subject_ambition_mean  subject_shared_interest_mean  \n",
       "iid                                                       \n",
       "1.0                    4.5                           9.9  \n",
       "2.0                    4.5                           9.9  \n",
       "3.0                    4.5                           9.9  \n",
       "4.0                    4.5                           9.9  \n",
       "5.0                    4.5                           9.9  \n",
       "\n",
       "[5 rows x 48 columns]"
      ]
     },
     "execution_count": 13,
     "metadata": {},
     "output_type": "execute_result"
    }
   ],
   "source": [
    "test_unique_id = data.groupby(['iid'])\n",
    "\n",
    "test_data = test_unique_id.mean()\n",
    "test_data.head(5)"
   ]
  },
  {
   "cell_type": "code",
   "execution_count": 14,
   "metadata": {},
   "outputs": [
    {
     "data": {
      "text/html": [
       "<div>\n",
       "<style scoped>\n",
       "    .dataframe tbody tr th:only-of-type {\n",
       "        vertical-align: middle;\n",
       "    }\n",
       "\n",
       "    .dataframe tbody tr th {\n",
       "        vertical-align: top;\n",
       "    }\n",
       "\n",
       "    .dataframe thead th {\n",
       "        text-align: right;\n",
       "    }\n",
       "</style>\n",
       "<table border=\"1\" class=\"dataframe\">\n",
       "  <thead>\n",
       "    <tr style=\"text-align: right;\">\n",
       "      <th></th>\n",
       "      <th>gender</th>\n",
       "      <th>wave</th>\n",
       "      <th>position</th>\n",
       "      <th>order</th>\n",
       "      <th>pid</th>\n",
       "      <th>age_o</th>\n",
       "      <th>pf_o_att</th>\n",
       "      <th>pf_o_sin</th>\n",
       "      <th>pf_o_int</th>\n",
       "      <th>pf_o_fun</th>\n",
       "      <th>...</th>\n",
       "      <th>shar1_1</th>\n",
       "      <th>dec</th>\n",
       "      <th>like</th>\n",
       "      <th>match</th>\n",
       "      <th>subject_attractiveness_mean</th>\n",
       "      <th>subject_sincerity_mean</th>\n",
       "      <th>subject_intelligence_mean</th>\n",
       "      <th>subject_fun_mean</th>\n",
       "      <th>subject_ambition_mean</th>\n",
       "      <th>subject_shared_interest_mean</th>\n",
       "    </tr>\n",
       "    <tr>\n",
       "      <th>iid</th>\n",
       "      <th></th>\n",
       "      <th></th>\n",
       "      <th></th>\n",
       "      <th></th>\n",
       "      <th></th>\n",
       "      <th></th>\n",
       "      <th></th>\n",
       "      <th></th>\n",
       "      <th></th>\n",
       "      <th></th>\n",
       "      <th></th>\n",
       "      <th></th>\n",
       "      <th></th>\n",
       "      <th></th>\n",
       "      <th></th>\n",
       "      <th></th>\n",
       "      <th></th>\n",
       "      <th></th>\n",
       "      <th></th>\n",
       "      <th></th>\n",
       "      <th></th>\n",
       "    </tr>\n",
       "  </thead>\n",
       "  <tbody>\n",
       "    <tr>\n",
       "      <th>1.0</th>\n",
       "      <td>0.0</td>\n",
       "      <td>1.0</td>\n",
       "      <td>7.0</td>\n",
       "      <td>5.5</td>\n",
       "      <td>15.5</td>\n",
       "      <td>25.200000</td>\n",
       "      <td>44.200000</td>\n",
       "      <td>7.900000</td>\n",
       "      <td>16.500000</td>\n",
       "      <td>16.900000</td>\n",
       "      <td>...</td>\n",
       "      <td>15.0</td>\n",
       "      <td>0.800000</td>\n",
       "      <td>6.500000</td>\n",
       "      <td>0.400000</td>\n",
       "      <td>44.200000</td>\n",
       "      <td>7.900000</td>\n",
       "      <td>16.500000</td>\n",
       "      <td>16.900000</td>\n",
       "      <td>4.500000</td>\n",
       "      <td>9.900000</td>\n",
       "    </tr>\n",
       "    <tr>\n",
       "      <th>2.0</th>\n",
       "      <td>0.0</td>\n",
       "      <td>1.0</td>\n",
       "      <td>3.0</td>\n",
       "      <td>5.5</td>\n",
       "      <td>15.5</td>\n",
       "      <td>25.200000</td>\n",
       "      <td>44.200000</td>\n",
       "      <td>7.900000</td>\n",
       "      <td>16.500000</td>\n",
       "      <td>16.900000</td>\n",
       "      <td>...</td>\n",
       "      <td>5.0</td>\n",
       "      <td>0.400000</td>\n",
       "      <td>6.600000</td>\n",
       "      <td>0.200000</td>\n",
       "      <td>44.200000</td>\n",
       "      <td>7.900000</td>\n",
       "      <td>16.500000</td>\n",
       "      <td>16.900000</td>\n",
       "      <td>4.500000</td>\n",
       "      <td>9.900000</td>\n",
       "    </tr>\n",
       "    <tr>\n",
       "      <th>3.0</th>\n",
       "      <td>0.0</td>\n",
       "      <td>1.0</td>\n",
       "      <td>9.0</td>\n",
       "      <td>5.5</td>\n",
       "      <td>15.5</td>\n",
       "      <td>25.200000</td>\n",
       "      <td>44.200000</td>\n",
       "      <td>7.900000</td>\n",
       "      <td>16.500000</td>\n",
       "      <td>16.900000</td>\n",
       "      <td>...</td>\n",
       "      <td>0.0</td>\n",
       "      <td>0.000000</td>\n",
       "      <td>8.200000</td>\n",
       "      <td>0.000000</td>\n",
       "      <td>44.200000</td>\n",
       "      <td>7.900000</td>\n",
       "      <td>16.500000</td>\n",
       "      <td>16.900000</td>\n",
       "      <td>4.500000</td>\n",
       "      <td>9.900000</td>\n",
       "    </tr>\n",
       "    <tr>\n",
       "      <th>4.0</th>\n",
       "      <td>0.0</td>\n",
       "      <td>1.0</td>\n",
       "      <td>6.0</td>\n",
       "      <td>5.5</td>\n",
       "      <td>15.5</td>\n",
       "      <td>25.200000</td>\n",
       "      <td>44.200000</td>\n",
       "      <td>7.900000</td>\n",
       "      <td>16.500000</td>\n",
       "      <td>16.900000</td>\n",
       "      <td>...</td>\n",
       "      <td>10.0</td>\n",
       "      <td>0.300000</td>\n",
       "      <td>6.600000</td>\n",
       "      <td>0.200000</td>\n",
       "      <td>44.200000</td>\n",
       "      <td>7.900000</td>\n",
       "      <td>16.500000</td>\n",
       "      <td>16.900000</td>\n",
       "      <td>4.500000</td>\n",
       "      <td>9.900000</td>\n",
       "    </tr>\n",
       "    <tr>\n",
       "      <th>5.0</th>\n",
       "      <td>0.0</td>\n",
       "      <td>1.0</td>\n",
       "      <td>4.0</td>\n",
       "      <td>5.5</td>\n",
       "      <td>15.5</td>\n",
       "      <td>25.200000</td>\n",
       "      <td>44.200000</td>\n",
       "      <td>7.900000</td>\n",
       "      <td>16.500000</td>\n",
       "      <td>16.900000</td>\n",
       "      <td>...</td>\n",
       "      <td>15.0</td>\n",
       "      <td>0.600000</td>\n",
       "      <td>7.200000</td>\n",
       "      <td>0.200000</td>\n",
       "      <td>44.200000</td>\n",
       "      <td>7.900000</td>\n",
       "      <td>16.500000</td>\n",
       "      <td>16.900000</td>\n",
       "      <td>4.500000</td>\n",
       "      <td>9.900000</td>\n",
       "    </tr>\n",
       "    <tr>\n",
       "      <th>...</th>\n",
       "      <td>...</td>\n",
       "      <td>...</td>\n",
       "      <td>...</td>\n",
       "      <td>...</td>\n",
       "      <td>...</td>\n",
       "      <td>...</td>\n",
       "      <td>...</td>\n",
       "      <td>...</td>\n",
       "      <td>...</td>\n",
       "      <td>...</td>\n",
       "      <td>...</td>\n",
       "      <td>...</td>\n",
       "      <td>...</td>\n",
       "      <td>...</td>\n",
       "      <td>...</td>\n",
       "      <td>...</td>\n",
       "      <td>...</td>\n",
       "      <td>...</td>\n",
       "      <td>...</td>\n",
       "      <td>...</td>\n",
       "      <td>...</td>\n",
       "    </tr>\n",
       "    <tr>\n",
       "      <th>548.0</th>\n",
       "      <td>1.0</td>\n",
       "      <td>21.0</td>\n",
       "      <td>11.5</td>\n",
       "      <td>11.5</td>\n",
       "      <td>519.5</td>\n",
       "      <td>25.181818</td>\n",
       "      <td>21.727273</td>\n",
       "      <td>18.181818</td>\n",
       "      <td>21.272727</td>\n",
       "      <td>16.681818</td>\n",
       "      <td>...</td>\n",
       "      <td>20.0</td>\n",
       "      <td>0.409091</td>\n",
       "      <td>5.000000</td>\n",
       "      <td>0.227273</td>\n",
       "      <td>21.727273</td>\n",
       "      <td>18.181818</td>\n",
       "      <td>21.272727</td>\n",
       "      <td>16.681818</td>\n",
       "      <td>8.636364</td>\n",
       "      <td>13.363636</td>\n",
       "    </tr>\n",
       "    <tr>\n",
       "      <th>549.0</th>\n",
       "      <td>1.0</td>\n",
       "      <td>21.0</td>\n",
       "      <td>11.5</td>\n",
       "      <td>11.5</td>\n",
       "      <td>519.5</td>\n",
       "      <td>25.136364</td>\n",
       "      <td>21.727273</td>\n",
       "      <td>18.181818</td>\n",
       "      <td>21.272727</td>\n",
       "      <td>16.681818</td>\n",
       "      <td>...</td>\n",
       "      <td>20.0</td>\n",
       "      <td>0.409091</td>\n",
       "      <td>5.363636</td>\n",
       "      <td>0.227273</td>\n",
       "      <td>21.727273</td>\n",
       "      <td>18.181818</td>\n",
       "      <td>21.272727</td>\n",
       "      <td>16.681818</td>\n",
       "      <td>8.636364</td>\n",
       "      <td>13.818182</td>\n",
       "    </tr>\n",
       "    <tr>\n",
       "      <th>550.0</th>\n",
       "      <td>1.0</td>\n",
       "      <td>21.0</td>\n",
       "      <td>11.5</td>\n",
       "      <td>11.5</td>\n",
       "      <td>519.5</td>\n",
       "      <td>25.272727</td>\n",
       "      <td>21.727273</td>\n",
       "      <td>18.181818</td>\n",
       "      <td>21.272727</td>\n",
       "      <td>16.681818</td>\n",
       "      <td>...</td>\n",
       "      <td>4.0</td>\n",
       "      <td>0.318182</td>\n",
       "      <td>5.500000</td>\n",
       "      <td>0.181818</td>\n",
       "      <td>21.727273</td>\n",
       "      <td>18.181818</td>\n",
       "      <td>21.272727</td>\n",
       "      <td>16.681818</td>\n",
       "      <td>8.636364</td>\n",
       "      <td>13.909091</td>\n",
       "    </tr>\n",
       "    <tr>\n",
       "      <th>551.0</th>\n",
       "      <td>1.0</td>\n",
       "      <td>21.0</td>\n",
       "      <td>11.5</td>\n",
       "      <td>11.5</td>\n",
       "      <td>519.5</td>\n",
       "      <td>25.181818</td>\n",
       "      <td>21.727273</td>\n",
       "      <td>18.181818</td>\n",
       "      <td>21.272727</td>\n",
       "      <td>16.681818</td>\n",
       "      <td>...</td>\n",
       "      <td>0.0</td>\n",
       "      <td>0.363636</td>\n",
       "      <td>6.818182</td>\n",
       "      <td>0.090909</td>\n",
       "      <td>21.727273</td>\n",
       "      <td>18.181818</td>\n",
       "      <td>21.272727</td>\n",
       "      <td>16.681818</td>\n",
       "      <td>8.636364</td>\n",
       "      <td>13.500000</td>\n",
       "    </tr>\n",
       "    <tr>\n",
       "      <th>552.0</th>\n",
       "      <td>1.0</td>\n",
       "      <td>21.0</td>\n",
       "      <td>11.5</td>\n",
       "      <td>11.5</td>\n",
       "      <td>519.5</td>\n",
       "      <td>25.000000</td>\n",
       "      <td>21.727273</td>\n",
       "      <td>18.181818</td>\n",
       "      <td>21.272727</td>\n",
       "      <td>16.681818</td>\n",
       "      <td>...</td>\n",
       "      <td>0.0</td>\n",
       "      <td>0.318182</td>\n",
       "      <td>5.818182</td>\n",
       "      <td>0.272727</td>\n",
       "      <td>21.727273</td>\n",
       "      <td>18.181818</td>\n",
       "      <td>21.272727</td>\n",
       "      <td>16.681818</td>\n",
       "      <td>8.636364</td>\n",
       "      <td>13.409091</td>\n",
       "    </tr>\n",
       "  </tbody>\n",
       "</table>\n",
       "<p>551 rows × 48 columns</p>\n",
       "</div>"
      ],
      "text/plain": [
       "       gender  wave  position  order    pid      age_o   pf_o_att   pf_o_sin  \\\n",
       "iid                                                                            \n",
       "1.0       0.0   1.0       7.0    5.5   15.5  25.200000  44.200000   7.900000   \n",
       "2.0       0.0   1.0       3.0    5.5   15.5  25.200000  44.200000   7.900000   \n",
       "3.0       0.0   1.0       9.0    5.5   15.5  25.200000  44.200000   7.900000   \n",
       "4.0       0.0   1.0       6.0    5.5   15.5  25.200000  44.200000   7.900000   \n",
       "5.0       0.0   1.0       4.0    5.5   15.5  25.200000  44.200000   7.900000   \n",
       "...       ...   ...       ...    ...    ...        ...        ...        ...   \n",
       "548.0     1.0  21.0      11.5   11.5  519.5  25.181818  21.727273  18.181818   \n",
       "549.0     1.0  21.0      11.5   11.5  519.5  25.136364  21.727273  18.181818   \n",
       "550.0     1.0  21.0      11.5   11.5  519.5  25.272727  21.727273  18.181818   \n",
       "551.0     1.0  21.0      11.5   11.5  519.5  25.181818  21.727273  18.181818   \n",
       "552.0     1.0  21.0      11.5   11.5  519.5  25.000000  21.727273  18.181818   \n",
       "\n",
       "        pf_o_int   pf_o_fun  ...  shar1_1       dec      like     match  \\\n",
       "iid                          ...                                          \n",
       "1.0    16.500000  16.900000  ...     15.0  0.800000  6.500000  0.400000   \n",
       "2.0    16.500000  16.900000  ...      5.0  0.400000  6.600000  0.200000   \n",
       "3.0    16.500000  16.900000  ...      0.0  0.000000  8.200000  0.000000   \n",
       "4.0    16.500000  16.900000  ...     10.0  0.300000  6.600000  0.200000   \n",
       "5.0    16.500000  16.900000  ...     15.0  0.600000  7.200000  0.200000   \n",
       "...          ...        ...  ...      ...       ...       ...       ...   \n",
       "548.0  21.272727  16.681818  ...     20.0  0.409091  5.000000  0.227273   \n",
       "549.0  21.272727  16.681818  ...     20.0  0.409091  5.363636  0.227273   \n",
       "550.0  21.272727  16.681818  ...      4.0  0.318182  5.500000  0.181818   \n",
       "551.0  21.272727  16.681818  ...      0.0  0.363636  6.818182  0.090909   \n",
       "552.0  21.272727  16.681818  ...      0.0  0.318182  5.818182  0.272727   \n",
       "\n",
       "       subject_attractiveness_mean  subject_sincerity_mean  \\\n",
       "iid                                                          \n",
       "1.0                      44.200000                7.900000   \n",
       "2.0                      44.200000                7.900000   \n",
       "3.0                      44.200000                7.900000   \n",
       "4.0                      44.200000                7.900000   \n",
       "5.0                      44.200000                7.900000   \n",
       "...                            ...                     ...   \n",
       "548.0                    21.727273               18.181818   \n",
       "549.0                    21.727273               18.181818   \n",
       "550.0                    21.727273               18.181818   \n",
       "551.0                    21.727273               18.181818   \n",
       "552.0                    21.727273               18.181818   \n",
       "\n",
       "       subject_intelligence_mean  subject_fun_mean  subject_ambition_mean  \\\n",
       "iid                                                                         \n",
       "1.0                    16.500000         16.900000               4.500000   \n",
       "2.0                    16.500000         16.900000               4.500000   \n",
       "3.0                    16.500000         16.900000               4.500000   \n",
       "4.0                    16.500000         16.900000               4.500000   \n",
       "5.0                    16.500000         16.900000               4.500000   \n",
       "...                          ...               ...                    ...   \n",
       "548.0                  21.272727         16.681818               8.636364   \n",
       "549.0                  21.272727         16.681818               8.636364   \n",
       "550.0                  21.272727         16.681818               8.636364   \n",
       "551.0                  21.272727         16.681818               8.636364   \n",
       "552.0                  21.272727         16.681818               8.636364   \n",
       "\n",
       "       subject_shared_interest_mean  \n",
       "iid                                  \n",
       "1.0                        9.900000  \n",
       "2.0                        9.900000  \n",
       "3.0                        9.900000  \n",
       "4.0                        9.900000  \n",
       "5.0                        9.900000  \n",
       "...                             ...  \n",
       "548.0                     13.363636  \n",
       "549.0                     13.818182  \n",
       "550.0                     13.909091  \n",
       "551.0                     13.500000  \n",
       "552.0                     13.409091  \n",
       "\n",
       "[551 rows x 48 columns]"
      ]
     },
     "execution_count": 14,
     "metadata": {},
     "output_type": "execute_result"
    }
   ],
   "source": [
    "test_data"
   ]
  },
  {
   "cell_type": "markdown",
   "metadata": {},
   "source": [
    "# 학과 클러스터링"
   ]
  },
  {
   "cell_type": "code",
   "execution_count": 15,
   "metadata": {
    "scrolled": true
   },
   "outputs": [
    {
     "data": {
      "text/plain": [
       "Index(['iid', 'gender', 'wave', 'position', 'order', 'pid', 'age_o',\n",
       "       'pf_o_att', 'pf_o_sin', 'pf_o_int', 'pf_o_fun', 'pf_o_amb', 'pf_o_sha',\n",
       "       'dec_o', 'age', 'field_cd', 'goal', 'date', 'go_out', 'career_c',\n",
       "       'sports', 'exercise', 'dining', 'museums', 'art', 'hiking', 'reading',\n",
       "       'tv', 'theater', 'movies', 'concerts', 'music', 'shopping', 'exphappy',\n",
       "       'attr1_1', 'sinc1_1', 'intel1_1', 'fun1_1', 'amb1_1', 'shar1_1', 'dec',\n",
       "       'like', 'match', 'subject_attractiveness_mean',\n",
       "       'subject_sincerity_mean', 'subject_intelligence_mean',\n",
       "       'subject_fun_mean', 'subject_ambition_mean',\n",
       "       'subject_shared_interest_mean'],\n",
       "      dtype='object')"
      ]
     },
     "execution_count": 15,
     "metadata": {},
     "output_type": "execute_result"
    }
   ],
   "source": [
    "data.columns"
   ]
  },
  {
   "cell_type": "code",
   "execution_count": 16,
   "metadata": {},
   "outputs": [
    {
     "data": {
      "text/plain": [
       "8.0     1936\n",
       "10.0    1003\n",
       "5.0      871\n",
       "13.0     712\n",
       "3.0      701\n",
       "1.0      665\n",
       "9.0      635\n",
       "11.0     480\n",
       "6.0      331\n",
       "7.0      251\n",
       "2.0      210\n",
       "15.0     187\n",
       "4.0      144\n",
       "14.0     126\n",
       "18.0      53\n",
       "16.0      40\n",
       "12.0      22\n",
       "17.0      10\n",
       "0.0        1\n",
       "Name: field_cd, dtype: int64"
      ]
     },
     "execution_count": 16,
     "metadata": {},
     "output_type": "execute_result"
    }
   ],
   "source": [
    "data['field_cd'].value_counts()"
   ]
  },
  {
   "cell_type": "code",
   "execution_count": 17,
   "metadata": {},
   "outputs": [],
   "source": [
    "humanities = [6.0, 7.0]\n",
    "societies = [1.0, 3.0, 8.0, 11.0, 13.0]\n",
    "natural = [2.0, 10.0]\n",
    "engineers = [5.0]\n",
    "medical = [4.0]\n",
    "academic = [9.0]\n",
    "art = [14.0, 15.0]\n",
    "other = [0.0, 12.0, 16.0, 17.0, 18.0]\n",
    "\n",
    "before = [0.0, 1.0, 2.0, 3.0, 4.0, 5.0, 6.0, 7.0, 8.0, 9.0, 10.0, 11.0, 12.0, 13.0, 14.0, 15.0, 16.0, 17.0, 18.0]\n",
    "after = [8, 2, 3, 2, 5, 4, 1, 1, 2, 6, 3, 2, 8, 2, 7, 7, 8, 8, 8]\n",
    "\n",
    "data['field_cd'] = data['field_cd'].replace(before, after)"
   ]
  },
  {
   "cell_type": "code",
   "execution_count": 18,
   "metadata": {
    "scrolled": true
   },
   "outputs": [
    {
     "name": "stdout",
     "output_type": "stream",
     "text": [
      "Index(['gender', 'wave', 'position', 'order', 'pid', 'age_o', 'pf_o_att',\n",
      "       'pf_o_sin', 'pf_o_int', 'pf_o_fun', 'pf_o_amb', 'pf_o_sha', 'dec_o',\n",
      "       'age', 'field_cd', 'goal', 'date', 'go_out', 'career_c', 'sports',\n",
      "       'exercise', 'dining', 'museums', 'art', 'hiking', 'reading', 'tv',\n",
      "       'theater', 'movies', 'concerts', 'music', 'shopping', 'exphappy',\n",
      "       'attr1_1', 'sinc1_1', 'intel1_1', 'fun1_1', 'amb1_1', 'shar1_1', 'dec',\n",
      "       'like', 'match', 'subject_attractiveness_mean',\n",
      "       'subject_sincerity_mean', 'subject_intelligence_mean',\n",
      "       'subject_fun_mean', 'subject_ambition_mean',\n",
      "       'subject_shared_interest_mean'],\n",
      "      dtype='object')\n",
      "(551, 48)\n"
     ]
    }
   ],
   "source": [
    "print(test_data.columns)\n",
    "print(test_data.shape)"
   ]
  },
  {
   "cell_type": "markdown",
   "metadata": {},
   "source": [
    "# 상대방 학과 추가"
   ]
  },
  {
   "cell_type": "code",
   "execution_count": 19,
   "metadata": {},
   "outputs": [
    {
     "data": {
      "text/html": [
       "<div>\n",
       "<style scoped>\n",
       "    .dataframe tbody tr th:only-of-type {\n",
       "        vertical-align: middle;\n",
       "    }\n",
       "\n",
       "    .dataframe tbody tr th {\n",
       "        vertical-align: top;\n",
       "    }\n",
       "\n",
       "    .dataframe thead th {\n",
       "        text-align: right;\n",
       "    }\n",
       "</style>\n",
       "<table border=\"1\" class=\"dataframe\">\n",
       "  <thead>\n",
       "    <tr style=\"text-align: right;\">\n",
       "      <th></th>\n",
       "      <th>gender</th>\n",
       "      <th>wave</th>\n",
       "      <th>position</th>\n",
       "      <th>order</th>\n",
       "      <th>pid</th>\n",
       "      <th>age_o</th>\n",
       "      <th>pf_o_att</th>\n",
       "      <th>pf_o_sin</th>\n",
       "      <th>pf_o_int</th>\n",
       "      <th>pf_o_fun</th>\n",
       "      <th>...</th>\n",
       "      <th>shar1_1</th>\n",
       "      <th>dec</th>\n",
       "      <th>like</th>\n",
       "      <th>match</th>\n",
       "      <th>subject_attractiveness_mean</th>\n",
       "      <th>subject_sincerity_mean</th>\n",
       "      <th>subject_intelligence_mean</th>\n",
       "      <th>subject_fun_mean</th>\n",
       "      <th>subject_ambition_mean</th>\n",
       "      <th>subject_shared_interest_mean</th>\n",
       "    </tr>\n",
       "    <tr>\n",
       "      <th>iid</th>\n",
       "      <th></th>\n",
       "      <th></th>\n",
       "      <th></th>\n",
       "      <th></th>\n",
       "      <th></th>\n",
       "      <th></th>\n",
       "      <th></th>\n",
       "      <th></th>\n",
       "      <th></th>\n",
       "      <th></th>\n",
       "      <th></th>\n",
       "      <th></th>\n",
       "      <th></th>\n",
       "      <th></th>\n",
       "      <th></th>\n",
       "      <th></th>\n",
       "      <th></th>\n",
       "      <th></th>\n",
       "      <th></th>\n",
       "      <th></th>\n",
       "      <th></th>\n",
       "    </tr>\n",
       "  </thead>\n",
       "  <tbody>\n",
       "    <tr>\n",
       "      <th>1.0</th>\n",
       "      <td>0.0</td>\n",
       "      <td>1.0</td>\n",
       "      <td>7.0</td>\n",
       "      <td>4.0</td>\n",
       "      <td>11.0</td>\n",
       "      <td>27.0</td>\n",
       "      <td>35.0</td>\n",
       "      <td>20.0</td>\n",
       "      <td>20.0</td>\n",
       "      <td>20.0</td>\n",
       "      <td>...</td>\n",
       "      <td>15.0</td>\n",
       "      <td>1.0</td>\n",
       "      <td>7.0</td>\n",
       "      <td>0.0</td>\n",
       "      <td>44.200000</td>\n",
       "      <td>7.900000</td>\n",
       "      <td>16.500000</td>\n",
       "      <td>16.900000</td>\n",
       "      <td>4.500000</td>\n",
       "      <td>9.900000</td>\n",
       "    </tr>\n",
       "    <tr>\n",
       "      <th>2.0</th>\n",
       "      <td>0.0</td>\n",
       "      <td>1.0</td>\n",
       "      <td>3.0</td>\n",
       "      <td>10.0</td>\n",
       "      <td>11.0</td>\n",
       "      <td>27.0</td>\n",
       "      <td>35.0</td>\n",
       "      <td>20.0</td>\n",
       "      <td>20.0</td>\n",
       "      <td>20.0</td>\n",
       "      <td>...</td>\n",
       "      <td>5.0</td>\n",
       "      <td>0.0</td>\n",
       "      <td>6.0</td>\n",
       "      <td>0.0</td>\n",
       "      <td>44.200000</td>\n",
       "      <td>7.900000</td>\n",
       "      <td>16.500000</td>\n",
       "      <td>16.900000</td>\n",
       "      <td>4.500000</td>\n",
       "      <td>9.900000</td>\n",
       "    </tr>\n",
       "    <tr>\n",
       "      <th>3.0</th>\n",
       "      <td>0.0</td>\n",
       "      <td>1.0</td>\n",
       "      <td>9.0</td>\n",
       "      <td>6.0</td>\n",
       "      <td>11.0</td>\n",
       "      <td>27.0</td>\n",
       "      <td>35.0</td>\n",
       "      <td>20.0</td>\n",
       "      <td>20.0</td>\n",
       "      <td>20.0</td>\n",
       "      <td>...</td>\n",
       "      <td>0.0</td>\n",
       "      <td>0.0</td>\n",
       "      <td>8.0</td>\n",
       "      <td>0.0</td>\n",
       "      <td>44.200000</td>\n",
       "      <td>7.900000</td>\n",
       "      <td>16.500000</td>\n",
       "      <td>16.900000</td>\n",
       "      <td>4.500000</td>\n",
       "      <td>9.900000</td>\n",
       "    </tr>\n",
       "    <tr>\n",
       "      <th>4.0</th>\n",
       "      <td>0.0</td>\n",
       "      <td>1.0</td>\n",
       "      <td>6.0</td>\n",
       "      <td>3.0</td>\n",
       "      <td>11.0</td>\n",
       "      <td>27.0</td>\n",
       "      <td>35.0</td>\n",
       "      <td>20.0</td>\n",
       "      <td>20.0</td>\n",
       "      <td>20.0</td>\n",
       "      <td>...</td>\n",
       "      <td>10.0</td>\n",
       "      <td>0.0</td>\n",
       "      <td>6.0</td>\n",
       "      <td>0.0</td>\n",
       "      <td>44.200000</td>\n",
       "      <td>7.900000</td>\n",
       "      <td>16.500000</td>\n",
       "      <td>16.900000</td>\n",
       "      <td>4.500000</td>\n",
       "      <td>9.900000</td>\n",
       "    </tr>\n",
       "    <tr>\n",
       "      <th>5.0</th>\n",
       "      <td>0.0</td>\n",
       "      <td>1.0</td>\n",
       "      <td>4.0</td>\n",
       "      <td>1.0</td>\n",
       "      <td>11.0</td>\n",
       "      <td>27.0</td>\n",
       "      <td>35.0</td>\n",
       "      <td>20.0</td>\n",
       "      <td>20.0</td>\n",
       "      <td>20.0</td>\n",
       "      <td>...</td>\n",
       "      <td>15.0</td>\n",
       "      <td>0.0</td>\n",
       "      <td>7.0</td>\n",
       "      <td>0.0</td>\n",
       "      <td>44.200000</td>\n",
       "      <td>7.900000</td>\n",
       "      <td>16.500000</td>\n",
       "      <td>16.900000</td>\n",
       "      <td>4.500000</td>\n",
       "      <td>9.900000</td>\n",
       "    </tr>\n",
       "    <tr>\n",
       "      <th>...</th>\n",
       "      <td>...</td>\n",
       "      <td>...</td>\n",
       "      <td>...</td>\n",
       "      <td>...</td>\n",
       "      <td>...</td>\n",
       "      <td>...</td>\n",
       "      <td>...</td>\n",
       "      <td>...</td>\n",
       "      <td>...</td>\n",
       "      <td>...</td>\n",
       "      <td>...</td>\n",
       "      <td>...</td>\n",
       "      <td>...</td>\n",
       "      <td>...</td>\n",
       "      <td>...</td>\n",
       "      <td>...</td>\n",
       "      <td>...</td>\n",
       "      <td>...</td>\n",
       "      <td>...</td>\n",
       "      <td>...</td>\n",
       "      <td>...</td>\n",
       "    </tr>\n",
       "    <tr>\n",
       "      <th>548.0</th>\n",
       "      <td>1.0</td>\n",
       "      <td>21.0</td>\n",
       "      <td>21.0</td>\n",
       "      <td>13.0</td>\n",
       "      <td>509.0</td>\n",
       "      <td>28.0</td>\n",
       "      <td>10.0</td>\n",
       "      <td>20.0</td>\n",
       "      <td>30.0</td>\n",
       "      <td>10.0</td>\n",
       "      <td>...</td>\n",
       "      <td>20.0</td>\n",
       "      <td>1.0</td>\n",
       "      <td>6.0</td>\n",
       "      <td>1.0</td>\n",
       "      <td>21.727273</td>\n",
       "      <td>18.181818</td>\n",
       "      <td>21.272727</td>\n",
       "      <td>16.681818</td>\n",
       "      <td>8.636364</td>\n",
       "      <td>13.363636</td>\n",
       "    </tr>\n",
       "    <tr>\n",
       "      <th>549.0</th>\n",
       "      <td>1.0</td>\n",
       "      <td>21.0</td>\n",
       "      <td>21.0</td>\n",
       "      <td>15.0</td>\n",
       "      <td>509.0</td>\n",
       "      <td>28.0</td>\n",
       "      <td>10.0</td>\n",
       "      <td>20.0</td>\n",
       "      <td>30.0</td>\n",
       "      <td>10.0</td>\n",
       "      <td>...</td>\n",
       "      <td>20.0</td>\n",
       "      <td>0.0</td>\n",
       "      <td>3.0</td>\n",
       "      <td>0.0</td>\n",
       "      <td>21.727273</td>\n",
       "      <td>18.181818</td>\n",
       "      <td>21.272727</td>\n",
       "      <td>16.681818</td>\n",
       "      <td>8.636364</td>\n",
       "      <td>13.818182</td>\n",
       "    </tr>\n",
       "    <tr>\n",
       "      <th>550.0</th>\n",
       "      <td>1.0</td>\n",
       "      <td>21.0</td>\n",
       "      <td>21.0</td>\n",
       "      <td>2.0</td>\n",
       "      <td>509.0</td>\n",
       "      <td>28.0</td>\n",
       "      <td>10.0</td>\n",
       "      <td>20.0</td>\n",
       "      <td>30.0</td>\n",
       "      <td>10.0</td>\n",
       "      <td>...</td>\n",
       "      <td>4.0</td>\n",
       "      <td>0.0</td>\n",
       "      <td>5.0</td>\n",
       "      <td>0.0</td>\n",
       "      <td>21.727273</td>\n",
       "      <td>18.181818</td>\n",
       "      <td>21.272727</td>\n",
       "      <td>16.681818</td>\n",
       "      <td>8.636364</td>\n",
       "      <td>13.909091</td>\n",
       "    </tr>\n",
       "    <tr>\n",
       "      <th>551.0</th>\n",
       "      <td>1.0</td>\n",
       "      <td>21.0</td>\n",
       "      <td>21.0</td>\n",
       "      <td>1.0</td>\n",
       "      <td>509.0</td>\n",
       "      <td>28.0</td>\n",
       "      <td>10.0</td>\n",
       "      <td>20.0</td>\n",
       "      <td>30.0</td>\n",
       "      <td>10.0</td>\n",
       "      <td>...</td>\n",
       "      <td>0.0</td>\n",
       "      <td>1.0</td>\n",
       "      <td>7.0</td>\n",
       "      <td>0.0</td>\n",
       "      <td>21.727273</td>\n",
       "      <td>18.181818</td>\n",
       "      <td>21.272727</td>\n",
       "      <td>16.681818</td>\n",
       "      <td>8.636364</td>\n",
       "      <td>13.500000</td>\n",
       "    </tr>\n",
       "    <tr>\n",
       "      <th>552.0</th>\n",
       "      <td>1.0</td>\n",
       "      <td>21.0</td>\n",
       "      <td>21.0</td>\n",
       "      <td>12.0</td>\n",
       "      <td>509.0</td>\n",
       "      <td>28.0</td>\n",
       "      <td>10.0</td>\n",
       "      <td>20.0</td>\n",
       "      <td>30.0</td>\n",
       "      <td>10.0</td>\n",
       "      <td>...</td>\n",
       "      <td>0.0</td>\n",
       "      <td>1.0</td>\n",
       "      <td>8.0</td>\n",
       "      <td>1.0</td>\n",
       "      <td>21.727273</td>\n",
       "      <td>18.181818</td>\n",
       "      <td>21.272727</td>\n",
       "      <td>16.681818</td>\n",
       "      <td>8.636364</td>\n",
       "      <td>13.409091</td>\n",
       "    </tr>\n",
       "  </tbody>\n",
       "</table>\n",
       "<p>551 rows × 48 columns</p>\n",
       "</div>"
      ],
      "text/plain": [
       "       gender  wave  position  order    pid  age_o  pf_o_att  pf_o_sin  \\\n",
       "iid                                                                      \n",
       "1.0       0.0   1.0       7.0    4.0   11.0   27.0      35.0      20.0   \n",
       "2.0       0.0   1.0       3.0   10.0   11.0   27.0      35.0      20.0   \n",
       "3.0       0.0   1.0       9.0    6.0   11.0   27.0      35.0      20.0   \n",
       "4.0       0.0   1.0       6.0    3.0   11.0   27.0      35.0      20.0   \n",
       "5.0       0.0   1.0       4.0    1.0   11.0   27.0      35.0      20.0   \n",
       "...       ...   ...       ...    ...    ...    ...       ...       ...   \n",
       "548.0     1.0  21.0      21.0   13.0  509.0   28.0      10.0      20.0   \n",
       "549.0     1.0  21.0      21.0   15.0  509.0   28.0      10.0      20.0   \n",
       "550.0     1.0  21.0      21.0    2.0  509.0   28.0      10.0      20.0   \n",
       "551.0     1.0  21.0      21.0    1.0  509.0   28.0      10.0      20.0   \n",
       "552.0     1.0  21.0      21.0   12.0  509.0   28.0      10.0      20.0   \n",
       "\n",
       "       pf_o_int  pf_o_fun  ...  shar1_1  dec  like  match  \\\n",
       "iid                        ...                              \n",
       "1.0        20.0      20.0  ...     15.0  1.0   7.0    0.0   \n",
       "2.0        20.0      20.0  ...      5.0  0.0   6.0    0.0   \n",
       "3.0        20.0      20.0  ...      0.0  0.0   8.0    0.0   \n",
       "4.0        20.0      20.0  ...     10.0  0.0   6.0    0.0   \n",
       "5.0        20.0      20.0  ...     15.0  0.0   7.0    0.0   \n",
       "...         ...       ...  ...      ...  ...   ...    ...   \n",
       "548.0      30.0      10.0  ...     20.0  1.0   6.0    1.0   \n",
       "549.0      30.0      10.0  ...     20.0  0.0   3.0    0.0   \n",
       "550.0      30.0      10.0  ...      4.0  0.0   5.0    0.0   \n",
       "551.0      30.0      10.0  ...      0.0  1.0   7.0    0.0   \n",
       "552.0      30.0      10.0  ...      0.0  1.0   8.0    1.0   \n",
       "\n",
       "       subject_attractiveness_mean  subject_sincerity_mean  \\\n",
       "iid                                                          \n",
       "1.0                      44.200000                7.900000   \n",
       "2.0                      44.200000                7.900000   \n",
       "3.0                      44.200000                7.900000   \n",
       "4.0                      44.200000                7.900000   \n",
       "5.0                      44.200000                7.900000   \n",
       "...                            ...                     ...   \n",
       "548.0                    21.727273               18.181818   \n",
       "549.0                    21.727273               18.181818   \n",
       "550.0                    21.727273               18.181818   \n",
       "551.0                    21.727273               18.181818   \n",
       "552.0                    21.727273               18.181818   \n",
       "\n",
       "       subject_intelligence_mean  subject_fun_mean  subject_ambition_mean  \\\n",
       "iid                                                                         \n",
       "1.0                    16.500000         16.900000               4.500000   \n",
       "2.0                    16.500000         16.900000               4.500000   \n",
       "3.0                    16.500000         16.900000               4.500000   \n",
       "4.0                    16.500000         16.900000               4.500000   \n",
       "5.0                    16.500000         16.900000               4.500000   \n",
       "...                          ...               ...                    ...   \n",
       "548.0                  21.272727         16.681818               8.636364   \n",
       "549.0                  21.272727         16.681818               8.636364   \n",
       "550.0                  21.272727         16.681818               8.636364   \n",
       "551.0                  21.272727         16.681818               8.636364   \n",
       "552.0                  21.272727         16.681818               8.636364   \n",
       "\n",
       "       subject_shared_interest_mean  \n",
       "iid                                  \n",
       "1.0                        9.900000  \n",
       "2.0                        9.900000  \n",
       "3.0                        9.900000  \n",
       "4.0                        9.900000  \n",
       "5.0                        9.900000  \n",
       "...                             ...  \n",
       "548.0                     13.363636  \n",
       "549.0                     13.818182  \n",
       "550.0                     13.909091  \n",
       "551.0                     13.500000  \n",
       "552.0                     13.409091  \n",
       "\n",
       "[551 rows x 48 columns]"
      ]
     },
     "execution_count": 19,
     "metadata": {},
     "output_type": "execute_result"
    }
   ],
   "source": [
    "data.drop_duplicates(subset='iid').set_index('iid')"
   ]
  },
  {
   "cell_type": "code",
   "execution_count": 20,
   "metadata": {},
   "outputs": [],
   "source": [
    "data['field_o_cd'] = data.drop_duplicates(subset='iid').set_index('iid').loc[np.array(data['pid'])]['field_cd'].values\n",
    "data = data.astype({'field_o_cd': 'category'})"
   ]
  },
  {
   "cell_type": "code",
   "execution_count": 21,
   "metadata": {
    "scrolled": false
   },
   "outputs": [
    {
     "data": {
      "text/html": [
       "<div>\n",
       "<style scoped>\n",
       "    .dataframe tbody tr th:only-of-type {\n",
       "        vertical-align: middle;\n",
       "    }\n",
       "\n",
       "    .dataframe tbody tr th {\n",
       "        vertical-align: top;\n",
       "    }\n",
       "\n",
       "    .dataframe thead th {\n",
       "        text-align: right;\n",
       "    }\n",
       "</style>\n",
       "<table border=\"1\" class=\"dataframe\">\n",
       "  <thead>\n",
       "    <tr style=\"text-align: right;\">\n",
       "      <th></th>\n",
       "      <th>field_cd</th>\n",
       "      <th>field_o_cd</th>\n",
       "    </tr>\n",
       "  </thead>\n",
       "  <tbody>\n",
       "    <tr>\n",
       "      <th>8373</th>\n",
       "      <td>8.0</td>\n",
       "      <td>2.0</td>\n",
       "    </tr>\n",
       "    <tr>\n",
       "      <th>8374</th>\n",
       "      <td>8.0</td>\n",
       "      <td>2.0</td>\n",
       "    </tr>\n",
       "    <tr>\n",
       "      <th>8375</th>\n",
       "      <td>8.0</td>\n",
       "      <td>2.0</td>\n",
       "    </tr>\n",
       "    <tr>\n",
       "      <th>8376</th>\n",
       "      <td>8.0</td>\n",
       "      <td>4.0</td>\n",
       "    </tr>\n",
       "    <tr>\n",
       "      <th>8377</th>\n",
       "      <td>8.0</td>\n",
       "      <td>4.0</td>\n",
       "    </tr>\n",
       "  </tbody>\n",
       "</table>\n",
       "</div>"
      ],
      "text/plain": [
       "      field_cd field_o_cd\n",
       "8373       8.0        2.0\n",
       "8374       8.0        2.0\n",
       "8375       8.0        2.0\n",
       "8376       8.0        4.0\n",
       "8377       8.0        4.0"
      ]
     },
     "execution_count": 21,
     "metadata": {},
     "output_type": "execute_result"
    }
   ],
   "source": [
    "data[['field_cd', 'field_o_cd']].tail(5)"
   ]
  },
  {
   "cell_type": "markdown",
   "metadata": {},
   "source": [
    "# 상대방 goal 추가"
   ]
  },
  {
   "cell_type": "code",
   "execution_count": 22,
   "metadata": {},
   "outputs": [],
   "source": [
    "data['goal_o'] = data.drop_duplicates(subset='iid').set_index('iid').loc[np.array(data['pid'])]['goal'].values\n",
    "data = data.astype({'goal_o': 'category'})"
   ]
  },
  {
   "cell_type": "code",
   "execution_count": 23,
   "metadata": {},
   "outputs": [],
   "source": [
    "data = data.drop(index=data[data['goal'] == 0.0].index)\n",
    "data = data.drop(index=data[data['goal_o'] == 0.0].index)"
   ]
  },
  {
   "cell_type": "code",
   "execution_count": 24,
   "metadata": {},
   "outputs": [],
   "source": [
    "data = data.astype({feature: datatype if all(data[feature].notna().values) else 'float32' if datatype == 'int16' else datatype for (feature, datatype) in relevant_features})\n",
    "\n",
    "features_nominal = data.dtypes[data.dtypes == 'category'].index.values\n",
    "data = pd.get_dummies(data, prefix=features_nominal)\n"
   ]
  },
  {
   "cell_type": "code",
   "execution_count": 25,
   "metadata": {},
   "outputs": [
    {
     "data": {
      "text/plain": [
       "Index(['iid', 'gender', 'wave', 'position', 'order', 'pid', 'age_o',\n",
       "       'pf_o_att', 'pf_o_sin', 'pf_o_int', 'pf_o_fun', 'pf_o_amb', 'pf_o_sha',\n",
       "       'dec_o', 'age', 'date', 'go_out', 'sports', 'exercise', 'dining',\n",
       "       'museums', 'art', 'hiking', 'reading', 'tv', 'theater', 'movies',\n",
       "       'concerts', 'music', 'shopping', 'exphappy', 'attr1_1', 'sinc1_1',\n",
       "       'intel1_1', 'fun1_1', 'amb1_1', 'shar1_1', 'dec', 'like', 'match',\n",
       "       'subject_attractiveness_mean', 'subject_sincerity_mean',\n",
       "       'subject_intelligence_mean', 'subject_fun_mean',\n",
       "       'subject_ambition_mean', 'subject_shared_interest_mean', 'field_cd_1.0',\n",
       "       'field_cd_2.0', 'field_cd_3.0', 'field_cd_4.0', 'field_cd_5.0',\n",
       "       'field_cd_6.0', 'field_cd_7.0', 'field_cd_8.0', 'goal_1.0', 'goal_2.0',\n",
       "       'goal_3.0', 'goal_4.0', 'goal_5.0', 'goal_6.0', 'career_c_0.0',\n",
       "       'career_c_1.0', 'career_c_2.0', 'career_c_3.0', 'career_c_4.0',\n",
       "       'career_c_5.0', 'career_c_6.0', 'career_c_7.0', 'career_c_8.0',\n",
       "       'career_c_9.0', 'career_c_10.0', 'career_c_11.0', 'career_c_12.0',\n",
       "       'career_c_13.0', 'career_c_14.0', 'career_c_15.0', 'career_c_16.0',\n",
       "       'career_c_17.0', 'field_o_cd_1.0', 'field_o_cd_2.0', 'field_o_cd_3.0',\n",
       "       'field_o_cd_4.0', 'field_o_cd_5.0', 'field_o_cd_6.0', 'field_o_cd_7.0',\n",
       "       'field_o_cd_8.0', 'goal_o_1.0', 'goal_o_2.0', 'goal_o_3.0',\n",
       "       'goal_o_4.0', 'goal_o_5.0', 'goal_o_6.0'],\n",
       "      dtype='object')"
      ]
     },
     "execution_count": 25,
     "metadata": {},
     "output_type": "execute_result"
    }
   ],
   "source": [
    "data.columns"
   ]
  },
  {
   "cell_type": "markdown",
   "metadata": {},
   "source": [
    "# 나이 차이"
   ]
  },
  {
   "cell_type": "code",
   "execution_count": 26,
   "metadata": {},
   "outputs": [],
   "source": [
    "data['age_difference'] = abs(data['age'] - data['age_o'])"
   ]
  },
  {
   "cell_type": "markdown",
   "metadata": {},
   "source": [
    "# 가치관 차이"
   ]
  },
  {
   "cell_type": "code",
   "execution_count": 27,
   "metadata": {},
   "outputs": [],
   "source": [
    "data['attractiveness_difference'] = abs(data['attr1_1'] - data['pf_o_att'])\n",
    "data['sincerity_difference'] = abs(data['sinc1_1'] - data['pf_o_sin'])\n",
    "data['intelligence_difference'] = abs(data['intel1_1'] - data['pf_o_int'])\n",
    "data['fun_difference'] = abs(data['fun1_1'] - data['pf_o_fun'])\n",
    "data['ambition_difference'] = abs(data['amb1_1'] - data['pf_o_amb'])\n",
    "data['shared_interest_difference'] = abs(data['shar1_1'] - data['pf_o_sha'])"
   ]
  },
  {
   "cell_type": "markdown",
   "metadata": {},
   "source": [
    "# 불필요한 columns 제거"
   ]
  },
  {
   "cell_type": "code",
   "execution_count": 28,
   "metadata": {},
   "outputs": [],
   "source": [
    "features_no_information = [\n",
    "    'iid',\n",
    "    'pid',\n",
    "    'wave',\n",
    "    'position',\n",
    "    'order',\n",
    "    'age_o'\n",
    "]\n",
    "\n",
    "features_future_information = [\n",
    "    'dec',\n",
    "    'dec_o',\n",
    "    'match',\n",
    "    'like'\n",
    "]\n",
    "features_unwanted = [\n",
    "     'date', 'go_out', 'exphappy'\n",
    "]\n",
    "career_cols = ['career_c_0.0', 'career_c_1.0', 'career_c_2.0', 'career_c_3.0', 'career_c_4.0',\n",
    "              'career_c_5.0',  'career_c_6.0', 'career_c_7.0', 'career_c_8.0',\n",
    "               'career_c_9.0', 'career_c_10.0', 'career_c_11.0',\n",
    "              'career_c_12.0', 'career_c_13.0', 'career_c_14.0', \n",
    "              'career_c_15.0', 'career_c_16.0', 'career_c_17.0',]\n"
   ]
  },
  {
   "cell_type": "code",
   "execution_count": 29,
   "metadata": {},
   "outputs": [],
   "source": [
    "features_remove = features_no_information+features_future_information+features_unwanted+career_cols\n",
    "data_model = data.drop(columns=features_remove)\n"
   ]
  },
  {
   "cell_type": "code",
   "execution_count": 30,
   "metadata": {},
   "outputs": [
    {
     "name": "stdout",
     "output_type": "stream",
     "text": [
      "Index(['gender', 'pf_o_att', 'pf_o_sin', 'pf_o_int', 'pf_o_fun', 'pf_o_amb',\n",
      "       'pf_o_sha', 'age', 'sports', 'exercise', 'dining', 'museums', 'art',\n",
      "       'hiking', 'reading', 'tv', 'theater', 'movies', 'concerts', 'music',\n",
      "       'shopping', 'attr1_1', 'sinc1_1', 'intel1_1', 'fun1_1', 'amb1_1',\n",
      "       'shar1_1', 'subject_attractiveness_mean', 'subject_sincerity_mean',\n",
      "       'subject_intelligence_mean', 'subject_fun_mean',\n",
      "       'subject_ambition_mean', 'subject_shared_interest_mean', 'field_cd_1.0',\n",
      "       'field_cd_2.0', 'field_cd_3.0', 'field_cd_4.0', 'field_cd_5.0',\n",
      "       'field_cd_6.0', 'field_cd_7.0', 'field_cd_8.0', 'goal_1.0', 'goal_2.0',\n",
      "       'goal_3.0', 'goal_4.0', 'goal_5.0', 'goal_6.0', 'field_o_cd_1.0',\n",
      "       'field_o_cd_2.0', 'field_o_cd_3.0', 'field_o_cd_4.0', 'field_o_cd_5.0',\n",
      "       'field_o_cd_6.0', 'field_o_cd_7.0', 'field_o_cd_8.0', 'goal_o_1.0',\n",
      "       'goal_o_2.0', 'goal_o_3.0', 'goal_o_4.0', 'goal_o_5.0', 'goal_o_6.0',\n",
      "       'age_difference', 'attractiveness_difference', 'sincerity_difference',\n",
      "       'intelligence_difference', 'fun_difference', 'ambition_difference',\n",
      "       'shared_interest_difference'],\n",
      "      dtype='object')\n",
      "(8374, 68)\n"
     ]
    }
   ],
   "source": [
    "print(data_model.columns)\n",
    "print(data_model.shape)"
   ]
  },
  {
   "cell_type": "code",
   "execution_count": 31,
   "metadata": {},
   "outputs": [],
   "source": [
    "data_model = data_model.drop(columns=['field_cd_8.0', 'field_o_cd_8.0'])"
   ]
  },
  {
   "cell_type": "code",
   "execution_count": 32,
   "metadata": {},
   "outputs": [
    {
     "data": {
      "text/plain": [
       "Index(['gender', 'pf_o_att', 'pf_o_sin', 'pf_o_int', 'pf_o_fun', 'pf_o_amb',\n",
       "       'pf_o_sha', 'age', 'sports', 'exercise', 'dining', 'museums', 'art',\n",
       "       'hiking', 'reading', 'tv', 'theater', 'movies', 'concerts', 'music',\n",
       "       'shopping', 'attr1_1', 'sinc1_1', 'intel1_1', 'fun1_1', 'amb1_1',\n",
       "       'shar1_1', 'subject_attractiveness_mean', 'subject_sincerity_mean',\n",
       "       'subject_intelligence_mean', 'subject_fun_mean',\n",
       "       'subject_ambition_mean', 'subject_shared_interest_mean', 'field_cd_1.0',\n",
       "       'field_cd_2.0', 'field_cd_3.0', 'field_cd_4.0', 'field_cd_5.0',\n",
       "       'field_cd_6.0', 'field_cd_7.0', 'goal_1.0', 'goal_2.0', 'goal_3.0',\n",
       "       'goal_4.0', 'goal_5.0', 'goal_6.0', 'field_o_cd_1.0', 'field_o_cd_2.0',\n",
       "       'field_o_cd_3.0', 'field_o_cd_4.0', 'field_o_cd_5.0', 'field_o_cd_6.0',\n",
       "       'field_o_cd_7.0', 'goal_o_1.0', 'goal_o_2.0', 'goal_o_3.0',\n",
       "       'goal_o_4.0', 'goal_o_5.0', 'goal_o_6.0', 'age_difference',\n",
       "       'attractiveness_difference', 'sincerity_difference',\n",
       "       'intelligence_difference', 'fun_difference', 'ambition_difference',\n",
       "       'shared_interest_difference'],\n",
       "      dtype='object')"
      ]
     },
     "execution_count": 32,
     "metadata": {},
     "output_type": "execute_result"
    }
   ],
   "source": [
    "data_model.columns"
   ]
  },
  {
   "cell_type": "markdown",
   "metadata": {},
   "source": [
    "# 상대방 관심사 추가하기"
   ]
  },
  {
   "cell_type": "code",
   "execution_count": 33,
   "metadata": {},
   "outputs": [],
   "source": [
    "# 반복문\n",
    "iid_list = list(data['iid'].values)\n",
    "pid_list = list(data['pid'].values)\n",
    "\n",
    "tuple_list = []\n",
    "for i in range(len(iid_list)):\n",
    "    tuple_list.append((iid_list[i], pid_list[i]))"
   ]
  },
  {
   "cell_type": "code",
   "execution_count": 34,
   "metadata": {},
   "outputs": [],
   "source": [
    "interest_all = ['exercise', 'hiking', 'sports', 'art', 'museums', 'reading', 'shopping', \n",
    "           'dining', 'theater', 'concerts', 'movies', 'tv', 'music']\n"
   ]
  },
  {
   "cell_type": "code",
   "execution_count": 35,
   "metadata": {},
   "outputs": [],
   "source": [
    "interest_diff = [[0]*8378] * len(interest_all)\n",
    "\n",
    "for e in range(len(interest_all)):\n",
    "    for i, (iid, pid) in enumerate(tuple_list):\n",
    "        interest_diff[e][i] = (data_model.iloc[i])[interest_all[e]] - test_data.loc[pid][interest_all[e]]\n",
    "\n",
    "interest_series = [0]* len(interest_all)\n",
    "for i in range(len(interest_series)):\n",
    "    col_name = interest_all[i] + \"_diff\"\n",
    "    temp_series = pd.Series(interest_diff[i])\n",
    "    data_model[col_name] = temp_series"
   ]
  },
  {
   "cell_type": "code",
   "execution_count": 36,
   "metadata": {},
   "outputs": [
    {
     "name": "stdout",
     "output_type": "stream",
     "text": [
      "['subject_attractiveness_mean', 'subject_sincerity_mean', 'subject_intelligence_mean', 'subject_fun_mean', 'subject_ambition_mean', 'subject_shared_interest_mean', 'age_difference', 'attractiveness_difference', 'sincerity_difference', 'intelligence_difference', 'fun_difference', 'ambition_difference', 'shared_interest_difference', 'exercise_diff', 'hiking_diff', 'sports_diff', 'art_diff', 'museums_diff', 'reading_diff', 'shopping_diff', 'dining_diff', 'theater_diff', 'concerts_diff', 'movies_diff', 'tv_diff', 'music_diff']\n"
     ]
    }
   ],
   "source": [
    "features_normal = [i for i in list(data_model.columns) if \"diff\" in i or \"mean\" in i]\n",
    "print(features_normal)\n",
    "\n",
    "data_model[features_normal] = data_model[features_normal].apply(lambda x: preprocessing.scale(x))"
   ]
  },
  {
   "cell_type": "code",
   "execution_count": null,
   "metadata": {
    "scrolled": true
   },
   "outputs": [],
   "source": []
  },
  {
   "cell_type": "code",
   "execution_count": 37,
   "metadata": {},
   "outputs": [],
   "source": [
    "col_list = [\n",
    "    'gender',\n",
    "    'age',\n",
    "    'attr1_1',\n",
    "    'sinc1_1',\n",
    "    'intel1_1',\n",
    "    'fun1_1',\n",
    "    'amb1_1',\n",
    "    'shar1_1',\n",
    "    \n",
    "    'pf_o_att',\n",
    "    'pf_o_sin',\n",
    "    'pf_o_int',\n",
    "    'pf_o_fun',\n",
    "    'pf_o_amb',\n",
    "    'pf_o_sha',\n",
    "    \n",
    "     'exercise',\n",
    "     'hiking',\n",
    "     'sports',\n",
    "     'art',\n",
    "     'museums',\n",
    "    'reading',\n",
    "    'shopping',\n",
    "    'dining',\n",
    "    'theater',\n",
    "    'concerts',\n",
    "    'movies',\n",
    "    'tv',\n",
    "    'music',\n",
    "    'age_difference',\n",
    "    \n",
    " 'attractiveness_difference',\n",
    " 'sincerity_difference',\n",
    " 'intelligence_difference',\n",
    " 'fun_difference',\n",
    " 'ambition_difference',\n",
    " 'shared_interest_difference',\n",
    "    \n",
    "     'exercise_diff',\n",
    "     'hiking_diff',\n",
    "     'sports_diff',\n",
    "     'art_diff',\n",
    "     'museums_diff',\n",
    "    'reading_diff',\n",
    "    'shopping_diff',\n",
    "    'dining_diff',\n",
    "    'theater_diff',\n",
    "    'concerts_diff',\n",
    "    'movies_diff',\n",
    "    'tv_diff',\n",
    "    'music_diff',\n",
    "    \n",
    " 'field_cd_1.0',\n",
    " 'field_cd_2.0',\n",
    " 'field_cd_3.0',\n",
    " 'field_cd_4.0',\n",
    " 'field_cd_5.0',\n",
    " 'field_cd_6.0',\n",
    " 'field_cd_7.0',\n",
    "    \n",
    " 'goal_1.0',\n",
    " 'goal_2.0',\n",
    " 'goal_3.0',\n",
    " 'goal_4.0',\n",
    " 'goal_5.0',\n",
    " 'goal_6.0',\n",
    " 'goal_o_1.0',\n",
    " 'goal_o_2.0',\n",
    " 'goal_o_3.0',\n",
    " 'goal_o_4.0',\n",
    " 'goal_o_5.0',\n",
    " 'goal_o_6.0',\n",
    "    \n",
    " 'field_o_cd_1.0',\n",
    " 'field_o_cd_2.0',\n",
    " 'field_o_cd_3.0',\n",
    " 'field_o_cd_4.0',\n",
    " 'field_o_cd_5.0',\n",
    " 'field_o_cd_6.0',\n",
    " 'field_o_cd_7.0',\n",
    "    \n",
    " 'subject_attractiveness_mean',\n",
    " 'subject_sincerity_mean',\n",
    " 'subject_intelligence_mean',\n",
    " 'subject_fun_mean',\n",
    " 'subject_ambition_mean',\n",
    " 'subject_shared_interest_mean',\n",
    " ]"
   ]
  },
  {
   "cell_type": "code",
   "execution_count": 38,
   "metadata": {},
   "outputs": [],
   "source": [
    "data_model = data_model[col_list]"
   ]
  },
  {
   "cell_type": "code",
   "execution_count": 40,
   "metadata": {},
   "outputs": [
    {
     "data": {
      "text/plain": [
       "(8374, 79)"
      ]
     },
     "execution_count": 40,
     "metadata": {},
     "output_type": "execute_result"
    }
   ],
   "source": [
    "data_model.shape"
   ]
  },
  {
   "cell_type": "code",
   "execution_count": 71,
   "metadata": {},
   "outputs": [],
   "source": [
    "import pickle\n",
    "# X dumping\n",
    "with open(\"./train_x.pickle\", \"wb\") as f:\n",
    "    pickle.dump(data_model, f)\n",
    "\n",
    "# y dumping\n",
    "with open(\"./train_y.pickle\", \"wb\") as f:\n",
    "    pickle.dump(data['dec'], f)"
   ]
  },
  {
   "cell_type": "markdown",
   "metadata": {},
   "source": [
    "# Modeling"
   ]
  },
  {
   "cell_type": "code",
   "execution_count": 72,
   "metadata": {},
   "outputs": [
    {
     "data": {
      "text/plain": [
       "False    6995\n",
       "True     1379\n",
       "Name: match, dtype: int64"
      ]
     },
     "execution_count": 72,
     "metadata": {},
     "output_type": "execute_result"
    }
   ],
   "source": [
    "data['match'].value_counts() # 상대방이 나를 좋아할 여부"
   ]
  },
  {
   "cell_type": "code",
   "execution_count": 73,
   "metadata": {},
   "outputs": [],
   "source": [
    "features = data_model  # X\n",
    "target = data['match'] # Y   나와 상대방 모두 좋아하는지 여부"
   ]
  },
  {
   "cell_type": "code",
   "execution_count": 74,
   "metadata": {},
   "outputs": [
    {
     "name": "stdout",
     "output_type": "stream",
     "text": [
      "Fitting 5 folds for each of 20 candidates, totalling 100 fits\n"
     ]
    },
    {
     "name": "stderr",
     "output_type": "stream",
     "text": [
      "[Parallel(n_jobs=-1)]: Using backend LokyBackend with 8 concurrent workers.\n",
      "[Parallel(n_jobs=-1)]: Done  34 tasks      | elapsed:    6.5s\n",
      "[Parallel(n_jobs=-1)]: Done 100 out of 100 | elapsed:   41.1s finished\n"
     ]
    },
    {
     "data": {
      "text/plain": [
       "{'C': 0.0001, 'max_iter': 100000, 'penalty': 'l2', 'solver': 'lbfgs'}"
      ]
     },
     "execution_count": 74,
     "metadata": {},
     "output_type": "execute_result"
    }
   ],
   "source": [
    "parameters = {\n",
    "    'penalty': ['l2'],\n",
    "    'solver': ['lbfgs'],\n",
    "    'C': np.logspace(-4, 4, 20),\n",
    "    'max_iter': [100000]\n",
    "}\n",
    "classifier_lr = LogisticRegression(random_state=0)  \n",
    "classifier_lr = GridSearchCV( \n",
    "    estimator=classifier_lr,\n",
    "    param_grid=parameters,\n",
    "    cv=5,\n",
    "    verbose=2,\n",
    "    n_jobs=-1\n",
    ")\n",
    "classifier_lr.fit(features, target)\n",
    "classifier_lr.best_params_"
   ]
  },
  {
   "cell_type": "code",
   "execution_count": 75,
   "metadata": {},
   "outputs": [],
   "source": [
    "classifier_lr = LogisticRegression(\n",
    "    random_state=0,\n",
    "    penalty=classifier_lr.best_params_['penalty'],\n",
    "    solver=classifier_lr.best_params_['solver'],\n",
    "    C=classifier_lr.best_params_['C'],\n",
    "    max_iter=classifier_lr.best_params_['max_iter']\n",
    ")"
   ]
  },
  {
   "cell_type": "code",
   "execution_count": 51,
   "metadata": {},
   "outputs": [],
   "source": [
    "# parameters = {\n",
    "#     'kernel': ['rbf'],\n",
    "#     'gamma': [1e-4, 1e-3, 1e-2],\n",
    "#     'C': [1, 10, 100]\n",
    "# }\n",
    "# classifier_sv = SVC(random_state=0)\n",
    "# classifier_sv = GridSearchCV(\n",
    "#     estimator=classifier_sv,\n",
    "#     param_grid=parameters,\n",
    "#     cv=5,\n",
    "#     verbose=2,\n",
    "#     n_jobs=-1\n",
    "# )\n",
    "# classifier_sv.fit(features, target)\n",
    "# classifier_sv.best_params_"
   ]
  },
  {
   "cell_type": "code",
   "execution_count": 56,
   "metadata": {},
   "outputs": [
    {
     "name": "stdout",
     "output_type": "stream",
     "text": [
      "Fitting 5 folds for each of 24 candidates, totalling 120 fits\n"
     ]
    },
    {
     "name": "stderr",
     "output_type": "stream",
     "text": [
      "[Parallel(n_jobs=-1)]: Using backend LokyBackend with 8 concurrent workers.\n",
      "[Parallel(n_jobs=-1)]: Done  25 tasks      | elapsed:    8.6s\n",
      "[Parallel(n_jobs=-1)]: Done 120 out of 120 | elapsed:   33.5s finished\n"
     ]
    },
    {
     "data": {
      "text/plain": [
       "{'metric': 'manhattan', 'n_neighbors': 29, 'weights': 'distance'}"
      ]
     },
     "execution_count": 56,
     "metadata": {},
     "output_type": "execute_result"
    }
   ],
   "source": [
    "parameters = {\n",
    "    'n_neighbors': [5,11,19,29],\n",
    "    'weights': ['uniform', 'distance'],\n",
    "    'metric': ['minkowski', 'euclidean', 'manhattan']\n",
    "}\n",
    "classifier_kn = KNeighborsClassifier()\n",
    "classifier_kn = GridSearchCV(\n",
    "    estimator=classifier_kn,\n",
    "    param_grid=parameters,\n",
    "    cv=5,\n",
    "    verbose=2,\n",
    "    n_jobs=-1\n",
    ")\n",
    "classifier_kn.fit(features, target)\n",
    "classifier_kn.best_params_"
   ]
  },
  {
   "cell_type": "code",
   "execution_count": 58,
   "metadata": {},
   "outputs": [
    {
     "ename": "AttributeError",
     "evalue": "'KNeighborsClassifier' object has no attribute 'best_params_'",
     "output_type": "error",
     "traceback": [
      "\u001b[1;31m---------------------------------------------------------------------------\u001b[0m",
      "\u001b[1;31mAttributeError\u001b[0m                            Traceback (most recent call last)",
      "\u001b[1;32m<ipython-input-58-0d46abf6ed88>\u001b[0m in \u001b[0;36m<module>\u001b[1;34m\u001b[0m\n\u001b[0;32m      1\u001b[0m classifier_kn = KNeighborsClassifier(\n\u001b[1;32m----> 2\u001b[1;33m     \u001b[0mn_neighbors\u001b[0m\u001b[1;33m=\u001b[0m\u001b[0mclassifier_kn\u001b[0m\u001b[1;33m.\u001b[0m\u001b[0mbest_params_\u001b[0m\u001b[1;33m[\u001b[0m\u001b[1;34m'n_neighbors'\u001b[0m\u001b[1;33m]\u001b[0m\u001b[1;33m,\u001b[0m\u001b[1;33m\u001b[0m\u001b[1;33m\u001b[0m\u001b[0m\n\u001b[0m\u001b[0;32m      3\u001b[0m     \u001b[0mweights\u001b[0m\u001b[1;33m=\u001b[0m\u001b[0mclassifier_kn\u001b[0m\u001b[1;33m.\u001b[0m\u001b[0mbest_params_\u001b[0m\u001b[1;33m[\u001b[0m\u001b[1;34m'weights'\u001b[0m\u001b[1;33m]\u001b[0m\u001b[1;33m,\u001b[0m\u001b[1;33m\u001b[0m\u001b[1;33m\u001b[0m\u001b[0m\n\u001b[0;32m      4\u001b[0m     \u001b[0mmetric\u001b[0m\u001b[1;33m=\u001b[0m\u001b[0mclassifier_kn\u001b[0m\u001b[1;33m.\u001b[0m\u001b[0mbest_params_\u001b[0m\u001b[1;33m[\u001b[0m\u001b[1;34m'metric'\u001b[0m\u001b[1;33m]\u001b[0m\u001b[1;33m\u001b[0m\u001b[1;33m\u001b[0m\u001b[0m\n\u001b[0;32m      5\u001b[0m )\n",
      "\u001b[1;31mAttributeError\u001b[0m: 'KNeighborsClassifier' object has no attribute 'best_params_'"
     ]
    }
   ],
   "source": [
    "classifier_kn = KNeighborsClassifier(\n",
    "    n_neighbors=classifier_kn.best_params_['n_neighbors'],\n",
    "    weights=classifier_kn.best_params_['weights'],\n",
    "    metric=classifier_kn.best_params_['metric']\n",
    ")"
   ]
  },
  {
   "cell_type": "code",
   "execution_count": 59,
   "metadata": {},
   "outputs": [],
   "source": [
    "# parameters = {\n",
    "#     'loss': ['deviance', 'exponential'],\n",
    "#     'learning_rate': [0.05],\n",
    "#     'n_estimators': [100, 300, 500],\n",
    "#     'max_depth': [3, 4, 5, 6, 7],\n",
    "#     'max_features': ['sqrt', 'log2']\n",
    "# }\n",
    "# classifier_gb = GradientBoostingClassifier(random_state=0)\n",
    "# classifier_gb = GridSearchCV(\n",
    "#     estimator=classifier_gb,\n",
    "#     param_grid=parameters,\n",
    "#     cv=5,\n",
    "#     verbose=2,\n",
    "#     n_jobs=-1\n",
    "# )\n",
    "# classifier_gb.fit(features, target)\n",
    "# classifier_gb.best_params_"
   ]
  },
  {
   "cell_type": "code",
   "execution_count": 60,
   "metadata": {},
   "outputs": [],
   "source": [
    "# classifier_gb = GradientBoostingClassifier(\n",
    "#     random_state=0,\n",
    "#     loss=classifier_gb.best_params_['loss'],\n",
    "#     learning_rate=classifier_gb.best_params_['learning_rate'],\n",
    "#     n_estimators=classifier_gb.best_params_['n_estimators'],\n",
    "#     max_depth=classifier_gb.best_params_['max_depth'],\n",
    "#     max_features=classifier_gb.best_params_['max_features']\n",
    "# )"
   ]
  },
  {
   "cell_type": "code",
   "execution_count": 61,
   "metadata": {},
   "outputs": [],
   "source": [
    "from xgboost import XGBClassifier\n",
    "def hyper_parameter_tuning(parameters,model,c_v):\n",
    "    grid_search = GridSearchCV(model,\n",
    "                               parameters,\n",
    "                               cv = c_v,\n",
    "                               n_jobs = 10,\n",
    "                               verbose = True)\n",
    "    grid_search.fit(features,target)\n",
    "    #print(\"All Scores =\",grid_search.cv_results_)\n",
    "    print(\"Best Score =\",grid_search.best_score_)\n",
    "    print(\"Best Params =\",grid_search.best_params_)\n",
    "    return(grid_search.best_score_,grid_search.best_params_)"
   ]
  },
  {
   "cell_type": "code",
   "execution_count": 62,
   "metadata": {
    "scrolled": true
   },
   "outputs": [
    {
     "name": "stdout",
     "output_type": "stream",
     "text": [
      "Fitting 5 folds for each of 144 candidates, totalling 720 fits\n"
     ]
    },
    {
     "name": "stderr",
     "output_type": "stream",
     "text": [
      "[Parallel(n_jobs=10)]: Using backend LokyBackend with 10 concurrent workers.\n",
      "[Parallel(n_jobs=10)]: Done  30 tasks      | elapsed:    9.7s\n",
      "[Parallel(n_jobs=10)]: Done 180 tasks      | elapsed:  1.3min\n",
      "[Parallel(n_jobs=10)]: Done 430 tasks      | elapsed:  3.0min\n",
      "[Parallel(n_jobs=10)]: Done 720 out of 720 | elapsed:  5.6min finished\n",
      "C:\\Users\\User\\anaconda3\\lib\\site-packages\\xgboost\\sklearn.py:1224: UserWarning: The use of label encoder in XGBClassifier is deprecated and will be removed in a future release. To remove this warning, do the following: 1) Pass option use_label_encoder=False when constructing XGBClassifier object; and 2) Encode your labels (y) as integers starting with 0, i.e. 0, 1, 2, ..., [num_class - 1].\n",
      "  warnings.warn(label_encoder_deprecation_msg, UserWarning)\n"
     ]
    },
    {
     "name": "stdout",
     "output_type": "stream",
     "text": [
      "[22:36:04] WARNING: C:/Users/Administrator/workspace/xgboost-win64_release_1.5.1/src/learner.cc:1115: Starting in XGBoost 1.3.0, the default evaluation metric used with the objective 'binary:logistic' was changed from 'error' to 'logloss'. Explicitly set eval_metric if you'd like to restore the old behavior.\n",
      "Best Score = 0.5876510636780257\n",
      "Best Params = {'colsample_bytree': 0.7, 'gamma': 0.2, 'learning_rate': 0.01, 'max_depth': 4, 'min_child_weight': 2, 'n_estimators': 140, 'objective': 'binary:logistic', 'seed': 27, 'subsample': 0.8}\n"
     ]
    },
    {
     "data": {
      "text/plain": [
       "(0.5876510636780257,\n",
       " {'colsample_bytree': 0.7,\n",
       "  'gamma': 0.2,\n",
       "  'learning_rate': 0.01,\n",
       "  'max_depth': 4,\n",
       "  'min_child_weight': 2,\n",
       "  'n_estimators': 140,\n",
       "  'objective': 'binary:logistic',\n",
       "  'seed': 27,\n",
       "  'subsample': 0.8})"
      ]
     },
     "execution_count": 62,
     "metadata": {},
     "output_type": "execute_result"
    }
   ],
   "source": [
    "#Hyper-Parameter-Tuning for XGBClassifier.\n",
    "hyper_parameter_tuning({'learning_rate':[0.01,0.1], \n",
    "                        'n_estimators':[140,200], \n",
    "                        'max_depth':[4,5,7],\n",
    "                        'min_child_weight':[2,3,4], \n",
    "                        'gamma':[0.2], \n",
    "                        'subsample':[0.6,0.8], \n",
    "                        'colsample_bytree':[0.7,1.0],\n",
    "                        'objective':['binary:logistic'],\n",
    "                        'seed':[27]}, XGBClassifier(),5)"
   ]
  },
  {
   "cell_type": "code",
   "execution_count": null,
   "metadata": {},
   "outputs": [],
   "source": []
  },
  {
   "cell_type": "code",
   "execution_count": 56,
   "metadata": {},
   "outputs": [
    {
     "data": {
      "text/plain": [
       "(8378, 76)"
      ]
     },
     "execution_count": 56,
     "metadata": {},
     "output_type": "execute_result"
    }
   ],
   "source": [
    "features.shape"
   ]
  },
  {
   "cell_type": "markdown",
   "metadata": {},
   "source": [
    "# 모델 저장 불러오기 테스트"
   ]
  },
  {
   "cell_type": "code",
   "execution_count": 55,
   "metadata": {},
   "outputs": [],
   "source": [
    "classifier_xgb.save_model('./xgb.model')"
   ]
  },
  {
   "cell_type": "code",
   "execution_count": 66,
   "metadata": {},
   "outputs": [],
   "source": [
    "import xgboost\n",
    "from xgboost import XGBClassifier\n",
    "\n",
    "classifier_xgb = XGBClassifier(learning_rate=0.01, \n",
    "                        n_estimators=140, \n",
    "                        max_depth=4,\n",
    "                        min_child_weight=2, \n",
    "                        gamma=0.2, \n",
    "                        subsample=0.8, \n",
    "                        colsample_bytree=0.7,\n",
    "                        objective='binary:logistic')"
   ]
  },
  {
   "cell_type": "code",
   "execution_count": 62,
   "metadata": {},
   "outputs": [],
   "source": [
    "model.load_model('./xgb.model')"
   ]
  },
  {
   "cell_type": "code",
   "execution_count": 65,
   "metadata": {},
   "outputs": [
    {
     "name": "stdout",
     "output_type": "stream",
     "text": [
      "(100, 76)\n",
      "<class 'pandas.core.frame.DataFrame'>\n"
     ]
    }
   ],
   "source": [
    "test_df = features.iloc[:100]\n",
    "print(test_df.shape)\n",
    "print(type(test_df))"
   ]
  },
  {
   "cell_type": "code",
   "execution_count": 67,
   "metadata": {
    "scrolled": true
   },
   "outputs": [],
   "source": [
    "import pickle\n",
    "with open(\"./test_df.pickle\", \"wb\") as f:\n",
    "    pickle.dump(test_df, f)"
   ]
  },
  {
   "cell_type": "markdown",
   "metadata": {},
   "source": [
    "# 앙상블 보델 및 검증"
   ]
  },
  {
   "cell_type": "code",
   "execution_count": 67,
   "metadata": {},
   "outputs": [],
   "source": [
    "estimators = [\n",
    "    ('lr', classifier_lr),\n",
    "    ('kn', classifier_kn),\n",
    "    ('xgb', classifier_xgb)\n",
    "]"
   ]
  },
  {
   "cell_type": "code",
   "execution_count": 68,
   "metadata": {},
   "outputs": [],
   "source": [
    "classifier_ve = VotingClassifier(\n",
    "    estimators=estimators,\n",
    "    voting='hard'\n",
    ")"
   ]
  },
  {
   "cell_type": "markdown",
   "metadata": {},
   "source": [
    "# evaluation"
   ]
  },
  {
   "cell_type": "code",
   "execution_count": 69,
   "metadata": {
    "scrolled": true
   },
   "outputs": [
    {
     "name": "stdout",
     "output_type": "stream",
     "text": [
      "Logistic Regression\n",
      "fit_time       0.345 +/- 0.020\n",
      "score_time     0.009 +/- 0.001\n",
      "test_accuracy  0.583 +/- 0.028\n",
      "test_precision 0.520 +/- 0.063\n",
      "test_recall    0.341 +/- 0.174\n",
      "test_f1_macro  0.530 +/- 0.040\n",
      "\n",
      "\n",
      "k-Nearest Neighbours\n",
      "fit_time       0.075 +/- 0.000\n",
      "score_time     1.635 +/- 0.010\n",
      "test_accuracy  0.558 +/- 0.021\n",
      "test_precision 0.468 +/- 0.036\n",
      "test_recall    0.309 +/- 0.107\n",
      "test_f1_macro  0.509 +/- 0.013\n",
      "\n",
      "\n",
      "XGB\n",
      "fit_time       1.028 +/- 0.021\n",
      "score_time     0.016 +/- 0.000\n",
      "test_accuracy  0.586 +/- 0.014\n",
      "test_precision 0.553 +/- 0.105\n",
      "test_recall    0.229 +/- 0.200\n",
      "test_f1_macro  0.485 +/- 0.063\n",
      "\n",
      "\n",
      "Voting Ensemble\n",
      "fit_time       1.462 +/- 0.071\n",
      "score_time     1.607 +/- 0.014\n",
      "test_accuracy  0.583 +/- 0.021\n",
      "test_precision 0.537 +/- 0.098\n",
      "test_recall    0.244 +/- 0.184\n",
      "test_f1_macro  0.494 +/- 0.048\n",
      "\n",
      "\n"
     ]
    }
   ],
   "source": [
    "metrics = ['accuracy', 'precision', 'recall', 'f1_macro']\n",
    "\n",
    "for classifier, label in zip(\n",
    "    [classifier_lr, classifier_kn, classifier_xgb, classifier_ve],\n",
    "    ['Logistic Regression', 'k-Nearest Neighbours', 'XGB', 'Voting Ensemble']\n",
    "):\n",
    "    print('{}'.format(label))\n",
    "    scores = cross_validate(\n",
    "        estimator=classifier,\n",
    "        X=features,\n",
    "        y=target,\n",
    "        scoring=metrics,\n",
    "        cv=5,\n",
    "        n_jobs=-1\n",
    "    )\n",
    "    for key, value in scores.items():\n",
    "        print('{:14} {:.3f} +/- {:.3f}'.format(key, value.mean(), value.std()))\n",
    "    print('\\n')"
   ]
  },
  {
   "cell_type": "code",
   "execution_count": 81,
   "metadata": {},
   "outputs": [
    {
     "data": {
      "text/plain": [
       "array([ True,  True])"
      ]
     },
     "execution_count": 81,
     "metadata": {},
     "output_type": "execute_result"
    }
   ],
   "source": [
    "classifier_xgb.predict(data_model.iloc[1:3])"
   ]
  },
  {
   "cell_type": "code",
   "execution_count": null,
   "metadata": {},
   "outputs": [],
   "source": []
  },
  {
   "cell_type": "code",
   "execution_count": 87,
   "metadata": {},
   "outputs": [],
   "source": [
    "classifier_xgb.save_model('./model.json')"
   ]
  },
  {
   "cell_type": "code",
   "execution_count": 88,
   "metadata": {},
   "outputs": [],
   "source": [
    "classifier_xgb.load_model('./model.json')"
   ]
  },
  {
   "cell_type": "code",
   "execution_count": 54,
   "metadata": {},
   "outputs": [],
   "source": [
    "import pickle\n",
    "with open(\"./speed_date_xgb_model_scikit_learn.pickle\", \"wb\") as f:\n",
    "    pickle.dump(classifier_xgb, f)"
   ]
  },
  {
   "cell_type": "code",
   "execution_count": 66,
   "metadata": {},
   "outputs": [],
   "source": [
    "import pickle\n",
    "\n",
    "with open(\"./predict_df.pickle\", \"rb\") as f:\n",
    "    df = pickle.load(f)"
   ]
  },
  {
   "cell_type": "code",
   "execution_count": 67,
   "metadata": {},
   "outputs": [],
   "source": [
    "with open(\"./speed_date_xgb_model_scikit_learn.pickle\", \"rb\") as f:\n",
    "    model = pickle.load(f)"
   ]
  },
  {
   "cell_type": "code",
   "execution_count": 68,
   "metadata": {},
   "outputs": [
    {
     "data": {
      "text/plain": [
       "XGBClassifier(base_score=None, booster=None, colsample_bylevel=None,\n",
       "              colsample_bynode=None, colsample_bytree=0.7, gamma=0.2,\n",
       "              gpu_id=None, importance_type='gain', interaction_constraints=None,\n",
       "              learning_rate=0.01, max_delta_step=None, max_depth=5,\n",
       "              min_child_weight=3, missing=nan, monotone_constraints=None,\n",
       "              n_estimators=140, n_jobs=None, num_parallel_tree=None,\n",
       "              random_state=None, reg_alpha=None, reg_lambda=None,\n",
       "              scale_pos_weight=None, seed=27, subsample=0.6, tree_method=None,\n",
       "              validate_parameters=None, verbosity=None)"
      ]
     },
     "execution_count": 68,
     "metadata": {},
     "output_type": "execute_result"
    }
   ],
   "source": [
    "model"
   ]
  },
  {
   "cell_type": "code",
   "execution_count": null,
   "metadata": {},
   "outputs": [],
   "source": []
  }
 ],
 "metadata": {
  "kernelspec": {
   "display_name": "Python 3",
   "language": "python",
   "name": "python3"
  },
  "language_info": {
   "codemirror_mode": {
    "name": "ipython",
    "version": 3
   },
   "file_extension": ".py",
   "mimetype": "text/x-python",
   "name": "python",
   "nbconvert_exporter": "python",
   "pygments_lexer": "ipython3",
   "version": "3.8.5"
  }
 },
 "nbformat": 4,
 "nbformat_minor": 4
}
