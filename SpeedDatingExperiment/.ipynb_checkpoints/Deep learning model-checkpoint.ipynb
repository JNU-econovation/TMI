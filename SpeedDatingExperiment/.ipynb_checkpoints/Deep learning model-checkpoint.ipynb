{
 "cells": [
  {
   "cell_type": "code",
   "execution_count": 4,
   "metadata": {},
   "outputs": [],
   "source": [
    "# machine learning module\n",
    "from sklearn.model_selection import train_test_split\n",
    "from sklearn.preprocessing import MinMaxScaler\n",
    "import pandas as pd\n",
    "import numpy as np\n",
    "\n",
    "# ANN module\n",
    "import torch\n",
    "from torch import nn, optim                           # torch 에서 제공하는 신경망 기술, 손실함수, 최적화를 할 수 있는 함수들을 불러온다.\n",
    "from torch.utils.data import DataLoader, Dataset      # 데이터를 모델에 사용할 수 있게 정리해주는 라이브러리.\n",
    "import torch.nn.functional as F                       # torch 내의 세부적인 기능을 불러옴.\n",
    "\n",
    "# Loss\n",
    "from sklearn.metrics import mean_squared_error        # regression 문제의 모델 성능 측정을 위해서 MSE를 불러온다.\n",
    "\n",
    "import matplotlib.pyplot as plt"
   ]
  },
  {
   "cell_type": "code",
   "execution_count": 5,
   "metadata": {},
   "outputs": [],
   "source": [
    "import pickle\n",
    "import numpy as np\n",
    "import pandas as pd\n",
    "from tqdm import tqdm"
   ]
  },
  {
   "cell_type": "code",
   "execution_count": 7,
   "metadata": {},
   "outputs": [
    {
     "name": "stdout",
     "output_type": "stream",
     "text": [
      "cpu\n"
     ]
    }
   ],
   "source": [
    "device = torch.device(\"cuda:0\" if torch.cuda.is_available() else \"cpu\")\n",
    "print(device)\n"
   ]
  },
  {
   "cell_type": "code",
   "execution_count": 8,
   "metadata": {},
   "outputs": [
    {
     "name": "stdout",
     "output_type": "stream",
     "text": [
      "train_x.shape: (8374, 79)\n",
      "train_y.shape: (8374,)\n"
     ]
    }
   ],
   "source": [
    "# train_X load\n",
    "with open(\"./train_x.pickle\", \"rb\") as f:\n",
    "    train_x = pickle.load(f)\n",
    "\n",
    "# train_Y load\n",
    "with open(\"./train_y.pickle\", \"rb\") as f:\n",
    "    train_y = pickle.load(f)\n",
    "    \n",
    "print(\"train_x.shape:\", train_x.shape)\n",
    "print(\"train_y.shape:\", train_y.shape)"
   ]
  },
  {
   "cell_type": "code",
   "execution_count": 9,
   "metadata": {},
   "outputs": [
    {
     "data": {
      "text/html": [
       "<div>\n",
       "<style scoped>\n",
       "    .dataframe tbody tr th:only-of-type {\n",
       "        vertical-align: middle;\n",
       "    }\n",
       "\n",
       "    .dataframe tbody tr th {\n",
       "        vertical-align: top;\n",
       "    }\n",
       "\n",
       "    .dataframe thead th {\n",
       "        text-align: right;\n",
       "    }\n",
       "</style>\n",
       "<table border=\"1\" class=\"dataframe\">\n",
       "  <thead>\n",
       "    <tr style=\"text-align: right;\">\n",
       "      <th></th>\n",
       "      <th>gender</th>\n",
       "      <th>age</th>\n",
       "      <th>attr1_1</th>\n",
       "      <th>sinc1_1</th>\n",
       "      <th>intel1_1</th>\n",
       "      <th>fun1_1</th>\n",
       "      <th>amb1_1</th>\n",
       "      <th>shar1_1</th>\n",
       "      <th>pf_o_att</th>\n",
       "      <th>pf_o_sin</th>\n",
       "      <th>...</th>\n",
       "      <th>field_o_cd_4.0</th>\n",
       "      <th>field_o_cd_5.0</th>\n",
       "      <th>field_o_cd_6.0</th>\n",
       "      <th>field_o_cd_7.0</th>\n",
       "      <th>subject_attractiveness_mean</th>\n",
       "      <th>subject_sincerity_mean</th>\n",
       "      <th>subject_intelligence_mean</th>\n",
       "      <th>subject_fun_mean</th>\n",
       "      <th>subject_ambition_mean</th>\n",
       "      <th>subject_shared_interest_mean</th>\n",
       "    </tr>\n",
       "  </thead>\n",
       "  <tbody>\n",
       "    <tr>\n",
       "      <th>0</th>\n",
       "      <td>False</td>\n",
       "      <td>21</td>\n",
       "      <td>15</td>\n",
       "      <td>20</td>\n",
       "      <td>20</td>\n",
       "      <td>15</td>\n",
       "      <td>15</td>\n",
       "      <td>15</td>\n",
       "      <td>35</td>\n",
       "      <td>20</td>\n",
       "      <td>...</td>\n",
       "      <td>0</td>\n",
       "      <td>0</td>\n",
       "      <td>0</td>\n",
       "      <td>0</td>\n",
       "      <td>3.351577</td>\n",
       "      <td>-4.194441</td>\n",
       "      <td>-1.980467</td>\n",
       "      <td>-0.367062</td>\n",
       "      <td>-1.829116</td>\n",
       "      <td>-0.881038</td>\n",
       "    </tr>\n",
       "    <tr>\n",
       "      <th>1</th>\n",
       "      <td>False</td>\n",
       "      <td>21</td>\n",
       "      <td>15</td>\n",
       "      <td>20</td>\n",
       "      <td>20</td>\n",
       "      <td>15</td>\n",
       "      <td>15</td>\n",
       "      <td>15</td>\n",
       "      <td>60</td>\n",
       "      <td>0</td>\n",
       "      <td>...</td>\n",
       "      <td>0</td>\n",
       "      <td>0</td>\n",
       "      <td>0</td>\n",
       "      <td>0</td>\n",
       "      <td>3.351577</td>\n",
       "      <td>-4.194441</td>\n",
       "      <td>-1.980467</td>\n",
       "      <td>-0.367062</td>\n",
       "      <td>-1.829116</td>\n",
       "      <td>-0.881038</td>\n",
       "    </tr>\n",
       "    <tr>\n",
       "      <th>2</th>\n",
       "      <td>False</td>\n",
       "      <td>21</td>\n",
       "      <td>15</td>\n",
       "      <td>20</td>\n",
       "      <td>20</td>\n",
       "      <td>15</td>\n",
       "      <td>15</td>\n",
       "      <td>15</td>\n",
       "      <td>19</td>\n",
       "      <td>18</td>\n",
       "      <td>...</td>\n",
       "      <td>0</td>\n",
       "      <td>0</td>\n",
       "      <td>0</td>\n",
       "      <td>0</td>\n",
       "      <td>3.351577</td>\n",
       "      <td>-4.194441</td>\n",
       "      <td>-1.980467</td>\n",
       "      <td>-0.367062</td>\n",
       "      <td>-1.829116</td>\n",
       "      <td>-0.881038</td>\n",
       "    </tr>\n",
       "    <tr>\n",
       "      <th>3</th>\n",
       "      <td>False</td>\n",
       "      <td>21</td>\n",
       "      <td>15</td>\n",
       "      <td>20</td>\n",
       "      <td>20</td>\n",
       "      <td>15</td>\n",
       "      <td>15</td>\n",
       "      <td>15</td>\n",
       "      <td>30</td>\n",
       "      <td>5</td>\n",
       "      <td>...</td>\n",
       "      <td>0</td>\n",
       "      <td>0</td>\n",
       "      <td>0</td>\n",
       "      <td>0</td>\n",
       "      <td>3.351577</td>\n",
       "      <td>-4.194441</td>\n",
       "      <td>-1.980467</td>\n",
       "      <td>-0.367062</td>\n",
       "      <td>-1.829116</td>\n",
       "      <td>-0.881038</td>\n",
       "    </tr>\n",
       "    <tr>\n",
       "      <th>4</th>\n",
       "      <td>False</td>\n",
       "      <td>21</td>\n",
       "      <td>15</td>\n",
       "      <td>20</td>\n",
       "      <td>20</td>\n",
       "      <td>15</td>\n",
       "      <td>15</td>\n",
       "      <td>15</td>\n",
       "      <td>30</td>\n",
       "      <td>10</td>\n",
       "      <td>...</td>\n",
       "      <td>0</td>\n",
       "      <td>0</td>\n",
       "      <td>0</td>\n",
       "      <td>0</td>\n",
       "      <td>3.351577</td>\n",
       "      <td>-4.194441</td>\n",
       "      <td>-1.980467</td>\n",
       "      <td>-0.367062</td>\n",
       "      <td>-1.829116</td>\n",
       "      <td>-0.881038</td>\n",
       "    </tr>\n",
       "    <tr>\n",
       "      <th>5</th>\n",
       "      <td>False</td>\n",
       "      <td>21</td>\n",
       "      <td>15</td>\n",
       "      <td>20</td>\n",
       "      <td>20</td>\n",
       "      <td>15</td>\n",
       "      <td>15</td>\n",
       "      <td>15</td>\n",
       "      <td>50</td>\n",
       "      <td>0</td>\n",
       "      <td>...</td>\n",
       "      <td>0</td>\n",
       "      <td>0</td>\n",
       "      <td>0</td>\n",
       "      <td>0</td>\n",
       "      <td>3.351577</td>\n",
       "      <td>-4.194441</td>\n",
       "      <td>-1.980467</td>\n",
       "      <td>-0.367062</td>\n",
       "      <td>-1.829116</td>\n",
       "      <td>-0.881038</td>\n",
       "    </tr>\n",
       "    <tr>\n",
       "      <th>6</th>\n",
       "      <td>False</td>\n",
       "      <td>21</td>\n",
       "      <td>15</td>\n",
       "      <td>20</td>\n",
       "      <td>20</td>\n",
       "      <td>15</td>\n",
       "      <td>15</td>\n",
       "      <td>15</td>\n",
       "      <td>35</td>\n",
       "      <td>15</td>\n",
       "      <td>...</td>\n",
       "      <td>0</td>\n",
       "      <td>0</td>\n",
       "      <td>0</td>\n",
       "      <td>0</td>\n",
       "      <td>3.351577</td>\n",
       "      <td>-4.194441</td>\n",
       "      <td>-1.980467</td>\n",
       "      <td>-0.367062</td>\n",
       "      <td>-1.829116</td>\n",
       "      <td>-0.881038</td>\n",
       "    </tr>\n",
       "    <tr>\n",
       "      <th>7</th>\n",
       "      <td>False</td>\n",
       "      <td>21</td>\n",
       "      <td>15</td>\n",
       "      <td>20</td>\n",
       "      <td>20</td>\n",
       "      <td>15</td>\n",
       "      <td>15</td>\n",
       "      <td>15</td>\n",
       "      <td>33</td>\n",
       "      <td>11</td>\n",
       "      <td>...</td>\n",
       "      <td>0</td>\n",
       "      <td>0</td>\n",
       "      <td>0</td>\n",
       "      <td>0</td>\n",
       "      <td>3.351577</td>\n",
       "      <td>-4.194441</td>\n",
       "      <td>-1.980467</td>\n",
       "      <td>-0.367062</td>\n",
       "      <td>-1.829116</td>\n",
       "      <td>-0.881038</td>\n",
       "    </tr>\n",
       "    <tr>\n",
       "      <th>8</th>\n",
       "      <td>False</td>\n",
       "      <td>21</td>\n",
       "      <td>15</td>\n",
       "      <td>20</td>\n",
       "      <td>20</td>\n",
       "      <td>15</td>\n",
       "      <td>15</td>\n",
       "      <td>15</td>\n",
       "      <td>50</td>\n",
       "      <td>0</td>\n",
       "      <td>...</td>\n",
       "      <td>0</td>\n",
       "      <td>0</td>\n",
       "      <td>0</td>\n",
       "      <td>0</td>\n",
       "      <td>3.351577</td>\n",
       "      <td>-4.194441</td>\n",
       "      <td>-1.980467</td>\n",
       "      <td>-0.367062</td>\n",
       "      <td>-1.829116</td>\n",
       "      <td>-0.881038</td>\n",
       "    </tr>\n",
       "    <tr>\n",
       "      <th>9</th>\n",
       "      <td>False</td>\n",
       "      <td>21</td>\n",
       "      <td>15</td>\n",
       "      <td>20</td>\n",
       "      <td>20</td>\n",
       "      <td>15</td>\n",
       "      <td>15</td>\n",
       "      <td>15</td>\n",
       "      <td>100</td>\n",
       "      <td>0</td>\n",
       "      <td>...</td>\n",
       "      <td>0</td>\n",
       "      <td>0</td>\n",
       "      <td>0</td>\n",
       "      <td>0</td>\n",
       "      <td>3.351577</td>\n",
       "      <td>-4.194441</td>\n",
       "      <td>-1.980467</td>\n",
       "      <td>-0.367062</td>\n",
       "      <td>-1.829116</td>\n",
       "      <td>-0.881038</td>\n",
       "    </tr>\n",
       "    <tr>\n",
       "      <th>10</th>\n",
       "      <td>False</td>\n",
       "      <td>24</td>\n",
       "      <td>45</td>\n",
       "      <td>5</td>\n",
       "      <td>25</td>\n",
       "      <td>20</td>\n",
       "      <td>0</td>\n",
       "      <td>5</td>\n",
       "      <td>35</td>\n",
       "      <td>20</td>\n",
       "      <td>...</td>\n",
       "      <td>0</td>\n",
       "      <td>0</td>\n",
       "      <td>0</td>\n",
       "      <td>0</td>\n",
       "      <td>3.351577</td>\n",
       "      <td>-4.194441</td>\n",
       "      <td>-1.980467</td>\n",
       "      <td>-0.367062</td>\n",
       "      <td>-1.829116</td>\n",
       "      <td>-0.881038</td>\n",
       "    </tr>\n",
       "    <tr>\n",
       "      <th>11</th>\n",
       "      <td>False</td>\n",
       "      <td>24</td>\n",
       "      <td>45</td>\n",
       "      <td>5</td>\n",
       "      <td>25</td>\n",
       "      <td>20</td>\n",
       "      <td>0</td>\n",
       "      <td>5</td>\n",
       "      <td>60</td>\n",
       "      <td>0</td>\n",
       "      <td>...</td>\n",
       "      <td>0</td>\n",
       "      <td>0</td>\n",
       "      <td>0</td>\n",
       "      <td>0</td>\n",
       "      <td>3.351577</td>\n",
       "      <td>-4.194441</td>\n",
       "      <td>-1.980467</td>\n",
       "      <td>-0.367062</td>\n",
       "      <td>-1.829116</td>\n",
       "      <td>-0.881038</td>\n",
       "    </tr>\n",
       "    <tr>\n",
       "      <th>12</th>\n",
       "      <td>False</td>\n",
       "      <td>24</td>\n",
       "      <td>45</td>\n",
       "      <td>5</td>\n",
       "      <td>25</td>\n",
       "      <td>20</td>\n",
       "      <td>0</td>\n",
       "      <td>5</td>\n",
       "      <td>19</td>\n",
       "      <td>18</td>\n",
       "      <td>...</td>\n",
       "      <td>0</td>\n",
       "      <td>0</td>\n",
       "      <td>0</td>\n",
       "      <td>0</td>\n",
       "      <td>3.351577</td>\n",
       "      <td>-4.194441</td>\n",
       "      <td>-1.980467</td>\n",
       "      <td>-0.367062</td>\n",
       "      <td>-1.829116</td>\n",
       "      <td>-0.881038</td>\n",
       "    </tr>\n",
       "    <tr>\n",
       "      <th>13</th>\n",
       "      <td>False</td>\n",
       "      <td>24</td>\n",
       "      <td>45</td>\n",
       "      <td>5</td>\n",
       "      <td>25</td>\n",
       "      <td>20</td>\n",
       "      <td>0</td>\n",
       "      <td>5</td>\n",
       "      <td>30</td>\n",
       "      <td>5</td>\n",
       "      <td>...</td>\n",
       "      <td>0</td>\n",
       "      <td>0</td>\n",
       "      <td>0</td>\n",
       "      <td>0</td>\n",
       "      <td>3.351577</td>\n",
       "      <td>-4.194441</td>\n",
       "      <td>-1.980467</td>\n",
       "      <td>-0.367062</td>\n",
       "      <td>-1.829116</td>\n",
       "      <td>-0.881038</td>\n",
       "    </tr>\n",
       "    <tr>\n",
       "      <th>14</th>\n",
       "      <td>False</td>\n",
       "      <td>24</td>\n",
       "      <td>45</td>\n",
       "      <td>5</td>\n",
       "      <td>25</td>\n",
       "      <td>20</td>\n",
       "      <td>0</td>\n",
       "      <td>5</td>\n",
       "      <td>30</td>\n",
       "      <td>10</td>\n",
       "      <td>...</td>\n",
       "      <td>0</td>\n",
       "      <td>0</td>\n",
       "      <td>0</td>\n",
       "      <td>0</td>\n",
       "      <td>3.351577</td>\n",
       "      <td>-4.194441</td>\n",
       "      <td>-1.980467</td>\n",
       "      <td>-0.367062</td>\n",
       "      <td>-1.829116</td>\n",
       "      <td>-0.881038</td>\n",
       "    </tr>\n",
       "    <tr>\n",
       "      <th>15</th>\n",
       "      <td>False</td>\n",
       "      <td>24</td>\n",
       "      <td>45</td>\n",
       "      <td>5</td>\n",
       "      <td>25</td>\n",
       "      <td>20</td>\n",
       "      <td>0</td>\n",
       "      <td>5</td>\n",
       "      <td>50</td>\n",
       "      <td>0</td>\n",
       "      <td>...</td>\n",
       "      <td>0</td>\n",
       "      <td>0</td>\n",
       "      <td>0</td>\n",
       "      <td>0</td>\n",
       "      <td>3.351577</td>\n",
       "      <td>-4.194441</td>\n",
       "      <td>-1.980467</td>\n",
       "      <td>-0.367062</td>\n",
       "      <td>-1.829116</td>\n",
       "      <td>-0.881038</td>\n",
       "    </tr>\n",
       "    <tr>\n",
       "      <th>16</th>\n",
       "      <td>False</td>\n",
       "      <td>24</td>\n",
       "      <td>45</td>\n",
       "      <td>5</td>\n",
       "      <td>25</td>\n",
       "      <td>20</td>\n",
       "      <td>0</td>\n",
       "      <td>5</td>\n",
       "      <td>35</td>\n",
       "      <td>15</td>\n",
       "      <td>...</td>\n",
       "      <td>0</td>\n",
       "      <td>0</td>\n",
       "      <td>0</td>\n",
       "      <td>0</td>\n",
       "      <td>3.351577</td>\n",
       "      <td>-4.194441</td>\n",
       "      <td>-1.980467</td>\n",
       "      <td>-0.367062</td>\n",
       "      <td>-1.829116</td>\n",
       "      <td>-0.881038</td>\n",
       "    </tr>\n",
       "    <tr>\n",
       "      <th>17</th>\n",
       "      <td>False</td>\n",
       "      <td>24</td>\n",
       "      <td>45</td>\n",
       "      <td>5</td>\n",
       "      <td>25</td>\n",
       "      <td>20</td>\n",
       "      <td>0</td>\n",
       "      <td>5</td>\n",
       "      <td>33</td>\n",
       "      <td>11</td>\n",
       "      <td>...</td>\n",
       "      <td>0</td>\n",
       "      <td>0</td>\n",
       "      <td>0</td>\n",
       "      <td>0</td>\n",
       "      <td>3.351577</td>\n",
       "      <td>-4.194441</td>\n",
       "      <td>-1.980467</td>\n",
       "      <td>-0.367062</td>\n",
       "      <td>-1.829116</td>\n",
       "      <td>-0.881038</td>\n",
       "    </tr>\n",
       "    <tr>\n",
       "      <th>18</th>\n",
       "      <td>False</td>\n",
       "      <td>24</td>\n",
       "      <td>45</td>\n",
       "      <td>5</td>\n",
       "      <td>25</td>\n",
       "      <td>20</td>\n",
       "      <td>0</td>\n",
       "      <td>5</td>\n",
       "      <td>50</td>\n",
       "      <td>0</td>\n",
       "      <td>...</td>\n",
       "      <td>0</td>\n",
       "      <td>0</td>\n",
       "      <td>0</td>\n",
       "      <td>0</td>\n",
       "      <td>3.351577</td>\n",
       "      <td>-4.194441</td>\n",
       "      <td>-1.980467</td>\n",
       "      <td>-0.367062</td>\n",
       "      <td>-1.829116</td>\n",
       "      <td>-0.881038</td>\n",
       "    </tr>\n",
       "    <tr>\n",
       "      <th>19</th>\n",
       "      <td>False</td>\n",
       "      <td>24</td>\n",
       "      <td>45</td>\n",
       "      <td>5</td>\n",
       "      <td>25</td>\n",
       "      <td>20</td>\n",
       "      <td>0</td>\n",
       "      <td>5</td>\n",
       "      <td>100</td>\n",
       "      <td>0</td>\n",
       "      <td>...</td>\n",
       "      <td>0</td>\n",
       "      <td>0</td>\n",
       "      <td>0</td>\n",
       "      <td>0</td>\n",
       "      <td>3.351577</td>\n",
       "      <td>-4.194441</td>\n",
       "      <td>-1.980467</td>\n",
       "      <td>-0.367062</td>\n",
       "      <td>-1.829116</td>\n",
       "      <td>-0.881038</td>\n",
       "    </tr>\n",
       "  </tbody>\n",
       "</table>\n",
       "<p>20 rows × 79 columns</p>\n",
       "</div>"
      ],
      "text/plain": [
       "    gender  age  attr1_1  sinc1_1  intel1_1  fun1_1  amb1_1  shar1_1  \\\n",
       "0    False   21       15       20        20      15      15       15   \n",
       "1    False   21       15       20        20      15      15       15   \n",
       "2    False   21       15       20        20      15      15       15   \n",
       "3    False   21       15       20        20      15      15       15   \n",
       "4    False   21       15       20        20      15      15       15   \n",
       "5    False   21       15       20        20      15      15       15   \n",
       "6    False   21       15       20        20      15      15       15   \n",
       "7    False   21       15       20        20      15      15       15   \n",
       "8    False   21       15       20        20      15      15       15   \n",
       "9    False   21       15       20        20      15      15       15   \n",
       "10   False   24       45        5        25      20       0        5   \n",
       "11   False   24       45        5        25      20       0        5   \n",
       "12   False   24       45        5        25      20       0        5   \n",
       "13   False   24       45        5        25      20       0        5   \n",
       "14   False   24       45        5        25      20       0        5   \n",
       "15   False   24       45        5        25      20       0        5   \n",
       "16   False   24       45        5        25      20       0        5   \n",
       "17   False   24       45        5        25      20       0        5   \n",
       "18   False   24       45        5        25      20       0        5   \n",
       "19   False   24       45        5        25      20       0        5   \n",
       "\n",
       "    pf_o_att  pf_o_sin  ...  field_o_cd_4.0  field_o_cd_5.0  field_o_cd_6.0  \\\n",
       "0         35        20  ...               0               0               0   \n",
       "1         60         0  ...               0               0               0   \n",
       "2         19        18  ...               0               0               0   \n",
       "3         30         5  ...               0               0               0   \n",
       "4         30        10  ...               0               0               0   \n",
       "5         50         0  ...               0               0               0   \n",
       "6         35        15  ...               0               0               0   \n",
       "7         33        11  ...               0               0               0   \n",
       "8         50         0  ...               0               0               0   \n",
       "9        100         0  ...               0               0               0   \n",
       "10        35        20  ...               0               0               0   \n",
       "11        60         0  ...               0               0               0   \n",
       "12        19        18  ...               0               0               0   \n",
       "13        30         5  ...               0               0               0   \n",
       "14        30        10  ...               0               0               0   \n",
       "15        50         0  ...               0               0               0   \n",
       "16        35        15  ...               0               0               0   \n",
       "17        33        11  ...               0               0               0   \n",
       "18        50         0  ...               0               0               0   \n",
       "19       100         0  ...               0               0               0   \n",
       "\n",
       "    field_o_cd_7.0  subject_attractiveness_mean  subject_sincerity_mean  \\\n",
       "0                0                     3.351577               -4.194441   \n",
       "1                0                     3.351577               -4.194441   \n",
       "2                0                     3.351577               -4.194441   \n",
       "3                0                     3.351577               -4.194441   \n",
       "4                0                     3.351577               -4.194441   \n",
       "5                0                     3.351577               -4.194441   \n",
       "6                0                     3.351577               -4.194441   \n",
       "7                0                     3.351577               -4.194441   \n",
       "8                0                     3.351577               -4.194441   \n",
       "9                0                     3.351577               -4.194441   \n",
       "10               0                     3.351577               -4.194441   \n",
       "11               0                     3.351577               -4.194441   \n",
       "12               0                     3.351577               -4.194441   \n",
       "13               0                     3.351577               -4.194441   \n",
       "14               0                     3.351577               -4.194441   \n",
       "15               0                     3.351577               -4.194441   \n",
       "16               0                     3.351577               -4.194441   \n",
       "17               0                     3.351577               -4.194441   \n",
       "18               0                     3.351577               -4.194441   \n",
       "19               0                     3.351577               -4.194441   \n",
       "\n",
       "    subject_intelligence_mean  subject_fun_mean  subject_ambition_mean  \\\n",
       "0                   -1.980467         -0.367062              -1.829116   \n",
       "1                   -1.980467         -0.367062              -1.829116   \n",
       "2                   -1.980467         -0.367062              -1.829116   \n",
       "3                   -1.980467         -0.367062              -1.829116   \n",
       "4                   -1.980467         -0.367062              -1.829116   \n",
       "5                   -1.980467         -0.367062              -1.829116   \n",
       "6                   -1.980467         -0.367062              -1.829116   \n",
       "7                   -1.980467         -0.367062              -1.829116   \n",
       "8                   -1.980467         -0.367062              -1.829116   \n",
       "9                   -1.980467         -0.367062              -1.829116   \n",
       "10                  -1.980467         -0.367062              -1.829116   \n",
       "11                  -1.980467         -0.367062              -1.829116   \n",
       "12                  -1.980467         -0.367062              -1.829116   \n",
       "13                  -1.980467         -0.367062              -1.829116   \n",
       "14                  -1.980467         -0.367062              -1.829116   \n",
       "15                  -1.980467         -0.367062              -1.829116   \n",
       "16                  -1.980467         -0.367062              -1.829116   \n",
       "17                  -1.980467         -0.367062              -1.829116   \n",
       "18                  -1.980467         -0.367062              -1.829116   \n",
       "19                  -1.980467         -0.367062              -1.829116   \n",
       "\n",
       "    subject_shared_interest_mean  \n",
       "0                      -0.881038  \n",
       "1                      -0.881038  \n",
       "2                      -0.881038  \n",
       "3                      -0.881038  \n",
       "4                      -0.881038  \n",
       "5                      -0.881038  \n",
       "6                      -0.881038  \n",
       "7                      -0.881038  \n",
       "8                      -0.881038  \n",
       "9                      -0.881038  \n",
       "10                     -0.881038  \n",
       "11                     -0.881038  \n",
       "12                     -0.881038  \n",
       "13                     -0.881038  \n",
       "14                     -0.881038  \n",
       "15                     -0.881038  \n",
       "16                     -0.881038  \n",
       "17                     -0.881038  \n",
       "18                     -0.881038  \n",
       "19                     -0.881038  \n",
       "\n",
       "[20 rows x 79 columns]"
      ]
     },
     "execution_count": 9,
     "metadata": {},
     "output_type": "execute_result"
    }
   ],
   "source": [
    "train_x.head(20)"
   ]
  },
  {
   "cell_type": "code",
   "execution_count": 10,
   "metadata": {
    "scrolled": true
   },
   "outputs": [
    {
     "data": {
      "text/plain": [
       "False    4857\n",
       "True     3517\n",
       "Name: dec, dtype: int64"
      ]
     },
     "execution_count": 10,
     "metadata": {},
     "output_type": "execute_result"
    }
   ],
   "source": [
    "train_y.value_counts()"
   ]
  },
  {
   "cell_type": "code",
   "execution_count": null,
   "metadata": {},
   "outputs": [],
   "source": []
  },
  {
   "cell_type": "code",
   "execution_count": 12,
   "metadata": {},
   "outputs": [],
   "source": [
    "# importing packages\n",
    "%matplotlib inline\n",
    "import pandas as pd\n",
    "pd.options.display.max_rows = 1000 #handy for showing truncated results\n",
    "import matplotlib.pyplot as plt\n",
    "import numpy as np\n",
    "import seaborn as sns\n",
    "import statsmodels.api as sm\n",
    "from sklearn.model_selection import train_test_split\n",
    "from sklearn.linear_model import LogisticRegression\n",
    "from sklearn.ensemble import RandomForestClassifier\n",
    "from sklearn.ensemble import GradientBoostingClassifier\n",
    "from sklearn import metrics"
   ]
  },
  {
   "cell_type": "code",
   "execution_count": 13,
   "metadata": {},
   "outputs": [],
   "source": [
    "from sklearn.model_selection import train_test_split\n",
    "X_train, X_test, y_train, y_test = train_test_split(train_x, train_y, test_size=0.05, random_state=41, stratify=train_y)"
   ]
  },
  {
   "cell_type": "code",
   "execution_count": 14,
   "metadata": {},
   "outputs": [
    {
     "name": "stdout",
     "output_type": "stream",
     "text": [
      "(7955, 79)\n",
      "(7955,)\n",
      "(419, 79)\n",
      "(419,)\n",
      "<class 'pandas.core.frame.DataFrame'>\n"
     ]
    }
   ],
   "source": [
    "print(X_train.shape)\n",
    "print(y_train.shape)\n",
    "print(X_test.shape)\n",
    "print(y_test.shape)\n",
    "\n",
    "print(type(X_train))"
   ]
  },
  {
   "cell_type": "code",
   "execution_count": 15,
   "metadata": {},
   "outputs": [],
   "source": [
    "# # 데이터 스케일링\n",
    "# # sklearn에서 제공하는 MinMaxScaler \n",
    "# # (X-min(X))/(max(X)-min(X))을 계산\n",
    "scaler = MinMaxScaler() \n",
    "scaler.fit(X_train) \n",
    "X_train = scaler.transform(X_train)\n",
    "\n",
    "# # scaler.fit(train_y)\n",
    "# # train_y = scaler.transform(train_y)"
   ]
  },
  {
   "cell_type": "code",
   "execution_count": 16,
   "metadata": {},
   "outputs": [],
   "source": [
    "scaler.fit(X_test) \n",
    "X_test = scaler.transform(X_test)\n",
    "\n",
    "# # scaler.fit(eval_y)\n",
    "# # eval_y = scaler.transform(eval_y)"
   ]
  },
  {
   "cell_type": "code",
   "execution_count": 18,
   "metadata": {},
   "outputs": [
    {
     "name": "stdout",
     "output_type": "stream",
     "text": [
      "<class 'numpy.ndarray'>\n"
     ]
    }
   ],
   "source": [
    "print(type(X_train))"
   ]
  },
  {
   "cell_type": "code",
   "execution_count": 12,
   "metadata": {},
   "outputs": [],
   "source": [
    "# torch의 Dataset 을 상속.\n",
    "class TensorData(Dataset):\n",
    "\n",
    "    def __init__(self, x_data, y_data):\n",
    "        self.x_data = torch.FloatTensor(x_data)\n",
    "        self.y_data = torch.FloatTensor(y_data)\n",
    "        self.len = self.y_data.shape[0]\n",
    "\n",
    "    def __getitem__(self, index):\n",
    "\n",
    "        return self.x_data[index], self.y_data[index] \n",
    "\n",
    "    def __len__(self):\n",
    "        return self.len"
   ]
  },
  {
   "cell_type": "code",
   "execution_count": 13,
   "metadata": {},
   "outputs": [],
   "source": [
    "# 학습 데이터, 시험 데이터 배치 형태로 구축하기\n",
    "# batch size 32\n",
    "trainsets = TensorData(X_train, y_train.to_numpy())\n",
    "trainloader = torch.utils.data.DataLoader(trainsets, batch_size=256, shuffle=True)\n",
    "\n",
    "testsets = TensorData(X_test, y_test.to_numpy())\n",
    "testloader = torch.utils.data.DataLoader(testsets, batch_size=128, shuffle=False)"
   ]
  },
  {
   "cell_type": "code",
   "execution_count": 14,
   "metadata": {},
   "outputs": [
    {
     "data": {
      "text/plain": [
       "(7955, 79)"
      ]
     },
     "execution_count": 14,
     "metadata": {},
     "output_type": "execute_result"
    }
   ],
   "source": [
    "X_train.shape"
   ]
  },
  {
   "cell_type": "code",
   "execution_count": 15,
   "metadata": {},
   "outputs": [],
   "source": [
    "class BinaryClassification(nn.Module):\n",
    "    def __init__(self):\n",
    "        super(BinaryClassification, self).__init__()\n",
    "        # Number of input features is 12.\n",
    "        self.layer_1 = nn.Linear(79, 256) \n",
    "        self.layer_2 = nn.Linear(256, 256)\n",
    "        self.layer_3 = nn.Linear(256, 256)\n",
    "        self.layer_out = nn.Linear(256, 1) \n",
    "        \n",
    "        self.relu = nn.ReLU()\n",
    "        self.dropout = nn.Dropout(p=0.25)\n",
    "        \n",
    "        self.batchnorm1 = nn.BatchNorm1d(256)\n",
    "        self.batchnorm2 = nn.BatchNorm1d(256)\n",
    "        self.batchnorm3 = nn.BatchNorm1d(256)\n",
    "        \n",
    "    def forward(self, inputs):\n",
    "        x = self.relu(self.layer_1(inputs))\n",
    "        x = self.batchnorm1(x)\n",
    "        x = self.dropout(x)\n",
    "        x = self.relu(self.layer_2(x))\n",
    "        x = self.batchnorm2(x)\n",
    "        x = self.dropout(x)\n",
    "        x = self.relu(self.layer_3(x))\n",
    "        x = self.batchnorm3(x)\n",
    "        x = self.dropout(x)\n",
    "        x = self.layer_out(x)\n",
    "        x = torch.sigmoid(x)\n",
    "        return x"
   ]
  },
  {
   "cell_type": "code",
   "execution_count": 16,
   "metadata": {},
   "outputs": [],
   "source": [
    "model = BinaryClassification()\n",
    "criterion = nn.BCELoss()\n",
    "\n",
    "optimizer = optim.Adam(model.parameters(), lr=0.002, weight_decay=1e-7)\n",
    "\n",
    "#scheduler\n",
    "# scheduler = optim.lr_scheduler.MultiStepLR(optimizer, milestones=[100,200, 300], gamma=0.5)"
   ]
  },
  {
   "cell_type": "code",
   "execution_count": null,
   "metadata": {},
   "outputs": [],
   "source": []
  },
  {
   "cell_type": "code",
   "execution_count": 17,
   "metadata": {},
   "outputs": [
    {
     "data": {
      "text/plain": [
       "tensor([1., 2., 3., 4., 5., 6., 7., 8.])"
      ]
     },
     "execution_count": 17,
     "metadata": {},
     "output_type": "execute_result"
    }
   ],
   "source": [
    "a = torch.Tensor([1, 2, 3, 4])\n",
    "b = torch.Tensor([5, 6, 7, 8])\n",
    "\n",
    "torch.cat((a, b), dim=0)"
   ]
  },
  {
   "cell_type": "code",
   "execution_count": 18,
   "metadata": {
    "scrolled": true
   },
   "outputs": [
    {
     "name": "stderr",
     "output_type": "stream",
     "text": [
      "\r",
      "0it [00:00, ?it/s]"
     ]
    },
    {
     "name": "stdout",
     "output_type": "stream",
     "text": [
      "Training set :  7955\n",
      "Validation set:  419\n",
      "model \n",
      " BinaryClassification(\n",
      "  (layer_1): Linear(in_features=79, out_features=256, bias=True)\n",
      "  (layer_2): Linear(in_features=256, out_features=256, bias=True)\n",
      "  (layer_3): Linear(in_features=256, out_features=256, bias=True)\n",
      "  (layer_out): Linear(in_features=256, out_features=1, bias=True)\n",
      "  (relu): ReLU()\n",
      "  (dropout): Dropout(p=0.25, inplace=False)\n",
      "  (batchnorm1): BatchNorm1d(256, eps=1e-05, momentum=0.1, affine=True, track_running_stats=True)\n",
      "  (batchnorm2): BatchNorm1d(256, eps=1e-05, momentum=0.1, affine=True, track_running_stats=True)\n",
      "  (batchnorm3): BatchNorm1d(256, eps=1e-05, momentum=0.1, affine=True, track_running_stats=True)\n",
      ")\n"
     ]
    },
    {
     "name": "stderr",
     "output_type": "stream",
     "text": [
      "32it [00:00, 79.01it/s]\n",
      "100%|███████████████████████████████████████████████████████████████████████████████████| 4/4 [00:00<00:00, 666.74it/s]\n",
      "19it [00:00, 180.42it/s]"
     ]
    },
    {
     "name": "stdout",
     "output_type": "stream",
     "text": [
      "training epoch  0 Loss: 0.00278 acc: 0.58\n",
      "epoch  0. validation accuracy: 0.58234\n"
     ]
    },
    {
     "name": "stderr",
     "output_type": "stream",
     "text": [
      "32it [00:00, 183.93it/s]\n",
      "100%|███████████████████████████████████████████████████████████████████████████████████| 4/4 [00:00<00:00, 800.29it/s]\n",
      "18it [00:00, 171.45it/s]"
     ]
    },
    {
     "name": "stdout",
     "output_type": "stream",
     "text": [
      "training epoch  1 Loss: 0.00257 acc: 0.63\n",
      "epoch  1. validation accuracy: 0.60859\n"
     ]
    },
    {
     "name": "stderr",
     "output_type": "stream",
     "text": [
      "32it [00:00, 174.88it/s]\n",
      "100%|███████████████████████████████████████████████████████████████████████████████████| 4/4 [00:00<00:00, 666.93it/s]\n",
      "17it [00:00, 165.06it/s]"
     ]
    },
    {
     "name": "stdout",
     "output_type": "stream",
     "text": [
      "training epoch  2 Loss: 0.00253 acc: 0.65\n",
      "epoch  2. validation accuracy: 0.61337\n"
     ]
    },
    {
     "name": "stderr",
     "output_type": "stream",
     "text": [
      "32it [00:00, 170.23it/s]\n",
      "100%|███████████████████████████████████████████████████████████████████████████████████| 4/4 [00:00<00:00, 666.74it/s]\n",
      "32it [00:00, 182.67it/s]\n",
      "  0%|                                                                                            | 0/4 [00:00<?, ?it/s]"
     ]
    },
    {
     "name": "stdout",
     "output_type": "stream",
     "text": [
      "training epoch  3 Loss: 0.00249 acc: 0.65\n",
      "epoch  3. validation accuracy: 0.63484\n",
      "training epoch  4 Loss: 0.00247 acc: 0.66\n"
     ]
    },
    {
     "name": "stderr",
     "output_type": "stream",
     "text": [
      "100%|███████████████████████████████████████████████████████████████████████████████████| 4/4 [00:00<00:00, 800.10it/s]\n",
      "18it [00:00, 178.23it/s]"
     ]
    },
    {
     "name": "stdout",
     "output_type": "stream",
     "text": [
      "epoch  4. validation accuracy: 0.63484\n"
     ]
    },
    {
     "name": "stderr",
     "output_type": "stream",
     "text": [
      "32it [00:00, 175.84it/s]\n",
      "100%|███████████████████████████████████████████████████████████████████████████████████| 4/4 [00:00<00:00, 800.17it/s]\n",
      "18it [00:00, 176.48it/s]"
     ]
    },
    {
     "name": "stdout",
     "output_type": "stream",
     "text": [
      "training epoch  5 Loss: 0.00241 acc: 0.67\n",
      "epoch  5. validation accuracy: 0.63723\n"
     ]
    },
    {
     "name": "stderr",
     "output_type": "stream",
     "text": [
      "32it [00:00, 174.88it/s]\n",
      "100%|███████████████████████████████████████████████████████████████████████████████████| 4/4 [00:00<00:00, 666.74it/s]\n",
      "29it [00:00, 144.49it/s]"
     ]
    },
    {
     "name": "stdout",
     "output_type": "stream",
     "text": [
      "training epoch  6 Loss: 0.00244 acc: 0.67\n",
      "epoch  6. validation accuracy: 0.61814\n"
     ]
    },
    {
     "name": "stderr",
     "output_type": "stream",
     "text": [
      "32it [00:00, 140.97it/s]\n",
      "100%|███████████████████████████████████████████████████████████████████████████████████| 4/4 [00:00<00:00, 796.07it/s]\n",
      "17it [00:00, 168.33it/s]"
     ]
    },
    {
     "name": "stdout",
     "output_type": "stream",
     "text": [
      "training epoch  7 Loss: 0.00239 acc: 0.68\n",
      "epoch  7. validation accuracy: 0.65394\n"
     ]
    },
    {
     "name": "stderr",
     "output_type": "stream",
     "text": [
      "32it [00:00, 169.33it/s]\n",
      "100%|███████████████████████████████████████████████████████████████████████████████████| 4/4 [00:00<00:00, 800.13it/s]\n",
      "18it [00:00, 176.48it/s]"
     ]
    },
    {
     "name": "stdout",
     "output_type": "stream",
     "text": [
      "training epoch  8 Loss: 0.00239 acc: 0.69\n",
      "epoch  8. validation accuracy: 0.64916\n"
     ]
    },
    {
     "name": "stderr",
     "output_type": "stream",
     "text": [
      "32it [00:00, 181.83it/s]\n",
      "100%|███████████████████████████████████████████████████████████████████████████████████| 4/4 [00:00<00:00, 800.10it/s]\n",
      "32it [00:00, 193.43it/s]\n",
      "100%|███████████████████████████████████████████████████████████████████████████████████| 4/4 [00:00<00:00, 724.78it/s]\n",
      "0it [00:00, ?it/s]"
     ]
    },
    {
     "name": "stdout",
     "output_type": "stream",
     "text": [
      "training epoch  9 Loss: 0.00237 acc: 0.68\n",
      "epoch  9. validation accuracy: 0.63007\n",
      "training epoch 10 Loss: 0.00233 acc: 0.69\n",
      "epoch 10. validation accuracy: 0.60382\n"
     ]
    },
    {
     "name": "stderr",
     "output_type": "stream",
     "text": [
      "32it [00:00, 164.45it/s]\n",
      "100%|███████████████████████████████████████████████████████████████████████████████████| 4/4 [00:00<00:00, 500.17it/s]\n",
      "18it [00:00, 178.23it/s]"
     ]
    },
    {
     "name": "stdout",
     "output_type": "stream",
     "text": [
      "training epoch 11 Loss: 0.00232 acc: 0.69\n",
      "epoch 11. validation accuracy: 0.61575\n"
     ]
    },
    {
     "name": "stderr",
     "output_type": "stream",
     "text": [
      "32it [00:00, 178.78it/s]\n",
      "100%|███████████████████████████████████████████████████████████████████████████████████| 4/4 [00:00<00:00, 800.06it/s]\n",
      "32it [00:00, 180.80it/s]"
     ]
    },
    {
     "name": "stdout",
     "output_type": "stream",
     "text": [
      "training epoch 12 Loss: 0.00229 acc: 0.69\n",
      "epoch 12. validation accuracy: 0.65155\n"
     ]
    },
    {
     "name": "stderr",
     "output_type": "stream",
     "text": [
      "\n",
      "100%|███████████████████████████████████████████████████████████████████████████████████| 4/4 [00:00<00:00, 666.79it/s]\n",
      "32it [00:00, 191.64it/s]\n",
      "100%|███████████████████████████████████████████████████████████████████████████████████| 4/4 [00:00<00:00, 800.13it/s]\n"
     ]
    },
    {
     "name": "stdout",
     "output_type": "stream",
     "text": [
      "training epoch 13 Loss: 0.00227 acc: 0.70\n",
      "epoch 13. validation accuracy: 0.61575\n",
      "training epoch 14 Loss: 0.00222 acc: 0.72\n",
      "epoch 14. validation accuracy: 0.65871"
     ]
    },
    {
     "name": "stderr",
     "output_type": "stream",
     "text": [
      "32it [00:00, 178.37it/s]\n",
      "100%|███████████████████████████████████████████████████████████████████████████████████| 4/4 [00:00<00:00, 800.13it/s]\n",
      "17it [00:00, 160.39it/s]"
     ]
    },
    {
     "name": "stdout",
     "output_type": "stream",
     "text": [
      "\n",
      "training epoch 15 Loss: 0.00222 acc: 0.71\n",
      "epoch 15. validation accuracy: 0.64439\n"
     ]
    },
    {
     "name": "stderr",
     "output_type": "stream",
     "text": [
      "32it [00:00, 167.54it/s]\n",
      "100%|███████████████████████████████████████████████████████████████████████████████████| 4/4 [00:00<00:00, 800.10it/s]\n",
      "17it [00:00, 166.70it/s]"
     ]
    },
    {
     "name": "stdout",
     "output_type": "stream",
     "text": [
      "training epoch 16 Loss: 0.00222 acc: 0.72\n",
      "epoch 16. validation accuracy: 0.62530\n"
     ]
    },
    {
     "name": "stderr",
     "output_type": "stream",
     "text": [
      "32it [00:00, 174.89it/s]\n",
      "100%|███████████████████████████████████████████████████████████████████████████████████| 4/4 [00:00<00:00, 799.94it/s]\n",
      "32it [00:00, 197.41it/s]\n",
      "  0%|                                                                                            | 0/4 [00:00<?, ?it/s]"
     ]
    },
    {
     "name": "stdout",
     "output_type": "stream",
     "text": [
      "training epoch 17 Loss: 0.00222 acc: 0.71\n",
      "epoch 17. validation accuracy: 0.62053\n",
      "training epoch 18 Loss: 0.00222 acc: 0.71\n"
     ]
    },
    {
     "name": "stderr",
     "output_type": "stream",
     "text": [
      "100%|███████████████████████████████████████████████████████████████████████████████████| 4/4 [00:00<00:00, 319.70it/s]\n",
      "32it [00:00, 207.57it/s]\n",
      "100%|███████████████████████████████████████████████████████████████████████████████████| 4/4 [00:00<00:00, 295.49it/s]\n",
      "0it [00:00, ?it/s]"
     ]
    },
    {
     "name": "stdout",
     "output_type": "stream",
     "text": [
      "epoch 18. validation accuracy: 0.62768\n",
      "training epoch 19 Loss: 0.00216 acc: 0.72\n",
      "epoch 19. validation accuracy: 0.64916\n"
     ]
    },
    {
     "name": "stderr",
     "output_type": "stream",
     "text": [
      "32it [00:00, 219.80it/s]\n",
      "100%|███████████████████████████████████████████████████████████████████████████████████| 4/4 [00:00<00:00, 256.83it/s]\n",
      "32it [00:00, 208.73it/s]\n",
      "  0%|                                                                                            | 0/4 [00:00<?, ?it/s]"
     ]
    },
    {
     "name": "stdout",
     "output_type": "stream",
     "text": [
      "training epoch 20 Loss: 0.00218 acc: 0.72\n",
      "epoch 20. validation accuracy: 0.62291\n",
      "training epoch 21 Loss: 0.00223 acc: 0.72\n"
     ]
    },
    {
     "name": "stderr",
     "output_type": "stream",
     "text": [
      "100%|███████████████████████████████████████████████████████████████████████████████████| 4/4 [00:00<00:00, 219.23it/s]\n",
      "32it [00:00, 194.45it/s]\n",
      "100%|███████████████████████████████████████████████████████████████████████████████████| 4/4 [00:00<00:00, 800.17it/s]\n",
      "0it [00:00, ?it/s]"
     ]
    },
    {
     "name": "stdout",
     "output_type": "stream",
     "text": [
      "epoch 21. validation accuracy: 0.61337\n",
      "training epoch 22 Loss: 0.00215 acc: 0.72\n",
      "epoch 22. validation accuracy: 0.64200\n"
     ]
    },
    {
     "name": "stderr",
     "output_type": "stream",
     "text": [
      "32it [00:00, 183.75it/s]\n",
      "100%|███████████████████████████████████████████████████████████████████████████████████| 4/4 [00:00<00:00, 500.01it/s]\n",
      "19it [00:00, 171.97it/s]"
     ]
    },
    {
     "name": "stdout",
     "output_type": "stream",
     "text": [
      "training epoch 23 Loss: 0.00213 acc: 0.73\n",
      "epoch 23. validation accuracy: 0.63723\n"
     ]
    },
    {
     "name": "stderr",
     "output_type": "stream",
     "text": [
      "32it [00:00, 173.73it/s]\n",
      "100%|███████████████████████████████████████████████████████████████████████████████████| 4/4 [00:00<00:00, 975.08it/s]\n",
      "19it [00:00, 187.40it/s]"
     ]
    },
    {
     "name": "stdout",
     "output_type": "stream",
     "text": [
      "training epoch 24 Loss: 0.00210 acc: 0.73\n",
      "epoch 24. validation accuracy: 0.63007\n"
     ]
    },
    {
     "name": "stderr",
     "output_type": "stream",
     "text": [
      "32it [00:00, 185.89it/s]\n",
      "100%|███████████████████████████████████████████████████████████████████████████████████| 4/4 [00:00<00:00, 528.53it/s]\n",
      "32it [00:00, 200.06it/s]\n",
      "100%|███████████████████████████████████████████████████████████████████████████████████| 4/4 [00:00<00:00, 250.66it/s]\n",
      "0it [00:00, ?it/s]"
     ]
    },
    {
     "name": "stdout",
     "output_type": "stream",
     "text": [
      "training epoch 25 Loss: 0.00211 acc: 0.74\n",
      "epoch 25. validation accuracy: 0.63962\n",
      "training epoch 26 Loss: 0.00209 acc: 0.74\n",
      "epoch 26. validation accuracy: 0.64439\n"
     ]
    },
    {
     "name": "stderr",
     "output_type": "stream",
     "text": [
      "32it [00:00, 154.47it/s]\n",
      "100%|███████████████████████████████████████████████████████████████████████████████████| 4/4 [00:00<00:00, 348.81it/s]\n",
      "23it [00:00, 200.46it/s]"
     ]
    },
    {
     "name": "stdout",
     "output_type": "stream",
     "text": [
      "training epoch 27 Loss: 0.00205 acc: 0.75\n",
      "epoch 27. validation accuracy: 0.65155\n"
     ]
    },
    {
     "name": "stderr",
     "output_type": "stream",
     "text": [
      "32it [00:00, 175.07it/s]\n",
      "100%|███████████████████████████████████████████████████████████████████████████████████| 4/4 [00:00<00:00, 666.90it/s]\n",
      "19it [00:00, 183.37it/s]"
     ]
    },
    {
     "name": "stdout",
     "output_type": "stream",
     "text": [
      "training epoch 28 Loss: 0.00207 acc: 0.74\n",
      "epoch 28. validation accuracy: 0.65394\n"
     ]
    },
    {
     "name": "stderr",
     "output_type": "stream",
     "text": [
      "32it [00:00, 184.32it/s]\n",
      "100%|███████████████████████████████████████████████████████████████████████████████████| 4/4 [00:00<00:00, 666.82it/s]\n",
      "19it [00:00, 180.95it/s]"
     ]
    },
    {
     "name": "stdout",
     "output_type": "stream",
     "text": [
      "training epoch 29 Loss: 0.00212 acc: 0.74\n",
      "epoch 29. validation accuracy: 0.63962\n"
     ]
    },
    {
     "name": "stderr",
     "output_type": "stream",
     "text": [
      "32it [00:00, 180.80it/s]\n",
      "100%|███████████████████████████████████████████████████████████████████████████████████| 4/4 [00:00<00:00, 667.70it/s]\n",
      "19it [00:00, 179.26it/s]"
     ]
    },
    {
     "name": "stdout",
     "output_type": "stream",
     "text": [
      "training epoch 30 Loss: 0.00209 acc: 0.74\n",
      "epoch 30. validation accuracy: 0.64200\n"
     ]
    },
    {
     "name": "stderr",
     "output_type": "stream",
     "text": [
      "32it [00:00, 174.88it/s]\n",
      "100%|███████████████████████████████████████████████████████████████████████████████████| 4/4 [00:00<00:00, 800.21it/s]\n",
      "19it [00:00, 188.13it/s]"
     ]
    },
    {
     "name": "stdout",
     "output_type": "stream",
     "text": [
      "training epoch 31 Loss: 0.00211 acc: 0.74\n",
      "epoch 31. validation accuracy: 0.65155\n"
     ]
    },
    {
     "name": "stderr",
     "output_type": "stream",
     "text": [
      "32it [00:00, 182.87it/s]\n",
      "100%|███████████████████████████████████████████████████████████████████████████████████| 4/4 [00:00<00:00, 800.10it/s]\n",
      "19it [00:00, 179.26it/s]"
     ]
    },
    {
     "name": "stdout",
     "output_type": "stream",
     "text": [
      "training epoch 32 Loss: 0.00206 acc: 0.74\n",
      "epoch 32. validation accuracy: 0.64439\n"
     ]
    },
    {
     "name": "stderr",
     "output_type": "stream",
     "text": [
      "32it [00:00, 177.79it/s]\n",
      "100%|███████████████████████████████████████████████████████████████████████████████████| 4/4 [00:00<00:00, 666.85it/s]\n",
      "18it [00:00, 176.49it/s]"
     ]
    },
    {
     "name": "stdout",
     "output_type": "stream",
     "text": [
      "training epoch 33 Loss: 0.00200 acc: 0.76\n",
      "epoch 33. validation accuracy: 0.63962\n"
     ]
    },
    {
     "name": "stderr",
     "output_type": "stream",
     "text": [
      "32it [00:00, 177.79it/s]\n",
      "100%|███████████████████████████████████████████████████████████████████████████████████| 4/4 [00:00<00:00, 666.58it/s]\n",
      "32it [00:00, 182.77it/s]\n",
      "  0%|                                                                                            | 0/4 [00:00<?, ?it/s]"
     ]
    },
    {
     "name": "stdout",
     "output_type": "stream",
     "text": [
      "training epoch 34 Loss: 0.00199 acc: 0.76\n",
      "epoch 34. validation accuracy: 0.65394\n",
      "training epoch 35 Loss: 0.00201 acc: 0.76\n"
     ]
    },
    {
     "name": "stderr",
     "output_type": "stream",
     "text": [
      "100%|███████████████████████████████████████████████████████████████████████████████████| 4/4 [00:00<00:00, 572.74it/s]\n",
      "32it [00:00, 198.69it/s]\n",
      "100%|███████████████████████████████████████████████████████████████████████████████████| 4/4 [00:00<00:00, 800.29it/s]\n",
      "0it [00:00, ?it/s]"
     ]
    },
    {
     "name": "stdout",
     "output_type": "stream",
     "text": [
      "epoch 35. validation accuracy: 0.67064\n",
      "training epoch 36 Loss: 0.00205 acc: 0.75\n",
      "epoch 36. validation accuracy: 0.67064\n"
     ]
    },
    {
     "name": "stderr",
     "output_type": "stream",
     "text": [
      "32it [00:00, 181.84it/s]\n",
      "100%|███████████████████████████████████████████████████████████████████████████████████| 4/4 [00:00<00:00, 800.25it/s]\n",
      "19it [00:00, 182.71it/s]"
     ]
    },
    {
     "name": "stdout",
     "output_type": "stream",
     "text": [
      "training epoch 37 Loss: 0.00202 acc: 0.75\n",
      "epoch 37. validation accuracy: 0.64678\n"
     ]
    },
    {
     "name": "stderr",
     "output_type": "stream",
     "text": [
      "32it [00:00, 179.79it/s]\n",
      "100%|███████████████████████████████████████████████████████████████████████████████████| 4/4 [00:00<00:00, 666.58it/s]\n",
      "19it [00:00, 182.71it/s]"
     ]
    },
    {
     "name": "stdout",
     "output_type": "stream",
     "text": [
      "training epoch 38 Loss: 0.00201 acc: 0.75\n",
      "epoch 38. validation accuracy: 0.67303\n"
     ]
    },
    {
     "name": "stderr",
     "output_type": "stream",
     "text": [
      "32it [00:00, 181.83it/s]\n",
      "100%|███████████████████████████████████████████████████████████████████████████████████| 4/4 [00:00<00:00, 666.71it/s]\n"
     ]
    },
    {
     "name": "stdout",
     "output_type": "stream",
     "text": [
      "training epoch 39 Loss: 0.00195 acc: 0.76\n"
     ]
    },
    {
     "name": "stderr",
     "output_type": "stream",
     "text": [
      "32it [00:00, 190.04it/s]\n",
      "100%|███████████████████████████████████████████████████████████████████████████████████| 4/4 [00:00<00:00, 800.17it/s]\n",
      "0it [00:00, ?it/s]"
     ]
    },
    {
     "name": "stdout",
     "output_type": "stream",
     "text": [
      "epoch 39. validation accuracy: 0.68735\n",
      "training epoch 40 Loss: 0.00199 acc: 0.76\n",
      "epoch 40. validation accuracy: 0.65871\n"
     ]
    },
    {
     "name": "stderr",
     "output_type": "stream",
     "text": [
      "32it [00:00, 187.15it/s]\n",
      "100%|███████████████████████████████████████████████████████████████████████████████████| 4/4 [00:00<00:00, 666.74it/s]\n",
      "32it [00:00, 188.25it/s]\n",
      "  0%|                                                                                            | 0/4 [00:00<?, ?it/s]"
     ]
    },
    {
     "name": "stdout",
     "output_type": "stream",
     "text": [
      "training epoch 41 Loss: 0.00195 acc: 0.76\n",
      "epoch 41. validation accuracy: 0.65155\n",
      "training epoch 42 Loss: 0.00193 acc: 0.76\n"
     ]
    },
    {
     "name": "stderr",
     "output_type": "stream",
     "text": [
      "100%|███████████████████████████████████████████████████████████████████████████████████| 4/4 [00:00<00:00, 800.02it/s]\n",
      "32it [00:00, 184.98it/s]\n",
      "100%|███████████████████████████████████████████████████████████████████████████████████| 4/4 [00:00<00:00, 666.77it/s]\n",
      "0it [00:00, ?it/s]"
     ]
    },
    {
     "name": "stdout",
     "output_type": "stream",
     "text": [
      "epoch 42. validation accuracy: 0.65394\n",
      "training epoch 43 Loss: 0.00197 acc: 0.76\n",
      "epoch 43. validation accuracy: 0.66587\n"
     ]
    },
    {
     "name": "stderr",
     "output_type": "stream",
     "text": [
      "32it [00:00, 187.15it/s]\n",
      "100%|███████████████████████████████████████████████████████████████████████████████████| 4/4 [00:00<00:00, 800.06it/s]\n",
      "21it [00:00, 201.94it/s]"
     ]
    },
    {
     "name": "stdout",
     "output_type": "stream",
     "text": [
      "training epoch 44 Loss: 0.00193 acc: 0.76\n",
      "epoch 44. validation accuracy: 0.65632\n"
     ]
    },
    {
     "name": "stderr",
     "output_type": "stream",
     "text": [
      "32it [00:00, 187.15it/s]\n",
      "100%|███████████████████████████████████████████████████████████████████████████████████| 4/4 [00:00<00:00, 666.64it/s]\n",
      "32it [00:00, 186.06it/s]"
     ]
    },
    {
     "name": "stdout",
     "output_type": "stream",
     "text": [
      "training epoch 45 Loss: 0.00195 acc: 0.76\n",
      "epoch 45. validation accuracy: 0.64439\n"
     ]
    },
    {
     "name": "stderr",
     "output_type": "stream",
     "text": [
      "\n",
      "100%|███████████████████████████████████████████████████████████████████████████████████| 4/4 [00:00<00:00, 800.17it/s]\n",
      "11it [00:00, 106.77it/s]"
     ]
    },
    {
     "name": "stdout",
     "output_type": "stream",
     "text": [
      "training epoch 46 Loss: 0.00193 acc: 0.77\n",
      "epoch 46. validation accuracy: 0.66110\n"
     ]
    },
    {
     "name": "stderr",
     "output_type": "stream",
     "text": [
      "32it [00:00, 144.15it/s]\n",
      "100%|███████████████████████████████████████████████████████████████████████████████████| 4/4 [00:00<00:00, 666.64it/s]\n",
      "18it [00:00, 173.09it/s]"
     ]
    },
    {
     "name": "stdout",
     "output_type": "stream",
     "text": [
      "training epoch 47 Loss: 0.00193 acc: 0.77\n",
      "epoch 47. validation accuracy: 0.63246\n"
     ]
    },
    {
     "name": "stderr",
     "output_type": "stream",
     "text": [
      "32it [00:00, 172.12it/s]\n",
      "100%|███████████████████████████████████████████████████████████████████████████████████| 4/4 [00:00<00:00, 781.32it/s]\n",
      "32it [00:00, 182.60it/s]\n",
      "  0%|                                                                                            | 0/4 [00:00<?, ?it/s]"
     ]
    },
    {
     "name": "stdout",
     "output_type": "stream",
     "text": [
      "training epoch 48 Loss: 0.00195 acc: 0.77\n",
      "epoch 48. validation accuracy: 0.61814\n",
      "training epoch 49 Loss: 0.00193 acc: 0.77\n"
     ]
    },
    {
     "name": "stderr",
     "output_type": "stream",
     "text": [
      "100%|███████████████████████████████████████████████████████████████████████████████████| 4/4 [00:00<00:00, 666.61it/s]\n",
      "17it [00:00, 168.33it/s]"
     ]
    },
    {
     "name": "stdout",
     "output_type": "stream",
     "text": [
      "epoch 49. validation accuracy: 0.63484\n"
     ]
    },
    {
     "name": "stderr",
     "output_type": "stream",
     "text": [
      "32it [00:00, 171.01it/s]\n",
      "100%|███████████████████████████████████████████████████████████████████████████████████| 4/4 [00:00<00:00, 799.98it/s]\n",
      "19it [00:00, 182.71it/s]"
     ]
    },
    {
     "name": "stdout",
     "output_type": "stream",
     "text": [
      "training epoch 50 Loss: 0.00194 acc: 0.77\n",
      "epoch 50. validation accuracy: 0.66348\n"
     ]
    },
    {
     "name": "stderr",
     "output_type": "stream",
     "text": [
      "32it [00:00, 181.83it/s]\n",
      "100%|███████████████████████████████████████████████████████████████████████████████████| 4/4 [00:00<00:00, 799.94it/s]\n",
      "32it [00:00, 183.92it/s]\n",
      "100%|███████████████████████████████████████████████████████████████████████████████████| 4/4 [00:00<00:00, 800.25it/s]"
     ]
    },
    {
     "name": "stdout",
     "output_type": "stream",
     "text": [
      "training epoch 51 Loss: 0.00191 acc: 0.77\n",
      "epoch 51. validation accuracy: 0.66348\n",
      "training epoch 52 Loss: 0.00189 acc: 0.77\n"
     ]
    },
    {
     "name": "stderr",
     "output_type": "stream",
     "text": [
      "\n",
      "32it [00:00, 173.92it/s]"
     ]
    },
    {
     "name": "stdout",
     "output_type": "stream",
     "text": [
      "epoch 52. validation accuracy: 0.65871\n"
     ]
    },
    {
     "name": "stderr",
     "output_type": "stream",
     "text": [
      "\n",
      "100%|███████████████████████████████████████████████████████████████████████████████████| 4/4 [00:00<00:00, 800.13it/s]\n",
      "18it [00:00, 176.48it/s]"
     ]
    },
    {
     "name": "stdout",
     "output_type": "stream",
     "text": [
      "training epoch 53 Loss: 0.00193 acc: 0.77\n",
      "epoch 53. validation accuracy: 0.64678\n"
     ]
    },
    {
     "name": "stderr",
     "output_type": "stream",
     "text": [
      "32it [00:00, 178.78it/s]\n",
      "100%|███████████████████████████████████████████████████████████████████████████████████| 4/4 [00:00<00:00, 666.69it/s]\n",
      "32it [00:00, 179.79it/s]"
     ]
    },
    {
     "name": "stdout",
     "output_type": "stream",
     "text": [
      "training epoch 54 Loss: 0.00185 acc: 0.78\n",
      "epoch 54. validation accuracy: 0.65155\n"
     ]
    },
    {
     "name": "stderr",
     "output_type": "stream",
     "text": [
      "\n",
      "100%|███████████████████████████████████████████████████████████████████████████████████| 4/4 [00:00<00:00, 800.06it/s]\n",
      "32it [00:00, 178.78it/s]\n"
     ]
    },
    {
     "name": "stdout",
     "output_type": "stream",
     "text": [
      "training epoch 55 Loss: 0.00188 acc: 0.78\n",
      "epoch 55. validation accuracy: 0.65632\n",
      "training epoch 56 Loss: 0.00188 acc: 0.77\n"
     ]
    },
    {
     "name": "stderr",
     "output_type": "stream",
     "text": [
      "100%|███████████████████████████████████████████████████████████████████████████████████| 4/4 [00:00<00:00, 666.71it/s]\n",
      "32it [00:00, 194.26it/s]\n",
      "100%|███████████████████████████████████████████████████████████████████████████████████| 4/4 [00:00<00:00, 397.19it/s]\n",
      "0it [00:00, ?it/s]"
     ]
    },
    {
     "name": "stdout",
     "output_type": "stream",
     "text": [
      "epoch 56. validation accuracy: 0.64200\n",
      "training epoch 57 Loss: 0.00183 acc: 0.77\n",
      "epoch 57. validation accuracy: 0.64916\n"
     ]
    },
    {
     "name": "stderr",
     "output_type": "stream",
     "text": [
      "32it [00:00, 175.85it/s]\n",
      "100%|███████████████████████████████████████████████████████████████████████████████████| 4/4 [00:00<00:00, 666.50it/s]\n",
      "32it [00:00, 194.21it/s]\n",
      "  0%|                                                                                            | 0/4 [00:00<?, ?it/s]"
     ]
    },
    {
     "name": "stdout",
     "output_type": "stream",
     "text": [
      "training epoch 58 Loss: 0.00183 acc: 0.78\n",
      "epoch 58. validation accuracy: 0.65632\n",
      "training epoch 59 Loss: 0.00184 acc: 0.78\n"
     ]
    },
    {
     "name": "stderr",
     "output_type": "stream",
     "text": [
      "100%|███████████████████████████████████████████████████████████████████████████████████| 4/4 [00:00<00:00, 419.48it/s]\n",
      "32it [00:00, 179.51it/s]\n",
      "100%|███████████████████████████████████████████████████████████████████████████████████| 4/4 [00:00<00:00, 800.06it/s]\n",
      "0it [00:00, ?it/s]"
     ]
    },
    {
     "name": "stdout",
     "output_type": "stream",
     "text": [
      "epoch 59. validation accuracy: 0.66348\n",
      "training epoch 60 Loss: 0.00185 acc: 0.78\n",
      "epoch 60. validation accuracy: 0.64439\n"
     ]
    },
    {
     "name": "stderr",
     "output_type": "stream",
     "text": [
      "32it [00:00, 180.81it/s]\n",
      "100%|███████████████████████████████████████████████████████████████████████████████████| 4/4 [00:00<00:00, 799.94it/s]\n",
      "32it [00:00, 178.78it/s]"
     ]
    },
    {
     "name": "stdout",
     "output_type": "stream",
     "text": [
      "training epoch 61 Loss: 0.00184 acc: 0.79\n",
      "epoch 61. validation accuracy: 0.66587\n"
     ]
    },
    {
     "name": "stderr",
     "output_type": "stream",
     "text": [
      "\n",
      "100%|███████████████████████████████████████████████████████████████████████████████████| 4/4 [00:00<00:00, 665.00it/s]\n",
      "19it [00:00, 180.96it/s]"
     ]
    },
    {
     "name": "stdout",
     "output_type": "stream",
     "text": [
      "training epoch 62 Loss: 0.00179 acc: 0.78\n",
      "epoch 62. validation accuracy: 0.65394\n"
     ]
    },
    {
     "name": "stderr",
     "output_type": "stream",
     "text": [
      "32it [00:00, 174.87it/s]\n",
      "100%|███████████████████████████████████████████████████████████████████████████████████| 4/4 [00:00<00:00, 799.98it/s]\n",
      "19it [00:00, 179.26it/s]"
     ]
    },
    {
     "name": "stdout",
     "output_type": "stream",
     "text": [
      "training epoch 63 Loss: 0.00184 acc: 0.78\n",
      "epoch 63. validation accuracy: 0.65394\n"
     ]
    },
    {
     "name": "stderr",
     "output_type": "stream",
     "text": [
      "32it [00:00, 179.79it/s]\n",
      "100%|███████████████████████████████████████████████████████████████████████████████████| 4/4 [00:00<00:00, 800.10it/s]\n",
      "19it [00:00, 188.13it/s]"
     ]
    },
    {
     "name": "stdout",
     "output_type": "stream",
     "text": [
      "training epoch 64 Loss: 0.00187 acc: 0.78\n",
      "epoch 64. validation accuracy: 0.65155\n"
     ]
    },
    {
     "name": "stderr",
     "output_type": "stream",
     "text": [
      "32it [00:00, 183.92it/s]\n",
      "100%|███████████████████████████████████████████████████████████████████████████████████| 4/4 [00:00<00:00, 798.19it/s]\n",
      "32it [00:00, 188.25it/s]\n",
      "100%|███████████████████████████████████████████████████████████████████████████████████| 4/4 [00:00<00:00, 796.26it/s]\n",
      "0it [00:00, ?it/s]"
     ]
    },
    {
     "name": "stdout",
     "output_type": "stream",
     "text": [
      "training epoch 65 Loss: 0.00184 acc: 0.77\n",
      "epoch 65. validation accuracy: 0.64200\n",
      "training epoch 66 Loss: 0.00191 acc: 0.77\n",
      "epoch 66. validation accuracy: 0.64678\n"
     ]
    },
    {
     "name": "stderr",
     "output_type": "stream",
     "text": [
      "32it [00:00, 158.76it/s]\n",
      "100%|███████████████████████████████████████████████████████████████████████████████████| 4/4 [00:00<00:00, 800.02it/s]\n",
      "32it [00:00, 190.79it/s]\n",
      "  0%|                                                                                            | 0/4 [00:00<?, ?it/s]"
     ]
    },
    {
     "name": "stdout",
     "output_type": "stream",
     "text": [
      "training epoch 67 Loss: 0.00186 acc: 0.77\n",
      "epoch 67. validation accuracy: 0.66110\n",
      "training epoch 68 Loss: 0.00186 acc: 0.78\n"
     ]
    },
    {
     "name": "stderr",
     "output_type": "stream",
     "text": [
      "100%|███████████████████████████████████████████████████████████████████████████████████| 4/4 [00:00<00:00, 651.90it/s]\n",
      "17it [00:00, 155.97it/s]"
     ]
    },
    {
     "name": "stdout",
     "output_type": "stream",
     "text": [
      "epoch 68. validation accuracy: 0.66348\n"
     ]
    },
    {
     "name": "stderr",
     "output_type": "stream",
     "text": [
      "32it [00:00, 165.81it/s]\n",
      "100%|███████████████████████████████████████████████████████████████████████████████████| 4/4 [00:00<00:00, 666.77it/s]\n",
      "19it [00:00, 180.99it/s]"
     ]
    },
    {
     "name": "stdout",
     "output_type": "stream",
     "text": [
      "training epoch 69 Loss: 0.00179 acc: 0.78\n",
      "epoch 69. validation accuracy: 0.64678\n"
     ]
    },
    {
     "name": "stderr",
     "output_type": "stream",
     "text": [
      "32it [00:00, 177.80it/s]\n",
      "100%|███████████████████████████████████████████████████████████████████████████████████| 4/4 [00:00<00:00, 800.17it/s]\n",
      "18it [00:00, 174.77it/s]"
     ]
    },
    {
     "name": "stdout",
     "output_type": "stream",
     "text": [
      "training epoch 70 Loss: 0.00177 acc: 0.79\n",
      "epoch 70. validation accuracy: 0.67303\n"
     ]
    },
    {
     "name": "stderr",
     "output_type": "stream",
     "text": [
      "32it [00:00, 172.05it/s]\n",
      "100%|███████████████████████████████████████████████████████████████████████████████████| 4/4 [00:00<00:00, 666.90it/s]\n",
      "19it [00:00, 182.70it/s]"
     ]
    },
    {
     "name": "stdout",
     "output_type": "stream",
     "text": [
      "training epoch 71 Loss: 0.00178 acc: 0.79\n",
      "epoch 71. validation accuracy: 0.65871\n"
     ]
    },
    {
     "name": "stderr",
     "output_type": "stream",
     "text": [
      "32it [00:00, 181.83it/s]\n",
      "100%|███████████████████████████████████████████████████████████████████████████████████| 4/4 [00:00<00:00, 800.59it/s]\n",
      "17it [00:00, 166.68it/s]"
     ]
    },
    {
     "name": "stdout",
     "output_type": "stream",
     "text": [
      "training epoch 72 Loss: 0.00179 acc: 0.79\n",
      "epoch 72. validation accuracy: 0.67064\n"
     ]
    },
    {
     "name": "stderr",
     "output_type": "stream",
     "text": [
      "32it [00:00, 172.99it/s]\n",
      "100%|███████████████████████████████████████████████████████████████████████████████████| 4/4 [00:00<00:00, 800.10it/s]\n",
      "18it [00:00, 178.23it/s]"
     ]
    },
    {
     "name": "stdout",
     "output_type": "stream",
     "text": [
      "training epoch 73 Loss: 0.00178 acc: 0.79\n",
      "epoch 73. validation accuracy: 0.66826\n"
     ]
    },
    {
     "name": "stderr",
     "output_type": "stream",
     "text": [
      "32it [00:00, 172.99it/s]\n",
      "100%|███████████████████████████████████████████████████████████████████████████████████| 4/4 [00:00<00:00, 800.02it/s]\n",
      "32it [00:00, 183.92it/s]\n",
      "  0%|                                                                                            | 0/4 [00:00<?, ?it/s]"
     ]
    },
    {
     "name": "stdout",
     "output_type": "stream",
     "text": [
      "training epoch 74 Loss: 0.00187 acc: 0.78\n",
      "epoch 74. validation accuracy: 0.67542\n",
      "training epoch 75 Loss: 0.00183 acc: 0.79\n"
     ]
    },
    {
     "name": "stderr",
     "output_type": "stream",
     "text": [
      "100%|███████████████████████████████████████████████████████████████████████████████████| 4/4 [00:00<00:00, 800.06it/s]\n",
      "32it [00:00, 205.08it/s]\n",
      "100%|███████████████████████████████████████████████████████████████████████████████████| 4/4 [00:00<00:00, 279.27it/s]\n",
      "0it [00:00, ?it/s]"
     ]
    },
    {
     "name": "stdout",
     "output_type": "stream",
     "text": [
      "epoch 75. validation accuracy: 0.65632\n",
      "training epoch 76 Loss: 0.00184 acc: 0.78\n",
      "epoch 76. validation accuracy: 0.64916\n"
     ]
    },
    {
     "name": "stderr",
     "output_type": "stream",
     "text": [
      "32it [00:00, 190.56it/s]\n",
      "100%|███████████████████████████████████████████████████████████████████████████████████| 4/4 [00:00<00:00, 666.19it/s]\n",
      "18it [00:00, 178.23it/s]"
     ]
    },
    {
     "name": "stdout",
     "output_type": "stream",
     "text": [
      "training epoch 77 Loss: 0.00181 acc: 0.79\n",
      "epoch 77. validation accuracy: 0.63723\n"
     ]
    },
    {
     "name": "stderr",
     "output_type": "stream",
     "text": [
      "32it [00:00, 178.78it/s]\n",
      "100%|███████████████████████████████████████████████████████████████████████████████████| 4/4 [00:00<00:00, 800.06it/s]\n",
      "18it [00:00, 178.23it/s]"
     ]
    },
    {
     "name": "stdout",
     "output_type": "stream",
     "text": [
      "training epoch 78 Loss: 0.00177 acc: 0.79\n",
      "epoch 78. validation accuracy: 0.65871\n"
     ]
    },
    {
     "name": "stderr",
     "output_type": "stream",
     "text": [
      "32it [00:00, 177.79it/s]\n",
      "100%|███████████████████████████████████████████████████████████████████████████████████| 4/4 [00:00<00:00, 666.74it/s]\n",
      "18it [00:00, 176.48it/s]"
     ]
    },
    {
     "name": "stdout",
     "output_type": "stream",
     "text": [
      "training epoch 79 Loss: 0.00173 acc: 0.80\n",
      "epoch 79. validation accuracy: 0.65871\n"
     ]
    },
    {
     "name": "stderr",
     "output_type": "stream",
     "text": [
      "32it [00:00, 173.92it/s]\n",
      "100%|███████████████████████████████████████████████████████████████████████████████████| 4/4 [00:00<00:00, 800.25it/s]\n",
      "18it [00:00, 178.23it/s]"
     ]
    },
    {
     "name": "stdout",
     "output_type": "stream",
     "text": [
      "training epoch 80 Loss: 0.00178 acc: 0.79\n",
      "epoch 80. validation accuracy: 0.67542\n"
     ]
    },
    {
     "name": "stderr",
     "output_type": "stream",
     "text": [
      "32it [00:00, 176.81it/s]\n",
      "100%|███████████████████████████████████████████████████████████████████████████████████| 4/4 [00:00<00:00, 666.74it/s]\n",
      "32it [00:00, 210.30it/s]\n",
      "100%|███████████████████████████████████████████████████████████████████████████████████| 4/4 [00:00<00:00, 233.41it/s]\n",
      "0it [00:00, ?it/s]"
     ]
    },
    {
     "name": "stdout",
     "output_type": "stream",
     "text": [
      "training epoch 81 Loss: 0.00176 acc: 0.79\n",
      "epoch 81. validation accuracy: 0.65632\n",
      "training epoch 82 Loss: 0.00179 acc: 0.79\n",
      "epoch 82. validation accuracy: 0.64200\n"
     ]
    },
    {
     "name": "stderr",
     "output_type": "stream",
     "text": [
      "32it [00:00, 179.05it/s]\n",
      "100%|███████████████████████████████████████████████████████████████████████████████████| 4/4 [00:00<00:00, 666.74it/s]\n",
      "32it [00:00, 190.46it/s]\n",
      "100%|███████████████████████████████████████████████████████████████████████████████████| 4/4 [00:00<00:00, 800.10it/s]\n",
      "0it [00:00, ?it/s]"
     ]
    },
    {
     "name": "stdout",
     "output_type": "stream",
     "text": [
      "training epoch 83 Loss: 0.00175 acc: 0.80\n",
      "epoch 83. validation accuracy: 0.66348\n",
      "training epoch 84 Loss: 0.00172 acc: 0.80\n",
      "epoch 84. validation accuracy: 0.67064\n"
     ]
    },
    {
     "name": "stderr",
     "output_type": "stream",
     "text": [
      "32it [00:00, 187.35it/s]\n",
      "100%|███████████████████████████████████████████████████████████████████████████████████| 4/4 [00:00<00:00, 800.06it/s]\n",
      "18it [00:00, 173.09it/s]"
     ]
    },
    {
     "name": "stdout",
     "output_type": "stream",
     "text": [
      "training epoch 85 Loss: 0.00177 acc: 0.79\n",
      "epoch 85. validation accuracy: 0.64439\n"
     ]
    },
    {
     "name": "stderr",
     "output_type": "stream",
     "text": [
      "32it [00:00, 142.23it/s]\n",
      "100%|██████████████████████████████████████████████████████████████████████████████████| 4/4 [00:00<00:00, 1298.35it/s]\n",
      "32it [00:00, 197.07it/s]\n",
      "100%|███████████████████████████████████████████████████████████████████████████████████| 4/4 [00:00<00:00, 464.20it/s]\n",
      "0it [00:00, ?it/s]"
     ]
    },
    {
     "name": "stdout",
     "output_type": "stream",
     "text": [
      "training epoch 86 Loss: 0.00173 acc: 0.80\n",
      "epoch 86. validation accuracy: 0.65394\n",
      "training epoch 87 Loss: 0.00171 acc: 0.80\n",
      "epoch 87. validation accuracy: 0.67064\n"
     ]
    },
    {
     "name": "stderr",
     "output_type": "stream",
     "text": [
      "32it [00:00, 189.91it/s]\n",
      "100%|███████████████████████████████████████████████████████████████████████████████████| 4/4 [00:00<00:00, 799.83it/s]\n",
      "32it [00:00, 208.25it/s]\n",
      "100%|███████████████████████████████████████████████████████████████████████████████████| 4/4 [00:00<00:00, 267.40it/s]\n",
      "0it [00:00, ?it/s]"
     ]
    },
    {
     "name": "stdout",
     "output_type": "stream",
     "text": [
      "training epoch 88 Loss: 0.00172 acc: 0.81\n",
      "epoch 88. validation accuracy: 0.67064\n",
      "training epoch 89 Loss: 0.00172 acc: 0.79\n",
      "epoch 89. validation accuracy: 0.63962\n"
     ]
    },
    {
     "name": "stderr",
     "output_type": "stream",
     "text": [
      "32it [00:00, 198.61it/s]\n",
      "100%|███████████████████████████████████████████████████████████████████████████████████| 4/4 [00:00<00:00, 274.94it/s]\n",
      "17it [00:00, 168.35it/s]"
     ]
    },
    {
     "name": "stdout",
     "output_type": "stream",
     "text": [
      "training epoch 90 Loss: 0.00174 acc: 0.80\n",
      "epoch 90. validation accuracy: 0.65632\n"
     ]
    },
    {
     "name": "stderr",
     "output_type": "stream",
     "text": [
      "32it [00:00, 170.24it/s]\n",
      "100%|███████████████████████████████████████████████████████████████████████████████████| 4/4 [00:00<00:00, 800.02it/s]\n",
      "32it [00:00, 175.84it/s]"
     ]
    },
    {
     "name": "stdout",
     "output_type": "stream",
     "text": [
      "training epoch 91 Loss: 0.00172 acc: 0.80\n",
      "epoch 91. validation accuracy: 0.66348\n"
     ]
    },
    {
     "name": "stderr",
     "output_type": "stream",
     "text": [
      "\n",
      "100%|███████████████████████████████████████████████████████████████████████████████████| 4/4 [00:00<00:00, 666.79it/s]\n",
      "32it [00:00, 190.12it/s]\n",
      "  0%|                                                                                            | 0/4 [00:00<?, ?it/s]"
     ]
    },
    {
     "name": "stdout",
     "output_type": "stream",
     "text": [
      "training epoch 92 Loss: 0.00168 acc: 0.80\n",
      "epoch 92. validation accuracy: 0.65871\n",
      "training epoch 93 Loss: 0.00167 acc: 0.80\n"
     ]
    },
    {
     "name": "stderr",
     "output_type": "stream",
     "text": [
      "100%|███████████████████████████████████████████████████████████████████████████████████| 4/4 [00:00<00:00, 799.94it/s]\n",
      "32it [00:00, 186.35it/s]\n",
      "100%|███████████████████████████████████████████████████████████████████████████████████| 4/4 [00:00<00:00, 571.31it/s]\n",
      "0it [00:00, ?it/s]"
     ]
    },
    {
     "name": "stdout",
     "output_type": "stream",
     "text": [
      "epoch 93. validation accuracy: 0.65394\n",
      "training epoch 94 Loss: 0.00165 acc: 0.80\n",
      "epoch 94. validation accuracy: 0.66587\n"
     ]
    },
    {
     "name": "stderr",
     "output_type": "stream",
     "text": [
      "32it [00:00, 171.80it/s]\n",
      "100%|███████████████████████████████████████████████████████████████████████████████████| 4/4 [00:00<00:00, 666.79it/s]\n",
      "20it [00:00, 180.03it/s]"
     ]
    },
    {
     "name": "stdout",
     "output_type": "stream",
     "text": [
      "training epoch 95 Loss: 0.00170 acc: 0.81\n",
      "epoch 95. validation accuracy: 0.64916\n"
     ]
    },
    {
     "name": "stderr",
     "output_type": "stream",
     "text": [
      "32it [00:00, 179.90it/s]\n",
      "100%|███████████████████████████████████████████████████████████████████████████████████| 4/4 [00:00<00:00, 800.10it/s]\n",
      "32it [00:00, 200.63it/s]\n",
      "  0%|                                                                                            | 0/4 [00:00<?, ?it/s]"
     ]
    },
    {
     "name": "stdout",
     "output_type": "stream",
     "text": [
      "training epoch 96 Loss: 0.00169 acc: 0.80\n",
      "epoch 96. validation accuracy: 0.64200\n",
      "training epoch 97 Loss: 0.00171 acc: 0.80\n"
     ]
    },
    {
     "name": "stderr",
     "output_type": "stream",
     "text": [
      "100%|███████████████████████████████████████████████████████████████████████████████████| 4/4 [00:00<00:00, 249.29it/s]\n",
      "16it [00:00, 158.29it/s]"
     ]
    },
    {
     "name": "stdout",
     "output_type": "stream",
     "text": [
      "epoch 97. validation accuracy: 0.66348\n"
     ]
    },
    {
     "name": "stderr",
     "output_type": "stream",
     "text": [
      "32it [00:00, 169.03it/s]\n",
      "100%|███████████████████████████████████████████████████████████████████████████████████| 4/4 [00:00<00:00, 666.77it/s]\n",
      "18it [00:00, 174.77it/s]"
     ]
    },
    {
     "name": "stdout",
     "output_type": "stream",
     "text": [
      "training epoch 98 Loss: 0.00171 acc: 0.80\n",
      "epoch 98. validation accuracy: 0.64200\n"
     ]
    },
    {
     "name": "stderr",
     "output_type": "stream",
     "text": [
      "32it [00:00, 172.99it/s]\n",
      "100%|███████████████████████████████████████████████████████████████████████████████████| 4/4 [00:00<00:00, 571.55it/s]\n",
      "18it [00:00, 173.07it/s]"
     ]
    },
    {
     "name": "stdout",
     "output_type": "stream",
     "text": [
      "training epoch 99 Loss: 0.00169 acc: 0.80\n",
      "epoch 99. validation accuracy: 0.65632\n"
     ]
    },
    {
     "name": "stderr",
     "output_type": "stream",
     "text": [
      "32it [00:00, 175.83it/s]\n",
      "100%|███████████████████████████████████████████████████████████████████████████████████| 4/4 [00:00<00:00, 500.08it/s]\n",
      "32it [00:00, 168.43it/s]"
     ]
    },
    {
     "name": "stdout",
     "output_type": "stream",
     "text": [
      "training epoch 100 Loss: 0.00169 acc: 0.80\n",
      "epoch 100. validation accuracy: 0.65155\n"
     ]
    },
    {
     "name": "stderr",
     "output_type": "stream",
     "text": [
      "\n",
      "100%|███████████████████████████████████████████████████████████████████████████████████| 4/4 [00:00<00:00, 668.15it/s]\n",
      "32it [00:00, 192.34it/s]\n",
      "  0%|                                                                                            | 0/4 [00:00<?, ?it/s]"
     ]
    },
    {
     "name": "stdout",
     "output_type": "stream",
     "text": [
      "training epoch 101 Loss: 0.00165 acc: 0.81\n",
      "epoch 101. validation accuracy: 0.64916\n",
      "training epoch 102 Loss: 0.00172 acc: 0.81\n"
     ]
    },
    {
     "name": "stderr",
     "output_type": "stream",
     "text": [
      "100%|███████████████████████████████████████████████████████████████████████████████████| 4/4 [00:00<00:00, 302.49it/s]\n",
      "17it [00:00, 163.37it/s]"
     ]
    },
    {
     "name": "stdout",
     "output_type": "stream",
     "text": [
      "epoch 102. validation accuracy: 0.65394\n"
     ]
    },
    {
     "name": "stderr",
     "output_type": "stream",
     "text": [
      "32it [00:00, 165.75it/s]\n",
      "100%|███████████████████████████████████████████████████████████████████████████████████| 4/4 [00:00<00:00, 800.36it/s]\n",
      "17it [00:00, 165.06it/s]"
     ]
    },
    {
     "name": "stdout",
     "output_type": "stream",
     "text": [
      "training epoch 103 Loss: 0.00170 acc: 0.81\n",
      "epoch 103. validation accuracy: 0.64200\n"
     ]
    },
    {
     "name": "stderr",
     "output_type": "stream",
     "text": [
      "32it [00:00, 172.06it/s]\n",
      "100%|███████████████████████████████████████████████████████████████████████████████████| 4/4 [00:00<00:00, 500.19it/s]\n",
      "17it [00:00, 166.68it/s]"
     ]
    },
    {
     "name": "stdout",
     "output_type": "stream",
     "text": [
      "training epoch 104 Loss: 0.00170 acc: 0.80\n",
      "epoch 104. validation accuracy: 0.63484\n"
     ]
    },
    {
     "name": "stderr",
     "output_type": "stream",
     "text": [
      "32it [00:00, 169.32it/s]\n",
      "100%|███████████████████████████████████████████████████████████████████████████████████| 4/4 [00:00<00:00, 799.30it/s]\n",
      "18it [00:00, 121.63it/s]"
     ]
    },
    {
     "name": "stdout",
     "output_type": "stream",
     "text": [
      "training epoch 105 Loss: 0.00164 acc: 0.81\n",
      "epoch 105. validation accuracy: 0.66826\n"
     ]
    },
    {
     "name": "stderr",
     "output_type": "stream",
     "text": [
      "32it [00:00, 139.14it/s]\n",
      "100%|███████████████████████████████████████████████████████████████████████████████████| 4/4 [00:00<00:00, 666.71it/s]\n",
      "32it [00:00, 195.88it/s]\n",
      "100%|███████████████████████████████████████████████████████████████████████████████████| 4/4 [00:00<00:00, 799.98it/s]\n",
      "0it [00:00, ?it/s]"
     ]
    },
    {
     "name": "stdout",
     "output_type": "stream",
     "text": [
      "training epoch 106 Loss: 0.00167 acc: 0.80\n",
      "epoch 106. validation accuracy: 0.66110\n",
      "training epoch 107 Loss: 0.00166 acc: 0.81\n",
      "epoch 107. validation accuracy: 0.66826\n"
     ]
    },
    {
     "name": "stderr",
     "output_type": "stream",
     "text": [
      "32it [00:00, 175.84it/s]\n",
      "100%|███████████████████████████████████████████████████████████████████████████████████| 4/4 [00:00<00:00, 666.69it/s]\n",
      "32it [00:00, 200.17it/s]\n",
      "100%|███████████████████████████████████████████████████████████████████████████████████| 4/4 [00:00<00:00, 666.61it/s]\n",
      "0it [00:00, ?it/s]"
     ]
    },
    {
     "name": "stdout",
     "output_type": "stream",
     "text": [
      "training epoch 108 Loss: 0.00167 acc: 0.81\n",
      "epoch 108. validation accuracy: 0.67064\n",
      "training epoch 109 Loss: 0.00161 acc: 0.81\n",
      "epoch 109. validation accuracy: 0.67780\n"
     ]
    },
    {
     "name": "stderr",
     "output_type": "stream",
     "text": [
      "32it [00:00, 214.33it/s]\n",
      "100%|███████████████████████████████████████████████████████████████████████████████████| 4/4 [00:00<00:00, 221.30it/s]\n",
      "32it [00:00, 206.67it/s]\n",
      "100%|███████████████████████████████████████████████████████████████████████████████████| 4/4 [00:00<00:00, 338.15it/s]\n",
      "0it [00:00, ?it/s]"
     ]
    },
    {
     "name": "stdout",
     "output_type": "stream",
     "text": [
      "training epoch 110 Loss: 0.00168 acc: 0.81\n",
      "epoch 110. validation accuracy: 0.67064\n",
      "training epoch 111 Loss: 0.00167 acc: 0.80\n",
      "epoch 111. validation accuracy: 0.65632\n"
     ]
    },
    {
     "name": "stderr",
     "output_type": "stream",
     "text": [
      "32it [00:00, 174.82it/s]\n",
      "100%|███████████████████████████████████████████████████████████████████████████████████| 4/4 [00:00<00:00, 800.06it/s]\n",
      "32it [00:00, 206.11it/s]\n",
      "100%|███████████████████████████████████████████████████████████████████████████████████| 4/4 [00:00<00:00, 478.08it/s]\n",
      "0it [00:00, ?it/s]"
     ]
    },
    {
     "name": "stdout",
     "output_type": "stream",
     "text": [
      "training epoch 112 Loss: 0.00162 acc: 0.81\n",
      "epoch 112. validation accuracy: 0.66826\n",
      "training epoch 113 Loss: 0.00164 acc: 0.81\n",
      "epoch 113. validation accuracy: 0.66110\n"
     ]
    },
    {
     "name": "stderr",
     "output_type": "stream",
     "text": [
      "32it [00:00, 183.33it/s]\n",
      "100%|███████████████████████████████████████████████████████████████████████████████████| 4/4 [00:00<00:00, 571.51it/s]\n",
      "32it [00:00, 206.14it/s]\n",
      "  0%|                                                                                            | 0/4 [00:00<?, ?it/s]"
     ]
    },
    {
     "name": "stdout",
     "output_type": "stream",
     "text": [
      "training epoch 114 Loss: 0.00165 acc: 0.81\n",
      "epoch 114. validation accuracy: 0.66826\n",
      "training epoch 115 Loss: 0.00162 acc: 0.81\n"
     ]
    },
    {
     "name": "stderr",
     "output_type": "stream",
     "text": [
      "100%|███████████████████████████████████████████████████████████████████████████████████| 4/4 [00:00<00:00, 287.18it/s]\n",
      "32it [00:00, 172.86it/s]\n"
     ]
    },
    {
     "name": "stdout",
     "output_type": "stream",
     "text": [
      "epoch 115. validation accuracy: 0.67303\n",
      "training epoch 116 Loss: 0.00163 acc: 0.81\n"
     ]
    },
    {
     "name": "stderr",
     "output_type": "stream",
     "text": [
      "100%|███████████████████████████████████████████████████████████████████████████████████| 4/4 [00:00<00:00, 799.94it/s]\n",
      "32it [00:00, 185.32it/s]\n",
      "100%|███████████████████████████████████████████████████████████████████████████████████| 4/4 [00:00<00:00, 753.96it/s]\n",
      "0it [00:00, ?it/s]"
     ]
    },
    {
     "name": "stdout",
     "output_type": "stream",
     "text": [
      "epoch 116. validation accuracy: 0.65394\n",
      "training epoch 117 Loss: 0.00169 acc: 0.81\n",
      "epoch 117. validation accuracy: 0.68496\n"
     ]
    },
    {
     "name": "stderr",
     "output_type": "stream",
     "text": [
      "32it [00:00, 200.80it/s]\n",
      "100%|███████████████████████████████████████████████████████████████████████████████████| 4/4 [00:00<00:00, 350.52it/s]\n",
      "19it [00:00, 183.55it/s]"
     ]
    },
    {
     "name": "stdout",
     "output_type": "stream",
     "text": [
      "training epoch 118 Loss: 0.00163 acc: 0.81\n",
      "epoch 118. validation accuracy: 0.67542\n"
     ]
    },
    {
     "name": "stderr",
     "output_type": "stream",
     "text": [
      "32it [00:00, 177.28it/s]\n",
      "100%|███████████████████████████████████████████████████████████████████████████████████| 4/4 [00:00<00:00, 799.98it/s]\n",
      "19it [00:00, 186.84it/s]"
     ]
    },
    {
     "name": "stdout",
     "output_type": "stream",
     "text": [
      "training epoch 119 Loss: 0.00163 acc: 0.81\n",
      "epoch 119. validation accuracy: 0.65155\n"
     ]
    },
    {
     "name": "stderr",
     "output_type": "stream",
     "text": [
      "32it [00:00, 182.81it/s]\n",
      "100%|███████████████████████████████████████████████████████████████████████████████████| 4/4 [00:00<00:00, 800.10it/s]\n",
      "32it [00:00, 187.41it/s]\n",
      "100%|███████████████████████████████████████████████████████████████████████████████████| 4/4 [00:00<00:00, 592.88it/s]\n",
      "0it [00:00, ?it/s]"
     ]
    },
    {
     "name": "stdout",
     "output_type": "stream",
     "text": [
      "training epoch 120 Loss: 0.00162 acc: 0.82\n",
      "epoch 120. validation accuracy: 0.66826\n",
      "training epoch 121 Loss: 0.00163 acc: 0.82\n",
      "epoch 121. validation accuracy: 0.67542\n"
     ]
    },
    {
     "name": "stderr",
     "output_type": "stream",
     "text": [
      "32it [00:00, 181.55it/s]\n",
      "100%|███████████████████████████████████████████████████████████████████████████████████| 4/4 [00:00<00:00, 666.71it/s]\n",
      "17it [00:00, 161.90it/s]"
     ]
    },
    {
     "name": "stdout",
     "output_type": "stream",
     "text": [
      "training epoch 122 Loss: 0.00165 acc: 0.81\n",
      "epoch 122. validation accuracy: 0.69212\n"
     ]
    },
    {
     "name": "stderr",
     "output_type": "stream",
     "text": [
      "32it [00:00, 172.06it/s]\n",
      "100%|███████████████████████████████████████████████████████████████████████████████████| 4/4 [00:00<00:00, 666.82it/s]\n",
      "32it [00:00, 215.89it/s]\n",
      "100%|███████████████████████████████████████████████████████████████████████████████████| 4/4 [00:00<00:00, 232.26it/s]\n",
      "0it [00:00, ?it/s]"
     ]
    },
    {
     "name": "stdout",
     "output_type": "stream",
     "text": [
      "training epoch 123 Loss: 0.00164 acc: 0.81\n",
      "epoch 123. validation accuracy: 0.66348\n",
      "training epoch 124 Loss: 0.00159 acc: 0.82\n",
      "epoch 124. validation accuracy: 0.66826\n"
     ]
    },
    {
     "name": "stderr",
     "output_type": "stream",
     "text": [
      "32it [00:00, 192.35it/s]\n",
      "100%|███████████████████████████████████████████████████████████████████████████████████| 4/4 [00:00<00:00, 307.77it/s]\n",
      "12it [00:00, 117.76it/s]"
     ]
    },
    {
     "name": "stdout",
     "output_type": "stream",
     "text": [
      "training epoch 125 Loss: 0.00156 acc: 0.83\n",
      "epoch 125. validation accuracy: 0.65155\n"
     ]
    },
    {
     "name": "stderr",
     "output_type": "stream",
     "text": [
      "32it [00:00, 153.81it/s]\n",
      "100%|███████████████████████████████████████████████████████████████████████████████████| 4/4 [00:00<00:00, 787.63it/s]\n",
      "32it [00:00, 195.71it/s]\n",
      "  0%|                                                                                            | 0/4 [00:00<?, ?it/s]"
     ]
    },
    {
     "name": "stdout",
     "output_type": "stream",
     "text": [
      "training epoch 126 Loss: 0.00160 acc: 0.81\n",
      "epoch 126. validation accuracy: 0.66587\n",
      "training epoch 127 Loss: 0.00163 acc: 0.82\n"
     ]
    },
    {
     "name": "stderr",
     "output_type": "stream",
     "text": [
      "100%|███████████████████████████████████████████████████████████████████████████████████| 4/4 [00:00<00:00, 641.75it/s]\n",
      "32it [00:00, 195.62it/s]\n",
      "100%|███████████████████████████████████████████████████████████████████████████████████| 4/4 [00:00<00:00, 809.71it/s]\n",
      "0it [00:00, ?it/s]"
     ]
    },
    {
     "name": "stdout",
     "output_type": "stream",
     "text": [
      "epoch 127. validation accuracy: 0.65155\n",
      "training epoch 128 Loss: 0.00160 acc: 0.81\n",
      "epoch 128. validation accuracy: 0.68019\n"
     ]
    },
    {
     "name": "stderr",
     "output_type": "stream",
     "text": [
      "32it [00:00, 200.89it/s]\n",
      "100%|███████████████████████████████████████████████████████████████████████████████████| 4/4 [00:00<00:00, 531.75it/s]\n",
      "32it [00:00, 189.12it/s]\n",
      "100%|███████████████████████████████████████████████████████████████████████████████████| 4/4 [00:00<00:00, 666.77it/s]\n",
      "0it [00:00, ?it/s]"
     ]
    },
    {
     "name": "stdout",
     "output_type": "stream",
     "text": [
      "training epoch 129 Loss: 0.00154 acc: 0.82\n",
      "epoch 129. validation accuracy: 0.67303\n",
      "training epoch 130 Loss: 0.00157 acc: 0.82\n",
      "epoch 130. validation accuracy: 0.66110\n"
     ]
    },
    {
     "name": "stderr",
     "output_type": "stream",
     "text": [
      "32it [00:00, 197.54it/s]\n",
      "100%|███████████████████████████████████████████████████████████████████████████████████| 4/4 [00:00<00:00, 705.22it/s]\n",
      "32it [00:00, 193.51it/s]\n",
      "100%|███████████████████████████████████████████████████████████████████████████████████| 4/4 [00:00<00:00, 800.17it/s]\n",
      "0it [00:00, ?it/s]"
     ]
    },
    {
     "name": "stdout",
     "output_type": "stream",
     "text": [
      "training epoch 131 Loss: 0.00159 acc: 0.82\n",
      "epoch 131. validation accuracy: 0.64439\n",
      "training epoch 132 Loss: 0.00161 acc: 0.82\n",
      "epoch 132. validation accuracy: 0.66587\n"
     ]
    },
    {
     "name": "stderr",
     "output_type": "stream",
     "text": [
      "32it [00:00, 178.42it/s]\n",
      "100%|███████████████████████████████████████████████████████████████████████████████████| 4/4 [00:00<00:00, 800.02it/s]\n",
      "17it [00:00, 163.44it/s]"
     ]
    },
    {
     "name": "stdout",
     "output_type": "stream",
     "text": [
      "training epoch 133 Loss: 0.00158 acc: 0.82\n",
      "epoch 133. validation accuracy: 0.65155\n"
     ]
    },
    {
     "name": "stderr",
     "output_type": "stream",
     "text": [
      "32it [00:00, 170.16it/s]\n",
      "100%|███████████████████████████████████████████████████████████████████████████████████| 4/4 [00:00<00:00, 651.54it/s]\n",
      "32it [00:00, 210.07it/s]\n",
      "100%|███████████████████████████████████████████████████████████████████████████████████| 4/4 [00:00<00:00, 287.97it/s]\n",
      "0it [00:00, ?it/s]"
     ]
    },
    {
     "name": "stdout",
     "output_type": "stream",
     "text": [
      "training epoch 134 Loss: 0.00158 acc: 0.82\n",
      "epoch 134. validation accuracy: 0.64916\n",
      "training epoch 135 Loss: 0.00153 acc: 0.82\n",
      "epoch 135. validation accuracy: 0.67064\n"
     ]
    },
    {
     "name": "stderr",
     "output_type": "stream",
     "text": [
      "32it [00:00, 184.71it/s]\n",
      "100%|███████████████████████████████████████████████████████████████████████████████████| 4/4 [00:00<00:00, 666.66it/s]\n",
      "32it [00:00, 211.77it/s]\n",
      "100%|███████████████████████████████████████████████████████████████████████████████████| 4/4 [00:00<00:00, 238.86it/s]\n",
      "0it [00:00, ?it/s]"
     ]
    },
    {
     "name": "stdout",
     "output_type": "stream",
     "text": [
      "training epoch 136 Loss: 0.00154 acc: 0.82\n",
      "epoch 136. validation accuracy: 0.66587\n",
      "training epoch 137 Loss: 0.00154 acc: 0.83\n",
      "epoch 137. validation accuracy: 0.66348\n"
     ]
    },
    {
     "name": "stderr",
     "output_type": "stream",
     "text": [
      "32it [00:00, 199.90it/s]\n",
      "100%|███████████████████████████████████████████████████████████████████████████████████| 4/4 [00:00<00:00, 633.25it/s]\n",
      "32it [00:00, 186.70it/s]\n"
     ]
    },
    {
     "name": "stdout",
     "output_type": "stream",
     "text": [
      "training epoch 138 Loss: 0.00156 acc: 0.83\n",
      "epoch 138. validation accuracy: 0.66348\n",
      "training epoch 139 Loss: 0.00160 acc: 0.82\n"
     ]
    },
    {
     "name": "stderr",
     "output_type": "stream",
     "text": [
      "100%|███████████████████████████████████████████████████████████████████████████████████| 4/4 [00:00<00:00, 666.74it/s]\n",
      "32it [00:00, 198.41it/s]\n",
      "100%|███████████████████████████████████████████████████████████████████████████████████| 4/4 [00:00<00:00, 430.36it/s]\n",
      "0it [00:00, ?it/s]"
     ]
    },
    {
     "name": "stdout",
     "output_type": "stream",
     "text": [
      "epoch 139. validation accuracy: 0.67064\n",
      "training epoch 140 Loss: 0.00161 acc: 0.81\n",
      "epoch 140. validation accuracy: 0.65632\n"
     ]
    },
    {
     "name": "stderr",
     "output_type": "stream",
     "text": [
      "32it [00:00, 192.06it/s]\n",
      "100%|███████████████████████████████████████████████████████████████████████████████████| 4/4 [00:00<00:00, 800.02it/s]\n",
      "32it [00:00, 190.32it/s]\n",
      "100%|███████████████████████████████████████████████████████████████████████████████████| 4/4 [00:00<00:00, 741.63it/s]\n",
      "0it [00:00, ?it/s]"
     ]
    },
    {
     "name": "stdout",
     "output_type": "stream",
     "text": [
      "training epoch 141 Loss: 0.00158 acc: 0.82\n",
      "epoch 141. validation accuracy: 0.68019\n",
      "training epoch 142 Loss: 0.00162 acc: 0.82\n",
      "epoch 142. validation accuracy: 0.66826\n"
     ]
    },
    {
     "name": "stderr",
     "output_type": "stream",
     "text": [
      "32it [00:00, 180.87it/s]\n",
      "100%|███████████████████████████████████████████████████████████████████████████████████| 4/4 [00:00<00:00, 668.44it/s]\n",
      "18it [00:00, 176.53it/s]"
     ]
    },
    {
     "name": "stdout",
     "output_type": "stream",
     "text": [
      "training epoch 143 Loss: 0.00155 acc: 0.82\n",
      "epoch 143. validation accuracy: 0.70167\n"
     ]
    },
    {
     "name": "stderr",
     "output_type": "stream",
     "text": [
      "32it [00:00, 179.81it/s]\n",
      "100%|███████████████████████████████████████████████████████████████████████████████████| 4/4 [00:00<00:00, 666.66it/s]\n",
      "32it [00:00, 184.59it/s]\n",
      "100%|███████████████████████████████████████████████████████████████████████████████████| 4/4 [00:00<00:00, 666.71it/s]"
     ]
    },
    {
     "name": "stdout",
     "output_type": "stream",
     "text": [
      "training epoch 144 Loss: 0.00163 acc: 0.81\n",
      "epoch 144. validation accuracy: 0.65394\n",
      "training epoch 145 Loss: 0.00157 acc: 0.82\n"
     ]
    },
    {
     "name": "stderr",
     "output_type": "stream",
     "text": [
      "\n",
      "11it [00:00, 107.85it/s]"
     ]
    },
    {
     "name": "stdout",
     "output_type": "stream",
     "text": [
      "epoch 145. validation accuracy: 0.66587\n"
     ]
    },
    {
     "name": "stderr",
     "output_type": "stream",
     "text": [
      "32it [00:00, 146.80it/s]\n",
      "100%|███████████████████████████████████████████████████████████████████████████████████| 4/4 [00:00<00:00, 571.53it/s]\n",
      "32it [00:00, 198.21it/s]\n",
      "  0%|                                                                                            | 0/4 [00:00<?, ?it/s]"
     ]
    },
    {
     "name": "stdout",
     "output_type": "stream",
     "text": [
      "training epoch 146 Loss: 0.00157 acc: 0.82\n",
      "epoch 146. validation accuracy: 0.65632\n",
      "training epoch 147 Loss: 0.00155 acc: 0.82\n"
     ]
    },
    {
     "name": "stderr",
     "output_type": "stream",
     "text": [
      "100%|███████████████████████████████████████████████████████████████████████████████████| 4/4 [00:00<00:00, 323.01it/s]\n",
      "32it [00:00, 190.60it/s]\n",
      "100%|███████████████████████████████████████████████████████████████████████████████████| 4/4 [00:00<00:00, 454.58it/s]\n",
      "0it [00:00, ?it/s]"
     ]
    },
    {
     "name": "stdout",
     "output_type": "stream",
     "text": [
      "epoch 147. validation accuracy: 0.66826\n",
      "training epoch 148 Loss: 0.00156 acc: 0.82\n",
      "epoch 148. validation accuracy: 0.67780\n"
     ]
    },
    {
     "name": "stderr",
     "output_type": "stream",
     "text": [
      "32it [00:00, 181.25it/s]\n",
      "100%|███████████████████████████████████████████████████████████████████████████████████| 4/4 [00:00<00:00, 447.55it/s]\n",
      "19it [00:00, 184.48it/s]"
     ]
    },
    {
     "name": "stdout",
     "output_type": "stream",
     "text": [
      "training epoch 149 Loss: 0.00151 acc: 0.82\n",
      "epoch 149. validation accuracy: 0.67064\n"
     ]
    },
    {
     "name": "stderr",
     "output_type": "stream",
     "text": [
      "32it [00:00, 179.79it/s]\n",
      "100%|███████████████████████████████████████████████████████████████████████████████████| 4/4 [00:00<00:00, 666.61it/s]\n",
      "32it [00:00, 206.28it/s]\n",
      "  0%|                                                                                            | 0/4 [00:00<?, ?it/s]"
     ]
    },
    {
     "name": "stdout",
     "output_type": "stream",
     "text": [
      "training epoch 150 Loss: 0.00155 acc: 0.83\n",
      "epoch 150. validation accuracy: 0.65394\n",
      "training epoch 151 Loss: 0.00151 acc: 0.83\n"
     ]
    },
    {
     "name": "stderr",
     "output_type": "stream",
     "text": [
      "100%|███████████████████████████████████████████████████████████████████████████████████| 4/4 [00:00<00:00, 243.14it/s]\n",
      "32it [00:00, 207.78it/s]\n",
      "100%|███████████████████████████████████████████████████████████████████████████████████| 4/4 [00:00<00:00, 354.77it/s]\n",
      "0it [00:00, ?it/s]"
     ]
    },
    {
     "name": "stdout",
     "output_type": "stream",
     "text": [
      "epoch 151. validation accuracy: 0.65155\n",
      "training epoch 152 Loss: 0.00156 acc: 0.83\n",
      "epoch 152. validation accuracy: 0.64678\n"
     ]
    },
    {
     "name": "stderr",
     "output_type": "stream",
     "text": [
      "32it [00:00, 176.64it/s]\n",
      "100%|███████████████████████████████████████████████████████████████████████████████████| 4/4 [00:00<00:00, 666.71it/s]\n",
      "19it [00:00, 182.71it/s]"
     ]
    },
    {
     "name": "stdout",
     "output_type": "stream",
     "text": [
      "training epoch 153 Loss: 0.00152 acc: 0.83\n",
      "epoch 153. validation accuracy: 0.65871\n"
     ]
    },
    {
     "name": "stderr",
     "output_type": "stream",
     "text": [
      "32it [00:00, 179.79it/s]\n",
      "100%|███████████████████████████████████████████████████████████████████████████████████| 4/4 [00:00<00:00, 571.59it/s]\n",
      "19it [00:00, 183.88it/s]"
     ]
    },
    {
     "name": "stdout",
     "output_type": "stream",
     "text": [
      "training epoch 154 Loss: 0.00155 acc: 0.82\n",
      "epoch 154. validation accuracy: 0.65155\n"
     ]
    },
    {
     "name": "stderr",
     "output_type": "stream",
     "text": [
      "32it [00:00, 181.50it/s]\n",
      "100%|███████████████████████████████████████████████████████████████████████████████████| 4/4 [00:00<00:00, 666.53it/s]\n",
      "32it [00:00, 182.03it/s]\n",
      "  0%|                                                                                            | 0/4 [00:00<?, ?it/s]"
     ]
    },
    {
     "name": "stdout",
     "output_type": "stream",
     "text": [
      "training epoch 155 Loss: 0.00155 acc: 0.83\n",
      "epoch 155. validation accuracy: 0.65394\n",
      "training epoch 156 Loss: 0.00146 acc: 0.83\n"
     ]
    },
    {
     "name": "stderr",
     "output_type": "stream",
     "text": [
      "100%|███████████████████████████████████████████████████████████████████████████████████| 4/4 [00:00<00:00, 800.17it/s]\n",
      "32it [00:00, 184.70it/s]\n",
      "  0%|                                                                                            | 0/4 [00:00<?, ?it/s]"
     ]
    },
    {
     "name": "stdout",
     "output_type": "stream",
     "text": [
      "epoch 156. validation accuracy: 0.66826\n",
      "training epoch 157 Loss: 0.00149 acc: 0.83\n"
     ]
    },
    {
     "name": "stderr",
     "output_type": "stream",
     "text": [
      "100%|███████████████████████████████████████████████████████████████████████████████████| 4/4 [00:00<00:00, 666.77it/s]\n",
      "32it [00:00, 190.49it/s]\n",
      "100%|███████████████████████████████████████████████████████████████████████████████████| 4/4 [00:00<00:00, 525.72it/s]\n",
      "0it [00:00, ?it/s]"
     ]
    },
    {
     "name": "stdout",
     "output_type": "stream",
     "text": [
      "epoch 157. validation accuracy: 0.65632\n",
      "training epoch 158 Loss: 0.00154 acc: 0.82\n",
      "epoch 158. validation accuracy: 0.64439\n"
     ]
    },
    {
     "name": "stderr",
     "output_type": "stream",
     "text": [
      "32it [00:00, 177.81it/s]\n",
      "100%|███████████████████████████████████████████████████████████████████████████████████| 4/4 [00:00<00:00, 666.95it/s]\n",
      "32it [00:00, 200.39it/s]\n",
      "100%|███████████████████████████████████████████████████████████████████████████████████| 4/4 [00:00<00:00, 337.64it/s]\n",
      "0it [00:00, ?it/s]"
     ]
    },
    {
     "name": "stdout",
     "output_type": "stream",
     "text": [
      "training epoch 159 Loss: 0.00154 acc: 0.83\n",
      "epoch 159. validation accuracy: 0.66110\n",
      "training epoch 160 Loss: 0.00149 acc: 0.83\n",
      "epoch 160. validation accuracy: 0.66348\n"
     ]
    },
    {
     "name": "stderr",
     "output_type": "stream",
     "text": [
      "32it [00:00, 201.15it/s]\n",
      "100%|███████████████████████████████████████████████████████████████████████████████████| 4/4 [00:00<00:00, 556.40it/s]\n",
      "17it [00:00, 164.14it/s]"
     ]
    },
    {
     "name": "stdout",
     "output_type": "stream",
     "text": [
      "training epoch 161 Loss: 0.00158 acc: 0.82\n",
      "epoch 161. validation accuracy: 0.65394\n"
     ]
    },
    {
     "name": "stderr",
     "output_type": "stream",
     "text": [
      "32it [00:00, 167.91it/s]\n",
      "100%|███████████████████████████████████████████████████████████████████████████████████| 4/4 [00:00<00:00, 666.77it/s]\n",
      "18it [00:00, 176.49it/s]"
     ]
    },
    {
     "name": "stdout",
     "output_type": "stream",
     "text": [
      "training epoch 162 Loss: 0.00155 acc: 0.82\n",
      "epoch 162. validation accuracy: 0.66587\n"
     ]
    },
    {
     "name": "stderr",
     "output_type": "stream",
     "text": [
      "32it [00:00, 181.80it/s]\n",
      "100%|███████████████████████████████████████████████████████████████████████████████████| 4/4 [00:00<00:00, 800.13it/s]\n",
      "18it [00:00, 173.09it/s]"
     ]
    },
    {
     "name": "stdout",
     "output_type": "stream",
     "text": [
      "training epoch 163 Loss: 0.00156 acc: 0.82\n",
      "epoch 163. validation accuracy: 0.63484\n"
     ]
    },
    {
     "name": "stderr",
     "output_type": "stream",
     "text": [
      "32it [00:00, 179.78it/s]\n",
      "100%|███████████████████████████████████████████████████████████████████████████████████| 4/4 [00:00<00:00, 799.98it/s]\n",
      "19it [00:00, 180.97it/s]"
     ]
    },
    {
     "name": "stdout",
     "output_type": "stream",
     "text": [
      "training epoch 164 Loss: 0.00153 acc: 0.82\n",
      "epoch 164. validation accuracy: 0.66587\n"
     ]
    },
    {
     "name": "stderr",
     "output_type": "stream",
     "text": [
      "32it [00:00, 146.80it/s]\n",
      "100%|███████████████████████████████████████████████████████████████████████████████████| 4/4 [00:00<00:00, 801.43it/s]\n",
      "32it [00:00, 190.04it/s]\n",
      "  0%|                                                                                            | 0/4 [00:00<?, ?it/s]"
     ]
    },
    {
     "name": "stdout",
     "output_type": "stream",
     "text": [
      "training epoch 165 Loss: 0.00151 acc: 0.83\n",
      "epoch 165. validation accuracy: 0.65394\n",
      "training epoch 166 Loss: 0.00150 acc: 0.83\n"
     ]
    },
    {
     "name": "stderr",
     "output_type": "stream",
     "text": [
      "100%|███████████████████████████████████████████████████████████████████████████████████| 4/4 [00:00<00:00, 800.13it/s]\n",
      "32it [00:00, 180.26it/s]\n",
      "  0%|                                                                                            | 0/4 [00:00<?, ?it/s]"
     ]
    },
    {
     "name": "stdout",
     "output_type": "stream",
     "text": [
      "epoch 166. validation accuracy: 0.66110\n",
      "training epoch 167 Loss: 0.00144 acc: 0.84\n"
     ]
    },
    {
     "name": "stderr",
     "output_type": "stream",
     "text": [
      "100%|███████████████████████████████████████████████████████████████████████████████████| 4/4 [00:00<00:00, 668.44it/s]\n",
      "32it [00:00, 187.00it/s]\n",
      "100%|███████████████████████████████████████████████████████████████████████████████████| 4/4 [00:00<00:00, 801.28it/s]\n",
      "0it [00:00, ?it/s]"
     ]
    },
    {
     "name": "stdout",
     "output_type": "stream",
     "text": [
      "epoch 167. validation accuracy: 0.65871\n",
      "training epoch 168 Loss: 0.00147 acc: 0.84\n",
      "epoch 168. validation accuracy: 0.68258\n"
     ]
    },
    {
     "name": "stderr",
     "output_type": "stream",
     "text": [
      "32it [00:00, 192.78it/s]\n",
      "100%|███████████████████████████████████████████████████████████████████████████████████| 4/4 [00:00<00:00, 500.10it/s]\n",
      "18it [00:00, 173.09it/s]"
     ]
    },
    {
     "name": "stdout",
     "output_type": "stream",
     "text": [
      "training epoch 169 Loss: 0.00175 acc: 0.80\n",
      "epoch 169. validation accuracy: 0.66587\n"
     ]
    },
    {
     "name": "stderr",
     "output_type": "stream",
     "text": [
      "32it [00:00, 172.06it/s]\n",
      "100%|███████████████████████████████████████████████████████████████████████████████████| 4/4 [00:00<00:00, 444.49it/s]\n",
      "32it [00:00, 197.55it/s]\n",
      "  0%|                                                                                            | 0/4 [00:00<?, ?it/s]"
     ]
    },
    {
     "name": "stdout",
     "output_type": "stream",
     "text": [
      "training epoch 170 Loss: 0.00170 acc: 0.80\n",
      "epoch 170. validation accuracy: 0.63723\n",
      "training epoch 171 Loss: 0.00167 acc: 0.81\n"
     ]
    },
    {
     "name": "stderr",
     "output_type": "stream",
     "text": [
      "100%|███████████████████████████████████████████████████████████████████████████████████| 4/4 [00:00<00:00, 800.06it/s]\n",
      "32it [00:00, 181.83it/s]\n",
      "100%|███████████████████████████████████████████████████████████████████████████████████| 4/4 [00:00<00:00, 666.66it/s]"
     ]
    },
    {
     "name": "stdout",
     "output_type": "stream",
     "text": [
      "epoch 171. validation accuracy: 0.64916\n",
      "training epoch 172 Loss: 0.00160 acc: 0.82\n"
     ]
    },
    {
     "name": "stderr",
     "output_type": "stream",
     "text": [
      "\n",
      "32it [00:00, 188.25it/s]\n",
      "100%|███████████████████████████████████████████████████████████████████████████████████| 4/4 [00:00<00:00, 668.10it/s]\n",
      "0it [00:00, ?it/s]"
     ]
    },
    {
     "name": "stdout",
     "output_type": "stream",
     "text": [
      "epoch 172. validation accuracy: 0.66587\n",
      "training epoch 173 Loss: 0.00157 acc: 0.82\n",
      "epoch 173. validation accuracy: 0.64439\n"
     ]
    },
    {
     "name": "stderr",
     "output_type": "stream",
     "text": [
      "32it [00:00, 174.87it/s]\n",
      "100%|███████████████████████████████████████████████████████████████████████████████████| 4/4 [00:00<00:00, 666.69it/s]\n",
      "17it [00:00, 163.47it/s]"
     ]
    },
    {
     "name": "stdout",
     "output_type": "stream",
     "text": [
      "training epoch 174 Loss: 0.00172 acc: 0.80\n",
      "epoch 174. validation accuracy: 0.63962\n"
     ]
    },
    {
     "name": "stderr",
     "output_type": "stream",
     "text": [
      "32it [00:00, 161.63it/s]\n",
      "100%|███████████████████████████████████████████████████████████████████████████████████| 4/4 [00:00<00:00, 800.10it/s]\n",
      "32it [00:00, 196.71it/s]\n",
      "100%|███████████████████████████████████████████████████████████████████████████████████| 4/4 [00:00<00:00, 800.40it/s]"
     ]
    },
    {
     "name": "stdout",
     "output_type": "stream",
     "text": [
      "training epoch 175 Loss: 0.00167 acc: 0.81\n",
      "epoch 175. validation accuracy: 0.64916\n",
      "training epoch 176 Loss: 0.00162 acc: 0.81\n"
     ]
    },
    {
     "name": "stderr",
     "output_type": "stream",
     "text": [
      "\n",
      "32it [00:00, 175.84it/s]\n",
      "  0%|                                                                                            | 0/4 [00:00<?, ?it/s]"
     ]
    },
    {
     "name": "stdout",
     "output_type": "stream",
     "text": [
      "epoch 176. validation accuracy: 0.64678\n",
      "training epoch 177 Loss: 0.00163 acc: 0.81\n"
     ]
    },
    {
     "name": "stderr",
     "output_type": "stream",
     "text": [
      "100%|███████████████████████████████████████████████████████████████████████████████████| 4/4 [00:00<00:00, 666.69it/s]\n",
      "18it [00:00, 171.44it/s]"
     ]
    },
    {
     "name": "stdout",
     "output_type": "stream",
     "text": [
      "epoch 177. validation accuracy: 0.66348\n"
     ]
    },
    {
     "name": "stderr",
     "output_type": "stream",
     "text": [
      "32it [00:00, 172.98it/s]\n",
      "100%|███████████████████████████████████████████████████████████████████████████████████| 4/4 [00:00<00:00, 666.87it/s]\n",
      "18it [00:00, 178.23it/s]"
     ]
    },
    {
     "name": "stdout",
     "output_type": "stream",
     "text": [
      "training epoch 178 Loss: 0.00160 acc: 0.82\n",
      "epoch 178. validation accuracy: 0.66110\n"
     ]
    },
    {
     "name": "stderr",
     "output_type": "stream",
     "text": [
      "32it [00:00, 176.81it/s]\n",
      "100%|███████████████████████████████████████████████████████████████████████████████████| 4/4 [00:00<00:00, 800.02it/s]\n",
      "18it [00:00, 178.23it/s]"
     ]
    },
    {
     "name": "stdout",
     "output_type": "stream",
     "text": [
      "training epoch 179 Loss: 0.00157 acc: 0.82\n",
      "epoch 179. validation accuracy: 0.66587\n"
     ]
    },
    {
     "name": "stderr",
     "output_type": "stream",
     "text": [
      "32it [00:00, 181.66it/s]\n",
      "100%|███████████████████████████████████████████████████████████████████████████████████| 4/4 [00:00<00:00, 800.10it/s]\n",
      "32it [00:00, 183.92it/s]\n",
      "100%|███████████████████████████████████████████████████████████████████████████████████| 4/4 [00:00<00:00, 666.74it/s]"
     ]
    },
    {
     "name": "stdout",
     "output_type": "stream",
     "text": [
      "training epoch 180 Loss: 0.00165 acc: 0.81\n",
      "epoch 180. validation accuracy: 0.66826\n",
      "training epoch 181 Loss: 0.00163 acc: 0.81\n"
     ]
    },
    {
     "name": "stderr",
     "output_type": "stream",
     "text": [
      "\n",
      "32it [00:00, 186.06it/s]\n",
      "100%|███████████████████████████████████████████████████████████████████████████████████| 4/4 [00:00<00:00, 800.21it/s]\n",
      "0it [00:00, ?it/s]"
     ]
    },
    {
     "name": "stdout",
     "output_type": "stream",
     "text": [
      "epoch 181. validation accuracy: 0.64200\n",
      "training epoch 182 Loss: 0.00159 acc: 0.82\n",
      "epoch 182. validation accuracy: 0.63484\n"
     ]
    },
    {
     "name": "stderr",
     "output_type": "stream",
     "text": [
      "32it [00:00, 174.88it/s]\n",
      "100%|███████████████████████████████████████████████████████████████████████████████████| 4/4 [00:00<00:00, 800.06it/s]\n",
      "17it [00:00, 162.82it/s]"
     ]
    },
    {
     "name": "stdout",
     "output_type": "stream",
     "text": [
      "training epoch 183 Loss: 0.00151 acc: 0.83\n",
      "epoch 183. validation accuracy: 0.63962\n"
     ]
    },
    {
     "name": "stderr",
     "output_type": "stream",
     "text": [
      "32it [00:00, 172.60it/s]\n",
      "100%|███████████████████████████████████████████████████████████████████████████████████| 4/4 [00:00<00:00, 800.06it/s]\n",
      "20it [00:00, 199.73it/s]"
     ]
    },
    {
     "name": "stdout",
     "output_type": "stream",
     "text": [
      "training epoch 184 Loss: 0.00155 acc: 0.82\n",
      "epoch 184. validation accuracy: 0.62768\n"
     ]
    },
    {
     "name": "stderr",
     "output_type": "stream",
     "text": [
      "32it [00:00, 170.86it/s]\n",
      "100%|███████████████████████████████████████████████████████████████████████████████████| 4/4 [00:00<00:00, 302.98it/s]\n",
      "18it [00:00, 169.87it/s]"
     ]
    },
    {
     "name": "stdout",
     "output_type": "stream",
     "text": [
      "training epoch 185 Loss: 0.00150 acc: 0.82\n",
      "epoch 185. validation accuracy: 0.63007\n"
     ]
    },
    {
     "name": "stderr",
     "output_type": "stream",
     "text": [
      "32it [00:00, 182.73it/s]\n",
      "100%|███████████████████████████████████████████████████████████████████████████████████| 4/4 [00:00<00:00, 666.64it/s]\n",
      "19it [00:00, 184.49it/s]"
     ]
    },
    {
     "name": "stdout",
     "output_type": "stream",
     "text": [
      "training epoch 186 Loss: 0.00158 acc: 0.82\n",
      "epoch 186. validation accuracy: 0.63246\n"
     ]
    },
    {
     "name": "stderr",
     "output_type": "stream",
     "text": [
      "32it [00:00, 182.88it/s]\n",
      "100%|███████████████████████████████████████████████████████████████████████████████████| 4/4 [00:00<00:00, 666.71it/s]\n",
      "19it [00:00, 179.26it/s]"
     ]
    },
    {
     "name": "stdout",
     "output_type": "stream",
     "text": [
      "training epoch 187 Loss: 0.00159 acc: 0.82\n",
      "epoch 187. validation accuracy: 0.62530\n"
     ]
    },
    {
     "name": "stderr",
     "output_type": "stream",
     "text": [
      "32it [00:00, 175.88it/s]\n",
      "100%|███████████████████████████████████████████████████████████████████████████████████| 4/4 [00:00<00:00, 800.10it/s]\n",
      "18it [00:00, 169.82it/s]"
     ]
    },
    {
     "name": "stdout",
     "output_type": "stream",
     "text": [
      "training epoch 188 Loss: 0.00153 acc: 0.83\n",
      "epoch 188. validation accuracy: 0.65394\n"
     ]
    },
    {
     "name": "stderr",
     "output_type": "stream",
     "text": [
      "32it [00:00, 170.23it/s]\n",
      "100%|███████████████████████████████████████████████████████████████████████████████████| 4/4 [00:00<00:00, 799.94it/s]\n",
      "19it [00:00, 188.13it/s]"
     ]
    },
    {
     "name": "stdout",
     "output_type": "stream",
     "text": [
      "training epoch 189 Loss: 0.00151 acc: 0.83\n",
      "epoch 189. validation accuracy: 0.64916\n"
     ]
    },
    {
     "name": "stderr",
     "output_type": "stream",
     "text": [
      "32it [00:00, 182.87it/s]\n",
      "100%|███████████████████████████████████████████████████████████████████████████████████| 4/4 [00:00<00:00, 799.94it/s]\n",
      "19it [00:00, 182.58it/s]"
     ]
    },
    {
     "name": "stdout",
     "output_type": "stream",
     "text": [
      "training epoch 190 Loss: 0.00150 acc: 0.83\n",
      "epoch 190. validation accuracy: 0.65632\n"
     ]
    },
    {
     "name": "stderr",
     "output_type": "stream",
     "text": [
      "32it [00:00, 180.73it/s]\n",
      "100%|███████████████████████████████████████████████████████████████████████████████████| 4/4 [00:00<00:00, 799.94it/s]\n",
      "32it [00:00, 188.29it/s]\n",
      "  0%|                                                                                            | 0/4 [00:00<?, ?it/s]"
     ]
    },
    {
     "name": "stdout",
     "output_type": "stream",
     "text": [
      "training epoch 191 Loss: 0.00147 acc: 0.83\n",
      "epoch 191. validation accuracy: 0.66826\n",
      "training epoch 192 Loss: 0.00148 acc: 0.83\n"
     ]
    },
    {
     "name": "stderr",
     "output_type": "stream",
     "text": [
      "100%|███████████████████████████████████████████████████████████████████████████████████| 4/4 [00:00<00:00, 572.31it/s]\n",
      "18it [00:00, 174.77it/s]"
     ]
    },
    {
     "name": "stdout",
     "output_type": "stream",
     "text": [
      "epoch 192. validation accuracy: 0.66587\n"
     ]
    },
    {
     "name": "stderr",
     "output_type": "stream",
     "text": [
      "32it [00:00, 171.85it/s]\n",
      "100%|███████████████████████████████████████████████████████████████████████████████████| 4/4 [00:00<00:00, 571.53it/s]\n",
      "18it [00:00, 174.77it/s]"
     ]
    },
    {
     "name": "stdout",
     "output_type": "stream",
     "text": [
      "training epoch 193 Loss: 0.00153 acc: 0.83\n",
      "epoch 193. validation accuracy: 0.65632\n"
     ]
    },
    {
     "name": "stderr",
     "output_type": "stream",
     "text": [
      "32it [00:00, 178.78it/s]\n",
      "100%|███████████████████████████████████████████████████████████████████████████████████| 4/4 [00:00<00:00, 666.69it/s]\n",
      "32it [00:00, 190.49it/s]\n",
      "100%|███████████████████████████████████████████████████████████████████████████████████| 4/4 [00:00<00:00, 664.73it/s]\n",
      "0it [00:00, ?it/s]"
     ]
    },
    {
     "name": "stdout",
     "output_type": "stream",
     "text": [
      "training epoch 194 Loss: 0.00149 acc: 0.83\n",
      "epoch 194. validation accuracy: 0.64439\n",
      "training epoch 195 Loss: 0.00146 acc: 0.83\n",
      "epoch 195. validation accuracy: 0.63962\n"
     ]
    },
    {
     "name": "stderr",
     "output_type": "stream",
     "text": [
      "32it [00:00, 170.23it/s]\n",
      "100%|███████████████████████████████████████████████████████████████████████████████████| 4/4 [00:00<00:00, 666.71it/s]\n",
      "32it [00:00, 181.56it/s]\n",
      "100%|███████████████████████████████████████████████████████████████████████████████████| 4/4 [00:00<00:00, 571.51it/s]"
     ]
    },
    {
     "name": "stdout",
     "output_type": "stream",
     "text": [
      "training epoch 196 Loss: 0.00149 acc: 0.84\n",
      "epoch 196. validation accuracy: 0.65155\n",
      "training epoch 197 Loss: 0.00147 acc: 0.83\n"
     ]
    },
    {
     "name": "stderr",
     "output_type": "stream",
     "text": [
      "\n",
      "32it [00:00, 179.79it/s]\n",
      "  0%|                                                                                            | 0/4 [00:00<?, ?it/s]"
     ]
    },
    {
     "name": "stdout",
     "output_type": "stream",
     "text": [
      "epoch 197. validation accuracy: 0.64916\n",
      "training epoch 198 Loss: 0.00151 acc: 0.84\n"
     ]
    },
    {
     "name": "stderr",
     "output_type": "stream",
     "text": [
      "100%|███████████████████████████████████████████████████████████████████████████████████| 4/4 [00:00<00:00, 800.06it/s]\n",
      "32it [00:00, 176.81it/s]\n",
      "  0%|                                                                                            | 0/4 [00:00<?, ?it/s]"
     ]
    },
    {
     "name": "stdout",
     "output_type": "stream",
     "text": [
      "epoch 198. validation accuracy: 0.64200\n",
      "training epoch 199 Loss: 0.00150 acc: 0.83\n"
     ]
    },
    {
     "name": "stderr",
     "output_type": "stream",
     "text": [
      "100%|███████████████████████████████████████████████████████████████████████████████████| 4/4 [00:00<00:00, 800.06it/s]\n",
      "32it [00:00, 198.12it/s]\n",
      "100%|███████████████████████████████████████████████████████████████████████████████████| 4/4 [00:00<00:00, 240.47it/s]\n",
      "0it [00:00, ?it/s]"
     ]
    },
    {
     "name": "stdout",
     "output_type": "stream",
     "text": [
      "epoch 199. validation accuracy: 0.63962\n",
      "training epoch 200 Loss: 0.00147 acc: 0.83\n",
      "epoch 200. validation accuracy: 0.66110\n"
     ]
    },
    {
     "name": "stderr",
     "output_type": "stream",
     "text": [
      "32it [00:00, 172.06it/s]\n",
      "100%|███████████████████████████████████████████████████████████████████████████████████| 4/4 [00:00<00:00, 800.10it/s]\n",
      "19it [00:00, 185.25it/s]"
     ]
    },
    {
     "name": "stdout",
     "output_type": "stream",
     "text": [
      "training epoch 201 Loss: 0.00150 acc: 0.83\n",
      "epoch 201. validation accuracy: 0.63246\n"
     ]
    },
    {
     "name": "stderr",
     "output_type": "stream",
     "text": [
      "32it [00:00, 184.37it/s]\n",
      "100%|███████████████████████████████████████████████████████████████████████████████████| 4/4 [00:00<00:00, 800.02it/s]\n",
      "19it [00:00, 184.48it/s]"
     ]
    },
    {
     "name": "stdout",
     "output_type": "stream",
     "text": [
      "training epoch 202 Loss: 0.00150 acc: 0.83\n",
      "epoch 202. validation accuracy: 0.63723\n"
     ]
    },
    {
     "name": "stderr",
     "output_type": "stream",
     "text": [
      "32it [00:00, 180.80it/s]\n",
      "100%|███████████████████████████████████████████████████████████████████████████████████| 4/4 [00:00<00:00, 800.21it/s]\n",
      "18it [00:00, 174.77it/s]"
     ]
    },
    {
     "name": "stdout",
     "output_type": "stream",
     "text": [
      "training epoch 203 Loss: 0.00148 acc: 0.84\n",
      "epoch 203. validation accuracy: 0.64200\n"
     ]
    },
    {
     "name": "stderr",
     "output_type": "stream",
     "text": [
      "32it [00:00, 175.84it/s]\n",
      "100%|███████████████████████████████████████████████████████████████████████████████████| 4/4 [00:00<00:00, 666.69it/s]\n",
      "14it [00:00, 115.66it/s]"
     ]
    },
    {
     "name": "stdout",
     "output_type": "stream",
     "text": [
      "training epoch 204 Loss: 0.00146 acc: 0.84\n",
      "epoch 204. validation accuracy: 0.65155\n"
     ]
    },
    {
     "name": "stderr",
     "output_type": "stream",
     "text": [
      "32it [00:00, 147.32it/s]\n",
      "100%|███████████████████████████████████████████████████████████████████████████████████| 4/4 [00:00<00:00, 799.94it/s]\n",
      "18it [00:00, 176.90it/s]"
     ]
    },
    {
     "name": "stdout",
     "output_type": "stream",
     "text": [
      "training epoch 205 Loss: 0.00146 acc: 0.83\n",
      "epoch 205. validation accuracy: 0.67303\n"
     ]
    },
    {
     "name": "stderr",
     "output_type": "stream",
     "text": [
      "32it [00:00, 177.04it/s]\n",
      "100%|███████████████████████████████████████████████████████████████████████████████████| 4/4 [00:00<00:00, 800.06it/s]\n",
      "23it [00:00, 195.98it/s]"
     ]
    },
    {
     "name": "stdout",
     "output_type": "stream",
     "text": [
      "training epoch 206 Loss: 0.00147 acc: 0.83\n",
      "epoch 206. validation accuracy: 0.67780\n"
     ]
    },
    {
     "name": "stderr",
     "output_type": "stream",
     "text": [
      "32it [00:00, 181.86it/s]\n",
      "100%|███████████████████████████████████████████████████████████████████████████████████| 4/4 [00:00<00:00, 800.06it/s]\n",
      "18it [00:00, 174.77it/s]"
     ]
    },
    {
     "name": "stdout",
     "output_type": "stream",
     "text": [
      "training epoch 207 Loss: 0.00147 acc: 0.83\n",
      "epoch 207. validation accuracy: 0.66348\n"
     ]
    },
    {
     "name": "stderr",
     "output_type": "stream",
     "text": [
      "32it [00:00, 174.88it/s]\n",
      "100%|███████████████████████████████████████████████████████████████████████████████████| 4/4 [00:00<00:00, 666.77it/s]\n",
      "18it [00:00, 174.77it/s]"
     ]
    },
    {
     "name": "stdout",
     "output_type": "stream",
     "text": [
      "training epoch 208 Loss: 0.00145 acc: 0.84\n",
      "epoch 208. validation accuracy: 0.65155\n"
     ]
    },
    {
     "name": "stderr",
     "output_type": "stream",
     "text": [
      "32it [00:00, 176.81it/s]\n",
      "100%|███████████████████████████████████████████████████████████████████████████████████| 4/4 [00:00<00:00, 800.06it/s]\n",
      "19it [00:00, 180.98it/s]"
     ]
    },
    {
     "name": "stdout",
     "output_type": "stream",
     "text": [
      "training epoch 209 Loss: 0.00147 acc: 0.84\n",
      "epoch 209. validation accuracy: 0.65632\n"
     ]
    },
    {
     "name": "stderr",
     "output_type": "stream",
     "text": [
      "32it [00:00, 179.79it/s]\n",
      "100%|███████████████████████████████████████████████████████████████████████████████████| 4/4 [00:00<00:00, 667.32it/s]\n",
      "17it [00:00, 166.68it/s]"
     ]
    },
    {
     "name": "stdout",
     "output_type": "stream",
     "text": [
      "training epoch 210 Loss: 0.00149 acc: 0.83\n",
      "epoch 210. validation accuracy: 0.65871\n"
     ]
    },
    {
     "name": "stderr",
     "output_type": "stream",
     "text": [
      "32it [00:00, 175.71it/s]\n",
      "100%|███████████████████████████████████████████████████████████████████████████████████| 4/4 [00:00<00:00, 666.79it/s]\n",
      "32it [00:00, 197.54it/s]\n",
      "100%|███████████████████████████████████████████████████████████████████████████████████| 4/4 [00:00<00:00, 666.79it/s]\n",
      "0it [00:00, ?it/s]"
     ]
    },
    {
     "name": "stdout",
     "output_type": "stream",
     "text": [
      "training epoch 211 Loss: 0.00148 acc: 0.83\n",
      "epoch 211. validation accuracy: 0.65394\n",
      "training epoch 212 Loss: 0.00148 acc: 0.84\n",
      "epoch 212. validation accuracy: 0.67542\n"
     ]
    },
    {
     "name": "stderr",
     "output_type": "stream",
     "text": [
      "32it [00:00, 179.79it/s]\n",
      "100%|███████████████████████████████████████████████████████████████████████████████████| 4/4 [00:00<00:00, 800.13it/s]\n",
      "32it [00:00, 192.79it/s]\n",
      "  0%|                                                                                            | 0/4 [00:00<?, ?it/s]"
     ]
    },
    {
     "name": "stdout",
     "output_type": "stream",
     "text": [
      "training epoch 213 Loss: 0.00148 acc: 0.84\n",
      "epoch 213. validation accuracy: 0.66826\n",
      "training epoch 214 Loss: 0.00151 acc: 0.83\n"
     ]
    },
    {
     "name": "stderr",
     "output_type": "stream",
     "text": [
      "100%|███████████████████████████████████████████████████████████████████████████████████| 4/4 [00:00<00:00, 666.77it/s]\n",
      "32it [00:00, 193.95it/s]\n",
      "100%|███████████████████████████████████████████████████████████████████████████████████| 4/4 [00:00<00:00, 666.61it/s]\n",
      "0it [00:00, ?it/s]"
     ]
    },
    {
     "name": "stdout",
     "output_type": "stream",
     "text": [
      "epoch 214. validation accuracy: 0.65871\n",
      "training epoch 215 Loss: 0.00148 acc: 0.84\n",
      "epoch 215. validation accuracy: 0.66587\n"
     ]
    },
    {
     "name": "stderr",
     "output_type": "stream",
     "text": [
      "32it [00:00, 190.49it/s]\n",
      "100%|███████████████████████████████████████████████████████████████████████████████████| 4/4 [00:00<00:00, 799.91it/s]\n",
      "19it [00:00, 182.71it/s]"
     ]
    },
    {
     "name": "stdout",
     "output_type": "stream",
     "text": [
      "training epoch 216 Loss: 0.00168 acc: 0.81\n",
      "epoch 216. validation accuracy: 0.67064\n"
     ]
    },
    {
     "name": "stderr",
     "output_type": "stream",
     "text": [
      "32it [00:00, 184.99it/s]\n",
      "100%|███████████████████████████████████████████████████████████████████████████████████| 4/4 [00:00<00:00, 800.13it/s]\n",
      "32it [00:00, 187.06it/s]\n",
      "100%|███████████████████████████████████████████████████████████████████████████████████| 4/4 [00:00<00:00, 800.13it/s]"
     ]
    },
    {
     "name": "stdout",
     "output_type": "stream",
     "text": [
      "training epoch 217 Loss: 0.00162 acc: 0.81\n",
      "epoch 217. validation accuracy: 0.65871\n",
      "training epoch 218 Loss: 0.00159 acc: 0.82\n"
     ]
    },
    {
     "name": "stderr",
     "output_type": "stream",
     "text": [
      "\n",
      "32it [00:00, 182.72it/s]\n",
      "100%|███████████████████████████████████████████████████████████████████████████████████| 4/4 [00:00<00:00, 666.66it/s]\n",
      "0it [00:00, ?it/s]"
     ]
    },
    {
     "name": "stdout",
     "output_type": "stream",
     "text": [
      "epoch 218. validation accuracy: 0.66587\n",
      "training epoch 219 Loss: 0.00153 acc: 0.83\n",
      "epoch 219. validation accuracy: 0.64200\n"
     ]
    },
    {
     "name": "stderr",
     "output_type": "stream",
     "text": [
      "32it [00:00, 176.81it/s]\n",
      "100%|███████████████████████████████████████████████████████████████████████████████████| 4/4 [00:00<00:00, 799.87it/s]\n",
      "32it [00:00, 188.52it/s]\n",
      "  0%|                                                                                            | 0/4 [00:00<?, ?it/s]"
     ]
    },
    {
     "name": "stdout",
     "output_type": "stream",
     "text": [
      "training epoch 220 Loss: 0.00159 acc: 0.82\n",
      "epoch 220. validation accuracy: 0.63962\n",
      "training epoch 221 Loss: 0.00155 acc: 0.82\n"
     ]
    },
    {
     "name": "stderr",
     "output_type": "stream",
     "text": [
      "100%|███████████████████████████████████████████████████████████████████████████████████| 4/4 [00:00<00:00, 666.71it/s]\n",
      "32it [00:00, 192.60it/s]\n",
      "100%|███████████████████████████████████████████████████████████████████████████████████| 4/4 [00:00<00:00, 666.71it/s]\n",
      "0it [00:00, ?it/s]"
     ]
    },
    {
     "name": "stdout",
     "output_type": "stream",
     "text": [
      "epoch 221. validation accuracy: 0.64678\n",
      "training epoch 222 Loss: 0.00152 acc: 0.82\n",
      "epoch 222. validation accuracy: 0.63723\n"
     ]
    },
    {
     "name": "stderr",
     "output_type": "stream",
     "text": [
      "32it [00:00, 190.49it/s]\n",
      "100%|███████████████████████████████████████████████████████████████████████████████████| 4/4 [00:00<00:00, 571.49it/s]\n",
      "32it [00:00, 196.33it/s]\n",
      "100%|███████████████████████████████████████████████████████████████████████████████████| 4/4 [00:00<00:00, 799.94it/s]\n",
      "0it [00:00, ?it/s]"
     ]
    },
    {
     "name": "stdout",
     "output_type": "stream",
     "text": [
      "training epoch 223 Loss: 0.00153 acc: 0.82\n",
      "epoch 223. validation accuracy: 0.64916\n",
      "training epoch 224 Loss: 0.00151 acc: 0.83\n",
      "epoch 224. validation accuracy: 0.66348\n"
     ]
    },
    {
     "name": "stderr",
     "output_type": "stream",
     "text": [
      "32it [00:00, 141.88it/s]\n",
      "100%|███████████████████████████████████████████████████████████████████████████████████| 4/4 [00:00<00:00, 666.66it/s]\n",
      "32it [00:00, 185.39it/s]\n",
      "100%|███████████████████████████████████████████████████████████████████████████████████| 4/4 [00:00<00:00, 800.02it/s]"
     ]
    },
    {
     "name": "stdout",
     "output_type": "stream",
     "text": [
      "training epoch 225 Loss: 0.00148 acc: 0.84\n",
      "epoch 225. validation accuracy: 0.66110\n",
      "training epoch 226 Loss: 0.00149 acc: 0.83\n"
     ]
    },
    {
     "name": "stderr",
     "output_type": "stream",
     "text": [
      "\n",
      "32it [00:00, 187.15it/s]\n",
      "100%|███████████████████████████████████████████████████████████████████████████████████| 4/4 [00:00<00:00, 666.64it/s]\n",
      "0it [00:00, ?it/s]"
     ]
    },
    {
     "name": "stdout",
     "output_type": "stream",
     "text": [
      "epoch 226. validation accuracy: 0.66348\n",
      "training epoch 227 Loss: 0.00152 acc: 0.83\n",
      "epoch 227. validation accuracy: 0.66826\n"
     ]
    },
    {
     "name": "stderr",
     "output_type": "stream",
     "text": [
      "32it [00:00, 183.73it/s]\n",
      "100%|███████████████████████████████████████████████████████████████████████████████████| 4/4 [00:00<00:00, 666.56it/s]\n",
      "32it [00:00, 179.79it/s]"
     ]
    },
    {
     "name": "stdout",
     "output_type": "stream",
     "text": [
      "training epoch 228 Loss: 0.00164 acc: 0.81\n",
      "epoch 228. validation accuracy: 0.67542\n"
     ]
    },
    {
     "name": "stderr",
     "output_type": "stream",
     "text": [
      "\n",
      "100%|███████████████████████████████████████████████████████████████████████████████████| 4/4 [00:00<00:00, 666.69it/s]\n",
      "32it [00:00, 192.74it/s]\n",
      "  0%|                                                                                            | 0/4 [00:00<?, ?it/s]"
     ]
    },
    {
     "name": "stdout",
     "output_type": "stream",
     "text": [
      "training epoch 229 Loss: 0.00163 acc: 0.81\n",
      "epoch 229. validation accuracy: 0.67303\n",
      "training epoch 230 Loss: 0.00159 acc: 0.82\n"
     ]
    },
    {
     "name": "stderr",
     "output_type": "stream",
     "text": [
      "100%|███████████████████████████████████████████████████████████████████████████████████| 4/4 [00:00<00:00, 287.49it/s]\n",
      "22it [00:00, 193.06it/s]"
     ]
    },
    {
     "name": "stdout",
     "output_type": "stream",
     "text": [
      "epoch 230. validation accuracy: 0.67303\n"
     ]
    },
    {
     "name": "stderr",
     "output_type": "stream",
     "text": [
      "32it [00:00, 182.19it/s]\n",
      "100%|███████████████████████████████████████████████████████████████████████████████████| 4/4 [00:00<00:00, 666.66it/s]\n",
      "18it [00:00, 174.77it/s]"
     ]
    },
    {
     "name": "stdout",
     "output_type": "stream",
     "text": [
      "training epoch 231 Loss: 0.00153 acc: 0.83\n",
      "epoch 231. validation accuracy: 0.66587\n"
     ]
    },
    {
     "name": "stderr",
     "output_type": "stream",
     "text": [
      "32it [00:00, 177.79it/s]\n",
      "100%|███████████████████████████████████████████████████████████████████████████████████| 4/4 [00:00<00:00, 800.10it/s]\n",
      "32it [00:00, 184.99it/s]\n",
      "100%|███████████████████████████████████████████████████████████████████████████████████| 4/4 [00:00<00:00, 799.91it/s]"
     ]
    },
    {
     "name": "stdout",
     "output_type": "stream",
     "text": [
      "training epoch 232 Loss: 0.00155 acc: 0.82\n",
      "epoch 232. validation accuracy: 0.67303\n",
      "training epoch 233 Loss: 0.00149 acc: 0.83\n"
     ]
    },
    {
     "name": "stderr",
     "output_type": "stream",
     "text": [
      "\n",
      "32it [00:00, 181.91it/s]\n",
      "  0%|                                                                                            | 0/4 [00:00<?, ?it/s]"
     ]
    },
    {
     "name": "stdout",
     "output_type": "stream",
     "text": [
      "epoch 233. validation accuracy: 0.66348\n",
      "training epoch 234 Loss: 0.00146 acc: 0.83\n"
     ]
    },
    {
     "name": "stderr",
     "output_type": "stream",
     "text": [
      "100%|███████████████████████████████████████████████████████████████████████████████████| 4/4 [00:00<00:00, 799.91it/s]\n",
      "32it [00:00, 177.79it/s]\n",
      "  0%|                                                                                            | 0/4 [00:00<?, ?it/s]"
     ]
    },
    {
     "name": "stdout",
     "output_type": "stream",
     "text": [
      "epoch 234. validation accuracy: 0.68735\n",
      "training epoch 235 Loss: 0.00146 acc: 0.84\n"
     ]
    },
    {
     "name": "stderr",
     "output_type": "stream",
     "text": [
      "100%|███████████████████████████████████████████████████████████████████████████████████| 4/4 [00:00<00:00, 800.06it/s]\n",
      "32it [00:00, 178.42it/s]\n",
      "  0%|                                                                                            | 0/4 [00:00<?, ?it/s]"
     ]
    },
    {
     "name": "stdout",
     "output_type": "stream",
     "text": [
      "epoch 235. validation accuracy: 0.67303\n",
      "training epoch 236 Loss: 0.00145 acc: 0.84\n"
     ]
    },
    {
     "name": "stderr",
     "output_type": "stream",
     "text": [
      "100%|███████████████████████████████████████████████████████████████████████████████████| 4/4 [00:00<00:00, 666.79it/s]\n",
      "32it [00:00, 179.79it/s]\n",
      "  0%|                                                                                            | 0/4 [00:00<?, ?it/s]"
     ]
    },
    {
     "name": "stdout",
     "output_type": "stream",
     "text": [
      "epoch 236. validation accuracy: 0.66348\n",
      "training epoch 237 Loss: 0.00143 acc: 0.84\n"
     ]
    },
    {
     "name": "stderr",
     "output_type": "stream",
     "text": [
      "100%|███████████████████████████████████████████████████████████████████████████████████| 4/4 [00:00<00:00, 800.02it/s]\n",
      "32it [00:00, 182.87it/s]\n",
      "100%|███████████████████████████████████████████████████████████████████████████████████| 4/4 [00:00<00:00, 666.77it/s]\n",
      "0it [00:00, ?it/s]"
     ]
    },
    {
     "name": "stdout",
     "output_type": "stream",
     "text": [
      "epoch 237. validation accuracy: 0.64916\n",
      "training epoch 238 Loss: 0.00144 acc: 0.84\n",
      "epoch 238. validation accuracy: 0.65871\n"
     ]
    },
    {
     "name": "stderr",
     "output_type": "stream",
     "text": [
      "32it [00:00, 176.81it/s]\n",
      "100%|███████████████████████████████████████████████████████████████████████████████████| 4/4 [00:00<00:00, 500.07it/s]\n",
      "19it [00:00, 182.71it/s]"
     ]
    },
    {
     "name": "stdout",
     "output_type": "stream",
     "text": [
      "training epoch 239 Loss: 0.00146 acc: 0.84\n",
      "epoch 239. validation accuracy: 0.67303\n"
     ]
    },
    {
     "name": "stderr",
     "output_type": "stream",
     "text": [
      "32it [00:00, 179.27it/s]\n",
      "100%|███████████████████████████████████████████████████████████████████████████████████| 4/4 [00:00<00:00, 666.56it/s]\n",
      "16it [00:00, 153.49it/s]"
     ]
    },
    {
     "name": "stdout",
     "output_type": "stream",
     "text": [
      "training epoch 240 Loss: 0.00145 acc: 0.84\n",
      "epoch 240. validation accuracy: 0.65632\n"
     ]
    },
    {
     "name": "stderr",
     "output_type": "stream",
     "text": [
      "32it [00:00, 164.97it/s]\n",
      "100%|███████████████████████████████████████████████████████████████████████████████████| 4/4 [00:00<00:00, 666.82it/s]\n",
      "18it [00:00, 178.23it/s]"
     ]
    },
    {
     "name": "stdout",
     "output_type": "stream",
     "text": [
      "training epoch 241 Loss: 0.00143 acc: 0.84\n",
      "epoch 241. validation accuracy: 0.67064\n"
     ]
    },
    {
     "name": "stderr",
     "output_type": "stream",
     "text": [
      "32it [00:00, 179.79it/s]\n",
      "100%|███████████████████████████████████████████████████████████████████████████████████| 4/4 [00:00<00:00, 801.01it/s]\n",
      "32it [00:00, 210.17it/s]\n",
      "100%|███████████████████████████████████████████████████████████████████████████████████| 4/4 [00:00<00:00, 198.05it/s]\n",
      "0it [00:00, ?it/s]"
     ]
    },
    {
     "name": "stdout",
     "output_type": "stream",
     "text": [
      "training epoch 242 Loss: 0.00143 acc: 0.84\n",
      "epoch 242. validation accuracy: 0.65871\n",
      "training epoch 243 Loss: 0.00142 acc: 0.84\n",
      "epoch 243. validation accuracy: 0.66348\n"
     ]
    },
    {
     "name": "stderr",
     "output_type": "stream",
     "text": [
      "32it [00:00, 146.08it/s]\n",
      "100%|███████████████████████████████████████████████████████████████████████████████████| 4/4 [00:00<00:00, 666.69it/s]\n",
      "32it [00:00, 173.93it/s]"
     ]
    },
    {
     "name": "stdout",
     "output_type": "stream",
     "text": [
      "training epoch 244 Loss: 0.00148 acc: 0.84\n",
      "epoch 244. validation accuracy: 0.65632\n"
     ]
    },
    {
     "name": "stderr",
     "output_type": "stream",
     "text": [
      "\n",
      "100%|███████████████████████████████████████████████████████████████████████████████████| 4/4 [00:00<00:00, 666.69it/s]\n",
      "19it [00:00, 182.71it/s]"
     ]
    },
    {
     "name": "stdout",
     "output_type": "stream",
     "text": [
      "training epoch 245 Loss: 0.00143 acc: 0.84\n",
      "epoch 245. validation accuracy: 0.64916\n"
     ]
    },
    {
     "name": "stderr",
     "output_type": "stream",
     "text": [
      "32it [00:00, 179.23it/s]\n",
      "100%|███████████████████████████████████████████████████████████████████████████████████| 4/4 [00:00<00:00, 800.02it/s]\n",
      "18it [00:00, 176.48it/s]"
     ]
    },
    {
     "name": "stdout",
     "output_type": "stream",
     "text": [
      "training epoch 246 Loss: 0.00143 acc: 0.84\n",
      "epoch 246. validation accuracy: 0.66348\n"
     ]
    },
    {
     "name": "stderr",
     "output_type": "stream",
     "text": [
      "32it [00:00, 177.79it/s]\n",
      "100%|███████████████████████████████████████████████████████████████████████████████████| 4/4 [00:00<00:00, 799.87it/s]\n",
      "32it [00:00, 194.36it/s]\n",
      "100%|███████████████████████████████████████████████████████████████████████████████████| 4/4 [00:00<00:00, 701.01it/s]\n",
      "0it [00:00, ?it/s]"
     ]
    },
    {
     "name": "stdout",
     "output_type": "stream",
     "text": [
      "training epoch 247 Loss: 0.00147 acc: 0.84\n",
      "epoch 247. validation accuracy: 0.65871\n",
      "training epoch 248 Loss: 0.00142 acc: 0.85\n",
      "epoch 248. validation accuracy: 0.65632\n"
     ]
    },
    {
     "name": "stderr",
     "output_type": "stream",
     "text": [
      "32it [00:00, 187.49it/s]\n",
      "100%|███████████████████████████████████████████████████████████████████████████████████| 4/4 [00:00<00:00, 670.58it/s]\n",
      "17it [00:00, 166.68it/s]"
     ]
    },
    {
     "name": "stdout",
     "output_type": "stream",
     "text": [
      "training epoch 249 Loss: 0.00140 acc: 0.84\n",
      "epoch 249. validation accuracy: 0.68019\n"
     ]
    },
    {
     "name": "stderr",
     "output_type": "stream",
     "text": [
      "32it [00:00, 173.93it/s]\n",
      "100%|███████████████████████████████████████████████████████████████████████████████████| 4/4 [00:00<00:00, 666.03it/s]\n",
      "32it [00:00, 188.25it/s]\n",
      "100%|███████████████████████████████████████████████████████████████████████████████████| 4/4 [00:00<00:00, 799.07it/s]"
     ]
    },
    {
     "name": "stdout",
     "output_type": "stream",
     "text": [
      "training epoch 250 Loss: 0.00150 acc: 0.84\n",
      "epoch 250. validation accuracy: 0.65632\n",
      "training epoch 251 Loss: 0.00145 acc: 0.84\n"
     ]
    },
    {
     "name": "stderr",
     "output_type": "stream",
     "text": [
      "\n",
      "32it [00:00, 184.86it/s]\n",
      "100%|███████████████████████████████████████████████████████████████████████████████████| 4/4 [00:00<00:00, 666.71it/s]\n",
      "0it [00:00, ?it/s]"
     ]
    },
    {
     "name": "stdout",
     "output_type": "stream",
     "text": [
      "epoch 251. validation accuracy: 0.67780\n",
      "training epoch 252 Loss: 0.00142 acc: 0.85\n",
      "epoch 252. validation accuracy: 0.67303\n"
     ]
    },
    {
     "name": "stderr",
     "output_type": "stream",
     "text": [
      "32it [00:00, 187.15it/s]\n",
      "100%|███████████████████████████████████████████████████████████████████████████████████| 4/4 [00:00<00:00, 800.13it/s]\n",
      "32it [00:00, 178.78it/s]"
     ]
    },
    {
     "name": "stdout",
     "output_type": "stream",
     "text": [
      "training epoch 253 Loss: 0.00137 acc: 0.85\n",
      "epoch 253. validation accuracy: 0.67542\n"
     ]
    },
    {
     "name": "stderr",
     "output_type": "stream",
     "text": [
      "\n",
      "100%|███████████████████████████████████████████████████████████████████████████████████| 4/4 [00:00<00:00, 666.66it/s]\n",
      "32it [00:00, 196.27it/s]\n",
      "  0%|                                                                                            | 0/4 [00:00<?, ?it/s]"
     ]
    },
    {
     "name": "stdout",
     "output_type": "stream",
     "text": [
      "training epoch 254 Loss: 0.00137 acc: 0.85\n",
      "epoch 254. validation accuracy: 0.67303\n",
      "training epoch 255 Loss: 0.00139 acc: 0.85\n"
     ]
    },
    {
     "name": "stderr",
     "output_type": "stream",
     "text": [
      "100%|███████████████████████████████████████████████████████████████████████████████████| 4/4 [00:00<00:00, 244.46it/s]\n",
      "32it [00:00, 196.74it/s]\n",
      "  0%|                                                                                            | 0/4 [00:00<?, ?it/s]"
     ]
    },
    {
     "name": "stdout",
     "output_type": "stream",
     "text": [
      "epoch 255. validation accuracy: 0.67303\n",
      "training epoch 256 Loss: 0.00137 acc: 0.84\n"
     ]
    },
    {
     "name": "stderr",
     "output_type": "stream",
     "text": [
      "100%|███████████████████████████████████████████████████████████████████████████████████| 4/4 [00:00<00:00, 267.17it/s]\n",
      "32it [00:00, 184.73it/s]\n",
      "100%|███████████████████████████████████████████████████████████████████████████████████| 4/4 [00:00<00:00, 666.64it/s]\n",
      "0it [00:00, ?it/s]"
     ]
    },
    {
     "name": "stdout",
     "output_type": "stream",
     "text": [
      "epoch 256. validation accuracy: 0.66348\n",
      "training epoch 257 Loss: 0.00141 acc: 0.84\n",
      "epoch 257. validation accuracy: 0.68019\n"
     ]
    },
    {
     "name": "stderr",
     "output_type": "stream",
     "text": [
      "32it [00:00, 170.22it/s]\n",
      "100%|███████████████████████████████████████████████████████████████████████████████████| 4/4 [00:00<00:00, 666.77it/s]\n",
      "18it [00:00, 172.80it/s]"
     ]
    },
    {
     "name": "stdout",
     "output_type": "stream",
     "text": [
      "training epoch 258 Loss: 0.00138 acc: 0.85\n",
      "epoch 258. validation accuracy: 0.66110\n"
     ]
    },
    {
     "name": "stderr",
     "output_type": "stream",
     "text": [
      "32it [00:00, 180.63it/s]\n",
      "100%|███████████████████████████████████████████████████████████████████████████████████| 4/4 [00:00<00:00, 800.06it/s]\n",
      "32it [00:00, 201.64it/s]\n",
      "  0%|                                                                                            | 0/4 [00:00<?, ?it/s]"
     ]
    },
    {
     "name": "stdout",
     "output_type": "stream",
     "text": [
      "training epoch 259 Loss: 0.00139 acc: 0.85\n",
      "epoch 259. validation accuracy: 0.66348\n",
      "training epoch 260 Loss: 0.00136 acc: 0.85\n"
     ]
    },
    {
     "name": "stderr",
     "output_type": "stream",
     "text": [
      "100%|███████████████████████████████████████████████████████████████████████████████████| 4/4 [00:00<00:00, 263.46it/s]\n",
      "32it [00:00, 190.56it/s]\n",
      "  0%|                                                                                            | 0/4 [00:00<?, ?it/s]"
     ]
    },
    {
     "name": "stdout",
     "output_type": "stream",
     "text": [
      "epoch 260. validation accuracy: 0.66587\n",
      "training epoch 261 Loss: 0.00139 acc: 0.85\n"
     ]
    },
    {
     "name": "stderr",
     "output_type": "stream",
     "text": [
      "100%|███████████████████████████████████████████████████████████████████████████████████| 4/4 [00:00<00:00, 230.05it/s]\n",
      "32it [00:00, 195.67it/s]\n",
      "100%|███████████████████████████████████████████████████████████████████████████████████| 4/4 [00:00<00:00, 313.70it/s]\n",
      "0it [00:00, ?it/s]"
     ]
    },
    {
     "name": "stdout",
     "output_type": "stream",
     "text": [
      "epoch 261. validation accuracy: 0.66587\n",
      "training epoch 262 Loss: 0.00144 acc: 0.85\n",
      "epoch 262. validation accuracy: 0.67542\n"
     ]
    },
    {
     "name": "stderr",
     "output_type": "stream",
     "text": [
      "32it [00:00, 180.74it/s]\n",
      "100%|███████████████████████████████████████████████████████████████████████████████████| 4/4 [00:00<00:00, 799.94it/s]\n",
      "18it [00:00, 176.49it/s]"
     ]
    },
    {
     "name": "stdout",
     "output_type": "stream",
     "text": [
      "training epoch 263 Loss: 0.00140 acc: 0.84\n",
      "epoch 263. validation accuracy: 0.67303\n"
     ]
    },
    {
     "name": "stderr",
     "output_type": "stream",
     "text": [
      "32it [00:00, 159.94it/s]\n",
      "100%|███████████████████████████████████████████████████████████████████████████████████| 4/4 [00:00<00:00, 518.66it/s]\n",
      "32it [00:00, 194.76it/s]\n",
      "100%|███████████████████████████████████████████████████████████████████████████████████| 4/4 [00:00<00:00, 800.10it/s]\n",
      "0it [00:00, ?it/s]"
     ]
    },
    {
     "name": "stdout",
     "output_type": "stream",
     "text": [
      "training epoch 264 Loss: 0.00142 acc: 0.84\n",
      "epoch 264. validation accuracy: 0.67542\n",
      "training epoch 265 Loss: 0.00138 acc: 0.85\n",
      "epoch 265. validation accuracy: 0.65632\n"
     ]
    },
    {
     "name": "stderr",
     "output_type": "stream",
     "text": [
      "32it [00:00, 183.19it/s]\n",
      "100%|███████████████████████████████████████████████████████████████████████████████████| 4/4 [00:00<00:00, 802.43it/s]\n",
      "32it [00:00, 179.79it/s]\n",
      "  0%|                                                                                            | 0/4 [00:00<?, ?it/s]"
     ]
    },
    {
     "name": "stdout",
     "output_type": "stream",
     "text": [
      "training epoch 266 Loss: 0.00139 acc: 0.85\n",
      "epoch 266. validation accuracy: 0.66348\n",
      "training epoch 267 Loss: 0.00142 acc: 0.85\n"
     ]
    },
    {
     "name": "stderr",
     "output_type": "stream",
     "text": [
      "100%|███████████████████████████████████████████████████████████████████████████████████| 4/4 [00:00<00:00, 800.02it/s]\n",
      "32it [00:00, 183.92it/s]\n",
      "100%|███████████████████████████████████████████████████████████████████████████████████| 4/4 [00:00<00:00, 666.77it/s]"
     ]
    },
    {
     "name": "stdout",
     "output_type": "stream",
     "text": [
      "epoch 267. validation accuracy: 0.66826\n",
      "training epoch 268 Loss: 0.00137 acc: 0.85\n",
      "epoch 268. validation accuracy: 0.66348\n"
     ]
    },
    {
     "name": "stderr",
     "output_type": "stream",
     "text": [
      "\n",
      "32it [00:00, 186.06it/s]\n",
      "100%|███████████████████████████████████████████████████████████████████████████████████| 4/4 [00:00<00:00, 800.10it/s]\n",
      "32it [00:00, 182.87it/s]\n",
      "  0%|                                                                                            | 0/4 [00:00<?, ?it/s]"
     ]
    },
    {
     "name": "stdout",
     "output_type": "stream",
     "text": [
      "training epoch 269 Loss: 0.00140 acc: 0.85\n",
      "epoch 269. validation accuracy: 0.67064\n",
      "training epoch 270 Loss: 0.00138 acc: 0.85\n"
     ]
    },
    {
     "name": "stderr",
     "output_type": "stream",
     "text": [
      "100%|███████████████████████████████████████████████████████████████████████████████████| 4/4 [00:00<00:00, 799.98it/s]\n",
      "32it [00:00, 200.57it/s]\n",
      "100%|███████████████████████████████████████████████████████████████████████████████████| 4/4 [00:00<00:00, 264.16it/s]\n",
      "0it [00:00, ?it/s]"
     ]
    },
    {
     "name": "stdout",
     "output_type": "stream",
     "text": [
      "epoch 270. validation accuracy: 0.67542\n",
      "training epoch 271 Loss: 0.00134 acc: 0.85\n",
      "epoch 271. validation accuracy: 0.66587\n"
     ]
    },
    {
     "name": "stderr",
     "output_type": "stream",
     "text": [
      "32it [00:00, 193.48it/s]\n",
      "100%|███████████████████████████████████████████████████████████████████████████████████| 4/4 [00:00<00:00, 190.23it/s]\n",
      "32it [00:00, 182.83it/s]"
     ]
    },
    {
     "name": "stdout",
     "output_type": "stream",
     "text": [
      "training epoch 272 Loss: 0.00134 acc: 0.85\n",
      "epoch 272. validation accuracy: 0.65871\n"
     ]
    },
    {
     "name": "stderr",
     "output_type": "stream",
     "text": [
      "\n",
      "100%|███████████████████████████████████████████████████████████████████████████████████| 4/4 [00:00<00:00, 666.66it/s]\n",
      "19it [00:00, 182.71it/s]"
     ]
    },
    {
     "name": "stdout",
     "output_type": "stream",
     "text": [
      "training epoch 273 Loss: 0.00134 acc: 0.86\n",
      "epoch 273. validation accuracy: 0.67303\n"
     ]
    },
    {
     "name": "stderr",
     "output_type": "stream",
     "text": [
      "32it [00:00, 186.06it/s]\n",
      "100%|███████████████████████████████████████████████████████████████████████████████████| 4/4 [00:00<00:00, 800.10it/s]\n",
      "32it [00:00, 193.96it/s]\n",
      "  0%|                                                                                            | 0/4 [00:00<?, ?it/s]"
     ]
    },
    {
     "name": "stdout",
     "output_type": "stream",
     "text": [
      "training epoch 274 Loss: 0.00135 acc: 0.85\n",
      "epoch 274. validation accuracy: 0.66110\n",
      "training epoch 275 Loss: 0.00138 acc: 0.85\n"
     ]
    },
    {
     "name": "stderr",
     "output_type": "stream",
     "text": [
      "100%|███████████████████████████████████████████████████████████████████████████████████| 4/4 [00:00<00:00, 264.59it/s]\n",
      "32it [00:00, 195.74it/s]\n",
      "100%|███████████████████████████████████████████████████████████████████████████████████| 4/4 [00:00<00:00, 799.94it/s]\n",
      "0it [00:00, ?it/s]"
     ]
    },
    {
     "name": "stdout",
     "output_type": "stream",
     "text": [
      "epoch 275. validation accuracy: 0.66587\n",
      "training epoch 276 Loss: 0.00140 acc: 0.85\n",
      "epoch 276. validation accuracy: 0.65394\n"
     ]
    },
    {
     "name": "stderr",
     "output_type": "stream",
     "text": [
      "32it [00:00, 182.87it/s]\n",
      "100%|███████████████████████████████████████████████████████████████████████████████████| 4/4 [00:00<00:00, 800.10it/s]\n",
      "19it [00:00, 187.30it/s]"
     ]
    },
    {
     "name": "stdout",
     "output_type": "stream",
     "text": [
      "training epoch 277 Loss: 0.00143 acc: 0.84\n",
      "epoch 277. validation accuracy: 0.66587\n"
     ]
    },
    {
     "name": "stderr",
     "output_type": "stream",
     "text": [
      "32it [00:00, 182.64it/s]\n",
      "100%|███████████████████████████████████████████████████████████████████████████████████| 4/4 [00:00<00:00, 666.71it/s]\n",
      "32it [00:00, 197.69it/s]\n",
      "100%|███████████████████████████████████████████████████████████████████████████████████| 4/4 [00:00<00:00, 226.68it/s]"
     ]
    },
    {
     "name": "stdout",
     "output_type": "stream",
     "text": [
      "training epoch 278 Loss: 0.00144 acc: 0.84\n",
      "epoch 278. validation accuracy: 0.64439\n",
      "training epoch 279 Loss: 0.00139 acc: 0.84\n"
     ]
    },
    {
     "name": "stderr",
     "output_type": "stream",
     "text": [
      "\n",
      "32it [00:00, 196.53it/s]\n",
      "100%|███████████████████████████████████████████████████████████████████████████████████| 4/4 [00:00<00:00, 666.48it/s]\n",
      "0it [00:00, ?it/s]"
     ]
    },
    {
     "name": "stdout",
     "output_type": "stream",
     "text": [
      "epoch 279. validation accuracy: 0.64916\n",
      "training epoch 280 Loss: 0.00136 acc: 0.85\n",
      "epoch 280. validation accuracy: 0.65155\n"
     ]
    },
    {
     "name": "stderr",
     "output_type": "stream",
     "text": [
      "32it [00:00, 192.64it/s]\n",
      "100%|███████████████████████████████████████████████████████████████████████████████████| 4/4 [00:00<00:00, 666.71it/s]\n",
      "18it [00:00, 178.04it/s]"
     ]
    },
    {
     "name": "stdout",
     "output_type": "stream",
     "text": [
      "training epoch 281 Loss: 0.00139 acc: 0.85\n",
      "epoch 281. validation accuracy: 0.63962\n"
     ]
    },
    {
     "name": "stderr",
     "output_type": "stream",
     "text": [
      "32it [00:00, 180.69it/s]\n",
      "100%|███████████████████████████████████████████████████████████████████████████████████| 4/4 [00:00<00:00, 800.02it/s]\n",
      "32it [00:00, 194.14it/s]\n",
      "  0%|                                                                                            | 0/4 [00:00<?, ?it/s]"
     ]
    },
    {
     "name": "stdout",
     "output_type": "stream",
     "text": [
      "training epoch 282 Loss: 0.00143 acc: 0.84\n",
      "epoch 282. validation accuracy: 0.66348\n",
      "training epoch 283 Loss: 0.00144 acc: 0.84\n"
     ]
    },
    {
     "name": "stderr",
     "output_type": "stream",
     "text": [
      "100%|███████████████████████████████████████████████████████████████████████████████████| 4/4 [00:00<00:00, 666.32it/s]\n",
      "17it [00:00, 129.48it/s]"
     ]
    },
    {
     "name": "stdout",
     "output_type": "stream",
     "text": [
      "epoch 283. validation accuracy: 0.66587\n"
     ]
    },
    {
     "name": "stderr",
     "output_type": "stream",
     "text": [
      "32it [00:00, 149.33it/s]\n",
      "100%|███████████████████████████████████████████████████████████████████████████████████| 4/4 [00:00<00:00, 666.64it/s]\n",
      "32it [00:00, 189.36it/s]\n",
      "100%|███████████████████████████████████████████████████████████████████████████████████| 4/4 [00:00<00:00, 625.46it/s]"
     ]
    },
    {
     "name": "stdout",
     "output_type": "stream",
     "text": [
      "training epoch 284 Loss: 0.00144 acc: 0.84\n",
      "epoch 284. validation accuracy: 0.65155\n",
      "training epoch 285 Loss: 0.00141 acc: 0.84\n"
     ]
    },
    {
     "name": "stderr",
     "output_type": "stream",
     "text": [
      "\n",
      "32it [00:00, 198.90it/s]\n",
      "100%|███████████████████████████████████████████████████████████████████████████████████| 4/4 [00:00<00:00, 301.84it/s]\n",
      "0it [00:00, ?it/s]"
     ]
    },
    {
     "name": "stdout",
     "output_type": "stream",
     "text": [
      "epoch 285. validation accuracy: 0.66348\n",
      "training epoch 286 Loss: 0.00136 acc: 0.85\n",
      "epoch 286. validation accuracy: 0.64916\n"
     ]
    },
    {
     "name": "stderr",
     "output_type": "stream",
     "text": [
      "32it [00:00, 192.43it/s]\n",
      "100%|███████████████████████████████████████████████████████████████████████████████████| 4/4 [00:00<00:00, 323.62it/s]\n",
      "22it [00:00, 191.47it/s]"
     ]
    },
    {
     "name": "stdout",
     "output_type": "stream",
     "text": [
      "training epoch 287 Loss: 0.00135 acc: 0.85\n",
      "epoch 287. validation accuracy: 0.65632\n"
     ]
    },
    {
     "name": "stderr",
     "output_type": "stream",
     "text": [
      "32it [00:00, 186.56it/s]\n",
      "100%|███████████████████████████████████████████████████████████████████████████████████| 4/4 [00:00<00:00, 799.98it/s]\n",
      "32it [00:00, 182.80it/s]\n",
      "  0%|                                                                                            | 0/4 [00:00<?, ?it/s]"
     ]
    },
    {
     "name": "stdout",
     "output_type": "stream",
     "text": [
      "training epoch 288 Loss: 0.00137 acc: 0.85\n",
      "epoch 288. validation accuracy: 0.66348\n",
      "training epoch 289 Loss: 0.00153 acc: 0.83\n"
     ]
    },
    {
     "name": "stderr",
     "output_type": "stream",
     "text": [
      "100%|███████████████████████████████████████████████████████████████████████████████████| 4/4 [00:00<00:00, 799.98it/s]\n",
      "32it [00:00, 181.83it/s]\n",
      "100%|███████████████████████████████████████████████████████████████████████████████████| 4/4 [00:00<00:00, 666.69it/s]\n",
      "0it [00:00, ?it/s]"
     ]
    },
    {
     "name": "stdout",
     "output_type": "stream",
     "text": [
      "epoch 289. validation accuracy: 0.65632\n",
      "training epoch 290 Loss: 0.00153 acc: 0.83\n",
      "epoch 290. validation accuracy: 0.64916\n"
     ]
    },
    {
     "name": "stderr",
     "output_type": "stream",
     "text": [
      "32it [00:00, 181.83it/s]\n",
      "100%|███████████████████████████████████████████████████████████████████████████████████| 4/4 [00:00<00:00, 800.21it/s]\n",
      "18it [00:00, 177.94it/s]"
     ]
    },
    {
     "name": "stdout",
     "output_type": "stream",
     "text": [
      "training epoch 291 Loss: 0.00155 acc: 0.82\n",
      "epoch 291. validation accuracy: 0.65155\n"
     ]
    },
    {
     "name": "stderr",
     "output_type": "stream",
     "text": [
      "32it [00:00, 178.62it/s]\n",
      "100%|███████████████████████████████████████████████████████████████████████████████████| 4/4 [00:00<00:00, 666.66it/s]\n",
      "32it [00:00, 192.00it/s]\n",
      "  0%|                                                                                            | 0/4 [00:00<?, ?it/s]"
     ]
    },
    {
     "name": "stdout",
     "output_type": "stream",
     "text": [
      "training epoch 292 Loss: 0.00149 acc: 0.84\n",
      "epoch 292. validation accuracy: 0.66110\n",
      "training epoch 293 Loss: 0.00145 acc: 0.84\n"
     ]
    },
    {
     "name": "stderr",
     "output_type": "stream",
     "text": [
      "100%|███████████████████████████████████████████████████████████████████████████████████| 4/4 [00:00<00:00, 225.99it/s]\n",
      "32it [00:00, 192.43it/s]\n",
      "100%|███████████████████████████████████████████████████████████████████████████████████| 4/4 [00:00<00:00, 429.61it/s]\n",
      "0it [00:00, ?it/s]"
     ]
    },
    {
     "name": "stdout",
     "output_type": "stream",
     "text": [
      "epoch 293. validation accuracy: 0.68019\n",
      "training epoch 294 Loss: 0.00139 acc: 0.85\n",
      "epoch 294. validation accuracy: 0.67303\n"
     ]
    },
    {
     "name": "stderr",
     "output_type": "stream",
     "text": [
      "32it [00:00, 185.24it/s]\n",
      "100%|███████████████████████████████████████████████████████████████████████████████████| 4/4 [00:00<00:00, 800.29it/s]\n",
      "32it [00:00, 202.07it/s]\n",
      "100%|███████████████████████████████████████████████████████████████████████████████████| 4/4 [00:00<00:00, 240.12it/s]\n",
      "0it [00:00, ?it/s]"
     ]
    },
    {
     "name": "stdout",
     "output_type": "stream",
     "text": [
      "training epoch 295 Loss: 0.00139 acc: 0.84\n",
      "epoch 295. validation accuracy: 0.67542\n",
      "training epoch 296 Loss: 0.00140 acc: 0.85\n",
      "epoch 296. validation accuracy: 0.66587\n"
     ]
    },
    {
     "name": "stderr",
     "output_type": "stream",
     "text": [
      "32it [00:00, 165.81it/s]\n",
      "100%|███████████████████████████████████████████████████████████████████████████████████| 4/4 [00:00<00:00, 666.66it/s]\n",
      "32it [00:00, 197.47it/s]\n",
      "  0%|                                                                                            | 0/4 [00:00<?, ?it/s]"
     ]
    },
    {
     "name": "stdout",
     "output_type": "stream",
     "text": [
      "training epoch 297 Loss: 0.00156 acc: 0.82\n",
      "epoch 297. validation accuracy: 0.67780\n",
      "training epoch 298 Loss: 0.00155 acc: 0.82\n"
     ]
    },
    {
     "name": "stderr",
     "output_type": "stream",
     "text": [
      "100%|███████████████████████████████████████████████████████████████████████████████████| 4/4 [00:00<00:00, 224.72it/s]\n",
      "32it [00:00, 189.03it/s]\n",
      "100%|███████████████████████████████████████████████████████████████████████████████████| 4/4 [00:00<00:00, 666.71it/s]"
     ]
    },
    {
     "name": "stdout",
     "output_type": "stream",
     "text": [
      "epoch 298. validation accuracy: 0.64916\n",
      "training epoch 299 Loss: 0.00145 acc: 0.83\n",
      "epoch 299. validation accuracy: 0.67303\n",
      "best validation acc: 0.701671, epoch: 143\n"
     ]
    },
    {
     "name": "stderr",
     "output_type": "stream",
     "text": [
      "\n"
     ]
    }
   ],
   "source": [
    "from sklearn.metrics import confusion_matrix\n",
    "# loss_ = [] # loss를 저장할 리스트.\n",
    "n = len(trainsets)\n",
    "train_acc_list = []\n",
    "val_acc_list = []\n",
    "model = model.to(device)\n",
    "best_val_acc = 0\n",
    "best_epoch = 0\n",
    "\n",
    "print(\"Training set : \", len(trainsets))\n",
    "print(\"Validation set: \", len(testsets))\n",
    "print(\"model \\n\", model)\n",
    "\n",
    "# 400 epoch training\n",
    "for epoch in range(300):\n",
    "    model.train()\n",
    "    running_loss = 0.0                    # 한 에폭이 돌 때 그안에서 배치마다 loss가 나온다. 즉 한번 학습할 때 그렇게 쪼개지면서 loss가 다 나오니 MSE를 구하기 위해서 사용한다.\n",
    "    \n",
    "    correct = 0\n",
    "    total = 0    \n",
    "    for i, data in tqdm(enumerate(trainloader, 0)): # 무작위로 섞인 32개의 데이터가 담긴 배치가 하나씩 들어온다.\n",
    "        inputs, labels = data             # data에는 X, Y가 들어있다.\n",
    "        inputs = inputs.to(device)\n",
    "        labels = labels.to(device)\n",
    "        \n",
    "        optimizer.zero_grad()             # 최적화 초기화.\n",
    "            \n",
    "        outputs = model(inputs)           # 모델에 입력값을 넣어 예측값을 산출한다.\n",
    "        outputs = outputs.squeeze()\n",
    "        loss = criterion(outputs, labels) # 손실함수를 계산. error 계산.\n",
    "        \n",
    "#         # Compute l1 loss component\n",
    "#         l1_weight = 1.0\n",
    "#         l1_parameters = []\n",
    "#         for parameter in model.parameters():\n",
    "#             l1_parameters.append(parameter.view(-1))\n",
    "#         l1 = l1_weight * model.compute_l1_loss(torch.cat(l1_parameters))\n",
    "        \n",
    "        total += labels.size(0)\n",
    "        correct += (outputs.round() == labels).sum().item()\n",
    "        \n",
    "        # Add l2 loss component\n",
    "#         loss += l1\n",
    "        \n",
    "        # backprop\n",
    "\n",
    "        loss.backward()                   # 손실 함수를 기준으로 역전파를 설정한다.\n",
    "        optimizer.step()                  # 역전파를 진행하고 가중치를 업데이트한다.\n",
    "\n",
    "        running_loss += loss.item()       # epoch 마다 평균 loss를 계산하기 위해 배치 loss를 더한다.\n",
    "        \n",
    "    acc = correct / total \n",
    "    if epoch % 10 == 0:\n",
    "        train_acc_list.append(acc)\n",
    "        \n",
    "#     scheduler.step()    \n",
    "    print(\"training epoch {:2d} Loss: {:2.5f} acc: {:2.2f}\".format(epoch, running_loss / n, acc))\n",
    "    \n",
    "    correct = 0\n",
    "    total = 0   \n",
    "    # evaluation\n",
    "    with torch.no_grad():\n",
    "        model.eval()\n",
    "        predictions = torch.tensor([], dtype=torch.float).to(device) # 예측값을 저장하는 텐서.\n",
    "        actual = torch.tensor([], dtype=torch.float).to(device) # 실제값을 저장하는 텐서.\n",
    "        \n",
    "        for data in tqdm(testloader):\n",
    "            inputs, labels = data\n",
    "            inputs = inputs.to(device)\n",
    "            labels = labels.to(device)\n",
    "            outputs = model(inputs)\n",
    "            outputs = outputs.squeeze()\n",
    "\n",
    "            total += labels.size(0)\n",
    "            correct += (outputs.round() == labels).sum().item()\n",
    "\n",
    "#         cf_matrix = confusion_matrix(predictions, actual)\n",
    "        acc = correct / total\n",
    "        if epoch % 10 == 0:\n",
    "            val_acc_list.append(acc)\n",
    "        if acc > best_val_acc:\n",
    "            best_val_acc = acc\n",
    "            best_epoch = epoch\n",
    "            torch.save(model.state_dict(), './speed_dating_nn_model.pt')\n",
    "            \n",
    "        print(\"epoch {:2d}. validation accuracy: {:3.5f}\".format(epoch, acc))\n",
    "\n",
    "print(\"best validation acc: {:f}, epoch: {:3.0f}\".format(best_val_acc, best_epoch))"
   ]
  },
  {
   "cell_type": "code",
   "execution_count": 19,
   "metadata": {
    "scrolled": true
   },
   "outputs": [
    {
     "name": "stdout",
     "output_type": "stream",
     "text": [
      "best validation acc: 0.701671, epoch: 143\n"
     ]
    }
   ],
   "source": [
    "print(\"best validation acc: {:f}, epoch: {:3.0f}\".format(best_val_acc, best_epoch))"
   ]
  },
  {
   "cell_type": "code",
   "execution_count": 20,
   "metadata": {},
   "outputs": [
    {
     "data": {
      "text/plain": [
       "[<matplotlib.lines.Line2D at 0x23b8d02a1c0>]"
      ]
     },
     "execution_count": 20,
     "metadata": {},
     "output_type": "execute_result"
    },
    {
     "data": {
      "image/png": "[encoded data removed]",
      "text/plain": [
       "<Figure size 432x288 with 1 Axes>"
      ]
     },
     "metadata": {
      "needs_background": "light"
     },
     "output_type": "display_data"
    }
   ],
   "source": [
    "import matplotlib.pyplot as plt\n",
    "\n",
    "x = [i for i in range(1, 301, 10)]\n",
    "y = train_acc_list\n",
    "plt.plot(x, y)"
   ]
  },
  {
   "cell_type": "code",
   "execution_count": 21,
   "metadata": {
    "scrolled": true
   },
   "outputs": [
    {
     "data": {
      "text/plain": [
       "[<matplotlib.lines.Line2D at 0x23b8d3f4d60>]"
      ]
     },
     "execution_count": 21,
     "metadata": {},
     "output_type": "execute_result"
    },
    {
     "data": {
      "image/png": "[encoded data removed]",
      "text/plain": [
       "<Figure size 432x288 with 1 Axes>"
      ]
     },
     "metadata": {
      "needs_background": "light"
     },
     "output_type": "display_data"
    }
   ],
   "source": [
    "\n",
    "x = [i for i in range(1, 301, 10)]\n",
    "y = val_acc_list\n",
    "plt.plot(x, y)"
   ]
  },
  {
   "cell_type": "code",
   "execution_count": null,
   "metadata": {},
   "outputs": [],
   "source": []
  },
  {
   "cell_type": "code",
   "execution_count": null,
   "metadata": {},
   "outputs": [],
   "source": []
  },
  {
   "cell_type": "code",
   "execution_count": null,
   "metadata": {},
   "outputs": [],
   "source": []
  },
  {
   "cell_type": "code",
   "execution_count": null,
   "metadata": {},
   "outputs": [],
   "source": []
  },
  {
   "cell_type": "code",
   "execution_count": null,
   "metadata": {},
   "outputs": [],
   "source": []
  },
  {
   "cell_type": "code",
   "execution_count": null,
   "metadata": {},
   "outputs": [],
   "source": []
  }
 ],
 "metadata": {
  "kernelspec": {
   "display_name": "Python 3",
   "language": "python",
   "name": "python3"
  },
  "language_info": {
   "codemirror_mode": {
    "name": "ipython",
    "version": 3
   },
   "file_extension": ".py",
   "mimetype": "text/x-python",
   "name": "python",
   "nbconvert_exporter": "python",
   "pygments_lexer": "ipython3",
   "version": "3.8.5"
  }
 },
 "nbformat": 4,
 "nbformat_minor": 4
}
