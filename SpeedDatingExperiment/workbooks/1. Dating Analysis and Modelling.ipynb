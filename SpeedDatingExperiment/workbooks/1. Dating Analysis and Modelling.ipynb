{
 "cells": [
  {
   "cell_type": "markdown",
   "metadata": {},
   "source": [
    "# Dataset\n",
    "* A study conducted by Columbia University explored gender differences in dating preferences.\n",
    "\n",
    "* Participants attended a dating event where they had a 4-minute date with every other participant of the opposite sex who attended the same event.\n",
    "* The participants decided to accept or reject their partner. If both the participant and partner matched, they received each other's contact information.\n",
    "* Participants rated their partners on six personal attributes: attractiveness, sincerity, intelligence, fun, ambition and shared interests.\n",
    "* Before and after the event, participants rated their preferences in the six attributes and gave themselves ratings.\n",
    "* Other information was collected about the participants' background and preferences."
   ]
  },
  {
   "cell_type": "code",
   "execution_count": 2,
   "metadata": {},
   "outputs": [],
   "source": [
    "import numpy as np              # arrays\n",
    "import pandas as pd             # dataframes\n",
    "import matplotlib.pyplot as plt # graphs\n",
    "import seaborn as sns           # visualisations\n",
    "from scipy import stats         # statistics"
   ]
  },
  {
   "cell_type": "code",
   "execution_count": 4,
   "metadata": {},
   "outputs": [],
   "source": [
    "from sklearn.experimental import enable_iterative_imputer # enable experimental imputer\n",
    "from sklearn.impute import IterativeImputer               # sample imputation\n",
    "from sklearn import preprocessing                         # encoders, transformations\n",
    "from sklearn.model_selection import cross_validate        # cross-validation, model evaluation\n",
    "from sklearn.model_selection import GridSearchCV          # hyper-parameter tuning\n",
    "from sklearn.linear_model import LogisticRegression       # logistic regression model\n",
    "from sklearn.svm import SVC                               # support vector machine model\n",
    "from sklearn.neighbors import KNeighborsClassifier        # k-nearest neighbours model\n",
    "from sklearn.ensemble import GradientBoostingClassifier   # gradient boosting model\n",
    "from sklearn.ensemble import VotingClassifier             # voting ensemble model\n",
    "from sklearn.ensemble import StackingClassifier           # stacking ensemble model\n",
    "%matplotlib inline"
   ]
  },
  {
   "cell_type": "markdown",
   "metadata": {},
   "source": [
    "# data"
   ]
  },
  {
   "cell_type": "code",
   "execution_count": 6,
   "metadata": {},
   "outputs": [],
   "source": [
    "data_raw = pd.read_csv(\n",
    "    filepath_or_buffer='./input/Speed Dating Data.csv',\n",
    "    engine='python'\n",
    ")"
   ]
  },
  {
   "cell_type": "code",
   "execution_count": 105,
   "metadata": {},
   "outputs": [],
   "source": [
    "opp = [col for col in data_raw.columns if \"_o\" in col]"
   ]
  },
  {
   "cell_type": "code",
   "execution_count": 106,
   "metadata": {},
   "outputs": [
    {
     "data": {
      "text/plain": [
       "['age_o',\n",
       " 'race_o',\n",
       " 'pf_o_att',\n",
       " 'pf_o_sin',\n",
       " 'pf_o_int',\n",
       " 'pf_o_fun',\n",
       " 'pf_o_amb',\n",
       " 'pf_o_sha',\n",
       " 'dec_o',\n",
       " 'attr_o',\n",
       " 'sinc_o',\n",
       " 'intel_o',\n",
       " 'fun_o',\n",
       " 'amb_o',\n",
       " 'shar_o',\n",
       " 'like_o',\n",
       " 'prob_o',\n",
       " 'met_o',\n",
       " 'go_out']"
      ]
     },
     "execution_count": 106,
     "metadata": {},
     "output_type": "execute_result"
    }
   ],
   "source": [
    "opp"
   ]
  },
  {
   "cell_type": "code",
   "execution_count": 7,
   "metadata": {},
   "outputs": [
    {
     "data": {
      "text/plain": [
       "(8378, 195)"
      ]
     },
     "execution_count": 7,
     "metadata": {},
     "output_type": "execute_result"
    }
   ],
   "source": [
    "data_raw.shape"
   ]
  },
  {
   "cell_type": "code",
   "execution_count": 110,
   "metadata": {},
   "outputs": [
    {
     "data": {
      "text/plain": [
       "0        11.0\n",
       "1        12.0\n",
       "2        13.0\n",
       "3        14.0\n",
       "4        15.0\n",
       "        ...  \n",
       "8373    526.0\n",
       "8374    527.0\n",
       "8375    528.0\n",
       "8376    529.0\n",
       "8377    530.0\n",
       "Name: pid, Length: 8378, dtype: float64"
      ]
     },
     "execution_count": 110,
     "metadata": {},
     "output_type": "execute_result"
    }
   ],
   "source": [
    "data_raw['pid']"
   ]
  },
  {
   "cell_type": "code",
   "execution_count": 9,
   "metadata": {
    "scrolled": false
   },
   "outputs": [
    {
     "data": {
      "text/html": [
       "<div>\n",
       "<style scoped>\n",
       "    .dataframe tbody tr th:only-of-type {\n",
       "        vertical-align: middle;\n",
       "    }\n",
       "\n",
       "    .dataframe tbody tr th {\n",
       "        vertical-align: top;\n",
       "    }\n",
       "\n",
       "    .dataframe thead th {\n",
       "        text-align: right;\n",
       "    }\n",
       "</style>\n",
       "<table border=\"1\" class=\"dataframe\">\n",
       "  <thead>\n",
       "    <tr style=\"text-align: right;\">\n",
       "      <th></th>\n",
       "      <th>iid</th>\n",
       "      <th>id</th>\n",
       "      <th>gender</th>\n",
       "      <th>idg</th>\n",
       "      <th>condtn</th>\n",
       "      <th>wave</th>\n",
       "      <th>round</th>\n",
       "      <th>position</th>\n",
       "      <th>positin1</th>\n",
       "      <th>order</th>\n",
       "      <th>...</th>\n",
       "      <th>attr3_3</th>\n",
       "      <th>sinc3_3</th>\n",
       "      <th>intel3_3</th>\n",
       "      <th>fun3_3</th>\n",
       "      <th>amb3_3</th>\n",
       "      <th>attr5_3</th>\n",
       "      <th>sinc5_3</th>\n",
       "      <th>intel5_3</th>\n",
       "      <th>fun5_3</th>\n",
       "      <th>amb5_3</th>\n",
       "    </tr>\n",
       "  </thead>\n",
       "  <tbody>\n",
       "    <tr>\n",
       "      <th>8373</th>\n",
       "      <td>552</td>\n",
       "      <td>22.0</td>\n",
       "      <td>1</td>\n",
       "      <td>44</td>\n",
       "      <td>2</td>\n",
       "      <td>21</td>\n",
       "      <td>22</td>\n",
       "      <td>14</td>\n",
       "      <td>10.0</td>\n",
       "      <td>5</td>\n",
       "      <td>...</td>\n",
       "      <td>8.0</td>\n",
       "      <td>5.0</td>\n",
       "      <td>7.0</td>\n",
       "      <td>6.0</td>\n",
       "      <td>7.0</td>\n",
       "      <td>9.0</td>\n",
       "      <td>5.0</td>\n",
       "      <td>9.0</td>\n",
       "      <td>5.0</td>\n",
       "      <td>6.0</td>\n",
       "    </tr>\n",
       "    <tr>\n",
       "      <th>8374</th>\n",
       "      <td>552</td>\n",
       "      <td>22.0</td>\n",
       "      <td>1</td>\n",
       "      <td>44</td>\n",
       "      <td>2</td>\n",
       "      <td>21</td>\n",
       "      <td>22</td>\n",
       "      <td>13</td>\n",
       "      <td>10.0</td>\n",
       "      <td>4</td>\n",
       "      <td>...</td>\n",
       "      <td>8.0</td>\n",
       "      <td>5.0</td>\n",
       "      <td>7.0</td>\n",
       "      <td>6.0</td>\n",
       "      <td>7.0</td>\n",
       "      <td>9.0</td>\n",
       "      <td>5.0</td>\n",
       "      <td>9.0</td>\n",
       "      <td>5.0</td>\n",
       "      <td>6.0</td>\n",
       "    </tr>\n",
       "    <tr>\n",
       "      <th>8375</th>\n",
       "      <td>552</td>\n",
       "      <td>22.0</td>\n",
       "      <td>1</td>\n",
       "      <td>44</td>\n",
       "      <td>2</td>\n",
       "      <td>21</td>\n",
       "      <td>22</td>\n",
       "      <td>19</td>\n",
       "      <td>10.0</td>\n",
       "      <td>10</td>\n",
       "      <td>...</td>\n",
       "      <td>8.0</td>\n",
       "      <td>5.0</td>\n",
       "      <td>7.0</td>\n",
       "      <td>6.0</td>\n",
       "      <td>7.0</td>\n",
       "      <td>9.0</td>\n",
       "      <td>5.0</td>\n",
       "      <td>9.0</td>\n",
       "      <td>5.0</td>\n",
       "      <td>6.0</td>\n",
       "    </tr>\n",
       "    <tr>\n",
       "      <th>8376</th>\n",
       "      <td>552</td>\n",
       "      <td>22.0</td>\n",
       "      <td>1</td>\n",
       "      <td>44</td>\n",
       "      <td>2</td>\n",
       "      <td>21</td>\n",
       "      <td>22</td>\n",
       "      <td>3</td>\n",
       "      <td>10.0</td>\n",
       "      <td>16</td>\n",
       "      <td>...</td>\n",
       "      <td>8.0</td>\n",
       "      <td>5.0</td>\n",
       "      <td>7.0</td>\n",
       "      <td>6.0</td>\n",
       "      <td>7.0</td>\n",
       "      <td>9.0</td>\n",
       "      <td>5.0</td>\n",
       "      <td>9.0</td>\n",
       "      <td>5.0</td>\n",
       "      <td>6.0</td>\n",
       "    </tr>\n",
       "    <tr>\n",
       "      <th>8377</th>\n",
       "      <td>552</td>\n",
       "      <td>NaN</td>\n",
       "      <td>1</td>\n",
       "      <td>44</td>\n",
       "      <td>2</td>\n",
       "      <td>21</td>\n",
       "      <td>22</td>\n",
       "      <td>2</td>\n",
       "      <td>10.0</td>\n",
       "      <td>15</td>\n",
       "      <td>...</td>\n",
       "      <td>8.0</td>\n",
       "      <td>5.0</td>\n",
       "      <td>7.0</td>\n",
       "      <td>6.0</td>\n",
       "      <td>7.0</td>\n",
       "      <td>9.0</td>\n",
       "      <td>5.0</td>\n",
       "      <td>9.0</td>\n",
       "      <td>5.0</td>\n",
       "      <td>6.0</td>\n",
       "    </tr>\n",
       "  </tbody>\n",
       "</table>\n",
       "<p>5 rows × 195 columns</p>\n",
       "</div>"
      ],
      "text/plain": [
       "      iid    id  gender  idg  condtn  wave  round  position  positin1  order  \\\n",
       "8373  552  22.0       1   44       2    21     22        14      10.0      5   \n",
       "8374  552  22.0       1   44       2    21     22        13      10.0      4   \n",
       "8375  552  22.0       1   44       2    21     22        19      10.0     10   \n",
       "8376  552  22.0       1   44       2    21     22         3      10.0     16   \n",
       "8377  552   NaN       1   44       2    21     22         2      10.0     15   \n",
       "\n",
       "      ...  attr3_3  sinc3_3  intel3_3  fun3_3  amb3_3  attr5_3  sinc5_3  \\\n",
       "8373  ...      8.0      5.0       7.0     6.0     7.0      9.0      5.0   \n",
       "8374  ...      8.0      5.0       7.0     6.0     7.0      9.0      5.0   \n",
       "8375  ...      8.0      5.0       7.0     6.0     7.0      9.0      5.0   \n",
       "8376  ...      8.0      5.0       7.0     6.0     7.0      9.0      5.0   \n",
       "8377  ...      8.0      5.0       7.0     6.0     7.0      9.0      5.0   \n",
       "\n",
       "      intel5_3  fun5_3  amb5_3  \n",
       "8373       9.0     5.0     6.0  \n",
       "8374       9.0     5.0     6.0  \n",
       "8375       9.0     5.0     6.0  \n",
       "8376       9.0     5.0     6.0  \n",
       "8377       9.0     5.0     6.0  \n",
       "\n",
       "[5 rows x 195 columns]"
      ]
     },
     "execution_count": 9,
     "metadata": {},
     "output_type": "execute_result"
    }
   ],
   "source": [
    "data_raw.tail(5)"
   ]
  },
  {
   "cell_type": "code",
   "execution_count": 24,
   "metadata": {},
   "outputs": [
    {
     "data": {
      "text/plain": [
       "8.0     1294\n",
       "7.0     1185\n",
       "10.0    1069\n",
       "9.0     1052\n",
       "5.0      860\n",
       "6.0      760\n",
       "3.0      679\n",
       "4.0      584\n",
       "2.0      469\n",
       "1.0      347\n",
       "Name: sports, dtype: int64"
      ]
     },
     "execution_count": 24,
     "metadata": {},
     "output_type": "execute_result"
    }
   ],
   "source": [
    "data_raw['sports'].value_counts()"
   ]
  },
  {
   "cell_type": "code",
   "execution_count": 10,
   "metadata": {},
   "outputs": [
    {
     "data": {
      "text/plain": [
       "13069808"
      ]
     },
     "execution_count": 10,
     "metadata": {},
     "output_type": "execute_result"
    }
   ],
   "source": [
    "data_raw.memory_usage().sum()"
   ]
  },
  {
   "cell_type": "markdown",
   "metadata": {},
   "source": [
    "## functions"
   ]
  },
  {
   "cell_type": "code",
   "execution_count": 13,
   "metadata": {},
   "outputs": [],
   "source": [
    "# Define a function to plot distribution functions\n",
    "def plot_distribution(data, bins, title, xlabel, ylabel):\n",
    "    ax = sns.distplot(\n",
    "        data,\n",
    "        bins=bins,\n",
    "        hist_kws={\n",
    "            \"linewidth\": 1,\n",
    "            'edgecolor': 'black',\n",
    "            'alpha': 1.0\n",
    "            },\n",
    "        kde=False\n",
    "    )\n",
    "    ax.set_title(title)\n",
    "    ax.set_xlabel(xlabel)\n",
    "    ax.set_ylabel(ylabel)\n",
    "    \n",
    "\n",
    "# Define a function to plot relationship between two features\n",
    "def plot_relationship(x, y, title, xlabel, ylabel):\n",
    "    ax = sns.barplot(\n",
    "        x=x,\n",
    "        y=y,\n",
    "        orient='h'\n",
    "    )\n",
    "    ax.set_title(title)\n",
    "    ax.set_xlabel(xlabel)\n",
    "    ax.set_ylabel(ylabel)\n",
    "    \n",
    "# Define a function to print a feature's mean, standard deviation, skewness and kurtosis\n",
    "def print_moments(title, feature):\n",
    "    print(title)\n",
    "    print('Mean: '+'{:>18.2f}'.format(feature.mean()))\n",
    "    print('Standard deviation: '+'{:.2f}'.format(feature.std()))\n",
    "    print('Skewness: '+'{:>14.2f}'.format(feature.skew()))\n",
    "    print('Kurtosis: '+'{:>14.2f}'.format(feature.kurtosis()))"
   ]
  },
  {
   "cell_type": "markdown",
   "metadata": {},
   "source": [
    "# Wrangling\n",
    "\n",
    "* Identify relevant features and associated datatypes\n",
    "\n"
   ]
  },
  {
   "cell_type": "code",
   "execution_count": 14,
   "metadata": {},
   "outputs": [],
   "source": [
    "relevant_features = [\n",
    "    ['iid', 'int16'],\n",
    "    ['gender', 'bool'],\n",
    "    ['wave', 'int16'],\n",
    "    ['position', 'int16'],\n",
    "    ['order', 'int16'],\n",
    "    ['pid', 'int16'],\n",
    "    ['age_o', 'int16'],\n",
    "    ['race_o', 'category'],\n",
    "    ['pf_o_att', 'int16'],\n",
    "    ['pf_o_sin', 'int16'],\n",
    "    ['pf_o_int', 'int16'],\n",
    "    ['pf_o_fun', 'int16'],\n",
    "    ['pf_o_amb', 'int16'],\n",
    "    ['pf_o_sha', 'int16'],\n",
    "    ['dec_o', 'bool'],\n",
    "    ['attr_o', 'int16'],\n",
    "    ['sinc_o', 'int16'],\n",
    "    ['intel_o', 'int16'],\n",
    "    ['fun_o', 'int16'],\n",
    "    ['amb_o', 'int16'],\n",
    "    ['shar_o', 'int16'],\n",
    "    ['like_o', 'int16'],\n",
    "    ['prob_o', 'int16'],\n",
    "    ['met_o', 'bool'],\n",
    "    ['age', 'int16'],\n",
    "    ['field_cd', 'category'],\n",
    "    ['race', 'category'],\n",
    "    ['imprace', 'int16'],\n",
    "    ['imprelig', 'int16'],\n",
    "    ['goal', 'category'],\n",
    "    ['date', 'int16'],\n",
    "    ['go_out', 'int16'],\n",
    "    ['career_c', 'category'],\n",
    "    ['sports', 'int16'],\n",
    "    ['tvsports', 'int16'],\n",
    "    ['exercise', 'int16'],\n",
    "    ['dining', 'int16'],\n",
    "    ['museums', 'int16'],\n",
    "    ['art', 'int16'],\n",
    "    ['hiking', 'int16'],\n",
    "    ['gaming', 'int16'],\n",
    "    ['clubbing', 'int16'],\n",
    "    ['reading', 'int16'],\n",
    "    ['tv', 'int16'],\n",
    "    ['theater', 'int16'],\n",
    "    ['movies', 'int16'],\n",
    "    ['concerts', 'int16'],\n",
    "    ['music', 'int16'],\n",
    "    ['shopping', 'int16'],\n",
    "    ['yoga', 'int16'],\n",
    "    ['exphappy', 'int16'],\n",
    "    ['expnum', 'int16'],\n",
    "    ['attr1_1', 'int16'],\n",
    "    ['sinc1_1', 'int16'],\n",
    "    ['intel1_1', 'int16'],\n",
    "    ['fun1_1', 'int16'],\n",
    "    ['amb1_1', 'int16'],\n",
    "    ['shar1_1', 'int16'],\n",
    "    ['attr3_1', 'int16'],\n",
    "    ['sinc3_1', 'int16'],\n",
    "    ['fun3_1', 'int16'],\n",
    "    ['intel3_1', 'int16'],\n",
    "    ['amb3_1', 'int16'],\n",
    "    ['dec', 'bool'],\n",
    "    ['attr', 'int16'],\n",
    "    ['sinc', 'int16'],\n",
    "    ['intel', 'int16'],\n",
    "    ['fun', 'int16'],\n",
    "    ['amb', 'int16'],\n",
    "    ['shar', 'int16'],\n",
    "    ['like', 'int16'],\n",
    "    ['prob', 'int16'],\n",
    "    ['met', 'int16'],\n",
    "    ['match_es', 'int16'],\n",
    "    ['satis_2', 'int16'],\n",
    "    ['length', 'int16'],\n",
    "    ['numdat_2', 'int16']\n",
    "]"
   ]
  },
  {
   "cell_type": "code",
   "execution_count": 15,
   "metadata": {},
   "outputs": [],
   "source": [
    "# create new dataframe containing relevant features\n",
    "data = data_raw[[feature[0] for feature in relevant_features]]"
   ]
  },
  {
   "cell_type": "code",
   "execution_count": 22,
   "metadata": {},
   "outputs": [
    {
     "data": {
      "text/plain": [
       "(8378, 77)"
      ]
     },
     "execution_count": 22,
     "metadata": {},
     "output_type": "execute_result"
    }
   ],
   "source": [
    "data.shape"
   ]
  },
  {
   "cell_type": "markdown",
   "metadata": {},
   "source": [
    "## 3.2 Feature datatypes"
   ]
  },
  {
   "cell_type": "code",
   "execution_count": 25,
   "metadata": {},
   "outputs": [],
   "source": [
    "data = data.astype({feature: datatype if all(data[feature].notna().values) \n",
    "                                    else 'float32' \n",
    "                                    if datatype == 'int16' \n",
    "                                    else datatype for (feature, datatype) in relevant_features})"
   ]
  },
  {
   "cell_type": "code",
   "execution_count": 27,
   "metadata": {},
   "outputs": [],
   "source": [
    "data.to_csv(\n",
    "    path_or_buf='./input/data.csv',\n",
    "    index=False\n",
    ")"
   ]
  },
  {
   "cell_type": "markdown",
   "metadata": {},
   "source": [
    "## 4. Exploration"
   ]
  },
  {
   "cell_type": "markdown",
   "metadata": {},
   "source": [
    "### 4.1 Univariate analysis\n",
    "* Get proportion of dates where partner matched with subject"
   ]
  },
  {
   "cell_type": "code",
   "execution_count": 28,
   "metadata": {},
   "outputs": [
    {
     "data": {
      "text/plain": [
       "0.42"
      ]
     },
     "execution_count": 28,
     "metadata": {},
     "output_type": "execute_result"
    }
   ],
   "source": [
    "partner_accepts = data['dec_o'] # 매칭이 성사된 경우 (재만남 의사 O)\n",
    "round(partner_accepts[partner_accepts == True].count()/partner_accepts.count(),3)"
   ]
  },
  {
   "cell_type": "markdown",
   "metadata": {},
   "source": [
    "### Plot the distributions of subject attribute ratings from their partners"
   ]
  },
  {
   "cell_type": "code",
   "execution_count": 29,
   "metadata": {},
   "outputs": [
    {
     "name": "stderr",
     "output_type": "stream",
     "text": [
      "C:\\Users\\User\\anaconda3\\lib\\site-packages\\seaborn\\distributions.py:2551: FutureWarning: `distplot` is a deprecated function and will be removed in a future version. Please adapt your code to use either `displot` (a figure-level function with similar flexibility) or `histplot` (an axes-level function for histograms).\n",
      "  warnings.warn(msg, FutureWarning)\n"
     ]
    },
    {
     "data": {
      "image/png": "[encoded data removed]",
      "text/plain": [
       "<Figure size 1152x720 with 6 Axes>"
      ]
     },
     "metadata": {
      "needs_background": "light"
     },
     "output_type": "display_data"
    }
   ],
   "source": [
    "plt.figure(figsize=(16,10))\n",
    "plt.tight_layout(pad=5.0)\n",
    "\n",
    "plt.subplot(2,3,1)\n",
    "plot_distribution(\n",
    "    data=data['attr_o'],\n",
    "    bins=np.arange(0, 10, 0.5).tolist(),\n",
    "    title='Subject\\'s attractiveness rating',\n",
    "    xlabel='Attractiveness rating',\n",
    "    ylabel='Number of subjects'\n",
    ")\n",
    "plt.subplot(2,3,2)\n",
    "plot_distribution(\n",
    "    data=data['sinc_o'],\n",
    "    bins=np.arange(0, 10, 0.5).tolist(),\n",
    "    title='Subject\\'s sincerity rating',\n",
    "    xlabel='Sincerity rating',\n",
    "    ylabel='Number of subjects'\n",
    ")\n",
    "plt.subplot(2,3,3)\n",
    "plot_distribution(\n",
    "    data=data['intel_o'],\n",
    "    bins=np.arange(0, 10, 0.5).tolist(),\n",
    "    title='Subject\\'s intelligence rating',\n",
    "    xlabel='Intelligence rating',\n",
    "    ylabel='Number of subjects'\n",
    ")\n",
    "plt.subplot(2,3,4)\n",
    "plot_distribution(\n",
    "    data=data['fun_o'],\n",
    "    bins=np.arange(0, 10, 0.5).tolist(),\n",
    "    title='Subject\\'s fun rating',\n",
    "    xlabel='Fun rating',\n",
    "    ylabel='Number of subjects'\n",
    ")\n",
    "plt.subplot(2,3,5)\n",
    "plot_distribution(\n",
    "    data=data['amb_o'],\n",
    "    bins=np.arange(0, 10, 0.5).tolist(),\n",
    "    title='Subject\\'s ambition rating',\n",
    "    xlabel='Ambition rating',\n",
    "    ylabel='Number of subjects'\n",
    ")\n",
    "plt.subplot(2,3,6)\n",
    "plot_distribution(\n",
    "    data=data['shar_o'],\n",
    "    bins=np.arange(0, 10, 0.5).tolist(),\n",
    "    title='Subject\\'s shared interest rating',\n",
    "    xlabel='Shared interest rating',\n",
    "    ylabel='Number of subjects'\n",
    ")"
   ]
  },
  {
   "cell_type": "markdown",
   "metadata": {},
   "source": [
    "### Calculate the moments of subject attribute ratings from their partners"
   ]
  },
  {
   "cell_type": "code",
   "execution_count": 30,
   "metadata": {},
   "outputs": [
    {
     "name": "stdout",
     "output_type": "stream",
     "text": [
      "Attractiveness rating\n",
      "Mean:               6.19\n",
      "Standard deviation: 1.95\n",
      "Skewness:          -0.32\n",
      "Kurtosis:          -0.10\n"
     ]
    }
   ],
   "source": [
    "print_moments('Attractiveness rating', data['attr_o'])"
   ]
  },
  {
   "cell_type": "code",
   "execution_count": 31,
   "metadata": {},
   "outputs": [
    {
     "name": "stdout",
     "output_type": "stream",
     "text": [
      "Sincerity rating\n",
      "Mean:               7.18\n",
      "Standard deviation: 1.74\n",
      "Skewness:          -0.64\n",
      "Kurtosis:           0.75\n"
     ]
    }
   ],
   "source": [
    "print_moments('Sincerity rating', data['sinc_o'])"
   ]
  },
  {
   "cell_type": "code",
   "execution_count": 32,
   "metadata": {},
   "outputs": [
    {
     "name": "stdout",
     "output_type": "stream",
     "text": [
      "Intelligence rating\n",
      "Mean:               7.37\n",
      "Standard deviation: 1.55\n",
      "Skewness:          -0.55\n",
      "Kurtosis:           0.76\n"
     ]
    }
   ],
   "source": [
    "print_moments('Intelligence rating', data['intel_o'])"
   ]
  },
  {
   "cell_type": "code",
   "execution_count": 33,
   "metadata": {},
   "outputs": [
    {
     "name": "stdout",
     "output_type": "stream",
     "text": [
      "Fun rating\n",
      "Mean:               6.40\n",
      "Standard deviation: 1.95\n",
      "Skewness:          -0.45\n",
      "Kurtosis:           0.10\n"
     ]
    }
   ],
   "source": [
    "print_moments('Fun rating', data['fun_o'])"
   ]
  },
  {
   "cell_type": "code",
   "execution_count": 34,
   "metadata": {},
   "outputs": [
    {
     "name": "stdout",
     "output_type": "stream",
     "text": [
      "Ambition rating\n",
      "Mean:               6.78\n",
      "Standard deviation: 1.79\n",
      "Skewness:          -0.39\n",
      "Kurtosis:           0.17\n"
     ]
    }
   ],
   "source": [
    "print_moments('Ambition rating', data['amb_o'])"
   ]
  },
  {
   "cell_type": "code",
   "execution_count": 35,
   "metadata": {},
   "outputs": [
    {
     "name": "stdout",
     "output_type": "stream",
     "text": [
      "Shared interest rating\n",
      "Mean:               5.47\n",
      "Standard deviation: 2.16\n",
      "Skewness:          -0.19\n",
      "Kurtosis:          -0.37\n"
     ]
    }
   ],
   "source": [
    "print_moments('Shared interest rating', data['shar_o'])"
   ]
  },
  {
   "cell_type": "markdown",
   "metadata": {},
   "source": [
    "Get features with highest variance"
   ]
  },
  {
   "cell_type": "code",
   "execution_count": 36,
   "metadata": {
    "scrolled": true
   },
   "outputs": [
    {
     "data": {
      "text/plain": [
       "pid         158.584335\n",
       "iid         158.583367\n",
       "attr1_1      12.587790\n",
       "pf_o_att     12.569827\n",
       "sinc1_1       7.046759\n",
       "pf_o_sin      7.044133\n",
       "intel1_1      6.783009\n",
       "pf_o_int      6.782840\n",
       "pf_o_sha      6.362691\n",
       "shar1_1       6.362234\n",
       "dtype: float64"
      ]
     },
     "execution_count": 36,
     "metadata": {},
     "output_type": "execute_result"
    }
   ],
   "source": [
    "data.std().sort_values(ascending=False).head(10)"
   ]
  },
  {
   "cell_type": "markdown",
   "metadata": {},
   "source": [
    "Get features with highest skew"
   ]
  },
  {
   "cell_type": "code",
   "execution_count": 37,
   "metadata": {},
   "outputs": [
    {
     "data": {
      "text/plain": [
       "pf_o_att    2.176008\n",
       "attr1_1     2.173592\n",
       "match_es    1.522720\n",
       "expnum      1.394183\n",
       "go_out      1.204180\n",
       "movies      1.081646\n",
       "sinc3_1     1.080209\n",
       "age_o       1.073471\n",
       "age         1.069590\n",
       "fun3_1      0.824947\n",
       "dtype: float64"
      ]
     },
     "execution_count": 37,
     "metadata": {},
     "output_type": "execute_result"
    }
   ],
   "source": [
    "abs(data.skew()).sort_values(ascending=False).head(10)"
   ]
  },
  {
   "cell_type": "markdown",
   "metadata": {},
   "source": [
    "### 4.2 Bivariate analysis\n",
    "* Visualise correlation between selected features"
   ]
  },
  {
   "cell_type": "code",
   "execution_count": 38,
   "metadata": {},
   "outputs": [],
   "source": [
    "features_selected = [\n",
    "    'dec_o',\n",
    "    'pf_o_att',\n",
    "    'pf_o_sin',\n",
    "    'pf_o_int',\n",
    "    'pf_o_fun',\n",
    "    'pf_o_amb',\n",
    "    'pf_o_sha',\n",
    "    'attr_o',\n",
    "    'sinc_o',\n",
    "    'intel_o',\n",
    "    'fun_o',\n",
    "    'amb_o',\n",
    "    'shar_o'\n",
    "]"
   ]
  },
  {
   "cell_type": "code",
   "execution_count": 39,
   "metadata": {},
   "outputs": [
    {
     "data": {
      "image/png": "[encoded data removed]",
      "text/plain": [
       "<Figure size 864x720 with 2 Axes>"
      ]
     },
     "metadata": {
      "needs_background": "light"
     },
     "output_type": "display_data"
    }
   ],
   "source": [
    "plt.figure(figsize=(12,10))\n",
    "cmap = plt.cm.RdBu\n",
    "mask = np.triu(data[features_selected].astype(float).corr())\n",
    "sns.heatmap(\n",
    "    data[features_selected].astype(float).corr(),\n",
    "    square=True,\n",
    "    cmap=cmap,\n",
    "    mask=mask,\n",
    "    linewidths=0.1,\n",
    "    vmax=1.0,\n",
    "    linecolor='white'\n",
    ");"
   ]
  },
  {
   "cell_type": "code",
   "execution_count": 108,
   "metadata": {},
   "outputs": [
    {
     "data": {
      "image/png": "[encoded data removed]",
      "text/plain": [
       "<Figure size 864x720 with 2 Axes>"
      ]
     },
     "metadata": {
      "needs_background": "light"
     },
     "output_type": "display_data"
    }
   ],
   "source": [
    "data_men = data[data['gender']==1]\n",
    "\n",
    "plt.figure(figsize=(12,10))\n",
    "cmap = plt.cm.RdBu\n",
    "mask = np.triu(data_men[features_selected].astype(float).corr())\n",
    "sns.heatmap(\n",
    "    data_men[features_selected].astype(float).corr(),\n",
    "    square=True,\n",
    "    cmap=cmap,\n",
    "    mask=mask,\n",
    "    linewidths=0.1,\n",
    "    vmax=1.0,\n",
    "    linecolor='white'\n",
    ");"
   ]
  },
  {
   "cell_type": "markdown",
   "metadata": {},
   "source": [
    "Visualise correlation between selected features for women"
   ]
  },
  {
   "cell_type": "code",
   "execution_count": 45,
   "metadata": {},
   "outputs": [
    {
     "data": {
      "image/png": "[encoded data removed]",
      "text/plain": [
       "<Figure size 864x720 with 2 Axes>"
      ]
     },
     "metadata": {
      "needs_background": "light"
     },
     "output_type": "display_data"
    }
   ],
   "source": [
    "data_women = data[data['gender']==0]\n",
    "\n",
    "plt.figure(figsize=(12,10))\n",
    "cmap = plt.cm.RdBu\n",
    "mask = np.triu(data_women[features_selected].astype(float).corr())\n",
    "sns.heatmap(\n",
    "    data_women[features_selected].astype(float).corr(),\n",
    "    square=True,\n",
    "    cmap=cmap,\n",
    "    mask=mask,\n",
    "    linewidths=0.1,\n",
    "    vmax=1.0,\n",
    "    linecolor='white'\n",
    ");"
   ]
  },
  {
   "cell_type": "code",
   "execution_count": 46,
   "metadata": {},
   "outputs": [
    {
     "data": {
      "text/plain": [
       "iid      wave        0.996713\n",
       "pid      wave        0.996712\n",
       "iid      pid         0.992968\n",
       "art      museums     0.858548\n",
       "fun_o    like_o      0.691267\n",
       "fun      like        0.691248\n",
       "attr_o   like_o      0.667240\n",
       "attr     like        0.667239\n",
       "shar     like        0.660826\n",
       "like_o   shar_o      0.660448\n",
       "sinc     intel       0.657664\n",
       "intel_o  sinc_o      0.657548\n",
       "music    concerts    0.655728\n",
       "amb      intel       0.627483\n",
       "intel_o  amb_o       0.627332\n",
       "shar_o   fun_o       0.617995\n",
       "shar     fun         0.617989\n",
       "dtype: float64"
      ]
     },
     "execution_count": 46,
     "metadata": {},
     "output_type": "execute_result"
    }
   ],
   "source": [
    "correlations = data.corr().abs().unstack().sort_values(ascending=False).drop_duplicates()\n",
    "correlations = correlations[correlations != 1]\n",
    "correlations[correlations > 0.6]"
   ]
  },
  {
   "cell_type": "markdown",
   "metadata": {},
   "source": [
    "Get highest correlated features with target variable"
   ]
  },
  {
   "cell_type": "code",
   "execution_count": 47,
   "metadata": {},
   "outputs": [
    {
     "data": {
      "text/plain": [
       "attr_o     0.486885\n",
       "fun_o      0.414276\n",
       "intel_o    0.216704\n",
       "amb_o      0.183216\n",
       "gender     0.111550\n",
       "dtype: float64"
      ]
     },
     "execution_count": 47,
     "metadata": {},
     "output_type": "execute_result"
    }
   ],
   "source": [
    "partner_decision_correlations = correlations.loc['dec_o']\n",
    "partner_decision_correlations[partner_decision_correlations > 0.1]"
   ]
  },
  {
   "cell_type": "markdown",
   "metadata": {},
   "source": [
    "## 5. Engineering\n",
    "### 5.1 Sample analysis\n",
    "\n",
    "* Get proportion of dataframe with missing samples"
   ]
  },
  {
   "cell_type": "code",
   "execution_count": 48,
   "metadata": {},
   "outputs": [
    {
     "data": {
      "text/plain": [
       "expnum      0.785152\n",
       "match_es    0.140010\n",
       "shar_o      0.128432\n",
       "shar        0.127357\n",
       "numdat_2    0.112795\n",
       "satis_2     0.109215\n",
       "length      0.109215\n",
       "amb_o       0.086178\n",
       "amb         0.084984\n",
       "met         0.044760\n",
       "dtype: float64"
      ]
     },
     "execution_count": 48,
     "metadata": {},
     "output_type": "execute_result"
    }
   ],
   "source": [
    "missing_samples_proportion = data.isnull().sum()/len(data)\n",
    "missing_samples_proportion.sort_values(ascending=False).head(10)"
   ]
  },
  {
   "cell_type": "markdown",
   "metadata": {},
   "source": [
    "Drop features with more than 50% missing samples"
   ]
  },
  {
   "cell_type": "code",
   "execution_count": 49,
   "metadata": {},
   "outputs": [],
   "source": [
    "#missing_half_samples = missing_samples_proportion[missing_samples_proportion > 0.5].index.values\n",
    "#data.drop(columns=missing_half_samples, inplace=True)"
   ]
  },
  {
   "cell_type": "markdown",
   "metadata": {},
   "source": [
    "Impute missing samples using iterative imputer"
   ]
  },
  {
   "cell_type": "code",
   "execution_count": 50,
   "metadata": {},
   "outputs": [],
   "source": [
    "imputer = IterativeImputer(\n",
    "    missing_values=np.nan,\n",
    "    sample_posterior=True,\n",
    "    n_nearest_features=5,\n",
    "    min_value=0,\n",
    "    max_value=100,\n",
    "    random_state=0\n",
    ")\n",
    "imputer.fit(data)\n",
    "data_imputed = np.around(imputer.transform(data))\n",
    "data = pd.DataFrame(data_imputed, columns=data.columns)\n",
    "data = data.astype({feature: datatype if all(data[feature].notna().values) else 'float32' if datatype == 'int16' else datatype for (feature, datatype) in relevant_features})"
   ]
  },
  {
   "cell_type": "markdown",
   "metadata": {},
   "source": [
    "### 5.2 Feature representation\n",
    "Encode nominal features using one-hot encoding"
   ]
  },
  {
   "cell_type": "code",
   "execution_count": 51,
   "metadata": {},
   "outputs": [],
   "source": [
    "features_nominal = data.dtypes[data.dtypes == 'category'].index.values\n",
    "data = pd.get_dummies(data, prefix=features_nominal)"
   ]
  },
  {
   "cell_type": "markdown",
   "metadata": {},
   "source": [
    "### 5.3 Feature interactions\n",
    "Calculate the average attribute ratings for each subject"
   ]
  },
  {
   "cell_type": "code",
   "execution_count": 52,
   "metadata": {},
   "outputs": [],
   "source": [
    "subject_attractiveness_mean = data[['iid', 'attr_o']].groupby(['iid']).mean()['attr_o']\n",
    "subject_sincerity_mean = data[['iid', 'sinc_o']].groupby(['iid']).mean()['sinc_o']\n",
    "subject_intelligence_mean = data[['iid', 'intel_o']].groupby(['iid']).mean()['intel_o']\n",
    "subject_fun_mean = data[['iid', 'fun_o']].groupby(['iid']).mean()['fun_o']\n",
    "subject_ambition_mean = data[['iid', 'amb_o']].groupby(['iid']).mean()['amb_o']\n",
    "subject_shared_interest_mean = data[['iid', 'shar_o']].groupby(['iid']).mean()['shar_o']"
   ]
  },
  {
   "cell_type": "markdown",
   "metadata": {},
   "source": [
    "Insert average attribute ratings into dataframe"
   ]
  },
  {
   "cell_type": "code",
   "execution_count": null,
   "metadata": {},
   "outputs": [],
   "source": [
    "data = data.merge(\n",
    "    right=subject_attractiveness_mean,\n",
    "    how='inner',\n",
    "    on='iid'\n",
    ").rename(columns={\n",
    "    'attr_o_x': 'attr_o',\n",
    "    'attr_o_y': 'subject_attractiveness_mean'\n",
    "})\n",
    "\n",
    "data = data.merge(\n",
    "    right=subject_sincerity_mean,\n",
    "    how='inner',\n",
    "    on='iid'\n",
    ").rename(columns={\n",
    "    'sinc_o_x': 'sinc_o',\n",
    "    'sinc_o_y': 'subject_sincerity_mean'\n",
    "})\n",
    "\n",
    "data = data.merge(\n",
    "    right=subject_intelligence_mean,\n",
    "    how='inner',\n",
    "    on='iid'\n",
    ").rename(columns={\n",
    "    'intel_o_x': 'intel_o',\n",
    "    'intel_o_y': 'subject_intelligence_mean'\n",
    "})\n",
    "\n",
    "data = data.merge(\n",
    "    right=subject_fun_mean,\n",
    "    how='inner',\n",
    "    on='iid'\n",
    ").rename(columns={\n",
    "    'fun_o_x': 'fun_o',\n",
    "    'fun_o_y': 'subject_fun_mean'\n",
    "})\n",
    "\n",
    "data = data.merge(\n",
    "    right=subject_ambition_mean,\n",
    "    how='inner',\n",
    "    on='iid'\n",
    ").rename(columns={\n",
    "    'amb_o_x': 'amb_o',\n",
    "    'amb_o_y': 'subject_ambition_mean'\n",
    "})\n",
    "\n",
    "data = data.merge(\n",
    "    right=subject_shared_interest_mean,\n",
    "    how='inner',\n",
    "    on='iid'\n",
    ").rename(columns={\n",
    "    'shar_o_x': 'shar_o',\n",
    "    'shar_o_y': 'subject_shared_interest_mean'\n",
    "})"
   ]
  },
  {
   "cell_type": "markdown",
   "metadata": {},
   "source": [
    "Calculate difference between subject and partner's ages"
   ]
  },
  {
   "cell_type": "code",
   "execution_count": 53,
   "metadata": {},
   "outputs": [],
   "source": [
    "data['age_difference'] = abs(data['age'] - data['age_o'])"
   ]
  },
  {
   "cell_type": "markdown",
   "metadata": {},
   "source": [
    "Calculate difference between subject's attribute ratings and partner's attributes ratings"
   ]
  },
  {
   "cell_type": "code",
   "execution_count": 54,
   "metadata": {},
   "outputs": [],
   "source": [
    "data['attractiveness_difference'] = abs(data['attr'] - data['attr_o'])\n",
    "data['sincerity_difference'] = abs(data['sinc'] - data['sinc_o'])\n",
    "data['intelligence_difference'] = abs(data['intel'] - data['intel_o'])\n",
    "data['fun_difference'] = abs(data['fun'] - data['fun_o'])\n",
    "data['ambition_difference'] = abs(data['amb'] - data['amb_o'])\n",
    "data['shared_interest_difference'] = abs(data['shar'] - data['shar_o'])"
   ]
  },
  {
   "cell_type": "markdown",
   "metadata": {},
   "source": [
    "### 5.4 Feature transformations"
   ]
  },
  {
   "cell_type": "markdown",
   "metadata": {},
   "source": [
    "Scale normal features to zero mean and unit variance"
   ]
  },
  {
   "cell_type": "code",
   "execution_count": 56,
   "metadata": {},
   "outputs": [],
   "source": [
    "features_normal = [\n",
    "    'attr_o',\n",
    "    'sinc_o',\n",
    "    'intel_o',\n",
    "    'fun_o',\n",
    "    'amb_o',\n",
    "    'shar_o',\n",
    "    'age_difference',\n",
    "    'attractiveness_difference',\n",
    "    'sincerity_difference',\n",
    "    'intelligence_difference',\n",
    "    'fun_difference',\n",
    "    'ambition_difference',\n",
    "    'shared_interest_difference'\n",
    "]"
   ]
  },
  {
   "cell_type": "code",
   "execution_count": 57,
   "metadata": {},
   "outputs": [],
   "source": [
    "data[features_normal] = data[features_normal].apply(lambda x: preprocessing.scale(x))"
   ]
  },
  {
   "cell_type": "markdown",
   "metadata": {},
   "source": [
    "### 5.5 Feature selection"
   ]
  },
  {
   "cell_type": "markdown",
   "metadata": {},
   "source": [
    "Drop irrelevant features which contain no information about the target variable"
   ]
  },
  {
   "cell_type": "code",
   "execution_count": 58,
   "metadata": {},
   "outputs": [],
   "source": [
    "features_no_information = [\n",
    "    'iid',\n",
    "    'pid',\n",
    "    'wave',\n",
    "    'position',\n",
    "    'order'\n",
    "]"
   ]
  },
  {
   "cell_type": "markdown",
   "metadata": {},
   "source": [
    "Drop features that are known in the future"
   ]
  },
  {
   "cell_type": "code",
   "execution_count": 60,
   "metadata": {},
   "outputs": [],
   "source": [
    "features_future_information = [\n",
    "    'dec',\n",
    "    'dec_o',\n",
    "    'like',\n",
    "    'prob',\n",
    "    'like_o',\n",
    "    'prob_o'\n",
    "]"
   ]
  },
  {
   "cell_type": "markdown",
   "metadata": {},
   "source": [
    "Drop features that have low variance"
   ]
  },
  {
   "cell_type": "code",
   "execution_count": 63,
   "metadata": {},
   "outputs": [],
   "source": [
    "feature_variances = data.std().sort_values(ascending=True)\n",
    "features_low_variance = feature_variances[feature_variances < 0.1].index.values.tolist()"
   ]
  },
  {
   "cell_type": "code",
   "execution_count": 65,
   "metadata": {
    "scrolled": true
   },
   "outputs": [
    {
     "data": {
      "text/plain": [
       "['met_o',\n",
       " 'race_0.0',\n",
       " 'race_o_0.0',\n",
       " 'career_c_0.0',\n",
       " 'race_o_5.0',\n",
       " 'race_5.0',\n",
       " 'goal_0.0',\n",
       " 'field_cd_17.0',\n",
       " 'career_c_17.0',\n",
       " 'career_c_14.0',\n",
       " 'field_cd_12.0',\n",
       " 'career_c_12.0',\n",
       " 'field_cd_16.0',\n",
       " 'career_c_16.0',\n",
       " 'career_c_8.0',\n",
       " 'field_cd_18.0',\n",
       " 'career_c_15.0',\n",
       " 'career_c_13.0']"
      ]
     },
     "execution_count": 65,
     "metadata": {},
     "output_type": "execute_result"
    }
   ],
   "source": [
    "features_low_variance  # 분산이 낮은 features들 선택"
   ]
  },
  {
   "cell_type": "markdown",
   "metadata": {},
   "source": [
    "Drop features that have weak correlation with target variable"
   ]
  },
  {
   "cell_type": "code",
   "execution_count": 66,
   "metadata": {},
   "outputs": [],
   "source": [
    "features_weak_correlation = partner_decision_correlations[partner_decision_correlations < 0.1].axes[0].to_list()\n",
    "features_weak_correlation = list(set(features_weak_correlation) - set(features_future_information) - set(features_no_information))"
   ]
  },
  {
   "cell_type": "code",
   "execution_count": 67,
   "metadata": {},
   "outputs": [
    {
     "data": {
      "text/plain": [
       "['concerts',\n",
       " 'tv',\n",
       " 'gaming',\n",
       " 'museums',\n",
       " 'pf_o_int',\n",
       " 'attr',\n",
       " 'intel1_1',\n",
       " 'imprelig',\n",
       " 'amb1_1',\n",
       " 'sinc3_1',\n",
       " 'shopping',\n",
       " 'clubbing',\n",
       " 'intel3_1',\n",
       " 'met',\n",
       " 'amb3_1',\n",
       " 'sinc1_1',\n",
       " 'dining',\n",
       " 'date',\n",
       " 'shar1_1',\n",
       " 'numdat_2',\n",
       " 'attr3_1',\n",
       " 'fun3_1',\n",
       " 'pf_o_sin',\n",
       " 'music']"
      ]
     },
     "execution_count": 67,
     "metadata": {},
     "output_type": "execute_result"
    }
   ],
   "source": [
    "features_weak_correlation"
   ]
  },
  {
   "cell_type": "markdown",
   "metadata": {},
   "source": [
    "Drop features that were used in interaction variables"
   ]
  },
  {
   "cell_type": "code",
   "execution_count": 68,
   "metadata": {},
   "outputs": [],
   "source": [
    "features_interaction = [\n",
    "    'age',\n",
    "    'age_o',\n",
    "]"
   ]
  },
  {
   "cell_type": "code",
   "execution_count": 69,
   "metadata": {},
   "outputs": [],
   "source": [
    "features_remove = features_no_information+features_future_information+features_low_variance+features_weak_correlation+features_interaction\n",
    "data_model = data.drop(columns=features_remove)"
   ]
  },
  {
   "cell_type": "markdown",
   "metadata": {},
   "source": [
    "### 5.6 Data export"
   ]
  },
  {
   "cell_type": "markdown",
   "metadata": {},
   "source": [
    "Persist dataframe containing features to be used in model"
   ]
  },
  {
   "cell_type": "code",
   "execution_count": 72,
   "metadata": {},
   "outputs": [],
   "source": [
    "data_model.to_csv(\n",
    "    path_or_buf='./data_model.csv',\n",
    "    index=False\n",
    ")"
   ]
  },
  {
   "cell_type": "markdown",
   "metadata": {},
   "source": [
    "# 6. Modelling\n",
    "\n",
    "### 6.1 Baseline models\n",
    "* Define feature and target variables"
   ]
  },
  {
   "cell_type": "code",
   "execution_count": 141,
   "metadata": {},
   "outputs": [
    {
     "data": {
      "text/plain": [
       "7     1635\n",
       "8     1349\n",
       "9     1204\n",
       "5      979\n",
       "6      961\n",
       "10     890\n",
       "4      541\n",
       "3      458\n",
       "2      193\n",
       "1      147\n",
       "0       18\n",
       "12       2\n",
       "11       1\n",
       "Name: theater, dtype: int64"
      ]
     },
     "execution_count": 141,
     "metadata": {},
     "output_type": "execute_result"
    }
   ],
   "source": [
    "data_model[''].value_counts()"
   ]
  },
  {
   "cell_type": "code",
   "execution_count": 132,
   "metadata": {
    "scrolled": true
   },
   "outputs": [
    {
     "data": {
      "text/plain": [
       "Index(['gender', 'pf_o_att', 'pf_o_fun', 'pf_o_amb', 'pf_o_sha', 'attr_o',\n",
       "       'sinc_o', 'intel_o', 'fun_o', 'amb_o', 'shar_o', 'imprace', 'go_out',\n",
       "       'sports', 'tvsports', 'exercise', 'art', 'hiking', 'reading', 'theater',\n",
       "       'movies', 'yoga', 'exphappy', 'expnum', 'attr1_1', 'fun1_1', 'sinc',\n",
       "       'intel', 'fun', 'amb', 'shar', 'match_es', 'satis_2', 'length',\n",
       "       'race_o_1.0', 'race_o_2.0', 'race_o_3.0', 'race_o_4.0', 'race_o_6.0',\n",
       "       'field_cd_1.0', 'field_cd_2.0', 'field_cd_3.0', 'field_cd_4.0',\n",
       "       'field_cd_5.0', 'field_cd_6.0', 'field_cd_7.0', 'field_cd_8.0',\n",
       "       'field_cd_9.0', 'field_cd_10.0', 'field_cd_11.0', 'field_cd_13.0',\n",
       "       'field_cd_14.0', 'field_cd_15.0', 'race_1.0', 'race_2.0', 'race_3.0',\n",
       "       'race_4.0', 'race_6.0', 'goal_1.0', 'goal_2.0', 'goal_3.0', 'goal_4.0',\n",
       "       'goal_5.0', 'goal_6.0', 'career_c_1.0', 'career_c_2.0', 'career_c_3.0',\n",
       "       'career_c_4.0', 'career_c_5.0', 'career_c_6.0', 'career_c_7.0',\n",
       "       'career_c_9.0', 'career_c_10.0', 'career_c_11.0', 'age_difference',\n",
       "       'attractiveness_difference', 'sincerity_difference',\n",
       "       'intelligence_difference', 'fun_difference', 'ambition_difference',\n",
       "       'shared_interest_difference'],\n",
       "      dtype='object')"
      ]
     },
     "execution_count": 132,
     "metadata": {},
     "output_type": "execute_result"
    }
   ],
   "source": [
    "data_model.columns"
   ]
  },
  {
   "cell_type": "code",
   "execution_count": 119,
   "metadata": {},
   "outputs": [],
   "source": [
    "features = data_model  # 학습할 features (x)\n",
    "target = data['dec_o'] # 정답값 (y)"
   ]
  },
  {
   "cell_type": "code",
   "execution_count": 126,
   "metadata": {},
   "outputs": [],
   "source": [
    "race_features = ['race_o_1.0', 'race_o_2.0', 'race_o_3.0', 'race_o_4.0', 'race_o_6.0',\n",
    "                 'race_1.0', 'race_2.0', 'race_3.0', 'race_4.0', 'race_6.0']"
   ]
  },
  {
   "cell_type": "code",
   "execution_count": 129,
   "metadata": {},
   "outputs": [],
   "source": [
    "features = features.drop(columns=race_features)"
   ]
  },
  {
   "cell_type": "code",
   "execution_count": 130,
   "metadata": {
    "scrolled": true
   },
   "outputs": [
    {
     "data": {
      "text/plain": [
       "Index(['gender', 'pf_o_att', 'pf_o_fun', 'pf_o_amb', 'pf_o_sha', 'attr_o',\n",
       "       'sinc_o', 'intel_o', 'fun_o', 'amb_o', 'shar_o', 'imprace', 'go_out',\n",
       "       'sports', 'tvsports', 'exercise', 'art', 'hiking', 'reading', 'theater',\n",
       "       'movies', 'yoga', 'exphappy', 'expnum', 'attr1_1', 'fun1_1', 'sinc',\n",
       "       'intel', 'fun', 'amb', 'shar', 'match_es', 'satis_2', 'length',\n",
       "       'field_cd_1.0', 'field_cd_2.0', 'field_cd_3.0', 'field_cd_4.0',\n",
       "       'field_cd_5.0', 'field_cd_6.0', 'field_cd_7.0', 'field_cd_8.0',\n",
       "       'field_cd_9.0', 'field_cd_10.0', 'field_cd_11.0', 'field_cd_13.0',\n",
       "       'field_cd_14.0', 'field_cd_15.0', 'goal_1.0', 'goal_2.0', 'goal_3.0',\n",
       "       'goal_4.0', 'goal_5.0', 'goal_6.0', 'career_c_1.0', 'career_c_2.0',\n",
       "       'career_c_3.0', 'career_c_4.0', 'career_c_5.0', 'career_c_6.0',\n",
       "       'career_c_7.0', 'career_c_9.0', 'career_c_10.0', 'career_c_11.0',\n",
       "       'age_difference', 'attractiveness_difference', 'sincerity_difference',\n",
       "       'intelligence_difference', 'fun_difference', 'ambition_difference',\n",
       "       'shared_interest_difference'],\n",
       "      dtype='object')"
      ]
     },
     "execution_count": 130,
     "metadata": {},
     "output_type": "execute_result"
    }
   ],
   "source": [
    "features.columns"
   ]
  },
  {
   "cell_type": "code",
   "execution_count": null,
   "metadata": {},
   "outputs": [],
   "source": []
  },
  {
   "cell_type": "code",
   "execution_count": 77,
   "metadata": {},
   "outputs": [
    {
     "name": "stdout",
     "output_type": "stream",
     "text": [
      "Fitting 5 folds for each of 20 candidates, totalling 100 fits\n"
     ]
    },
    {
     "name": "stderr",
     "output_type": "stream",
     "text": [
      "[Parallel(n_jobs=-1)]: Using backend LokyBackend with 8 concurrent workers.\n",
      "[Parallel(n_jobs=-1)]: Done  25 tasks      | elapsed:    4.3s\n",
      "[Parallel(n_jobs=-1)]: Done 100 out of 100 | elapsed:   47.5s finished\n"
     ]
    },
    {
     "data": {
      "text/plain": [
       "{'C': 0.03359818286283781,\n",
       " 'max_iter': 10000,\n",
       " 'penalty': 'l2',\n",
       " 'solver': 'lbfgs'}"
      ]
     },
     "execution_count": 77,
     "metadata": {},
     "output_type": "execute_result"
    }
   ],
   "source": [
    "parameters = {\n",
    "    'penalty': ['l2'],       # 정규화\n",
    "    'solver': ['lbfgs'],     \n",
    "    'C': np.logspace(-4, 4, 20),\n",
    "    'max_iter': [10000]\n",
    "}\n",
    "classifier_lr = LogisticRegression(random_state=0)\n",
    "classifier_lr = GridSearchCV(\n",
    "    estimator=classifier_lr,\n",
    "    param_grid=parameters, \n",
    "    cv=5,      # 교차 검증을 5개의 데이터셋으로 나누세요\n",
    "    verbose=2, # 훈련 과정을 보여주세요\n",
    "    n_jobs=-1  # 활용할 수 있는 최대의 스레드를 사용하세요\n",
    ")\n",
    "classifier_lr.fit(features, target)\n",
    "classifier_lr.best_params_"
   ]
  },
  {
   "cell_type": "markdown",
   "metadata": {},
   "source": [
    "Instantiate, train and tune a linear model"
   ]
  },
  {
   "cell_type": "code",
   "execution_count": 78,
   "metadata": {},
   "outputs": [],
   "source": [
    "classifier_lr = LogisticRegression(\n",
    "    random_state=0,\n",
    "    penalty=classifier_lr.best_params_['penalty'],\n",
    "    solver=classifier_lr.best_params_['solver'],\n",
    "    C=classifier_lr.best_params_['C'],\n",
    "    max_iter=classifier_lr.best_params_['max_iter']\n",
    ")"
   ]
  },
  {
   "cell_type": "code",
   "execution_count": 80,
   "metadata": {},
   "outputs": [
    {
     "data": {
      "text/plain": [
       "LogisticRegression(C=0.03359818286283781, max_iter=10000, random_state=0)"
      ]
     },
     "execution_count": 80,
     "metadata": {},
     "output_type": "execute_result"
    }
   ],
   "source": [
    "classifier_lr  # 로지스틱 regrssion ( 0~ 1 prob)"
   ]
  },
  {
   "cell_type": "markdown",
   "metadata": {},
   "source": [
    "Instantiate, train and tune a discriminative model"
   ]
  },
  {
   "cell_type": "code",
   "execution_count": 81,
   "metadata": {},
   "outputs": [
    {
     "name": "stdout",
     "output_type": "stream",
     "text": [
      "Fitting 5 folds for each of 12 candidates, totalling 60 fits\n"
     ]
    },
    {
     "name": "stderr",
     "output_type": "stream",
     "text": [
      "[Parallel(n_jobs=-1)]: Using backend LokyBackend with 8 concurrent workers.\n",
      "[Parallel(n_jobs=-1)]: Done  25 tasks      | elapsed:   32.8s\n",
      "[Parallel(n_jobs=-1)]: Done  60 out of  60 | elapsed:  1.4min finished\n"
     ]
    },
    {
     "data": {
      "text/plain": [
       "{'C': 100, 'gamma': 0.0001, 'kernel': 'rbf'}"
      ]
     },
     "execution_count": 81,
     "metadata": {},
     "output_type": "execute_result"
    }
   ],
   "source": [
    "parameters = {\n",
    "    'kernel': ['rbf'],\n",
    "    'gamma': [1e-4, 1e-3, 1e-2],\n",
    "    'C': [1, 10, 100, 1000]\n",
    "}\n",
    "classifier_sv = SVC(random_state=0)\n",
    "classifier_sv = GridSearchCV(\n",
    "    estimator=classifier_sv,\n",
    "    param_grid=parameters,\n",
    "    cv=5,\n",
    "    verbose=2,\n",
    "    n_jobs=-1\n",
    ")\n",
    "classifier_sv.fit(features, target)\n",
    "classifier_sv.best_params_"
   ]
  },
  {
   "cell_type": "code",
   "execution_count": 82,
   "metadata": {},
   "outputs": [],
   "source": [
    "classifier_sv = SVC(\n",
    "    random_state=0,\n",
    "    kernel=classifier_sv.best_params_['kernel'],\n",
    "    gamma=classifier_sv.best_params_['gamma'],\n",
    "    C=classifier_sv.best_params_['C']\n",
    ")"
   ]
  },
  {
   "cell_type": "markdown",
   "metadata": {},
   "source": [
    "Instantiate, train and tune a instance-based model"
   ]
  },
  {
   "cell_type": "code",
   "execution_count": 83,
   "metadata": {},
   "outputs": [
    {
     "name": "stdout",
     "output_type": "stream",
     "text": [
      "Fitting 5 folds for each of 24 candidates, totalling 120 fits\n"
     ]
    },
    {
     "name": "stderr",
     "output_type": "stream",
     "text": [
      "[Parallel(n_jobs=-1)]: Using backend LokyBackend with 8 concurrent workers.\n",
      "[Parallel(n_jobs=-1)]: Done  25 tasks      | elapsed:    6.2s\n",
      "[Parallel(n_jobs=-1)]: Done 120 out of 120 | elapsed:   30.5s finished\n"
     ]
    },
    {
     "data": {
      "text/plain": [
       "{'metric': 'manhattan', 'n_neighbors': 29, 'weights': 'uniform'}"
      ]
     },
     "execution_count": 83,
     "metadata": {},
     "output_type": "execute_result"
    }
   ],
   "source": [
    "parameters = {\n",
    "    'n_neighbors': [5,11,19,29],\n",
    "    'weights': ['uniform', 'distance'],\n",
    "    'metric': ['minkowski', 'euclidean', 'manhattan']\n",
    "}\n",
    "classifier_kn = KNeighborsClassifier()\n",
    "classifier_kn = GridSearchCV(\n",
    "    estimator=classifier_kn,\n",
    "    param_grid=parameters,\n",
    "    cv=5,\n",
    "    verbose=2,\n",
    "    n_jobs=-1\n",
    ")\n",
    "classifier_kn.fit(features, target)\n",
    "classifier_kn.best_params_"
   ]
  },
  {
   "cell_type": "code",
   "execution_count": 84,
   "metadata": {},
   "outputs": [],
   "source": [
    "classifier_kn = KNeighborsClassifier(\n",
    "    n_neighbors=classifier_kn.best_params_['n_neighbors'],\n",
    "    weights=classifier_kn.best_params_['weights'],\n",
    "    metric=classifier_kn.best_params_['metric']\n",
    ")"
   ]
  },
  {
   "cell_type": "markdown",
   "metadata": {},
   "source": [
    "### 6.2 Ensemble models"
   ]
  },
  {
   "cell_type": "code",
   "execution_count": 85,
   "metadata": {},
   "outputs": [
    {
     "name": "stdout",
     "output_type": "stream",
     "text": [
      "Fitting 5 folds for each of 36 candidates, totalling 180 fits\n"
     ]
    },
    {
     "name": "stderr",
     "output_type": "stream",
     "text": [
      "[Parallel(n_jobs=-1)]: Using backend LokyBackend with 8 concurrent workers.\n",
      "[Parallel(n_jobs=-1)]: Done  25 tasks      | elapsed:    1.9s\n",
      "[Parallel(n_jobs=-1)]: Done 146 tasks      | elapsed:   15.4s\n",
      "[Parallel(n_jobs=-1)]: Done 180 out of 180 | elapsed:   20.6s finished\n"
     ]
    },
    {
     "data": {
      "text/plain": [
       "{'learning_rate': 0.05,\n",
       " 'loss': 'exponential',\n",
       " 'max_depth': 3,\n",
       " 'max_features': 'sqrt',\n",
       " 'n_estimators': 200}"
      ]
     },
     "execution_count": 85,
     "metadata": {},
     "output_type": "execute_result"
    }
   ],
   "source": [
    "parameters = {\n",
    "    'loss': ['deviance', 'exponential'],\n",
    "    'learning_rate': [0.05],\n",
    "    'n_estimators': [100, 200, 300],\n",
    "    'max_depth': [3, 4, 5],\n",
    "    'max_features': ['sqrt', 'log2']\n",
    "}\n",
    "classifier_gb = GradientBoostingClassifier(random_state=0)\n",
    "classifier_gb = GridSearchCV(\n",
    "    estimator=classifier_gb,\n",
    "    param_grid=parameters,\n",
    "    cv=5,\n",
    "    verbose=2,\n",
    "    n_jobs=-1\n",
    ")\n",
    "classifier_gb.fit(features, target)\n",
    "classifier_gb.best_params_"
   ]
  },
  {
   "cell_type": "code",
   "execution_count": 86,
   "metadata": {},
   "outputs": [],
   "source": [
    "classifier_gb = GradientBoostingClassifier(\n",
    "    random_state=0,\n",
    "    loss=classifier_gb.best_params_['loss'],\n",
    "    learning_rate=classifier_gb.best_params_['learning_rate'],\n",
    "    n_estimators=classifier_gb.best_params_['n_estimators'],\n",
    "    max_depth=classifier_gb.best_params_['max_depth'],\n",
    "    max_features=classifier_gb.best_params_['max_features']\n",
    ")"
   ]
  },
  {
   "cell_type": "markdown",
   "metadata": {},
   "source": [
    "Instantiate and train a voting and stacking model"
   ]
  },
  {
   "cell_type": "code",
   "execution_count": 90,
   "metadata": {},
   "outputs": [],
   "source": [
    "estimators = [\n",
    "    ('lr', classifier_lr), # logistic regression \n",
    "    ('sv', classifier_sv), # support vector classifier\n",
    "    ('kn', classifier_kn), # k-neighbors\n",
    "    ('gb', classifier_gb)  # grandient boosting\n",
    "]"
   ]
  },
  {
   "cell_type": "code",
   "execution_count": 91,
   "metadata": {},
   "outputs": [],
   "source": [
    "# voting 방식 -> 위의 4가지 얘들 중에서 투표를 해! 그래서 많이 뽑힌 애 반장해\n",
    "classifier_ve = VotingClassifier(\n",
    "    estimators=estimators,\n",
    "    voting='hard' # 다수결 투표!\n",
    ")"
   ]
  },
  {
   "cell_type": "code",
   "execution_count": 92,
   "metadata": {},
   "outputs": [],
   "source": [
    "# 스태킹 방법(일종의 앙상블)-> 4개를 순차적으로 해! (먼저 1번 투표해!) 2번 투표해! 3번 투포해! 4번 해!\n",
    "classifier_se = StackingClassifier(\n",
    "    estimators=estimators,\n",
    "    final_estimator=LogisticRegression()\n",
    ")"
   ]
  },
  {
   "cell_type": "markdown",
   "metadata": {},
   "source": [
    "# 7 Evaluation\n",
    "### 7.1 Classifier performance\n",
    "* Calculate performance metrics for each model"
   ]
  },
  {
   "cell_type": "code",
   "execution_count": 98,
   "metadata": {
    "scrolled": true
   },
   "outputs": [
    {
     "data": {
      "text/plain": [
       "Index(['gender', 'pf_o_att', 'pf_o_fun', 'pf_o_amb', 'pf_o_sha', 'attr_o',\n",
       "       'sinc_o', 'intel_o', 'fun_o', 'amb_o', 'shar_o', 'imprace', 'go_out',\n",
       "       'sports', 'tvsports', 'exercise', 'art', 'hiking', 'reading', 'theater',\n",
       "       'movies', 'yoga', 'exphappy', 'expnum', 'attr1_1', 'fun1_1', 'sinc',\n",
       "       'intel', 'fun', 'amb', 'shar', 'match_es', 'satis_2', 'length',\n",
       "       'race_o_1.0', 'race_o_2.0', 'race_o_3.0', 'race_o_4.0', 'race_o_6.0',\n",
       "       'field_cd_1.0', 'field_cd_2.0', 'field_cd_3.0', 'field_cd_4.0',\n",
       "       'field_cd_5.0', 'field_cd_6.0', 'field_cd_7.0', 'field_cd_8.0',\n",
       "       'field_cd_9.0', 'field_cd_10.0', 'field_cd_11.0', 'field_cd_13.0',\n",
       "       'field_cd_14.0', 'field_cd_15.0', 'race_1.0', 'race_2.0', 'race_3.0',\n",
       "       'race_4.0', 'race_6.0', 'goal_1.0', 'goal_2.0', 'goal_3.0', 'goal_4.0',\n",
       "       'goal_5.0', 'goal_6.0', 'career_c_1.0', 'career_c_2.0', 'career_c_3.0',\n",
       "       'career_c_4.0', 'career_c_5.0', 'career_c_6.0', 'career_c_7.0',\n",
       "       'career_c_9.0', 'career_c_10.0', 'career_c_11.0', 'age_difference',\n",
       "       'attractiveness_difference', 'sincerity_difference',\n",
       "       'intelligence_difference', 'fun_difference', 'ambition_difference',\n",
       "       'shared_interest_difference'],\n",
       "      dtype='object')"
      ]
     },
     "execution_count": 98,
     "metadata": {},
     "output_type": "execute_result"
    }
   ],
   "source": [
    "features.columns"
   ]
  },
  {
   "cell_type": "code",
   "execution_count": 93,
   "metadata": {},
   "outputs": [
    {
     "name": "stdout",
     "output_type": "stream",
     "text": [
      "Logistic Regression\n",
      "fit_time       0.844 +/- 0.133\n",
      "score_time     0.010 +/- 0.001\n",
      "test_accuracy  0.750 +/- 0.017\n",
      "test_precision 0.717 +/- 0.030\n",
      "test_recall    0.669 +/- 0.038\n",
      "test_f1_macro  0.740 +/- 0.017\n",
      "\n",
      "\n",
      "Support Vector Machine\n",
      "fit_time       4.546 +/- 0.108\n",
      "score_time     0.526 +/- 0.029\n",
      "test_accuracy  0.739 +/- 0.019\n",
      "test_precision 0.699 +/- 0.031\n",
      "test_recall    0.667 +/- 0.025\n",
      "test_f1_macro  0.730 +/- 0.019\n",
      "\n",
      "\n",
      "k-Nearest Neighbours\n",
      "fit_time       0.078 +/- 0.003\n",
      "score_time     1.849 +/- 0.023\n",
      "test_accuracy  0.644 +/- 0.020\n",
      "test_precision 0.605 +/- 0.042\n",
      "test_recall    0.460 +/- 0.044\n",
      "test_f1_macro  0.618 +/- 0.015\n",
      "\n",
      "\n",
      "Gradient Boosting\n",
      "fit_time       0.614 +/- 0.002\n",
      "score_time     0.013 +/- 0.000\n",
      "test_accuracy  0.750 +/- 0.017\n",
      "test_precision 0.718 +/- 0.038\n",
      "test_recall    0.673 +/- 0.027\n",
      "test_f1_macro  0.741 +/- 0.016\n",
      "\n",
      "\n",
      "Voting Ensemble\n",
      "fit_time       6.292 +/- 0.105\n",
      "score_time     2.335 +/- 0.019\n",
      "test_accuracy  0.745 +/- 0.012\n",
      "test_precision 0.735 +/- 0.030\n",
      "test_recall    0.618 +/- 0.034\n",
      "test_f1_macro  0.731 +/- 0.013\n",
      "\n",
      "\n",
      "Stacking Ensemble\n",
      "fit_time       33.645 +/- 0.128\n",
      "score_time     2.396 +/- 0.026\n",
      "test_accuracy  0.753 +/- 0.014\n",
      "test_precision 0.723 +/- 0.030\n",
      "test_recall    0.669 +/- 0.026\n",
      "test_f1_macro  0.743 +/- 0.013\n",
      "\n",
      "\n"
     ]
    }
   ],
   "source": [
    "# 평가 지표!\n",
    "metrics = ['accuracy', 'precision', 'recall', 'f1_macro']\n",
    "\n",
    "# 하나씩 평가 해 봅시다.\n",
    "# 1. 로지스틱 회귀\n",
    "# 2. SV\n",
    "# 3. KNN\n",
    "# 4. GB ()\n",
    "# 5. VE (투표 방식 Hard)\n",
    "# 6. SE (스태킹!)\n",
    "for classifier, label in zip(\n",
    "    [classifier_lr, classifier_sv, classifier_kn, classifier_gb, classifier_ve, classifier_se],\n",
    "    ['Logistic Regression', 'Support Vector Machine', 'k-Nearest Neighbours', 'Gradient Boosting', 'Voting Ensemble', 'Stacking Ensemble']\n",
    "):\n",
    "    print('{}'.format(label))\n",
    "    scores = cross_validate(\n",
    "        estimator=classifier,\n",
    "        X=features,\n",
    "        y=target,\n",
    "        scoring=metrics,\n",
    "        cv=5,\n",
    "        n_jobs=-1\n",
    "    )\n",
    "    for key, value in scores.items():\n",
    "        print('{:14} {:.3f} +/- {:.3f}'.format(key, value.mean(), value.std()))\n",
    "    print('\\n')"
   ]
  },
  {
   "cell_type": "markdown",
   "metadata": {},
   "source": [
    "## 7.2 Feature importance\n",
    "* Get coefficients of features in linear model"
   ]
  },
  {
   "cell_type": "code",
   "execution_count": 94,
   "metadata": {},
   "outputs": [],
   "source": [
    "labels = features.columns.values\n",
    "weights = classifier_lr.fit(features,target).coef_[0]"
   ]
  },
  {
   "cell_type": "markdown",
   "metadata": {},
   "source": [
    "* Get features with highest magnitude"
   ]
  },
  {
   "cell_type": "code",
   "execution_count": 95,
   "metadata": {},
   "outputs": [],
   "source": [
    "top_features = sorted(list(zip(labels,weights)), reverse=True, key = lambda x: abs(x[1]))[0:10]\n",
    "top_labels = [x[0] for x in top_features]\n",
    "top_weights = [x[1] for x in top_features]"
   ]
  },
  {
   "cell_type": "code",
   "execution_count": 96,
   "metadata": {},
   "outputs": [
    {
     "data": {
      "image/png": "[encoded data removed]",
      "text/plain": [
       "<Figure size 720x576 with 1 Axes>"
      ]
     },
     "metadata": {
      "needs_background": "light"
     },
     "output_type": "display_data"
    }
   ],
   "source": [
    "plt.figure(figsize=(10,8))\n",
    "plot_relationship(top_weights, top_labels, 'Most significant features in linear model', 'Weight', 'Feature')"
   ]
  },
  {
   "cell_type": "markdown",
   "metadata": {},
   "source": [
    "# 8 Conclusion"
   ]
  },
  {
   "cell_type": "markdown",
   "metadata": {},
   "source": [
    "This notebook explored whether a machine learning model could predict if a partner will match with their date.\n",
    "The best performing classifier was a stacking ensemble model with an accuracy of ~76% and an F1 score of ~75%.\n",
    "Based on correlation analysis and weights in the linear model:\n",
    "Attractiveness, shared interests and being fun were the most significant factors in a partner's decision.\n",
    "Medical students had the highest probability of being matched while psychologists and academics had the lowest.\n",
    "Further feature engineering such as introducing more interaction features and performing more thorough feature selection could improve the classifier performance.ㅡ"
   ]
  },
  {
   "cell_type": "code",
   "execution_count": null,
   "metadata": {},
   "outputs": [],
   "source": []
  }
 ],
 "metadata": {
  "kernelspec": {
   "display_name": "Python 3",
   "language": "python",
   "name": "python3"
  },
  "language_info": {
   "codemirror_mode": {
    "name": "ipython",
    "version": 3
   },
   "file_extension": ".py",
   "mimetype": "text/x-python",
   "name": "python",
   "nbconvert_exporter": "python",
   "pygments_lexer": "ipython3",
   "version": "3.8.5"
  }
 },
 "nbformat": 4,
 "nbformat_minor": 4
}
